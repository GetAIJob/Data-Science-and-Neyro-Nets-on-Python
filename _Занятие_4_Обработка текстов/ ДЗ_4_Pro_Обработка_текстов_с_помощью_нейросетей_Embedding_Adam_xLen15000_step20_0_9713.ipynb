{
  "nbformat": 4,
  "nbformat_minor": 0,
  "metadata": {
    "colab": {
      "name": "ДЗ_4_Pro_Обработка текстов с помощью нейросетей_Embedding_Adam_xLen15000_step20_0.9713.ipynb",
      "provenance": [],
      "collapsed_sections": [],
      "machine_shape": "hm",
      "include_colab_link": true
    },
    "kernelspec": {
      "name": "python3",
      "display_name": "Python 3"
    },
    "accelerator": "GPU"
  },
  "cells": [
    {
      "cell_type": "markdown",
      "metadata": {
        "id": "view-in-github",
        "colab_type": "text"
      },
      "source": [
        "<a href=\"https://colab.research.google.com/github/ikonushok/My_studying_Data-Science-and-Neyro-Nets-on-Python/blob/master/%D0%94%D0%97_4_Pro_%D0%9E%D0%B1%D1%80%D0%B0%D0%B1%D0%BE%D1%82%D0%BA%D0%B0_%D1%82%D0%B5%D0%BA%D1%81%D1%82%D0%BE%D0%B2_%D1%81_%D0%BF%D0%BE%D0%BC%D0%BE%D1%89%D1%8C%D1%8E_%D0%BD%D0%B5%D0%B9%D1%80%D0%BE%D1%81%D0%B5%D1%82%D0%B5%D0%B9_Embedding_Adam_xLen15000_step20_0_9713.ipynb\" target=\"_parent\"><img src=\"https://colab.research.google.com/assets/colab-badge.svg\" alt=\"Open In Colab\"/></a>"
      ]
    },
    {
      "cell_type": "markdown",
      "metadata": {
        "id": "eR63xxCtcMA2",
        "colab_type": "text"
      },
      "source": [
        "# Классификация текстов писателей"
      ]
    },
    {
      "cell_type": "code",
      "metadata": {
        "id": "8qn2yuaE-N9h",
        "colab_type": "code",
        "colab": {}
      },
      "source": [
        "from tensorflow.keras.models import Sequential\n",
        "from tensorflow.keras.layers import Dense, BatchNormalization, Embedding, Flatten, Activation\n",
        "from tensorflow.keras.layers import SpatialDropout1D, Dropout\n",
        "from tensorflow.keras.optimizers import Adam, RMSprop, Nadam, Adamax, Adadelta, Adagrad\n",
        "\n",
        "from tensorflow.keras.callbacks import EarlyStopping, ReduceLROnPlateau, ModelCheckpoint\n",
        "from tensorflow.keras import utils # Для работы с категориальными данными\n",
        "from tensorflow.keras.preprocessing.text import Tokenizer\n",
        "\n",
        "import numpy as np\n",
        "import pandas as pd\n",
        "import time # чтобы зачсечь время\n",
        "\n",
        "import matplotlib.pyplot as plt # Для вывода графиков\n",
        "%matplotlib inline"
      ],
      "execution_count": 1,
      "outputs": []
    },
    {
      "cell_type": "code",
      "metadata": {
        "id": "lHP22yPBbBUB",
        "colab_type": "code",
        "colab": {
          "base_uri": "https://localhost:8080/",
          "height": 118
        },
        "outputId": "bf29cd6a-1a13-4983-82a6-f8f029012e6e"
      },
      "source": [
        "from google.colab import drive\n",
        "drive.mount('/content/drive')"
      ],
      "execution_count": 2,
      "outputs": [
        {
          "output_type": "stream",
          "text": [
            "Go to this URL in a browser: https://accounts.google.com/o/oauth2/auth?client_id=947318989803-6bn6qk8qdgf4n4g3pfee6491hc0brc4i.apps.googleusercontent.com&redirect_uri=urn%3aietf%3awg%3aoauth%3a2.0%3aoob&scope=email%20https%3a%2f%2fwww.googleapis.com%2fauth%2fdocs.test%20https%3a%2f%2fwww.googleapis.com%2fauth%2fdrive%20https%3a%2f%2fwww.googleapis.com%2fauth%2fdrive.photos.readonly%20https%3a%2f%2fwww.googleapis.com%2fauth%2fpeopleapi.readonly&response_type=code\n",
            "\n",
            "Enter your authorization code:\n",
            "··········\n",
            "Mounted at /content/drive\n"
          ],
          "name": "stdout"
        }
      ]
    },
    {
      "cell_type": "markdown",
      "metadata": {
        "id": "wLSDJ8es9Xos",
        "colab_type": "text"
      },
      "source": [
        "## Подготовка текстов и выборки"
      ]
    },
    {
      "cell_type": "markdown",
      "metadata": {
        "id": "U4K0n98zjP9Y",
        "colab_type": "text"
      },
      "source": [
        "### загружаем тексты"
      ]
    },
    {
      "cell_type": "code",
      "metadata": {
        "id": "-P-uS6iNfgWX",
        "colab_type": "code",
        "colab": {
          "base_uri": "https://localhost:8080/",
          "height": 296
        },
        "outputId": "9d7c034f-6770-4017-df1d-21a19f385ceb"
      },
      "source": [
        "import os\n",
        "os.chdir('/content/drive/My Drive/Colab Notebooks/Data Science и нейронные сети на Python/Занятие_4_Обработка текстов с помощью нейросетей/data/Тексты писателей')\n",
        "os.listdir() # перешли в нужную папку и проверили наличие в ней нужных файлов"
      ],
      "execution_count": 3,
      "outputs": [
        {
          "output_type": "execute_result",
          "data": {
            "text/plain": [
              "['(О. Генри) Обучающая_50 вместе.txt',\n",
              " '(Клиффорд_Саймак) Тестовая_2 вместе.txt',\n",
              " '(Булгаков) Обучающая_5 вместе.txt',\n",
              " '(Макс Фрай) Обучающая_5 вместе.txt',\n",
              " '(О. Генри) Тестовая_20 вместе.txt',\n",
              " '(Клиффорд_Саймак) Обучающая_5 вместе.txt',\n",
              " '(Булгаков) Тестовая_2 вместе.txt',\n",
              " '(Макс Фрай) Тестовая_2 вместе.txt',\n",
              " '(Рэй Брэдберри) Тестовая_8 вместе.txt',\n",
              " '(Стругацкие) Тестовая_2 вместе.txt',\n",
              " '(Рэй Брэдберри) Обучающая_22 вместе.txt',\n",
              " '(Стругацкие) Обучающая_5 вместе.txt',\n",
              " 'best_modelED_Adam_15000_20_2.h5',\n",
              " 'best_modelED_Adam_15000_20_0.9713.h5',\n",
              " 'best_modelED_Adam_20000_100.h5',\n",
              " 'best_modelED_RMSprop_10000_20.h5',\n",
              " 'best_modelED_Adam_20000_50.h5']"
            ]
          },
          "metadata": {
            "tags": []
          },
          "execution_count": 3
        }
      ]
    },
    {
      "cell_type": "code",
      "metadata": {
        "id": "C4gfhFUxZY0R",
        "colab_type": "code",
        "colab": {}
      },
      "source": [
        "# функция чтения файла\n",
        "def readText(fileName):\n",
        "  f = open(fileName, 'r') # открываем нужный файл\n",
        "  text = f.read()         # читаем текст\n",
        "  text = text.replace(\"\\n\", \" \")  # меняем переносы строк на пробелы\n",
        "  return text\n",
        "\n",
        "# Перечислили интересующих авторов и назначили соответствующие им классы\n",
        "className = [\"Генри\", \"Стругацкие\", \"Булгаков\", \"Клиффорд\", \"Макс\", \"Брэдберри\"] \n",
        "nClasses = len(className) # посчитали количество авторов"
      ],
      "execution_count": 4,
      "outputs": []
    },
    {
      "cell_type": "code",
      "metadata": {
        "id": "w4868229cJMb",
        "colab_type": "code",
        "colab": {
          "base_uri": "https://localhost:8080/",
          "height": 345
        },
        "outputId": "1bbe5da3-0cdb-4d0b-bae9-ffe37d7174d7"
      },
      "source": [
        "# Загружаем тексты писателей\n",
        "\n",
        "trainText = []\n",
        "testText = []\n",
        "\n",
        "# считываем тексты из файлов и обрабатываем их функцией readText\n",
        "for i in className:\n",
        "  for j in os.listdir():\n",
        "    if i in j: # если в названии файла есть имя класса (автора)\n",
        "\n",
        "      if 'Обучающая' in  j: # если в названии файла есть слово 'Обучающая'\n",
        "        trainText.append(readText(j)) # добавляем текст \n",
        "        print(j, 'добавлен в обучающую выборку')\n",
        "      if 'Тестовая' in j:\n",
        "        testText.append(readText(j)) # добавляем текст \n",
        "        print(j, 'добавлен в тестовую выборку')\n",
        "  print()\n",
        "\n",
        "print('Количество элементов в train:', len(trainText), '\\n Количество символов в [0] элементе train: ', len(trainText[0]))"
      ],
      "execution_count": 5,
      "outputs": [
        {
          "output_type": "stream",
          "text": [
            "(О. Генри) Обучающая_50 вместе.txt добавлен в обучающую выборку\n",
            "(О. Генри) Тестовая_20 вместе.txt добавлен в тестовую выборку\n",
            "\n",
            "(Стругацкие) Тестовая_2 вместе.txt добавлен в тестовую выборку\n",
            "(Стругацкие) Обучающая_5 вместе.txt добавлен в обучающую выборку\n",
            "\n",
            "(Булгаков) Обучающая_5 вместе.txt добавлен в обучающую выборку\n",
            "(Булгаков) Тестовая_2 вместе.txt добавлен в тестовую выборку\n",
            "\n",
            "(Клиффорд_Саймак) Тестовая_2 вместе.txt добавлен в тестовую выборку\n",
            "(Клиффорд_Саймак) Обучающая_5 вместе.txt добавлен в обучающую выборку\n",
            "\n",
            "(Макс Фрай) Обучающая_5 вместе.txt добавлен в обучающую выборку\n",
            "(Макс Фрай) Тестовая_2 вместе.txt добавлен в тестовую выборку\n",
            "\n",
            "(Рэй Брэдберри) Тестовая_8 вместе.txt добавлен в тестовую выборку\n",
            "(Рэй Брэдберри) Обучающая_22 вместе.txt добавлен в обучающую выборку\n",
            "\n",
            "Количество элементов в train: 6 \n",
            " Количество символов в [0] элементе train:  1049517\n"
          ],
          "name": "stdout"
        }
      ]
    },
    {
      "cell_type": "markdown",
      "metadata": {
        "id": "0uca9WXUtj_u",
        "colab_type": "text"
      },
      "source": [
        "### создаем train и validaton выборки\n",
        "-----\n",
        "При помощи функций формирования выборки по отрезкам текста с заданным шагом"
      ]
    },
    {
      "cell_type": "code",
      "metadata": {
        "id": "oTxCsTwAuZGt",
        "colab_type": "code",
        "colab": {}
      },
      "source": [
        "# разделение проиндексированного текста на короткие векторы\n",
        "def getSetFromIndexes(wordIndexes, xLen, step): # функция принимает последовательность индексов, размер окна и шаг окна\n",
        "  xSample = [] # пременная для векторов\n",
        "  wordsLen = len(wordIndexes) # считаем колиечтсво слов\n",
        "  i = 0\n",
        "\n",
        "  while (i + xLen <= wordsLen): # пока окно внутри массива wordIndexes\n",
        "    xSample.append(wordIndexes[i:i+xLen]) # Отрезаем векторы длины xLen\n",
        "    i += step # смещение на шаг вперед\n",
        "  \n",
        "  return xSample"
      ],
      "execution_count": 6,
      "outputs": []
    },
    {
      "cell_type": "code",
      "metadata": {
        "id": "I5-jwfuewVcA",
        "colab_type": "code",
        "colab": {}
      },
      "source": [
        "# создаем train и val выборки\n",
        "def createSetMultiClasses(wordIndexes, xLen, step): # функция принимает последовательность индексов, размер окна и шаг окна\n",
        "  nClases = len(wordIndexes) # количество влассов в выборке\n",
        "  classesXSamples = [] # Здесь будет список размером \"кол-во классов*кол-во окон в тексте*длину окна (например, 6 по 1341*1000)\"\n",
        "  for wI in wordIndexes: # для каждого текста каждого класса\n",
        "    classesXSamples.append(getSetFromIndexes(wI, xLen, step)) # Добавляем в список очередной текст индексов, разбитый на \"кол-во окон*длину окна\" \n",
        "  \n",
        "  xSamples = []\n",
        "  ySamples = []\n",
        "\n",
        "  for t in range(nClasses): # В диапазоне кол-ва классов(6)\n",
        "    xT = classesXSamples[t] # Берем очередной текст вида \"кол-во окон в тексте*длину окна\"(например, 1341*1000)\n",
        "    for i in range(len(xT)): # И каждое его окно\n",
        "      xSamples.append(xT[i]) # Добавляем в общий список выборки\n",
        "      ySamples.append(utils.to_categorical(t, nClasses)) # Добавляем соответствующий вектор класса\n",
        "\n",
        "  xSamples = np.array(xSamples) # Переводим в массив numpy для подачи в нейронку\n",
        "  ySamples = np.array(ySamples) # Переводим в массив numpy для подачи в нейронку\n",
        "\n",
        "  \n",
        "  return (xSamples, ySamples) #Функция возвращает выборку и соответствующие векторы классов"
      ],
      "execution_count": 7,
      "outputs": []
    },
    {
      "cell_type": "code",
      "metadata": {
        "id": "stHRW8-4mf7G",
        "colab_type": "code",
        "colab": {}
      },
      "source": [
        "# Представляем тестовую выборку в удобных для распознавания размерах\n",
        "def createTestMultiClasses(wordIndexes, xLen, step): #функция принимает последовательность индексов, размер окна, шаг окна\n",
        "\n",
        "  #Для каждого из 6 классов\n",
        "  #Создаём тестовую выборку из индексов\n",
        "  nClasses = len(wordIndexes) #Задаем количество классов\n",
        "  xTest6Classes01 = []               #Здесь будет список из всех классов, каждый размером \"кол-во окон в тексте * 20000 (при maxWordsCount=20000)\"\n",
        "  xTest6Classes = []                 #Здесь будет список массивов, каждый размером \"кол-во окон в тексте * длину окна\"(6 по 420*1000)\n",
        "  for wI in wordIndexes:                       #Для каждого тестового текста из последовательности индексов\n",
        "    sample = (getSetFromIndexes(wI, xLen, step)) #Тестовая выборка размером \"кол-во окон*длину окна\"(например, 420*1000)\n",
        "    xTest6Classes.append(sample)              # Добавляем в список\n",
        "    xTest6Classes01.append(tokenizerED.sequences_to_matrix(sample)) #Трансформируется в Bag of Words в виде \"кол-во окон в тексте * 20000\"\n",
        "  xTest6Classes01 = np.array(xTest6Classes01)                     #И добавляется к нашему списку, \n",
        "  xTest6Classes = np.array(xTest6Classes)                     #И добавляется к нашему списку, \n",
        "  \n",
        "  return xTest6Classes01, xTest6Classes  #функция вернёт тестовые данные: TestBag 6 классов на n*20000 и xTestEm 6 по n*1000\n",
        "\n",
        "# Распознаём тестовую выборку и выводим результаты\n",
        "def recognizeMultiClass(model, xTest, modelName):\n",
        "  print(\"НЕЙРОНКА: \", modelName)\n",
        "  print()\n",
        "  \n",
        "  totalSumRec = 0 # Сумма всех правильных ответов\n",
        "  \n",
        "  #Проходим по всем классам\n",
        "  for i in range(nClasses):\n",
        "    #Получаем результаты распознавания класса по блокам слов длины xLen\n",
        "    currPred = model.predict(xTest[i])\n",
        "    #Определяем номер распознанного класса для каждохо блока слов длины xLen\n",
        "    currOut = np.argmax(currPred, axis=1)\n",
        "\n",
        "    evVal = []\n",
        "    for j in range(nClasses):\n",
        "      evVal.append(len(currOut[currOut==j])/len(xTest[i]))\n",
        "\n",
        "    totalSumRec += len(currOut[currOut==i])\n",
        "    recognizedClass = np.argmax(evVal) #Определяем, какой класс в итоге за какой был распознан\n",
        "    \n",
        "    #Выводим результаты распознавания по текущему классу\n",
        "    isRecognized = \"Это НЕПРАВИЛЬНЫЙ ответ!\"\n",
        "    if (recognizedClass == i):\n",
        "      isRecognized = \"Это ПРАВИЛЬНЫЙ ответ!\"\n",
        "    str1 = 'Класс: ' + className[i] + \" \" * (11 - len(className[i])) + str(int(100*evVal[i])) + \"% сеть отнесла к классу \" + className[recognizedClass]\n",
        "    print(str1, \" \" * (55-len(str1)), isRecognized, sep='')\n",
        "  \n",
        "  #Выводим средний процент распознавания по всем классам вместе\n",
        "  print()\n",
        "  sumCount = 0\n",
        "  for i in range(nClasses):\n",
        "    sumCount += len(xTest[i])\n",
        "  print(\"Средний процент распознавания \", int(100*totalSumRec/sumCount), \"%\", sep='')\n",
        "\n",
        "  print()\n",
        "  \n",
        "  return totalSumRec/sumCount"
      ],
      "execution_count": 8,
      "outputs": []
    },
    {
      "cell_type": "markdown",
      "metadata": {
        "id": "Tzs0oa6K8oWG",
        "colab_type": "text"
      },
      "source": [
        "## **Embedding + Dense**\n",
        "\n"
      ]
    },
    {
      "cell_type": "code",
      "metadata": {
        "id": "TeVOqgmULXct",
        "colab_type": "code",
        "colab": {
          "base_uri": "https://localhost:8080/",
          "height": 69
        },
        "outputId": "6dcc00a4-6697-4b3b-b1c0-f70e65576b23"
      },
      "source": [
        "maxWordsCount = 50000 # Определили максимальное количество слов, учитываемых при обучении\n",
        "\n",
        "tokenizerED = Tokenizer(num_words = maxWordsCount, # обрабатываем текст, оставляя только те слова, на которых учимся\n",
        "                        filters='0123456789\"!#$%&()*+,-–—./…:;<=>?@[\\\\]^_`{|}~«»\\t\\n\\xa0\\ufeff', # избавляемся от этих символов\n",
        "                        lower=True,           # переводим в нижний регистр\n",
        "                        split=' ',            # разделяем слова пробелом\n",
        "                        oov_token='unknown',  # ???\n",
        "                        char_level=False)     # оставляем слова из одной буквы\n",
        "\n",
        "tokenizerED.fit_on_texts(trainText) # сзодаем словарь частотности для наших текстов\n",
        "itemsED = list(tokenizerED.word_index.items()) # заносим индексы слов в словарь\n",
        "\n",
        "# преобразую текст в последовательность элементов\n",
        "trainWordIndexesED = tokenizerED.texts_to_sequences(trainText)  # оцифровал обучающие тексты\n",
        "testWordIndexesED = tokenizerED.texts_to_sequences(testText)    # оцифровал тестовые тексты\n",
        "print('Фрагмент обуающего текста: ', trainText[1][:51]) ### надо бы убрать цифры их массивов\n",
        "print('Он же в виде последовательности индексов: ', trainWordIndexesED[1][:51])\n",
        "\n",
        "symbolsTrainTexED = 0 # Объявляем переменную для подсчета символов в обучающих текстах\n",
        "wordsTrainTextED = 0 # Объявляем переменную для подсчета слов в обучающих текстах\n"
      ],
      "execution_count": 9,
      "outputs": [
        {
          "output_type": "stream",
          "text": [
            "Фрагмент обуающего текста:  Парень из преисподней     1     Ну и деревня! Сроду\n",
            "Он же в виде последовательности индексов:  [473, 22, 29082, 47, 2, 12788, 7770, 5, 415, 27496, 4, 251, 2, 4, 249, 55, 6, 240, 9436, 2625, 182, 5796, 24082, 99, 3518, 19746, 7, 1, 11, 32399, 1, 10, 67, 301, 116, 34, 4, 34312, 19747, 196, 12, 11214, 42440, 19748, 42441, 8701, 1, 11610, 1034, 175, 7336]\n"
          ],
          "name": "stdout"
        }
      ]
    },
    {
      "cell_type": "code",
      "metadata": {
        "id": "D0W6BXdP8ub-",
        "colab_type": "code",
        "colab": {
          "base_uri": "https://localhost:8080/"
        },
        "outputId": "37858cf1-868e-4e91-e520-965656a1535d"
      },
      "source": [
        "cur_time = time.time() # засекаем время\n",
        "\n",
        "batch_size = 64\n",
        "k_Dense = 6\n",
        "k_Dropout = 0.4\n",
        "epochs = 100\n",
        "N_lr = 0.00005\n",
        "\n",
        "data = []\n",
        "\n",
        "N_xLen = [15000] # хорошо при 20000\n",
        "N_step = [20]\n",
        "N_Emb = [50] # Кол-во нейронов в скрытом слое\n",
        "\n",
        "for xLen in N_xLen:\n",
        "  for step in N_step:\n",
        "    xTrainED, yTrainED = createSetMultiClasses(trainWordIndexesED, xLen, step) #извлекаем обучающую выборку\n",
        "    xTestED, yTestED = createSetMultiClasses(testWordIndexesED, xLen, step)    #извлекаем тестовую выборку\n",
        "\n",
        "    for k_Embbeding in N_Emb:\n",
        "      modelED = Sequential()\n",
        "\n",
        "      modelED.add(Embedding(maxWordsCount, k_Embbeding, input_length=xLen))\n",
        "      modelED.add(SpatialDropout1D(k_Dropout))\n",
        "      #modelED.add(Dropout(k_Dropout))\n",
        "      modelED.add(Flatten())\n",
        "\n",
        "      #modelED.add(Dense(k_Embbeding, activation='relu'))\n",
        "      #modelED.add(Dropout(k_Dropout))\n",
        "\n",
        "      modelED.add(Dense(k_Dense, activation='softmax'))\n",
        "\n",
        "      modelED.compile(optimizer=Adam(N_lr),\n",
        "                      loss='categorical_crossentropy', \n",
        "                      metrics=['accuracy'])\n",
        "\n",
        "      \n",
        "      # остановки обучения по условию \n",
        "      early_stopping = EarlyStopping(monitor = 'val_accuracy', \n",
        "                                    patience = 4, verbose = 1,\n",
        "                                    restore_best_weights = True)\n",
        "      Checkpoint = ModelCheckpoint('best_modelED_Adam_15000_20.h5', monitor='val_accuracy', mode='max', verbose=1, save_best_only=True)\n",
        "\n",
        "\n",
        "      print('Emb = ', k_Embbeding, 'xLen = ', xLen, 'step = ', step)\n",
        "\n",
        "      #Обучаем на xTrain\n",
        "      historyED = modelED.fit(xTrainED, yTrainED, \n",
        "                              epochs=epochs, verbose=1,\n",
        "                              callbacks = [early_stopping, Checkpoint],\n",
        "                              validation_data = (xTestED, yTestED))\n",
        "\n",
        "\n",
        "      plt.plot(historyED.history['accuracy'], \n",
        "              label='Доля верных ответов на обучающем наборе')\n",
        "      plt.plot(historyED.history['val_accuracy'], \n",
        "              label='Доля верных ответов на проверочном наборе')\n",
        "      plt.xlabel('Эпоха обучения')\n",
        "      plt.ylabel('Доля верных ответов')\n",
        "      plt.legend()\n",
        "      plt.grid()\n",
        "      plt.show()\n",
        "\n",
        "      data = data + [[maxWordsCount, batch_size, k_Dense, k_Dropout, k_Embbeding,  'relu', 'softmax', 'Adam', xLen, step, max(historyED.history['val_accuracy'])]]\n",
        "\n",
        "      #Проверяем результаты работы Ebedding сети\n",
        "      _, xTest6Classes = createTestMultiClasses(testWordIndexesED, xLen, step) #Преобразование тестовой выборки для predict\n",
        "      predict = recognizeMultiClass(modelED, xTest6Classes, \"Embedding + Dense\")\n",
        "\n",
        "\n",
        "print('Время обработки: ', round(time.time() - cur_time, 2), 'c', sep='') # смотрим время\n",
        "\n",
        "results = pd.DataFrame(data, columns = ['maxWordsCount', 'batch_size', 'Dense', 'Dropout', 'Embbeding', 'Ativation', 'Activation', 'Optimizer', 'xLen', 'step', 'predict'])\n",
        "results\n"
      ],
      "execution_count": null,
      "outputs": [
        {
          "output_type": "stream",
          "text": [
            "Emb =  50 xLen =  15000 step =  20\n",
            "Epoch 1/100\n",
            "2619/2620 [============================>.] - ETA: 0s - loss: 0.2595 - accuracy: 0.9258\n",
            "Epoch 00001: val_accuracy improved from -inf to 0.88766, saving model to best_modelED_Adam_15000_20.h5\n",
            "2620/2620 [==============================] - 195s 74ms/step - loss: 0.2595 - accuracy: 0.9258 - val_loss: 0.4800 - val_accuracy: 0.8877\n",
            "Epoch 2/100\n",
            "1993/2620 [=====================>........] - ETA: 42s - loss: 0.0019 - accuracy: 1.0000"
          ],
          "name": "stdout"
        }
      ]
    },
    {
      "cell_type": "markdown",
      "metadata": {
        "id": "NPL-LcNxJKA4",
        "colab_type": "text"
      },
      "source": [
        "ИЗЗА НЕХВАТКИ ПАМЯТИ В КОЛЛАБЕ, ПРИХОДИЛОСЬ СОХРАНЯТЬ МОДЕЛЬ, А ДЛЯ ПРОВЕРКИ НА ТЕСТОВОЙ ВЫБОРКЕ ЗАГРУЖАТЬ НОВЫЙ СЕАНС"
      ]
    },
    {
      "cell_type": "code",
      "metadata": {
        "id": "2G-kFr6yshZT",
        "colab_type": "code",
        "colab": {
          "base_uri": "https://localhost:8080/",
          "height": 197
        },
        "outputId": "628c7e3a-c584-46f7-df5d-13d90b47491d"
      },
      "source": [
        "\n",
        "from tensorflow.keras.models import load_model\n",
        "\n",
        "batch_size = 64\n",
        "k_Dense = 6\n",
        "k_Dropout = 0.4\n",
        "epochs = 100\n",
        "N_lr = 0.00005\n",
        "xLen = 15000 # хорошо при 20000 но не хватает памяти ((\n",
        "step = 20\n",
        "k_Embbeding = 50 # Кол-во нейронов в скрытом слое\n",
        "\n",
        "modelED = Sequential()\n",
        "modelED = load_model('best_modelED_Adam_15000_20_0.9713.h5')\n",
        "\n",
        "#Проверяем результаты работы Ebedding сети\n",
        "_, xTest6Classes = createTestMultiClasses(testWordIndexesED, xLen, step) #Преобразование тестовой выборки для predict\n",
        "predict = recognizeMultiClass(modelED, xTest6Classes, \"Embedding + Dense\")"
      ],
      "execution_count": 10,
      "outputs": [
        {
          "output_type": "stream",
          "text": [
            "НЕЙРОНКА:  Embedding + Dense\n",
            "\n",
            "Класс: Генри      100% сеть отнесла к классу Генри     Это ПРАВИЛЬНЫЙ ответ!\n",
            "Класс: Стругацкие 99% сеть отнесла к классу Стругацкие Это ПРАВИЛЬНЫЙ ответ!\n",
            "Класс: Булгаков   88% сеть отнесла к классу Булгаков   Это ПРАВИЛЬНЫЙ ответ!\n",
            "Класс: Клиффорд   92% сеть отнесла к классу Клиффорд   Это ПРАВИЛЬНЫЙ ответ!\n",
            "Класс: Макс       99% сеть отнесла к классу Макс       Это ПРАВИЛЬНЫЙ ответ!\n",
            "Класс: Брэдберри  100% сеть отнесла к классу Брэдберри Это ПРАВИЛЬНЫЙ ответ!\n",
            "\n",
            "Средний процент распознавания 97%\n",
            "\n"
          ],
          "name": "stdout"
        }
      ]
    },
    {
      "cell_type": "code",
      "metadata": {
        "id": "NaHLISd94GCK",
        "colab_type": "code",
        "colab": {
          "base_uri": "https://localhost:8080/",
          "height": 296
        },
        "outputId": "e5b4daeb-053a-422f-99c2-a0d64d2af923"
      },
      "source": [
        "print(modelED.summary())"
      ],
      "execution_count": null,
      "outputs": [
        {
          "output_type": "stream",
          "text": [
            "Model: \"sequential\"\n",
            "_________________________________________________________________\n",
            "Layer (type)                 Output Shape              Param #   \n",
            "=================================================================\n",
            "embedding (Embedding)        (None, 15000, 50)         2500000   \n",
            "_________________________________________________________________\n",
            "spatial_dropout1d (SpatialDr (None, 15000, 50)         0         \n",
            "_________________________________________________________________\n",
            "flatten (Flatten)            (None, 750000)            0         \n",
            "_________________________________________________________________\n",
            "dense (Dense)                (None, 6)                 4500006   \n",
            "=================================================================\n",
            "Total params: 7,000,006\n",
            "Trainable params: 7,000,006\n",
            "Non-trainable params: 0\n",
            "_________________________________________________________________\n",
            "None\n"
          ],
          "name": "stdout"
        }
      ]
    },
    {
      "cell_type": "markdown",
      "metadata": {
        "id": "sDOiMTDD4JC_",
        "colab_type": "text"
      },
      "source": [
        "# А дальше идет много-много тестов\n",
        "---\n",
        "Мою стратегию по оптимизации НС я опишу отдельно"
      ]
    },
    {
      "cell_type": "code",
      "metadata": {
        "id": "chqwdhvJvm7l",
        "colab_type": "code",
        "colab": {
          "base_uri": "https://localhost:8080/",
          "height": 109
        },
        "outputId": "2f618b19-db0f-492d-aa19-572c92ac9f58"
      },
      "source": [
        "# k_Dropout = 0.4 # было 0.4 + N_lr = 0.00005, Dense = k_Embbeding\n",
        "results = pd.DataFrame(data, columns = ['maxWordsCount', 'batch_size', 'Dense', 'Dropout', 'Embbeding', 'Activation', 'Activation', 'Optimizer', 'xLen', 'step', 'predict'])\n",
        "results "
      ],
      "execution_count": null,
      "outputs": [
        {
          "output_type": "execute_result",
          "data": {
            "text/html": [
              "<div>\n",
              "<style scoped>\n",
              "    .dataframe tbody tr th:only-of-type {\n",
              "        vertical-align: middle;\n",
              "    }\n",
              "\n",
              "    .dataframe tbody tr th {\n",
              "        vertical-align: top;\n",
              "    }\n",
              "\n",
              "    .dataframe thead th {\n",
              "        text-align: right;\n",
              "    }\n",
              "</style>\n",
              "<table border=\"1\" class=\"dataframe\">\n",
              "  <thead>\n",
              "    <tr style=\"text-align: right;\">\n",
              "      <th></th>\n",
              "      <th>maxWordsCount</th>\n",
              "      <th>batch_size</th>\n",
              "      <th>Dense</th>\n",
              "      <th>Dropout</th>\n",
              "      <th>Embbeding</th>\n",
              "      <th>Activation</th>\n",
              "      <th>Activation</th>\n",
              "      <th>Optimizer</th>\n",
              "      <th>xLen</th>\n",
              "      <th>step</th>\n",
              "      <th>predict</th>\n",
              "    </tr>\n",
              "  </thead>\n",
              "  <tbody>\n",
              "    <tr>\n",
              "      <th>0</th>\n",
              "      <td>50000</td>\n",
              "      <td>64</td>\n",
              "      <td>6</td>\n",
              "      <td>0.4</td>\n",
              "      <td>50</td>\n",
              "      <td>relu</td>\n",
              "      <td>softmax</td>\n",
              "      <td>Adam</td>\n",
              "      <td>5000</td>\n",
              "      <td>20</td>\n",
              "      <td>0.886849</td>\n",
              "    </tr>\n",
              "    <tr>\n",
              "      <th>1</th>\n",
              "      <td>50000</td>\n",
              "      <td>64</td>\n",
              "      <td>6</td>\n",
              "      <td>0.4</td>\n",
              "      <td>50</td>\n",
              "      <td>relu</td>\n",
              "      <td>softmax</td>\n",
              "      <td>Adam</td>\n",
              "      <td>10000</td>\n",
              "      <td>20</td>\n",
              "      <td>0.904161</td>\n",
              "    </tr>\n",
              "  </tbody>\n",
              "</table>\n",
              "</div>"
            ],
            "text/plain": [
              "   maxWordsCount  batch_size  Dense  Dropout  ...  Optimizer   xLen step   predict\n",
              "0          50000          64      6      0.4  ...       Adam   5000   20  0.886849\n",
              "1          50000          64      6      0.4  ...       Adam  10000   20  0.904161\n",
              "\n",
              "[2 rows x 11 columns]"
            ]
          },
          "metadata": {
            "tags": []
          },
          "execution_count": 11
        }
      ]
    },
    {
      "cell_type": "code",
      "metadata": {
        "id": "GXSsYizZjMrP",
        "colab_type": "code",
        "colab": {
          "base_uri": "https://localhost:8080/",
          "height": 78
        },
        "outputId": "829f355e-520e-4597-a0b4-222cc40c46fe"
      },
      "source": [
        "results = pd.DataFrame(data, columns = ['maxWordsCount', 'batch_size', 'Dense', 'Dropout', 'Embbeding', 'Activation', 'Activation', 'Optimizer', 'xLen', 'step', 'predict'])\n",
        "results   # k_Dropout = 0.7"
      ],
      "execution_count": null,
      "outputs": [
        {
          "output_type": "execute_result",
          "data": {
            "text/html": [
              "<div>\n",
              "<style scoped>\n",
              "    .dataframe tbody tr th:only-of-type {\n",
              "        vertical-align: middle;\n",
              "    }\n",
              "\n",
              "    .dataframe tbody tr th {\n",
              "        vertical-align: top;\n",
              "    }\n",
              "\n",
              "    .dataframe thead th {\n",
              "        text-align: right;\n",
              "    }\n",
              "</style>\n",
              "<table border=\"1\" class=\"dataframe\">\n",
              "  <thead>\n",
              "    <tr style=\"text-align: right;\">\n",
              "      <th></th>\n",
              "      <th>maxWordsCount</th>\n",
              "      <th>batch_size</th>\n",
              "      <th>Dense</th>\n",
              "      <th>Dropout</th>\n",
              "      <th>Embbeding</th>\n",
              "      <th>Activation</th>\n",
              "      <th>Activation</th>\n",
              "      <th>Optimizer</th>\n",
              "      <th>xLen</th>\n",
              "      <th>step</th>\n",
              "      <th>predict</th>\n",
              "    </tr>\n",
              "  </thead>\n",
              "  <tbody>\n",
              "    <tr>\n",
              "      <th>0</th>\n",
              "      <td>50000</td>\n",
              "      <td>64</td>\n",
              "      <td>6</td>\n",
              "      <td>0.7</td>\n",
              "      <td>50</td>\n",
              "      <td>relu</td>\n",
              "      <td>softmax</td>\n",
              "      <td>Adam</td>\n",
              "      <td>10000</td>\n",
              "      <td>20</td>\n",
              "      <td>0.946394</td>\n",
              "    </tr>\n",
              "  </tbody>\n",
              "</table>\n",
              "</div>"
            ],
            "text/plain": [
              "   maxWordsCount  batch_size  Dense  Dropout  ...  Optimizer   xLen step   predict\n",
              "0          50000          64      6      0.7  ...       Adam  10000   20  0.946394\n",
              "\n",
              "[1 rows x 11 columns]"
            ]
          },
          "metadata": {
            "tags": []
          },
          "execution_count": 11
        }
      ]
    },
    {
      "cell_type": "code",
      "metadata": {
        "id": "puWSPq-BO5-E",
        "colab_type": "code",
        "colab": {
          "base_uri": "https://localhost:8080/",
          "height": 141
        },
        "outputId": "183b3a74-4f2d-48a0-dc72-58d79d215722"
      },
      "source": [
        "results = pd.DataFrame(data, columns = ['maxWordsCount', 'batch_size', 'Dense', 'Dropout', 'Embbeding', 'Activation', 'Activation', 'Optimizer', 'xLen', 'step', 'predict'])\n",
        "results\n",
        "# N_lr = 0.00005"
      ],
      "execution_count": null,
      "outputs": [
        {
          "output_type": "execute_result",
          "data": {
            "text/html": [
              "<div>\n",
              "<style scoped>\n",
              "    .dataframe tbody tr th:only-of-type {\n",
              "        vertical-align: middle;\n",
              "    }\n",
              "\n",
              "    .dataframe tbody tr th {\n",
              "        vertical-align: top;\n",
              "    }\n",
              "\n",
              "    .dataframe thead th {\n",
              "        text-align: right;\n",
              "    }\n",
              "</style>\n",
              "<table border=\"1\" class=\"dataframe\">\n",
              "  <thead>\n",
              "    <tr style=\"text-align: right;\">\n",
              "      <th></th>\n",
              "      <th>maxWordsCount</th>\n",
              "      <th>batch_size</th>\n",
              "      <th>Dense</th>\n",
              "      <th>Dropout</th>\n",
              "      <th>Embbeding</th>\n",
              "      <th>Activation</th>\n",
              "      <th>Activation</th>\n",
              "      <th>Optimizer</th>\n",
              "      <th>xLen</th>\n",
              "      <th>step</th>\n",
              "      <th>predict</th>\n",
              "    </tr>\n",
              "  </thead>\n",
              "  <tbody>\n",
              "    <tr>\n",
              "      <th>0</th>\n",
              "      <td>50000</td>\n",
              "      <td>64</td>\n",
              "      <td>6</td>\n",
              "      <td>0.2</td>\n",
              "      <td>50</td>\n",
              "      <td>relu</td>\n",
              "      <td>softmax</td>\n",
              "      <td>Adam</td>\n",
              "      <td>10000</td>\n",
              "      <td>20</td>\n",
              "      <td>0.956007</td>\n",
              "    </tr>\n",
              "  </tbody>\n",
              "</table>\n",
              "</div>"
            ],
            "text/plain": [
              "   maxWordsCount  batch_size  Dense  Dropout  ...  Optimizer   xLen step   predict\n",
              "0          50000          64      6      0.2  ...       Adam  10000   20  0.956007\n",
              "\n",
              "[1 rows x 11 columns]"
            ]
          },
          "metadata": {
            "tags": []
          },
          "execution_count": 11
        },
        {
          "output_type": "execute_result",
          "data": {
            "text/html": [
              "<div>\n",
              "<style scoped>\n",
              "    .dataframe tbody tr th:only-of-type {\n",
              "        vertical-align: middle;\n",
              "    }\n",
              "\n",
              "    .dataframe tbody tr th {\n",
              "        vertical-align: top;\n",
              "    }\n",
              "\n",
              "    .dataframe thead th {\n",
              "        text-align: right;\n",
              "    }\n",
              "</style>\n",
              "<table border=\"1\" class=\"dataframe\">\n",
              "  <thead>\n",
              "    <tr style=\"text-align: right;\">\n",
              "      <th></th>\n",
              "      <th>maxWordsCount</th>\n",
              "      <th>batch_size</th>\n",
              "      <th>Dense</th>\n",
              "      <th>Dropout</th>\n",
              "      <th>Embbeding</th>\n",
              "      <th>Activation</th>\n",
              "      <th>Activation</th>\n",
              "      <th>Optimizer</th>\n",
              "      <th>xLen</th>\n",
              "      <th>step</th>\n",
              "      <th>predict</th>\n",
              "    </tr>\n",
              "  </thead>\n",
              "  <tbody>\n",
              "    <tr>\n",
              "      <th>0</th>\n",
              "      <td>50000</td>\n",
              "      <td>64</td>\n",
              "      <td>6</td>\n",
              "      <td>0.2</td>\n",
              "      <td>50</td>\n",
              "      <td>relu</td>\n",
              "      <td>softmax</td>\n",
              "      <td>Adam</td>\n",
              "      <td>10000</td>\n",
              "      <td>20</td>\n",
              "      <td>0.956007</td>\n",
              "    </tr>\n",
              "  </tbody>\n",
              "</table>\n",
              "</div>"
            ],
            "text/plain": [
              "   maxWordsCount  batch_size  Dense  Dropout  ...  Optimizer   xLen step   predict\n",
              "0          50000          64      6      0.2  ...       Adam  10000   20  0.956007\n",
              "\n",
              "[1 rows x 11 columns]"
            ]
          },
          "metadata": {
            "tags": []
          },
          "execution_count": 12
        }
      ]
    },
    {
      "cell_type": "code",
      "metadata": {
        "id": "Kf0ZpQ-dN88w",
        "colab_type": "code",
        "colab": {
          "base_uri": "https://localhost:8080/",
          "height": 78
        },
        "outputId": "c98cfa86-b482-4c72-9385-075b0a310616"
      },
      "source": [
        "results = pd.DataFrame(data, columns = ['maxWordsCount', 'batch_size', 'Dense', 'Dropout', 'Embbeding', 'Activation', 'Activation', 'Optimizer', 'xLen', 'step', 'predict'])\n",
        "results"
      ],
      "execution_count": null,
      "outputs": [
        {
          "output_type": "execute_result",
          "data": {
            "text/html": [
              "<div>\n",
              "<style scoped>\n",
              "    .dataframe tbody tr th:only-of-type {\n",
              "        vertical-align: middle;\n",
              "    }\n",
              "\n",
              "    .dataframe tbody tr th {\n",
              "        vertical-align: top;\n",
              "    }\n",
              "\n",
              "    .dataframe thead th {\n",
              "        text-align: right;\n",
              "    }\n",
              "</style>\n",
              "<table border=\"1\" class=\"dataframe\">\n",
              "  <thead>\n",
              "    <tr style=\"text-align: right;\">\n",
              "      <th></th>\n",
              "      <th>maxWordsCount</th>\n",
              "      <th>batch_size</th>\n",
              "      <th>Dense</th>\n",
              "      <th>Dropout</th>\n",
              "      <th>Embbeding</th>\n",
              "      <th>Activation</th>\n",
              "      <th>Activation</th>\n",
              "      <th>Optimizer</th>\n",
              "      <th>xLen</th>\n",
              "      <th>step</th>\n",
              "      <th>predict</th>\n",
              "    </tr>\n",
              "  </thead>\n",
              "  <tbody>\n",
              "    <tr>\n",
              "      <th>0</th>\n",
              "      <td>50000</td>\n",
              "      <td>64</td>\n",
              "      <td>6</td>\n",
              "      <td>0.2</td>\n",
              "      <td>50</td>\n",
              "      <td>relu</td>\n",
              "      <td>softmax</td>\n",
              "      <td>Adam</td>\n",
              "      <td>15000</td>\n",
              "      <td>20</td>\n",
              "      <td>0.926885</td>\n",
              "    </tr>\n",
              "  </tbody>\n",
              "</table>\n",
              "</div>"
            ],
            "text/plain": [
              "   maxWordsCount  batch_size  Dense  Dropout  ...  Optimizer   xLen step   predict\n",
              "0          50000          64      6      0.2  ...       Adam  15000   20  0.926885\n",
              "\n",
              "[1 rows x 11 columns]"
            ]
          },
          "metadata": {
            "tags": []
          },
          "execution_count": 11
        }
      ]
    },
    {
      "cell_type": "code",
      "metadata": {
        "id": "hFaNuYgj6oMw",
        "colab_type": "code",
        "colab": {
          "base_uri": "https://localhost:8080/",
          "height": 78
        },
        "outputId": "827a3a15-8203-45bb-dc48-69d669de485b"
      },
      "source": [
        "results = pd.DataFrame(data, columns = ['maxWordsCount', 'batch_size', 'Dense', 'Dropout', 'Embbeding', 'Activation', 'Activation', 'Optimizer', 'xLen', 'step', 'predict'])\n",
        "results"
      ],
      "execution_count": null,
      "outputs": [
        {
          "output_type": "execute_result",
          "data": {
            "text/html": [
              "<div>\n",
              "<style scoped>\n",
              "    .dataframe tbody tr th:only-of-type {\n",
              "        vertical-align: middle;\n",
              "    }\n",
              "\n",
              "    .dataframe tbody tr th {\n",
              "        vertical-align: top;\n",
              "    }\n",
              "\n",
              "    .dataframe thead th {\n",
              "        text-align: right;\n",
              "    }\n",
              "</style>\n",
              "<table border=\"1\" class=\"dataframe\">\n",
              "  <thead>\n",
              "    <tr style=\"text-align: right;\">\n",
              "      <th></th>\n",
              "      <th>maxWordsCount</th>\n",
              "      <th>batch_size</th>\n",
              "      <th>Dense</th>\n",
              "      <th>Dropout</th>\n",
              "      <th>Embbeding</th>\n",
              "      <th>Activation</th>\n",
              "      <th>Activation</th>\n",
              "      <th>Optimizer</th>\n",
              "      <th>xLen</th>\n",
              "      <th>step</th>\n",
              "      <th>predict</th>\n",
              "    </tr>\n",
              "  </thead>\n",
              "  <tbody>\n",
              "    <tr>\n",
              "      <th>0</th>\n",
              "      <td>50000</td>\n",
              "      <td>64</td>\n",
              "      <td>6</td>\n",
              "      <td>0.2</td>\n",
              "      <td>50</td>\n",
              "      <td>relu</td>\n",
              "      <td>softmax</td>\n",
              "      <td>Adam</td>\n",
              "      <td>10000</td>\n",
              "      <td>20</td>\n",
              "      <td>0.957018</td>\n",
              "    </tr>\n",
              "  </tbody>\n",
              "</table>\n",
              "</div>"
            ],
            "text/plain": [
              "   maxWordsCount  batch_size  Dense  Dropout  ...  Optimizer   xLen step   predict\n",
              "0          50000          64      6      0.2  ...       Adam  10000   20  0.957018\n",
              "\n",
              "[1 rows x 11 columns]"
            ]
          },
          "metadata": {
            "tags": []
          },
          "execution_count": 13
        }
      ]
    },
    {
      "cell_type": "code",
      "metadata": {
        "id": "IUjgCSPIjDnl",
        "colab_type": "code",
        "colab": {
          "base_uri": "https://localhost:8080/",
          "height": 78
        },
        "outputId": "802f4db6-d248-40ce-9ade-07b97d9061ad"
      },
      "source": [
        "results = pd.DataFrame(data, columns = ['maxWordsCount', 'batch_size', 'Dense', 'Dropout', 'Embbeding', 'Activation', 'Activation', 'Optimizer', 'xLen', 'step', 'predict'])\n",
        "results"
      ],
      "execution_count": null,
      "outputs": [
        {
          "output_type": "execute_result",
          "data": {
            "text/html": [
              "<div>\n",
              "<style scoped>\n",
              "    .dataframe tbody tr th:only-of-type {\n",
              "        vertical-align: middle;\n",
              "    }\n",
              "\n",
              "    .dataframe tbody tr th {\n",
              "        vertical-align: top;\n",
              "    }\n",
              "\n",
              "    .dataframe thead th {\n",
              "        text-align: right;\n",
              "    }\n",
              "</style>\n",
              "<table border=\"1\" class=\"dataframe\">\n",
              "  <thead>\n",
              "    <tr style=\"text-align: right;\">\n",
              "      <th></th>\n",
              "      <th>maxWordsCount</th>\n",
              "      <th>batch_size</th>\n",
              "      <th>Dense</th>\n",
              "      <th>Dropout</th>\n",
              "      <th>Embbeding</th>\n",
              "      <th>Activation</th>\n",
              "      <th>Activation</th>\n",
              "      <th>Optimizer</th>\n",
              "      <th>xLen</th>\n",
              "      <th>step</th>\n",
              "      <th>predict</th>\n",
              "    </tr>\n",
              "  </thead>\n",
              "  <tbody>\n",
              "    <tr>\n",
              "      <th>0</th>\n",
              "      <td>50000</td>\n",
              "      <td>64</td>\n",
              "      <td>6</td>\n",
              "      <td>0.6</td>\n",
              "      <td>50</td>\n",
              "      <td>relu</td>\n",
              "      <td>softmax</td>\n",
              "      <td>Adam</td>\n",
              "      <td>10000</td>\n",
              "      <td>20</td>\n",
              "      <td>0.926842</td>\n",
              "    </tr>\n",
              "  </tbody>\n",
              "</table>\n",
              "</div>"
            ],
            "text/plain": [
              "   maxWordsCount  batch_size  Dense  Dropout  ...  Optimizer   xLen step   predict\n",
              "0          50000          64      6      0.6  ...       Adam  10000   20  0.926842\n",
              "\n",
              "[1 rows x 11 columns]"
            ]
          },
          "metadata": {
            "tags": []
          },
          "execution_count": 11
        }
      ]
    },
    {
      "cell_type": "code",
      "metadata": {
        "id": "9PzWwYy0aPdW",
        "colab_type": "code",
        "colab": {
          "base_uri": "https://localhost:8080/",
          "height": 78
        },
        "outputId": "53a627ba-c0be-4ef8-e18f-d00070e325f2"
      },
      "source": [
        "results = pd.DataFrame(data, columns = ['maxWordsCount', 'batch_size', 'Dense', 'Dropout', 'Embbeding', 'Activation', 'Activation', 'Optimizer', 'xLen', 'step', 'predict'])\n",
        "results\n",
        "#Оставил только один Dense слой с 6ю нейронами + SpatialDropout1D 0.4"
      ],
      "execution_count": null,
      "outputs": [
        {
          "output_type": "execute_result",
          "data": {
            "text/html": [
              "<div>\n",
              "<style scoped>\n",
              "    .dataframe tbody tr th:only-of-type {\n",
              "        vertical-align: middle;\n",
              "    }\n",
              "\n",
              "    .dataframe tbody tr th {\n",
              "        vertical-align: top;\n",
              "    }\n",
              "\n",
              "    .dataframe thead th {\n",
              "        text-align: right;\n",
              "    }\n",
              "</style>\n",
              "<table border=\"1\" class=\"dataframe\">\n",
              "  <thead>\n",
              "    <tr style=\"text-align: right;\">\n",
              "      <th></th>\n",
              "      <th>maxWordsCount</th>\n",
              "      <th>batch_size</th>\n",
              "      <th>Dense</th>\n",
              "      <th>Dropout</th>\n",
              "      <th>Embbeding</th>\n",
              "      <th>Activation</th>\n",
              "      <th>Activation</th>\n",
              "      <th>Optimizer</th>\n",
              "      <th>xLen</th>\n",
              "      <th>step</th>\n",
              "      <th>predict</th>\n",
              "    </tr>\n",
              "  </thead>\n",
              "  <tbody>\n",
              "    <tr>\n",
              "      <th>0</th>\n",
              "      <td>50000</td>\n",
              "      <td>128</td>\n",
              "      <td>6</td>\n",
              "      <td>0.4</td>\n",
              "      <td>50</td>\n",
              "      <td>relu</td>\n",
              "      <td>softmax</td>\n",
              "      <td>Adam</td>\n",
              "      <td>10000</td>\n",
              "      <td>20</td>\n",
              "      <td>0.933099</td>\n",
              "    </tr>\n",
              "  </tbody>\n",
              "</table>\n",
              "</div>"
            ],
            "text/plain": [
              "   maxWordsCount  batch_size  Dense  Dropout  ...  Optimizer   xLen step   predict\n",
              "0          50000         128      6      0.4  ...       Adam  10000   20  0.933099\n",
              "\n",
              "[1 rows x 11 columns]"
            ]
          },
          "metadata": {
            "tags": []
          },
          "execution_count": 11
        }
      ]
    },
    {
      "cell_type": "code",
      "metadata": {
        "id": "h05gWaCgFBQN",
        "colab_type": "code",
        "colab": {
          "base_uri": "https://localhost:8080/",
          "height": 78
        },
        "outputId": "96190bf3-75a6-41da-b063-3f0dfd1cd4a8"
      },
      "source": [
        "results = pd.DataFrame(data, columns = ['maxWordsCount', 'batch_size', 'Dense', 'Dropout', 'Embbeding', 'relu', 'softmax', 'RMSprop', 'xLen', 'step', 'predict'])\n",
        "results\n",
        "#Оставил только один Dense слой с 6ю нейронами"
      ],
      "execution_count": null,
      "outputs": [
        {
          "output_type": "execute_result",
          "data": {
            "text/html": [
              "<div>\n",
              "<style scoped>\n",
              "    .dataframe tbody tr th:only-of-type {\n",
              "        vertical-align: middle;\n",
              "    }\n",
              "\n",
              "    .dataframe tbody tr th {\n",
              "        vertical-align: top;\n",
              "    }\n",
              "\n",
              "    .dataframe thead th {\n",
              "        text-align: right;\n",
              "    }\n",
              "</style>\n",
              "<table border=\"1\" class=\"dataframe\">\n",
              "  <thead>\n",
              "    <tr style=\"text-align: right;\">\n",
              "      <th></th>\n",
              "      <th>maxWordsCount</th>\n",
              "      <th>batch_size</th>\n",
              "      <th>Dense</th>\n",
              "      <th>Dropout</th>\n",
              "      <th>Embbeding</th>\n",
              "      <th>relu</th>\n",
              "      <th>softmax</th>\n",
              "      <th>RMSprop</th>\n",
              "      <th>xLen</th>\n",
              "      <th>step</th>\n",
              "      <th>predict</th>\n",
              "    </tr>\n",
              "  </thead>\n",
              "  <tbody>\n",
              "    <tr>\n",
              "      <th>0</th>\n",
              "      <td>5000</td>\n",
              "      <td>128</td>\n",
              "      <td>200</td>\n",
              "      <td>0.2</td>\n",
              "      <td>50</td>\n",
              "      <td>relu</td>\n",
              "      <td>softmax</td>\n",
              "      <td>RMSprop</td>\n",
              "      <td>20000</td>\n",
              "      <td>50</td>\n",
              "      <td>0.970386</td>\n",
              "    </tr>\n",
              "  </tbody>\n",
              "</table>\n",
              "</div>"
            ],
            "text/plain": [
              "   maxWordsCount  batch_size  Dense  Dropout  ...  RMSprop   xLen step   predict\n",
              "0           5000         128    200      0.2  ...  RMSprop  20000   50  0.970386\n",
              "\n",
              "[1 rows x 11 columns]"
            ]
          },
          "metadata": {
            "tags": []
          },
          "execution_count": 11
        }
      ]
    },
    {
      "cell_type": "code",
      "metadata": {
        "id": "pLUm7yzk85mn",
        "colab_type": "code",
        "colab": {
          "base_uri": "https://localhost:8080/",
          "height": 109
        },
        "outputId": "b632e6bc-2e10-4696-ce69-186566c929df"
      },
      "source": [
        "results = pd.DataFrame(data, columns = ['maxWordsCount', 'batch_size', 'Dense', 'Dropout', 'Embbeding', 'relu', 'softmax', 'RMSprop', 'xLen', 'step', 'predict'])\n",
        "results"
      ],
      "execution_count": null,
      "outputs": [
        {
          "output_type": "execute_result",
          "data": {
            "text/html": [
              "<div>\n",
              "<style scoped>\n",
              "    .dataframe tbody tr th:only-of-type {\n",
              "        vertical-align: middle;\n",
              "    }\n",
              "\n",
              "    .dataframe tbody tr th {\n",
              "        vertical-align: top;\n",
              "    }\n",
              "\n",
              "    .dataframe thead th {\n",
              "        text-align: right;\n",
              "    }\n",
              "</style>\n",
              "<table border=\"1\" class=\"dataframe\">\n",
              "  <thead>\n",
              "    <tr style=\"text-align: right;\">\n",
              "      <th></th>\n",
              "      <th>maxWordsCount</th>\n",
              "      <th>batch_size</th>\n",
              "      <th>Dense</th>\n",
              "      <th>Dropout</th>\n",
              "      <th>Embbeding</th>\n",
              "      <th>relu</th>\n",
              "      <th>softmax</th>\n",
              "      <th>RMSprop</th>\n",
              "      <th>xLen</th>\n",
              "      <th>step</th>\n",
              "      <th>predict</th>\n",
              "    </tr>\n",
              "  </thead>\n",
              "  <tbody>\n",
              "    <tr>\n",
              "      <th>0</th>\n",
              "      <td>5000</td>\n",
              "      <td>128</td>\n",
              "      <td>200</td>\n",
              "      <td>0.2</td>\n",
              "      <td>50</td>\n",
              "      <td>relu</td>\n",
              "      <td>softmax</td>\n",
              "      <td>RMSprop</td>\n",
              "      <td>5000</td>\n",
              "      <td>50</td>\n",
              "      <td>0.930569</td>\n",
              "    </tr>\n",
              "    <tr>\n",
              "      <th>1</th>\n",
              "      <td>5000</td>\n",
              "      <td>128</td>\n",
              "      <td>200</td>\n",
              "      <td>0.2</td>\n",
              "      <td>50</td>\n",
              "      <td>relu</td>\n",
              "      <td>softmax</td>\n",
              "      <td>RMSprop</td>\n",
              "      <td>10000</td>\n",
              "      <td>50</td>\n",
              "      <td>0.941756</td>\n",
              "    </tr>\n",
              "  </tbody>\n",
              "</table>\n",
              "</div>"
            ],
            "text/plain": [
              "   maxWordsCount  batch_size  Dense  Dropout  ...  RMSprop   xLen step   predict\n",
              "0           5000         128    200      0.2  ...  RMSprop   5000   50  0.930569\n",
              "1           5000         128    200      0.2  ...  RMSprop  10000   50  0.941756\n",
              "\n",
              "[2 rows x 11 columns]"
            ]
          },
          "metadata": {
            "tags": []
          },
          "execution_count": 30
        }
      ]
    },
    {
      "cell_type": "code",
      "metadata": {
        "id": "BphkbVihkcXh",
        "colab_type": "code",
        "colab": {
          "base_uri": "https://localhost:8080/",
          "height": 162
        },
        "outputId": "e7ab519f-a799-47d2-d68a-7d2255d55786"
      },
      "source": [
        "results\n",
        "# Adam + Dropout = 0.2"
      ],
      "execution_count": null,
      "outputs": [
        {
          "output_type": "execute_result",
          "data": {
            "text/html": [
              "<div>\n",
              "<style scoped>\n",
              "    .dataframe tbody tr th:only-of-type {\n",
              "        vertical-align: middle;\n",
              "    }\n",
              "\n",
              "    .dataframe tbody tr th {\n",
              "        vertical-align: top;\n",
              "    }\n",
              "\n",
              "    .dataframe thead th {\n",
              "        text-align: right;\n",
              "    }\n",
              "</style>\n",
              "<table border=\"1\" class=\"dataframe\">\n",
              "  <thead>\n",
              "    <tr style=\"text-align: right;\">\n",
              "      <th></th>\n",
              "      <th>maxWordsCount</th>\n",
              "      <th>batch_size</th>\n",
              "      <th>Dense</th>\n",
              "      <th>Dropout</th>\n",
              "      <th>Embbeding</th>\n",
              "      <th>relu</th>\n",
              "      <th>xLen</th>\n",
              "      <th>step</th>\n",
              "      <th>predict</th>\n",
              "    </tr>\n",
              "  </thead>\n",
              "  <tbody>\n",
              "    <tr>\n",
              "      <th>0</th>\n",
              "      <td>50000</td>\n",
              "      <td>128</td>\n",
              "      <td>200</td>\n",
              "      <td>0.2</td>\n",
              "      <td>10</td>\n",
              "      <td>relu</td>\n",
              "      <td>1000</td>\n",
              "      <td>20</td>\n",
              "      <td>0.765927</td>\n",
              "    </tr>\n",
              "    <tr>\n",
              "      <th>1</th>\n",
              "      <td>50000</td>\n",
              "      <td>128</td>\n",
              "      <td>200</td>\n",
              "      <td>0.2</td>\n",
              "      <td>50</td>\n",
              "      <td>relu</td>\n",
              "      <td>1000</td>\n",
              "      <td>20</td>\n",
              "      <td>0.754096</td>\n",
              "    </tr>\n",
              "    <tr>\n",
              "      <th>2</th>\n",
              "      <td>50000</td>\n",
              "      <td>128</td>\n",
              "      <td>200</td>\n",
              "      <td>0.2</td>\n",
              "      <td>100</td>\n",
              "      <td>relu</td>\n",
              "      <td>1000</td>\n",
              "      <td>20</td>\n",
              "      <td>0.825171</td>\n",
              "    </tr>\n",
              "    <tr>\n",
              "      <th>3</th>\n",
              "      <td>50000</td>\n",
              "      <td>128</td>\n",
              "      <td>200</td>\n",
              "      <td>0.2</td>\n",
              "      <td>200</td>\n",
              "      <td>relu</td>\n",
              "      <td>1000</td>\n",
              "      <td>20</td>\n",
              "      <td>0.772966</td>\n",
              "    </tr>\n",
              "  </tbody>\n",
              "</table>\n",
              "</div>"
            ],
            "text/plain": [
              "   maxWordsCount  batch_size  Dense  Dropout  ...  relu  xLen  step   predict\n",
              "0          50000         128    200      0.2  ...  relu  1000    20  0.765927\n",
              "1          50000         128    200      0.2  ...  relu  1000    20  0.754096\n",
              "2          50000         128    200      0.2  ...  relu  1000    20  0.825171\n",
              "3          50000         128    200      0.2  ...  relu  1000    20  0.772966\n",
              "\n",
              "[4 rows x 9 columns]"
            ]
          },
          "metadata": {
            "tags": []
          },
          "execution_count": 32
        }
      ]
    },
    {
      "cell_type": "code",
      "metadata": {
        "id": "Ed5DmgSkYEUK",
        "colab_type": "code",
        "colab": {
          "base_uri": "https://localhost:8080/",
          "height": 195
        },
        "outputId": "400187d6-094d-402d-876a-11299a741955"
      },
      "source": [
        "results\n",
        "# Adam + Dropout = 0.2"
      ],
      "execution_count": null,
      "outputs": [
        {
          "output_type": "stream",
          "text": [
            "Длина отрезка текста, по которой анализируем, в словах:  200 \n",
            " Шаг разбиения исходного текста на обучающие векторы:  20\n"
          ],
          "name": "stdout"
        },
        {
          "output_type": "execute_result",
          "data": {
            "text/html": [
              "<div>\n",
              "<style scoped>\n",
              "    .dataframe tbody tr th:only-of-type {\n",
              "        vertical-align: middle;\n",
              "    }\n",
              "\n",
              "    .dataframe tbody tr th {\n",
              "        vertical-align: top;\n",
              "    }\n",
              "\n",
              "    .dataframe thead th {\n",
              "        text-align: right;\n",
              "    }\n",
              "</style>\n",
              "<table border=\"1\" class=\"dataframe\">\n",
              "  <thead>\n",
              "    <tr style=\"text-align: right;\">\n",
              "      <th></th>\n",
              "      <th>maxWordsCount</th>\n",
              "      <th>batch_size</th>\n",
              "      <th>Dense</th>\n",
              "      <th>Dropout</th>\n",
              "      <th>Embbeding</th>\n",
              "      <th>relu</th>\n",
              "      <th>xLen</th>\n",
              "      <th>step</th>\n",
              "      <th>predict</th>\n",
              "    </tr>\n",
              "  </thead>\n",
              "  <tbody>\n",
              "    <tr>\n",
              "      <th>0</th>\n",
              "      <td>50000</td>\n",
              "      <td>128</td>\n",
              "      <td>200</td>\n",
              "      <td>0.2</td>\n",
              "      <td>10</td>\n",
              "      <td>relu</td>\n",
              "      <td>200</td>\n",
              "      <td>20</td>\n",
              "      <td>0.681387</td>\n",
              "    </tr>\n",
              "    <tr>\n",
              "      <th>1</th>\n",
              "      <td>50000</td>\n",
              "      <td>128</td>\n",
              "      <td>200</td>\n",
              "      <td>0.2</td>\n",
              "      <td>50</td>\n",
              "      <td>relu</td>\n",
              "      <td>200</td>\n",
              "      <td>20</td>\n",
              "      <td>0.694174</td>\n",
              "    </tr>\n",
              "    <tr>\n",
              "      <th>2</th>\n",
              "      <td>50000</td>\n",
              "      <td>128</td>\n",
              "      <td>200</td>\n",
              "      <td>0.2</td>\n",
              "      <td>100</td>\n",
              "      <td>relu</td>\n",
              "      <td>200</td>\n",
              "      <td>20</td>\n",
              "      <td>0.684063</td>\n",
              "    </tr>\n",
              "    <tr>\n",
              "      <th>3</th>\n",
              "      <td>50000</td>\n",
              "      <td>128</td>\n",
              "      <td>200</td>\n",
              "      <td>0.2</td>\n",
              "      <td>200</td>\n",
              "      <td>relu</td>\n",
              "      <td>200</td>\n",
              "      <td>20</td>\n",
              "      <td>0.682101</td>\n",
              "    </tr>\n",
              "  </tbody>\n",
              "</table>\n",
              "</div>"
            ],
            "text/plain": [
              "   maxWordsCount  batch_size  Dense  Dropout  ...  relu xLen  step   predict\n",
              "0          50000         128    200      0.2  ...  relu  200    20  0.681387\n",
              "1          50000         128    200      0.2  ...  relu  200    20  0.694174\n",
              "2          50000         128    200      0.2  ...  relu  200    20  0.684063\n",
              "3          50000         128    200      0.2  ...  relu  200    20  0.682101\n",
              "\n",
              "[4 rows x 9 columns]"
            ]
          },
          "metadata": {
            "tags": []
          },
          "execution_count": 29
        }
      ]
    },
    {
      "cell_type": "markdown",
      "metadata": {
        "id": "HYyAn06kIDC3",
        "colab_type": "text"
      },
      "source": [
        ""
      ]
    }
  ]
}
