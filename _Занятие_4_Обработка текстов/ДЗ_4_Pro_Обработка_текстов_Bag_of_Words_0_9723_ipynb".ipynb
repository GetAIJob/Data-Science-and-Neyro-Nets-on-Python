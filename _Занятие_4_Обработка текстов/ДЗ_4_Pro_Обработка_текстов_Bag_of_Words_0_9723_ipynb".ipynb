{
  "nbformat": 4,
  "nbformat_minor": 0,
  "metadata": {
    "colab": {
      "name": "ДЗ_4_Pro_Обработка текстов_Bag of Words_0.9723.ipynb\"",
      "provenance": [],
      "collapsed_sections": [
        "1d_gJxm_R5Bn"
      ],
      "machine_shape": "hm",
      "include_colab_link": true
    },
    "kernelspec": {
      "name": "python3",
      "display_name": "Python 3"
    },
    "accelerator": "GPU"
  },
  "cells": [
    {
      "cell_type": "markdown",
      "metadata": {
        "id": "view-in-github",
        "colab_type": "text"
      },
      "source": [
        "<a href=\"https://colab.research.google.com/github/ikonushok/My_studying_Data-Science-and-Neyro-Nets-on-Python/blob/master/%D0%94%D0%97_4_Pro_%D0%9E%D0%B1%D1%80%D0%B0%D0%B1%D0%BE%D1%82%D0%BA%D0%B0_%D1%82%D0%B5%D0%BA%D1%81%D1%82%D0%BE%D0%B2_Bag_of_Words_0_9723_ipynb%22.ipynb\" target=\"_parent\"><img src=\"https://colab.research.google.com/assets/colab-badge.svg\" alt=\"Open In Colab\"/></a>"
      ]
    },
    {
      "cell_type": "markdown",
      "metadata": {
        "id": "eR63xxCtcMA2",
        "colab_type": "text"
      },
      "source": [
        "# Классификация текстов писателей"
      ]
    },
    {
      "cell_type": "code",
      "metadata": {
        "id": "8qn2yuaE-N9h",
        "colab_type": "code",
        "colab": {}
      },
      "source": [
        "from tensorflow.keras.models import Sequential\n",
        "from tensorflow.keras.layers import Dense, BatchNormalization, Embedding, Flatten, Activation\n",
        "from tensorflow.keras.layers import SpatialDropout1D, Dropout\n",
        "from tensorflow.keras.optimizers import Adam, RMSprop, Nadam, Adamax, Adadelta, Adagrad\n",
        "\n",
        "from tensorflow.keras.callbacks import EarlyStopping, ReduceLROnPlateau, ModelCheckpoint\n",
        "from tensorflow.keras import utils # Для работы с категориальными данными\n",
        "from tensorflow.keras.preprocessing.text import Tokenizer\n",
        "from tensorflow.keras.callbacks import EarlyStopping, ReduceLROnPlateau, ModelCheckpoint\n",
        "\n",
        "import numpy as np\n",
        "import pandas as pd\n",
        "import time # чтобы зачсечь время\n",
        "\n",
        "import matplotlib.pyplot as plt # Для вывода графиков\n",
        "%matplotlib inline"
      ],
      "execution_count": 1,
      "outputs": []
    },
    {
      "cell_type": "code",
      "metadata": {
        "id": "lHP22yPBbBUB",
        "colab_type": "code",
        "colab": {
          "base_uri": "https://localhost:8080/",
          "height": 32
        },
        "outputId": "9d5eeb81-69e9-43dd-e429-c8eaae5cff34"
      },
      "source": [
        "from google.colab import drive\n",
        "drive.mount('/content/drive')"
      ],
      "execution_count": 2,
      "outputs": [
        {
          "output_type": "stream",
          "text": [
            "Drive already mounted at /content/drive; to attempt to forcibly remount, call drive.mount(\"/content/drive\", force_remount=True).\n"
          ],
          "name": "stdout"
        }
      ]
    },
    {
      "cell_type": "markdown",
      "metadata": {
        "id": "wLSDJ8es9Xos",
        "colab_type": "text"
      },
      "source": [
        "## Подготовка текстов и выборки"
      ]
    },
    {
      "cell_type": "markdown",
      "metadata": {
        "id": "U4K0n98zjP9Y",
        "colab_type": "text"
      },
      "source": [
        "### загружаем тексты"
      ]
    },
    {
      "cell_type": "code",
      "metadata": {
        "id": "-P-uS6iNfgWX",
        "colab_type": "code",
        "colab": {
          "base_uri": "https://localhost:8080/",
          "height": 444
        },
        "outputId": "a6d8ae12-3eef-4378-c1ac-bb82432f6212"
      },
      "source": [
        "import os\n",
        "os.chdir('/content/drive/My Drive/Colab Notebooks/Data Science и нейронные сети на Python/Занятие_4_Обработка текстов с помощью нейросетей/data/Тексты писателей')\n",
        "os.listdir() # перешли в нужную папку и проверили наличие в ней нужных файлов"
      ],
      "execution_count": 3,
      "outputs": [
        {
          "output_type": "execute_result",
          "data": {
            "text/plain": [
              "['(О. Генри) Обучающая_50 вместе.txt',\n",
              " '(Клиффорд_Саймак) Тестовая_2 вместе.txt',\n",
              " '(Булгаков) Обучающая_5 вместе.txt',\n",
              " '(Макс Фрай) Обучающая_5 вместе.txt',\n",
              " '(О. Генри) Тестовая_20 вместе.txt',\n",
              " '(Клиффорд_Саймак) Обучающая_5 вместе.txt',\n",
              " '(Булгаков) Тестовая_2 вместе.txt',\n",
              " '(Макс Фрай) Тестовая_2 вместе.txt',\n",
              " '(Рэй Брэдберри) Тестовая_8 вместе.txt',\n",
              " '(Стругацкие) Тестовая_2 вместе.txt',\n",
              " '(Рэй Брэдберри) Обучающая_22 вместе.txt',\n",
              " '(Стругацкие) Обучающая_5 вместе.txt',\n",
              " 'best_modelED_Adam_15000_20_2.h5',\n",
              " 'best_modelED_Adam_15000_20_0.9713.h5',\n",
              " 'best_modelED_Adam_20000_100.h5',\n",
              " 'best_modelED_RMSprop_10000_20.h5',\n",
              " 'best_modelED_Adam_20000_50.h5',\n",
              " 'best_modelED_RMSprop_15000_20.h5',\n",
              " 'xTestPredictBoW.npy',\n",
              " 'xTestPredictEmbedding.npy',\n",
              " 'best_modelBW_10000_20.h5',\n",
              " 'best_modelBW_3000_100.h5',\n",
              " 'best_modelBW_4000_100.h5',\n",
              " 'best_modelBW_5000_100.h5',\n",
              " 'best_modelBW_6000_150.h5',\n",
              " 'best_modelBW_4500_90.h5']"
            ]
          },
          "metadata": {
            "tags": []
          },
          "execution_count": 3
        }
      ]
    },
    {
      "cell_type": "code",
      "metadata": {
        "id": "C4gfhFUxZY0R",
        "colab_type": "code",
        "colab": {}
      },
      "source": [
        "# функция чтения файла\n",
        "def readText(fileName):\n",
        "  f = open(fileName, 'r') # открываем нужный файл\n",
        "  text = f.read()         # читаем текст\n",
        "  text = text.replace(\"\\n\", \" \")  # меняем переносы строк на пробелы\n",
        "  return text\n",
        "\n",
        "# Перечислили интересующих авторов и назначили соответствующие им классы\n",
        "className = [\"Генри\", \"Стругацкие\", \"Булгаков\", \"Клиффорд\", \"Макс\", \"Брэдберри\"] \n",
        "nClasses = len(className) # посчитали количество авторов"
      ],
      "execution_count": 4,
      "outputs": []
    },
    {
      "cell_type": "code",
      "metadata": {
        "id": "w4868229cJMb",
        "colab_type": "code",
        "colab": {
          "base_uri": "https://localhost:8080/",
          "height": 345
        },
        "outputId": "8710775f-a491-449e-9886-f804a514e28f"
      },
      "source": [
        "# Загружаем тексты писателей\n",
        "\n",
        "trainText = []\n",
        "testText = []\n",
        "\n",
        "# считываем тексты из файлов и обрабатываем их функцией readText\n",
        "for i in className:\n",
        "  for j in os.listdir():\n",
        "    if i in j: # если в названии файла есть имя класса (автора)\n",
        "\n",
        "      if 'Обучающая' in  j: # если в названии файла есть слово 'Обучающая'\n",
        "        trainText.append(readText(j)) # добавляем текст \n",
        "        print(j, 'добавлен в обучающую выборку')\n",
        "      if 'Тестовая' in j:\n",
        "        testText.append(readText(j)) # добавляем текст \n",
        "        print(j, 'добавлен в тестовую выборку')\n",
        "  print()\n",
        "\n",
        "print('Количество элементов в train:', len(trainText), '\\n Количество символов в [0] элементе train: ', len(trainText[0]))"
      ],
      "execution_count": 5,
      "outputs": [
        {
          "output_type": "stream",
          "text": [
            "(О. Генри) Обучающая_50 вместе.txt добавлен в обучающую выборку\n",
            "(О. Генри) Тестовая_20 вместе.txt добавлен в тестовую выборку\n",
            "\n",
            "(Стругацкие) Тестовая_2 вместе.txt добавлен в тестовую выборку\n",
            "(Стругацкие) Обучающая_5 вместе.txt добавлен в обучающую выборку\n",
            "\n",
            "(Булгаков) Обучающая_5 вместе.txt добавлен в обучающую выборку\n",
            "(Булгаков) Тестовая_2 вместе.txt добавлен в тестовую выборку\n",
            "\n",
            "(Клиффорд_Саймак) Тестовая_2 вместе.txt добавлен в тестовую выборку\n",
            "(Клиффорд_Саймак) Обучающая_5 вместе.txt добавлен в обучающую выборку\n",
            "\n",
            "(Макс Фрай) Обучающая_5 вместе.txt добавлен в обучающую выборку\n",
            "(Макс Фрай) Тестовая_2 вместе.txt добавлен в тестовую выборку\n",
            "\n",
            "(Рэй Брэдберри) Тестовая_8 вместе.txt добавлен в тестовую выборку\n",
            "(Рэй Брэдберри) Обучающая_22 вместе.txt добавлен в обучающую выборку\n",
            "\n",
            "Количество элементов в train: 6 \n",
            " Количество символов в [0] элементе train:  1049517\n"
          ],
          "name": "stdout"
        }
      ]
    },
    {
      "cell_type": "markdown",
      "metadata": {
        "id": "0uca9WXUtj_u",
        "colab_type": "text"
      },
      "source": [
        "### создаем train и validaton выборки\n",
        "-----\n",
        "При помощи функций формирования выборки по отрезкам текста с заданным шагом"
      ]
    },
    {
      "cell_type": "code",
      "metadata": {
        "id": "oTxCsTwAuZGt",
        "colab_type": "code",
        "colab": {}
      },
      "source": [
        "# разделение проиндексированного текста на короткие векторы\n",
        "def getSetFromIndexes(wordIndexes, xLen, step): # функция принимает последовательность индексов, размер окна и шаг окна\n",
        "  xSample = [] # пременная для векторов\n",
        "  wordsLen = len(wordIndexes) # считаем колиечтсво слов\n",
        "  i = 0\n",
        "\n",
        "  while (i + xLen <= wordsLen): # пока окно внутри массива wordIndexes\n",
        "    xSample.append(wordIndexes[i:i+xLen]) # Отрезаем векторы длины xLen\n",
        "    i += step # смещение на шаг вперед\n",
        "  \n",
        "  return xSample"
      ],
      "execution_count": 6,
      "outputs": []
    },
    {
      "cell_type": "code",
      "metadata": {
        "id": "I5-jwfuewVcA",
        "colab_type": "code",
        "colab": {}
      },
      "source": [
        "# создаем train и val выборки\n",
        "def createSetMultiClasses(wordIndexes, xLen, step): # функция принимает последовательность индексов, размер окна и шаг окна\n",
        "  nClases = len(wordIndexes) # количество влассов в выборке\n",
        "  classesXSamples = [] # Здесь будет список размером \"кол-во классов*кол-во окон в тексте*длину окна (например, 6 по 1341*1000)\"\n",
        "  for wI in wordIndexes: # для каждого текста каждого класса\n",
        "    classesXSamples.append(getSetFromIndexes(wI, xLen, step)) # Добавляем в список очередной текст индексов, разбитый на \"кол-во окон*длину окна\" \n",
        "  \n",
        "  xSamples = []\n",
        "  ySamples = []\n",
        "\n",
        "  for t in range(nClasses): # В диапазоне кол-ва классов(6)\n",
        "    xT = classesXSamples[t] # Берем очередной текст вида \"кол-во окон в тексте*длину окна\"(например, 1341*1000)\n",
        "    for i in range(len(xT)): # И каждое его окно\n",
        "      xSamples.append(xT[i]) # Добавляем в общий список выборки\n",
        "      ySamples.append(utils.to_categorical(t, nClasses)) # Добавляем соответствующий вектор класса\n",
        "\n",
        "  xSamples = np.array(xSamples) # Переводим в массив numpy для подачи в нейронку\n",
        "  ySamples = np.array(ySamples) # Переводим в массив numpy для подачи в нейронку\n",
        "\n",
        "  \n",
        "  return (xSamples, ySamples) #Функция возвращает выборку и соответствующие векторы классов"
      ],
      "execution_count": 7,
      "outputs": []
    },
    {
      "cell_type": "code",
      "metadata": {
        "id": "stHRW8-4mf7G",
        "colab_type": "code",
        "colab": {}
      },
      "source": [
        "# Представляем тестовую выборку в удобных для распознавания размерах\n",
        "def createTestMultiClasses(wordIndexes, xLen, step): #функция принимает последовательность индексов, размер окна, шаг окна\n",
        "\n",
        "  #Для каждого из 6 классов\n",
        "  #Создаём тестовую выборку из индексов\n",
        "  nClasses = len(wordIndexes) #Задаем количество классов\n",
        "  xTest6Classes01 = []               #Здесь будет список из всех классов, каждый размером \"кол-во окон в тексте * 20000 (при maxWordsCount=20000)\"\n",
        "  xTest6Classes = []                 #Здесь будет список массивов, каждый размером \"кол-во окон в тексте * длину окна\"(6 по 420*1000)\n",
        "  for wI in wordIndexes:                       #Для каждого тестового текста из последовательности индексов\n",
        "    sample = (getSetFromIndexes(wI, xLen, step)) #Тестовая выборка размером \"кол-во окон*длину окна\"(например, 420*1000)\n",
        "    xTest6Classes.append(sample)              # Добавляем в список\n",
        "    xTest6Classes01.append(tokenizer.sequences_to_matrix(sample)) #Трансформируется в Bag of Words в виде \"кол-во окон в тексте * 20000\"\n",
        "  xTest6Classes01 = np.array(xTest6Classes01)                     #И добавляется к нашему списку, \n",
        "  xTest6Classes = np.array(xTest6Classes)                     #И добавляется к нашему списку, \n",
        "  \n",
        "  return xTest6Classes01, xTest6Classes  #функция вернёт тестовые данные: TestBag 6 классов на n*20000 и xTestEm 6 по n*1000\n",
        "\n",
        "# Распознаём тестовую выборку и выводим результаты\n",
        "def recognizeMultiClass(model, xTest, modelName):\n",
        "  print(\"НЕЙРОНКА: \", modelName)\n",
        "  print()\n",
        "  \n",
        "  totalSumRec = 0 # Сумма всех правильных ответов\n",
        "  \n",
        "  #Проходим по всем классам\n",
        "  for i in range(nClasses):\n",
        "    #Получаем результаты распознавания класса по блокам слов длины xLen\n",
        "    currPred = model.predict(xTest[i])\n",
        "    #Определяем номер распознанного класса для каждохо блока слов длины xLen\n",
        "    currOut = np.argmax(currPred, axis=1)\n",
        "\n",
        "    evVal = []\n",
        "    for j in range(nClasses):\n",
        "      evVal.append(len(currOut[currOut==j])/len(xTest[i]))\n",
        "\n",
        "    totalSumRec += len(currOut[currOut==i])\n",
        "    recognizedClass = np.argmax(evVal) #Определяем, какой класс в итоге за какой был распознан\n",
        "    \n",
        "    #Выводим результаты распознавания по текущему классу\n",
        "    isRecognized = \"Это НЕПРАВИЛЬНЫЙ ответ!\"\n",
        "    if (recognizedClass == i):\n",
        "      isRecognized = \"Это ПРАВИЛЬНЫЙ ответ!\"\n",
        "    str1 = 'Класс: ' + className[i] + \" \" * (11 - len(className[i])) + str(int(100*evVal[i])) + \"% сеть отнесла к классу \" + className[recognizedClass]\n",
        "    print(str1, \" \" * (55-len(str1)), isRecognized, sep='')\n",
        "  \n",
        "  #Выводим средний процент распознавания по всем классам вместе\n",
        "  print()\n",
        "  sumCount = 0\n",
        "  for i in range(nClasses):\n",
        "    sumCount += len(xTest[i])\n",
        "  print(\"Средний процент распознавания \", int(100*totalSumRec/sumCount), \"%\", sep='')\n",
        "\n",
        "  print()\n",
        "  \n",
        "  return totalSumRec/sumCount"
      ],
      "execution_count": 8,
      "outputs": []
    },
    {
      "cell_type": "markdown",
      "metadata": {
        "id": "QA0sF3Xn83H9",
        "colab_type": "text"
      },
      "source": [
        "## **Bag of Words**"
      ]
    },
    {
      "cell_type": "markdown",
      "metadata": {
        "id": "L58pdfJLyR5a",
        "colab_type": "text"
      },
      "source": [
        "### подготовка данных"
      ]
    },
    {
      "cell_type": "code",
      "metadata": {
        "id": "PcZ3E4sb0wua",
        "colab_type": "code",
        "colab": {}
      },
      "source": [
        "from tensorflow.keras import utils # Для работы с категориальными данными\n",
        "import numpy as np"
      ],
      "execution_count": 9,
      "outputs": []
    },
    {
      "cell_type": "markdown",
      "metadata": {
        "id": "61KYb0uyjTk4",
        "colab_type": "text"
      },
      "source": [
        "### обрабатываем тексты"
      ]
    },
    {
      "cell_type": "code",
      "metadata": {
        "id": "htPg1u5GjYAg",
        "colab_type": "code",
        "colab": {
          "base_uri": "https://localhost:8080/",
          "height": 32
        },
        "outputId": "eddccc7c-7402-42bd-968b-26623abc8db4"
      },
      "source": [
        "cur_time = time.time() # засекаем время\n",
        "\n",
        "maxWordsCount = 50000 # Определили максимальное количество слов, учитываемых при обучении\n",
        "\n",
        "tokenizer = Tokenizer(num_words = maxWordsCount, # обрабатываем текст, оставляя только те слова, на которых учимся\n",
        "                      filters='\"!#$%&()*+,-–—./…:;<=>?@[\\\\]^_`{|}~«»\\t\\n\\xa0\\ufeff', # избавляемся от этих символов\n",
        "                      lower=True,           # переводим в нижний регистр\n",
        "                      split=' ',            # разделяем слова пробелом\n",
        "                      oov_token='unknown',  # ???\n",
        "                      char_level=False)     # оставляем слова из одной буквы\n",
        "\n",
        "tokenizer.fit_on_texts(trainText) # сзодаем словарь частотности для наших текстов\n",
        "items = list(tokenizer.word_index.items()) # заносим индексы слов в словарь\n",
        "\n",
        "print('Время обработки: ', round(time.time() - cur_time, 2), 'c', sep='') # смотрим время"
      ],
      "execution_count": 10,
      "outputs": [
        {
          "output_type": "stream",
          "text": [
            "Время обработки: 2.41c\n"
          ],
          "name": "stdout"
        }
      ]
    },
    {
      "cell_type": "markdown",
      "metadata": {
        "id": "1d_gJxm_R5Bn",
        "colab_type": "text"
      },
      "source": [
        "### Описание данных"
      ]
    },
    {
      "cell_type": "code",
      "metadata": {
        "id": "ZfUoNaXKjYH9",
        "colab_type": "code",
        "colab": {
          "base_uri": "https://localhost:8080/",
          "height": 115
        },
        "outputId": "9be06057-0030-441b-e63e-2703ec06783b"
      },
      "source": [
        "print('Пять самых ЧАСТО встречающихся слов: ', items[:5])\n",
        "print('Пять самых РЕДКО встречающихся слов: ', items[-5:])\n",
        "print('Размер словаря', len(items))\n",
        "print()\n",
        "print(\"Индекс слова: \", tokenizer.word_index[input('Наберите слово: ')])"
      ],
      "execution_count": 12,
      "outputs": [
        {
          "output_type": "stream",
          "text": [
            "Пять самых ЧАСТО встречающихся слов:  [('unknown', 1), ('и', 2), ('в', 3), ('не', 4), ('я', 5)]\n",
            "Пять самых РЕДКО встречающихся слов:  [('потерян', 133066), ('расплывающиеся', 133067), ('миллионе', 133068), ('зияющая', 133069), ('ничтонавстречу', 133070)]\n",
            "Размер словаря 133070\n",
            "\n",
            "Наберите слово: деревня\n",
            "Индекс слова:  12834\n"
          ],
          "name": "stdout"
        }
      ]
    },
    {
      "cell_type": "code",
      "metadata": {
        "id": "wxBcBz6hrU5W",
        "colab_type": "code",
        "colab": {
          "base_uri": "https://localhost:8080/",
          "height": 345
        },
        "outputId": "11c6e1cd-e1d5-4be8-d684-e5bcf4df8642"
      },
      "source": [
        "print(\"Статистика по обучающим текстам:\")\n",
        "\n",
        "symbolsTrainText = 0 # Объявляем переменную для подсчета символов в обучающих текстах\n",
        "wordsTrainText = 0 # Объявляем переменную для подсчета слов в обучающих текстах\n",
        "\n",
        "for i in range(nClasses): # Проходим по всем классам\n",
        "  print(className[i], \" \"*(10-len(className[i])), len(trainText[i]), \"символов, \", len(trainWordIndexes[i]), \"слов\")\n",
        "  symbolsTrainText += len(trainText[i]) # Считаем символы\n",
        "  wordsTrainText += len(trainWordIndexes[i]) # Считаем слова \n",
        "\n",
        "print('----')\n",
        "print(\"В сумме \", symbolsTrainText, \" символов, \", wordsTrainText, \" слов \\n\")\n",
        "print()\n",
        "print(\"Статистика по тестовым текстам:\")\n",
        "\n",
        "symbolsTestText = 0 # Объявляем переменную для подсчета символов в тестовых текстах\n",
        "wordsTestText = 0 # Объявляем переменную для подсчета слов в тестовых текстах\n",
        "\n",
        "for i in range(nClasses): #Проходим по всем классам\n",
        "  print(className[i], ' '*(12-len(className[i])), len(testText[i]), \"символов, \", len(testWordIndexes[i]), \"слов\")\n",
        "  symbolsTestText += len(testText[i]) #Считаем символы\n",
        "  wordsTestText += len(testWordIndexes[i]) #Считаем слова \n",
        "print('----')\n",
        "print(\"В сумме \", symbolsTestText, \" символов, \", wordsTestText, \" слов\")"
      ],
      "execution_count": 14,
      "outputs": [
        {
          "output_type": "stream",
          "text": [
            "Статистика по обучающим текстам:\n",
            "Генри       1049517 символов,  160607 слов\n",
            "Стругацкие  2042469 символов,  313012 слов\n",
            "Булгаков    1765648 символов,  261465 слов\n",
            "Клиффорд    1609507 символов,  251502 слов\n",
            "Макс        3700010 символов,  568533 слов\n",
            "Брэдберри   1386454 символов,  214454 слов\n",
            "----\n",
            "В сумме  11553605  символов,  1769573  слов \n",
            "\n",
            "\n",
            "Статистика по тестовым текстам:\n",
            "Генри         349662 символов,  53238 слов\n",
            "Стругацкие    704846 символов,  108621 слов\n",
            "Булгаков      875042 символов,  132730 слов\n",
            "Клиффорд      318811 символов,  50360 слов\n",
            "Макс          1278191 символов,  196731 слов\n",
            "Брэдберри     868673 символов,  132524 слов\n",
            "----\n",
            "В сумме  4395225  символов,  674204  слов\n"
          ],
          "name": "stdout"
        }
      ]
    },
    {
      "cell_type": "markdown",
      "metadata": {
        "id": "XxLw8LUSoIAc",
        "colab_type": "text"
      },
      "source": [
        "### преобразуем текст в последовательность элементов"
      ]
    },
    {
      "cell_type": "code",
      "metadata": {
        "id": "oiV5yzxpjX2B",
        "colab_type": "code",
        "colab": {
          "base_uri": "https://localhost:8080/",
          "height": 69
        },
        "outputId": "40b8af5c-41aa-4f39-8bd9-5fd80475bed9"
      },
      "source": [
        "trainWordIndexes = tokenizer.texts_to_sequences(trainText)  # оцифровал обучающие тексты\n",
        "testWordIndexes = tokenizer.texts_to_sequences(testText)    # оцифровал тестовые тексты\n",
        "\n",
        "print('Фрагмент обуающего текста: ', trainText[1][:51]) ### надо бы убрать цифры их массивов\n",
        "print('Он же в виде последовательности индексов: ', trainWordIndexes[1][:51])"
      ],
      "execution_count": 11,
      "outputs": [
        {
          "output_type": "stream",
          "text": [
            "Фрагмент обуающего текста:  Парень из преисподней     1     Ну и деревня! Сроду\n",
            "Он же в виде последовательности индексов:  [473, 22, 29192, 1508, 47, 2, 12834, 7800, 5, 415, 27605, 4, 251, 2, 4, 249, 55, 6, 240, 9472, 2630, 182, 5817, 24177, 99, 3527, 19824, 7, 1, 11, 32525, 1, 10, 67, 301, 116, 34, 4, 34439, 19825, 196, 12, 11256, 42615, 19826, 42616, 8734, 1, 11653, 1035, 175]\n"
          ],
          "name": "stdout"
        }
      ]
    },
    {
      "cell_type": "code",
      "metadata": {
        "id": "w6nGFkrNP6e4",
        "colab_type": "code",
        "colab": {}
      },
      "source": [
        "# базовые параметры\n",
        "xLen = 4500 # длина отрезка анализируемого текста\n",
        "step = 90 # длина обучающих векторов, на которые разбили текст"
      ],
      "execution_count": 12,
      "outputs": []
    },
    {
      "cell_type": "code",
      "metadata": {
        "id": "sVrMQQxTwVK4",
        "colab_type": "code",
        "colab": {
          "base_uri": "https://localhost:8080/",
          "height": 98
        },
        "outputId": "68fda80c-19fa-4148-d223-8f8b402abb47"
      },
      "source": [
        "cur_time = time.time() # Засекаем текущее время\n",
        "\n",
        "#Формируем обучающую и тестовую выборку\n",
        "xTrain, yTrain = createSetMultiClasses(trainWordIndexes, xLen, step) #извлекаем обучающую выборку\n",
        "xTest, yTest = createSetMultiClasses(testWordIndexes, xLen, step)    #извлекаем тестовую выборку\n",
        "print(xTrain.shape)\n",
        "print(yTrain.shape)\n",
        "print(xTest.shape)\n",
        "print(yTest.shape)\n",
        "\"\"\"\n",
        "получили обучающий/тестовый набор, достаточный для запуска Embedding,\n",
        "но для Bag of Words нужно xTrain и xTest представить в виде векторов из 0 и 1\n",
        "\"\"\"\n",
        "\n",
        "print('Время обработки: ', round(time.time() - cur_time, 2), 'c', sep='')"
      ],
      "execution_count": 13,
      "outputs": [
        {
          "output_type": "stream",
          "text": [
            "(19365, 4500)\n",
            "(19365, 6)\n",
            "(7193, 4500)\n",
            "(7193, 6)\n",
            "Время обработки: 10.52c\n"
          ],
          "name": "stdout"
        }
      ]
    },
    {
      "cell_type": "code",
      "metadata": {
        "id": "ae3uNG_C1hKO",
        "colab_type": "code",
        "colab": {
          "base_uri": "https://localhost:8080/",
          "height": 32
        },
        "outputId": "2aaa9d33-c303-48af-fe21-590048e45851"
      },
      "source": [
        "print(xTrain[0])"
      ],
      "execution_count": 14,
      "outputs": [
        {
          "output_type": "stream",
          "text": [
            "[ 4725     7  2449 ...   135 14318    23]\n"
          ],
          "name": "stdout"
        }
      ]
    },
    {
      "cell_type": "code",
      "metadata": {
        "id": "DEpLWI4-1qCh",
        "colab_type": "code",
        "colab": {
          "base_uri": "https://localhost:8080/",
          "height": 131
        },
        "outputId": "75427fa3-16e8-45d1-e4ee-8b2e9e981910"
      },
      "source": [
        "cur_time = time.time() # Засекаем текущее время\n",
        "\n",
        "### bag of words ###\n",
        "# Преобразовываем полученные выборки из последовательности индексов в матрицы нулей и единиц по принципу Bag of Words\n",
        "xTrain01 = tokenizer.sequences_to_matrix(xTrain.tolist()) #Подаем xTrain в виде списка, чтобы метод успешно сработал\n",
        "xTest01 = tokenizer.sequences_to_matrix(xTest.tolist()) # Подаем xTest в виде списка, чтобы метод успешно сработал\n",
        "\n",
        "print(xTrain01.shape)       # Размер обучающей выборки, сформированной по Bag of Words\n",
        "print(xTrain01[0][0:100])   # Фрагмент набора слов в виде Bag of Words\n",
        "print('Время обработки: ', round(time.time() - cur_time, 2), 'c', sep='')"
      ],
      "execution_count": 15,
      "outputs": [
        {
          "output_type": "stream",
          "text": [
            "(19365, 50000)\n",
            "[0. 1. 1. 1. 1. 1. 1. 1. 1. 1. 1. 1. 1. 1. 1. 1. 1. 1. 1. 1. 1. 1. 1. 1.\n",
            " 1. 0. 1. 1. 1. 1. 1. 1. 1. 1. 1. 1. 1. 1. 1. 1. 1. 1. 1. 1. 1. 1. 1. 1.\n",
            " 1. 1. 1. 1. 1. 1. 1. 1. 1. 1. 1. 1. 1. 1. 1. 1. 1. 1. 1. 1. 1. 1. 1. 0.\n",
            " 1. 1. 0. 1. 1. 1. 1. 1. 1. 0. 1. 1. 1. 1. 1. 1. 1. 1. 1. 1. 1. 0. 1. 1.\n",
            " 1. 1. 1. 1.]\n",
            "Время обработки: 43.9c\n"
          ],
          "name": "stdout"
        }
      ]
    },
    {
      "cell_type": "markdown",
      "metadata": {
        "id": "8_EUXIEU2bb7",
        "colab_type": "text"
      },
      "source": [
        "### создаем нейросеть"
      ]
    },
    {
      "cell_type": "code",
      "metadata": {
        "id": "sR7rT_0H2_uO",
        "colab_type": "code",
        "colab": {}
      },
      "source": [
        "k_Dropout = 0.1 #Был 0.1\n",
        "k_Dense = xLen\n",
        "k_epochs = 100\n",
        "batch_size = 100\n",
        "N_lr = 0.00001"
      ],
      "execution_count": 16,
      "outputs": []
    },
    {
      "cell_type": "code",
      "metadata": {
        "id": "NAITdHUB2L8B",
        "colab_type": "code",
        "colab": {
          "base_uri": "https://localhost:8080/",
          "height": 1000
        },
        "outputId": "204a45f1-e5c1-4334-dbd6-9ff36e75d4cd"
      },
      "source": [
        "model01 = Sequential()\n",
        "model01.add(Dense(k_Dense, input_dim=maxWordsCount, activation='relu')) # послносвязный слой\n",
        "model01.add(Dropout(k_Dropout)) # регуляризация\n",
        "model01.add(BatchNormalization()) # пакетная нормализация\n",
        "model01.add(Dense(6, activation='sigmoid'))\n",
        "\n",
        "model01.compile(optimizer=Adam(N_lr),\n",
        "                loss='categorical_crossentropy',\n",
        "                metrics=['accuracy'])\n",
        "\n",
        "# остановки обучения по условию \n",
        "early_stopping = EarlyStopping(monitor = 'val_accuracy', patience = 4, verbose = 0, restore_best_weights = True)\n",
        "Checkpoint = ModelCheckpoint('best_modelBW_4500_90_01.h5', monitor='val_accuracy', mode='max', verbose = 1, save_best_only=True)\n",
        "\n",
        "# обучение на выборке от bag of words - xTrain01\n",
        "history = model01.fit(xTrain01, yTrain,\n",
        "                      epochs = k_epochs, verbose = 0,\n",
        "                      callbacks = [early_stopping, Checkpoint],\n",
        "                      validation_data = (xTest01, yTest))\n",
        "\n",
        "plt.plot(history.history['accuracy'], \n",
        "         label='Доля верных ответов на обучающем наборе')\n",
        "plt.plot(history.history['val_accuracy'], \n",
        "         label='Доля верных ответов на проверочном наборе')\n",
        "plt.xlabel('Эпоха обучения')\n",
        "plt.ylabel('Доля верных ответов')\n",
        "plt.legend()\n",
        "plt.grid()\n",
        "plt.show()"
      ],
      "execution_count": 17,
      "outputs": [
        {
          "output_type": "stream",
          "text": [
            "WARNING:tensorflow:Callbacks method `on_train_batch_end` is slow compared to the batch time (batch time: 0.0072s vs `on_train_batch_end` time: 0.0175s). Check your callbacks.\n",
            "\n",
            "Epoch 00001: val_accuracy improved from -inf to 0.86668, saving model to best_modelBW_4500_90_01.h5\n",
            "\n",
            "Epoch 00002: val_accuracy improved from 0.86668 to 0.88503, saving model to best_modelBW_4500_90_01.h5\n",
            "\n",
            "Epoch 00003: val_accuracy improved from 0.88503 to 0.89879, saving model to best_modelBW_4500_90_01.h5\n",
            "\n",
            "Epoch 00004: val_accuracy improved from 0.89879 to 0.90199, saving model to best_modelBW_4500_90_01.h5\n",
            "\n",
            "Epoch 00005: val_accuracy did not improve from 0.90199\n",
            "\n",
            "Epoch 00006: val_accuracy improved from 0.90199 to 0.90241, saving model to best_modelBW_4500_90_01.h5\n",
            "\n",
            "Epoch 00007: val_accuracy improved from 0.90241 to 0.90435, saving model to best_modelBW_4500_90_01.h5\n",
            "\n",
            "Epoch 00008: val_accuracy improved from 0.90435 to 0.90699, saving model to best_modelBW_4500_90_01.h5\n",
            "\n",
            "Epoch 00009: val_accuracy improved from 0.90699 to 0.91561, saving model to best_modelBW_4500_90_01.h5\n",
            "\n",
            "Epoch 00010: val_accuracy improved from 0.91561 to 0.91617, saving model to best_modelBW_4500_90_01.h5\n",
            "\n",
            "Epoch 00011: val_accuracy improved from 0.91617 to 0.92381, saving model to best_modelBW_4500_90_01.h5\n",
            "\n",
            "Epoch 00012: val_accuracy improved from 0.92381 to 0.93591, saving model to best_modelBW_4500_90_01.h5\n",
            "\n",
            "Epoch 00013: val_accuracy did not improve from 0.93591\n",
            "\n",
            "Epoch 00014: val_accuracy did not improve from 0.93591\n",
            "\n",
            "Epoch 00015: val_accuracy improved from 0.93591 to 0.94397, saving model to best_modelBW_4500_90_01.h5\n",
            "\n",
            "Epoch 00016: val_accuracy improved from 0.94397 to 0.94453, saving model to best_modelBW_4500_90_01.h5\n",
            "\n",
            "Epoch 00017: val_accuracy did not improve from 0.94453\n",
            "\n",
            "Epoch 00018: val_accuracy did not improve from 0.94453\n",
            "\n",
            "Epoch 00019: val_accuracy improved from 0.94453 to 0.94759, saving model to best_modelBW_4500_90_01.h5\n",
            "\n",
            "Epoch 00020: val_accuracy improved from 0.94759 to 0.95718, saving model to best_modelBW_4500_90_01.h5\n",
            "\n",
            "Epoch 00021: val_accuracy did not improve from 0.95718\n",
            "\n",
            "Epoch 00022: val_accuracy did not improve from 0.95718\n",
            "\n",
            "Epoch 00023: val_accuracy improved from 0.95718 to 0.95829, saving model to best_modelBW_4500_90_01.h5\n",
            "\n",
            "Epoch 00024: val_accuracy improved from 0.95829 to 0.95899, saving model to best_modelBW_4500_90_01.h5\n",
            "\n",
            "Epoch 00025: val_accuracy improved from 0.95899 to 0.95954, saving model to best_modelBW_4500_90_01.h5\n",
            "\n",
            "Epoch 00026: val_accuracy did not improve from 0.95954\n",
            "\n",
            "Epoch 00027: val_accuracy did not improve from 0.95954\n",
            "\n",
            "Epoch 00028: val_accuracy improved from 0.95954 to 0.96232, saving model to best_modelBW_4500_90_01.h5\n",
            "\n",
            "Epoch 00029: val_accuracy did not improve from 0.96232\n",
            "\n",
            "Epoch 00030: val_accuracy did not improve from 0.96232\n",
            "\n",
            "Epoch 00031: val_accuracy did not improve from 0.96232\n",
            "\n",
            "Epoch 00032: val_accuracy improved from 0.96232 to 0.96330, saving model to best_modelBW_4500_90_01.h5\n",
            "\n",
            "Epoch 00033: val_accuracy did not improve from 0.96330\n",
            "\n",
            "Epoch 00034: val_accuracy did not improve from 0.96330\n",
            "\n",
            "Epoch 00035: val_accuracy improved from 0.96330 to 0.96594, saving model to best_modelBW_4500_90_01.h5\n",
            "\n",
            "Epoch 00036: val_accuracy did not improve from 0.96594\n",
            "\n",
            "Epoch 00037: val_accuracy improved from 0.96594 to 0.96844, saving model to best_modelBW_4500_90_01.h5\n",
            "\n",
            "Epoch 00038: val_accuracy improved from 0.96844 to 0.97233, saving model to best_modelBW_4500_90_01.h5\n",
            "\n",
            "Epoch 00039: val_accuracy did not improve from 0.97233\n",
            "\n",
            "Epoch 00040: val_accuracy did not improve from 0.97233\n",
            "\n",
            "Epoch 00041: val_accuracy did not improve from 0.97233\n",
            "\n",
            "Epoch 00042: val_accuracy did not improve from 0.97233\n"
          ],
          "name": "stdout"
        },
        {
          "output_type": "display_data",
          "data": {
            "image/png": "[encoded data removed]",
            "text/plain": [
              "<Figure size 432x288 with 1 Axes>"
            ]
          },
          "metadata": {
            "tags": [],
            "needs_background": "light"
          }
        }
      ]
    },
    {
      "cell_type": "code",
      "metadata": {
        "id": "9S0cX1cfPivS",
        "colab_type": "code",
        "colab": {}
      },
      "source": [
        "from tensorflow.keras.models import load_model\n",
        "from tensorflow.keras.models import Sequential\n",
        "\n",
        "import os\n",
        "os.chdir('/content/drive/My Drive/Colab Notebooks/Data Science и нейронные сети на Python/Занятие_4_Обработка текстов с помощью нейросетей/data/Тексты писателей')\n",
        "\n",
        "model01 = Sequential()\n",
        "model01 = load_model('best_modelBW_4000_100.h5')"
      ],
      "execution_count": 3,
      "outputs": []
    },
    {
      "cell_type": "code",
      "metadata": {
        "id": "7gVZ6sBgCOEa",
        "colab_type": "code",
        "colab": {
          "base_uri": "https://localhost:8080/",
          "height": 458
        },
        "outputId": "3897901f-35e3-40b7-d5c5-50c68f7b5dd7"
      },
      "source": [
        "# базовые параметры\n",
        "xLen = 4500 # длина отрезка анализируемого текста\n",
        "step = 100 # длина обучающих векторов, на которые разбили текст\n",
        "k_Dropout = 0.1\n",
        "k_Dense = xLen\n",
        "k_epochs = 100\n",
        "batch_size = 100\n",
        "N_lr = 0.00001\n",
        "\n",
        "plt.plot(history.history['accuracy'], \n",
        "         label='Доля верных ответов на обучающем наборе')\n",
        "plt.plot(history.history['val_accuracy'], \n",
        "         label='Доля верных ответов на проверочном наборе')\n",
        "plt.xlabel('Эпоха обучения')\n",
        "plt.ylabel('Доля верных ответов')\n",
        "plt.legend()\n",
        "plt.grid()\n",
        "plt.show()\n",
        "\n",
        "xTest6Classes01, x2 = createTestMultiClasses(testWordIndexes, xLen, step) #Преобразование тестовой выбор\n",
        "#Проверяем точность нейронки обученной на bag of words\n",
        "pred = recognizeMultiClass(model01, xTest6Classes01, \"Bag of Words\")"
      ],
      "execution_count": 18,
      "outputs": [
        {
          "output_type": "display_data",
          "data": {
            "image/png": "[encoded data removed]",
            "text/plain": [
              "<Figure size 432x288 with 1 Axes>"
            ]
          },
          "metadata": {
            "tags": [],
            "needs_background": "light"
          }
        },
        {
          "output_type": "stream",
          "text": [
            "НЕЙРОНКА:  Bag of Words\n",
            "\n",
            "Класс: Генри      100% сеть отнесла к классу Генри     Это ПРАВИЛЬНЫЙ ответ!\n",
            "Класс: Стругацкие 99% сеть отнесла к классу Стругацкие Это ПРАВИЛЬНЫЙ ответ!\n",
            "Класс: Булгаков   98% сеть отнесла к классу Булгаков   Это ПРАВИЛЬНЫЙ ответ!\n",
            "Класс: Клиффорд   99% сеть отнесла к классу Клиффорд   Это ПРАВИЛЬНЫЙ ответ!\n",
            "Класс: Макс       91% сеть отнесла к классу Макс       Это ПРАВИЛЬНЫЙ ответ!\n",
            "Класс: Брэдберри  100% сеть отнесла к классу Брэдберри Это ПРАВИЛЬНЫЙ ответ!\n",
            "\n",
            "Средний процент распознавания 97%\n",
            "\n"
          ],
          "name": "stdout"
        }
      ]
    },
    {
      "cell_type": "code",
      "metadata": {
        "id": "2O0Q2oZgyWwi",
        "colab_type": "code",
        "colab": {
          "base_uri": "https://localhost:8080/",
          "height": 458
        },
        "outputId": "c8f06ccc-f089-488d-d73c-69531ca68c19"
      },
      "source": [
        "# базовые параметры\n",
        "xLen = 4500 # длина отрезка анализируемого текста\n",
        "step = 100 # длина обучающих векторов, на которые разбили текст\n",
        "k_Dropout = 0.1\n",
        "k_Dense = xLen\n",
        "k_epochs = 100\n",
        "batch_size = 100\n",
        "N_lr = 0.00001\n",
        "\n",
        "plt.plot(history.history['accuracy'], \n",
        "         label='Доля верных ответов на обучающем наборе')\n",
        "plt.plot(history.history['val_accuracy'], \n",
        "         label='Доля верных ответов на проверочном наборе')\n",
        "plt.xlabel('Эпоха обучения')\n",
        "plt.ylabel('Доля верных ответов')\n",
        "plt.legend()\n",
        "plt.grid()\n",
        "plt.show()\n",
        "\n",
        "xTest6Classes01, x2 = createTestMultiClasses(testWordIndexes, xLen, step) #Преобразование тестовой выбор\n",
        "#Проверяем точность нейронки обученной на bag of words\n",
        "pred = recognizeMultiClass(model01, xTest6Classes01, \"Bag of Words\")"
      ],
      "execution_count": 18,
      "outputs": [
        {
          "output_type": "display_data",
          "data": {
            "image/png": "[encoded data removed]",
            "text/plain": [
              "<Figure size 432x288 with 1 Axes>"
            ]
          },
          "metadata": {
            "tags": [],
            "needs_background": "light"
          }
        },
        {
          "output_type": "stream",
          "text": [
            "НЕЙРОНКА:  Bag of Words\n",
            "\n",
            "Класс: Генри      100% сеть отнесла к классу Генри     Это ПРАВИЛЬНЫЙ ответ!\n",
            "Класс: Стругацкие 100% сеть отнесла к классу СтругацкиеЭто ПРАВИЛЬНЫЙ ответ!\n",
            "Класс: Булгаков   99% сеть отнесла к классу Булгаков   Это ПРАВИЛЬНЫЙ ответ!\n",
            "Класс: Клиффорд   100% сеть отнесла к классу Клиффорд  Это ПРАВИЛЬНЫЙ ответ!\n",
            "Класс: Макс       87% сеть отнесла к классу Макс       Это ПРАВИЛЬНЫЙ ответ!\n",
            "Класс: Брэдберри  100% сеть отнесла к классу Брэдберри Это ПРАВИЛЬНЫЙ ответ!\n",
            "\n",
            "Средний процент распознавания 96%\n",
            "\n"
          ],
          "name": "stdout"
        }
      ]
    },
    {
      "cell_type": "code",
      "metadata": {
        "id": "SP117ptGhzOj",
        "colab_type": "code",
        "colab": {}
      },
      "source": [
        "#l = np.array(xTest6Classes01)\n",
        "#np.save('xTestPredictBoW', l)\n",
        "#np.save('xTestPredictEmbedding', x2)"
      ],
      "execution_count": 36,
      "outputs": []
    }
  ]
}
