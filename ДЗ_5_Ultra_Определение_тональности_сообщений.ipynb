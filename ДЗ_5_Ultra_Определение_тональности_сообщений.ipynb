{
  "nbformat": 4,
  "nbformat_minor": 0,
  "metadata": {
    "colab": {
      "name": "ДЗ_5_Ultra_Определение тональности сообщений.ipynb",
      "provenance": [],
      "collapsed_sections": [
        "xzIo4iYQP-Ft",
        "QCGgm8H-zlX4"
      ],
      "authorship_tag": "ABX9TyOZkqLuQNh1LAfcrV0mjian",
      "include_colab_link": true
    },
    "kernelspec": {
      "name": "python3",
      "display_name": "Python 3"
    }
  },
  "cells": [
    {
      "cell_type": "markdown",
      "metadata": {
        "id": "view-in-github",
        "colab_type": "text"
      },
      "source": [
        "<a href=\"https://colab.research.google.com/github/ikonushok/My_studying_Data-Science-and-Neyro-Nets-on-Python/blob/master/%D0%94%D0%97_5_Ultra_%D0%9E%D0%BF%D1%80%D0%B5%D0%B4%D0%B5%D0%BB%D0%B5%D0%BD%D0%B8%D0%B5_%D1%82%D0%BE%D0%BD%D0%B0%D0%BB%D1%8C%D0%BD%D0%BE%D1%81%D1%82%D0%B8_%D1%81%D0%BE%D0%BE%D0%B1%D1%89%D0%B5%D0%BD%D0%B8%D0%B9.ipynb\" target=\"_parent\"><img src=\"https://colab.research.google.com/assets/colab-badge.svg\" alt=\"Open In Colab\"/></a>"
      ]
    },
    {
      "cell_type": "code",
      "metadata": {
        "id": "prRQd4KW-nun",
        "colab_type": "code",
        "colab": {}
      },
      "source": [
        "import pandas as pd\n",
        "import numpy as np\n",
        "\n",
        "# Хочу замерить скорость выполнения скрипта\n",
        "from datetime import datetime\n",
        "import time"
      ],
      "execution_count": 1,
      "outputs": []
    },
    {
      "cell_type": "code",
      "metadata": {
        "id": "fDkOzCmEpsoG",
        "colab_type": "code",
        "colab": {
          "base_uri": "https://localhost:8080/",
          "height": 217
        },
        "outputId": "a1d9afea-89f7-4d44-ae3b-6872aa6eca4f"
      },
      "source": [
        "from google.colab import drive\n",
        "drive.mount('/content/drive')\n",
        "\n",
        "# Чтение файлов\n",
        "import os\n",
        "os.chdir('/content/drive/My Drive/Занятие_5_RNN+CNN для текстов/data/twitter')\n",
        "os.listdir()"
      ],
      "execution_count": 2,
      "outputs": [
        {
          "output_type": "stream",
          "text": [
            "Go to this URL in a browser: https://accounts.google.com/o/oauth2/auth?client_id=947318989803-6bn6qk8qdgf4n4g3pfee6491hc0brc4i.apps.googleusercontent.com&redirect_uri=urn%3aietf%3awg%3aoauth%3a2.0%3aoob&scope=email%20https%3a%2f%2fwww.googleapis.com%2fauth%2fdocs.test%20https%3a%2f%2fwww.googleapis.com%2fauth%2fdrive%20https%3a%2f%2fwww.googleapis.com%2fauth%2fdrive.photos.readonly%20https%3a%2f%2fwww.googleapis.com%2fauth%2fpeopleapi.readonly&response_type=code\n",
            "\n",
            "Enter your authorization code:\n",
            "··········\n",
            "Mounted at /content/drive\n"
          ],
          "name": "stdout"
        },
        {
          "output_type": "execute_result",
          "data": {
            "text/plain": [
              "['negative.xlsx',\n",
              " 'positive.xlsx',\n",
              " 'train_positives.txt',\n",
              " 'test_positives.txt',\n",
              " 'train_negatives.txt',\n",
              " 'test_negatives.txt']"
            ]
          },
          "metadata": {
            "tags": []
          },
          "execution_count": 2
        }
      ]
    },
    {
      "cell_type": "markdown",
      "metadata": {
        "id": "xzIo4iYQP-Ft",
        "colab_type": "text"
      },
      "source": [
        "# Формирование *.txt файлов из столбцов *.xlsx"
      ]
    },
    {
      "cell_type": "code",
      "metadata": {
        "id": "-enhgWyVBcmM",
        "colab_type": "code",
        "colab": {}
      },
      "source": [
        "# загружаем файлы\n",
        "xl_neg = pd.ExcelFile('negative.xlsx')\n",
        "xl_pos = pd.ExcelFile('positive.xlsx')"
      ],
      "execution_count": 3,
      "outputs": []
    },
    {
      "cell_type": "code",
      "metadata": {
        "id": "MjC4WqypGPSh",
        "colab_type": "code",
        "colab": {
          "base_uri": "https://localhost:8080/",
          "height": 345
        },
        "outputId": "6fe01eea-2839-4b6c-e774-6624eb2678a3"
      },
      "source": [
        "df_negatives = xl_neg.parse() # загружаем данные в DataFrame\n",
        "print(df_negatives.head())\n",
        "print()\n",
        "print(df_negatives.index)\n",
        "print('Число строк включая названия = ', len(df_negatives.index))\n",
        "print()\n",
        "print(df_negatives['twitt'].head())\n",
        "print()\n",
        "print(df_negatives.twitt[0])\n",
        "\n",
        "# Формируем файлы: train, test negatives\n",
        "\n",
        "a = int(len(df_negatives.index)*0.8)\n",
        "train_neg = df_negatives.twitt[:a]\n",
        "test_neg = df_negatives.twitt[a:]\n",
        "\n",
        "# записываю нужный столбец в txt\n",
        "df = pd.DataFrame(train_neg, columns = ['twitt'])\n",
        "df.to_csv('train_negatives.txt', index = False, sep=',')\n",
        "df = pd.DataFrame(test_neg, columns = ['twitt'])\n",
        "df.to_csv('test_negatives.txt', index = False, sep=',')\n",
        "\n",
        "print(len(train_neg.index)+len(test_neg.index))"
      ],
      "execution_count": 11,
      "outputs": [
        {
          "output_type": "stream",
          "text": [
            "                    1           2           nik  ...    8    9  10\n",
            "0  408906818262687744  1386325957  nugemycejela  ...   42   39   0\n",
            "1  408906858515398656  1386325966       4post21  ...   49  249   0\n",
            "2  408906914437685248  1386325980      Poliwake  ...  207  200   0\n",
            "3  408906914723295232  1386325980    capyvixowe  ...   17   34   0\n",
            "4  408906915704737792  1386325980   nunejibaduq  ...   62   62   0\n",
            "\n",
            "[5 rows x 12 columns]\n",
            "\n",
            "RangeIndex(start=0, stop=111922, step=1)\n",
            "Число строк включая названия =  111922\n",
            "\n",
            "0    Коллеги сидят рубятся в Urban terror, а я из-з...\n",
            "1    @elina_4post как говорят обещаного три года жд...\n",
            "2    Желаю хорошего полёта и удачной посадки,я буду...\n",
            "3    Обновил за каким-то лешим surf, теперь не рабо...\n",
            "4    Котёнка вчера носик разбила, плакала и расстра...\n",
            "Name: twitt, dtype: object\n",
            "\n",
            "Коллеги сидят рубятся в Urban terror, а я из-за долбанной винды не могу :(\n"
          ],
          "name": "stdout"
        }
      ]
    },
    {
      "cell_type": "code",
      "metadata": {
        "id": "iHnRvAeyLP3d",
        "colab_type": "code",
        "colab": {
          "base_uri": "https://localhost:8080/",
          "height": 345
        },
        "outputId": "290c4ef4-cd11-4228-b50c-b3e4583e2954"
      },
      "source": [
        "df_positives = xl_pos.parse() # загружаем данные в DataFrame\n",
        "print(df_positives.head())\n",
        "print()\n",
        "print(df_positives.index)\n",
        "print('Число строк включая названия = ', len(df_positives.index))\n",
        "print()\n",
        "print(df_positives['twitt'].head())\n",
        "print()\n",
        "print(df_positives.twitt[0])\n",
        "\n",
        "# Формируем файлы: train, test positives\n",
        "\n",
        "a = int(len(df_positives.index)*0.8)\n",
        "train_pos = df_positives.twitt[:a]\n",
        "test_pos = df_positives.twitt[a:]\n",
        "\n",
        "# записываю нужный столбец в txt\n",
        "df = pd.DataFrame(train_pos, columns = ['twitt'])\n",
        "df.to_csv('train_positives.txt', index = False, sep=',')\n",
        "df = pd.DataFrame(test_pos, columns = ['twitt'])\n",
        "df.to_csv('test_positives.txt', index = False, sep=',')\n",
        "\n",
        "print(len(train_pos.index)+len(test_pos.index))"
      ],
      "execution_count": 8,
      "outputs": [
        {
          "output_type": "stream",
          "text": [
            "                    1           2              nik  ...   8   9  10\n",
            "0  408906692693221377  1386325927  alinakirpicheva  ...  59  31   2\n",
            "1  408906695083954177  1386325927        EvgeshaRe  ...  26  27   0\n",
            "2  408906695356973056  1386325927    ikonnikova_21  ...  19  17   0\n",
            "3  408906761416867842  1386325943        JumpyAlex  ...  16  23   1\n",
            "4  408906761769598976  1386325943  JustinB94262583  ...   6  16   0\n",
            "\n",
            "[5 rows x 12 columns]\n",
            "\n",
            "RangeIndex(start=0, stop=114910, step=1)\n",
            "Число строк включая названия =  114910\n",
            "\n",
            "0    Да, все-таки он немного похож на него. Но мой ...\n",
            "1    RT @KatiaCheh: Ну ты идиотка) я испугалась за ...\n",
            "2    RT @digger2912: \"Кто то в углу сидит и погибае...\n",
            "3    @irina_dyshkant Вот что значит страшилка :D\\nН...\n",
            "4    ну любишь или нет? — Я не знаю кто ты бля:D ht...\n",
            "Name: twitt, dtype: object\n",
            "\n",
            "Да, все-таки он немного похож на него. Но мой мальчик все равно лучше:D\n"
          ],
          "name": "stdout"
        }
      ]
    },
    {
      "cell_type": "code",
      "metadata": {
        "id": "GjRaOcmfkbeG",
        "colab_type": "code",
        "colab": {
          "base_uri": "https://localhost:8080/",
          "height": 85
        },
        "outputId": "62043d47-f816-421f-9b9e-6fec4312fa77"
      },
      "source": [
        "# Удаление стоп-слов - сделать, если не хватит точности\n",
        "import nltk\n",
        "nltk.download('stopwords')\n",
        "from nltk.corpus import stopwords\n",
        "_stopWords = stopwords.words('russian')\n",
        "print(_stopWords)"
      ],
      "execution_count": 26,
      "outputs": [
        {
          "output_type": "stream",
          "text": [
            "[nltk_data] Downloading package stopwords to /root/nltk_data...\n",
            "[nltk_data]   Package stopwords is already up-to-date!\n",
            "['и', 'в', 'во', 'не', 'что', 'он', 'на', 'я', 'с', 'со', 'как', 'а', 'то', 'все', 'она', 'так', 'его', 'но', 'да', 'ты', 'к', 'у', 'же', 'вы', 'за', 'бы', 'по', 'только', 'ее', 'мне', 'было', 'вот', 'от', 'меня', 'еще', 'нет', 'о', 'из', 'ему', 'теперь', 'когда', 'даже', 'ну', 'вдруг', 'ли', 'если', 'уже', 'или', 'ни', 'быть', 'был', 'него', 'до', 'вас', 'нибудь', 'опять', 'уж', 'вам', 'ведь', 'там', 'потом', 'себя', 'ничего', 'ей', 'может', 'они', 'тут', 'где', 'есть', 'надо', 'ней', 'для', 'мы', 'тебя', 'их', 'чем', 'была', 'сам', 'чтоб', 'без', 'будто', 'чего', 'раз', 'тоже', 'себе', 'под', 'будет', 'ж', 'тогда', 'кто', 'этот', 'того', 'потому', 'этого', 'какой', 'совсем', 'ним', 'здесь', 'этом', 'один', 'почти', 'мой', 'тем', 'чтобы', 'нее', 'сейчас', 'были', 'куда', 'зачем', 'всех', 'никогда', 'можно', 'при', 'наконец', 'два', 'об', 'другой', 'хоть', 'после', 'над', 'больше', 'тот', 'через', 'эти', 'нас', 'про', 'всего', 'них', 'какая', 'много', 'разве', 'три', 'эту', 'моя', 'впрочем', 'хорошо', 'свою', 'этой', 'перед', 'иногда', 'лучше', 'чуть', 'том', 'нельзя', 'такой', 'им', 'более', 'всегда', 'конечно', 'всю', 'между']\n"
          ],
          "name": "stdout"
        }
      ]
    },
    {
      "cell_type": "markdown",
      "metadata": {
        "id": "KCg0Gbe_QdiP",
        "colab_type": "text"
      },
      "source": [
        "# Подготовка данных"
      ]
    },
    {
      "cell_type": "code",
      "metadata": {
        "id": "HdyZxiT9h0u5",
        "colab_type": "code",
        "colab": {
          "base_uri": "https://localhost:8080/",
          "height": 131
        },
        "outputId": "9f2befdb-b2e7-464a-eef5-f1afe4ee4f01"
      },
      "source": [
        "# функция чтения текстов\n",
        "def readText(fileName):\n",
        "  f = open(fileName, 'r') # открыли файл\n",
        "  text = f.read() # считали файл\n",
        "  text = text.replace(\"\\n\", \" \")  # заменили переносы строк на пробелы\n",
        "\n",
        "  return text\n",
        "\n",
        "# Интересующие нас авторы\n",
        "className = ['positives', 'negatives'] \n",
        "nClasses = len(className) # посчитали количество авторов (число классов)\n",
        "\n",
        "# загружаем тексы в базы\n",
        "trainText = []\n",
        "testText = []\n",
        "\n",
        "for i in className:\n",
        "  for j in os.listdir():\n",
        "    if i in j:\n",
        "      if 'train' in j:\n",
        "        trainText.append(readText(j))\n",
        "        print('train: ', j)\n",
        "      if 'test' in j:\n",
        "        testText.append(readText(j))\n",
        "        print('Test: ', j)\n",
        "\n",
        "print('\\nЭлементов в train: ', len(trainText), '\\nЭлементов в test: ', len(testText))"
      ],
      "execution_count": 3,
      "outputs": [
        {
          "output_type": "stream",
          "text": [
            "train:  train_positives.txt\n",
            "Test:  test_positives.txt\n",
            "train:  train_negatives.txt\n",
            "Test:  test_negatives.txt\n",
            "\n",
            "Элементов в train:  2 \n",
            "Элементов в test:  2\n"
          ],
          "name": "stdout"
        }
      ]
    },
    {
      "cell_type": "markdown",
      "metadata": {
        "id": "tAGOOkxMzcZE",
        "colab_type": "text"
      },
      "source": [
        "## Загрузка данных и разделение на слова"
      ]
    },
    {
      "cell_type": "code",
      "metadata": {
        "id": "EfsqDoycCQ7N",
        "colab_type": "code",
        "colab": {}
      },
      "source": [
        "from tensorflow.keras.preprocessing.text import Tokenizer, text_to_word_sequence #инструменты предобработки текста от кераса\n",
        "from sklearn.model_selection import train_test_split #модуль для разбиения данных на обучающую и тестовую выборки\n",
        "from tensorflow.keras import utils # Для работы с категориальными данными\n",
        "import numpy as np #библиотека для работы с массивами данных\n",
        "import pandas as pd #библиотека для обработки и анализа данных"
      ],
      "execution_count": 4,
      "outputs": []
    },
    {
      "cell_type": "code",
      "metadata": {
        "id": "chgyBGw60shA",
        "colab_type": "code",
        "colab": {
          "base_uri": "https://localhost:8080/",
          "height": 118
        },
        "outputId": "4d791879-3531-43be-918a-a47091db827b"
      },
      "source": [
        "# Преобразование текстовых данных в числовые/векторные\n",
        "maxWordsCount = 50000 # определяем максимальное количество уникальных слов для обучения\n",
        "\n",
        "tokenizer = Tokenizer(num_words=maxWordsCount,\n",
        "                      filters='0123456789–—!\"#$%&()*+,-./:;<=>?@[\\\\]^_`{|}~\\t\\n\\xa0–\\ufeff', # возможно лучше оставить :( и :)\n",
        "                      lower = True,\n",
        "                      split=' ', char_level=False, oov_token = 'unknown')\n",
        "# выше задаем параметры:\n",
        "# (num_words=maxWordsCount) - определяем макс.кол-во слов/индексов, учитываемое при обучении текстов\n",
        "# (filters='!\"#$%&()*+,-./:;<=>?@[\\\\]^_`{|}~\\t\\n') - избавляемся от ненужных символов\n",
        "# (lower=True) - приводим слова к нижнему регистру\n",
        "# (split=' ') - разделяем слова по пробелу\n",
        "# (char_level=False) - просим токенайзер не удалять однобуквенные слова\n",
        "\n",
        "tokenizer.fit_on_texts(trainText) # токенизировали текст\n",
        "items = list(tokenizer.word_index.items()) # достали индексы слов\n",
        "print(items[:10])\n",
        "\n",
        "#print(\"Протестируем словарь частотности\")\n",
        "#print(\"Интересующее слово имеет индекс: \", tokenizer.word_index[input(\"уточните слово: \")]) #протестируем словарь частотности\n",
        "\n",
        "\n",
        "# преобразовываем текст в последовательность индексов согласно частотному словарю\n",
        "trainWordIndexes = tokenizer.texts_to_sequences(trainText) # обучающие тесты в индексы\n",
        "testWordIndexes = tokenizer.texts_to_sequences(testText)   # проверочные тесты в индексы\n",
        "print(\"\\nВзглянем на фрагмент обучающего текста:\")\n",
        "print(\"В виде оригинального текста:              \", trainText[1] [:87])\n",
        "print(\"Он же в виде последовательности индексов: \", trainWordIndexes[1][:20])"
      ],
      "execution_count": 30,
      "outputs": [
        {
          "output_type": "stream",
          "text": [
            "[('unknown', 10402), ('не', 2), ('я', 3), ('и', 4), ('в', 5), ('rt', 6), ('на', 7), ('а', 8), ('что', 9), ('t', 10)]\n",
            "\n",
            "Взглянем на фрагмент обучающего текста:\n",
            "В виде оригинального текста:               twitt \"Коллеги сидят рубятся в Urban terror, а я из-за долбанной винды не могу :(\" @eli\n",
            "Он же в виде последовательности индексов:  [7047, 5165, 2100, 10402, 5, 22831, 38685, 8, 3, 43, 27, 41432, 15340, 2, 73, 11301, 11060, 14, 387, 10402]\n"
          ],
          "name": "stdout"
        }
      ]
    },
    {
      "cell_type": "markdown",
      "metadata": {
        "id": "QCGgm8H-zlX4",
        "colab_type": "text"
      },
      "source": [
        "## Функции создания словаря и перевода данных в индексы"
      ]
    },
    {
      "cell_type": "code",
      "metadata": {
        "id": "bOzvFhL6Bbss",
        "colab_type": "code",
        "colab": {}
      },
      "source": [
        "# разрезаем текст на вектора\n",
        "\n",
        "def getSetFromIndexes(wordIndexes, xLen, step): # функция принимает последовательность индексов, размер окна, шаг окна\n",
        "  xSample = []\n",
        "  wordsLen = len(wordIndexes)\n",
        "  index = 0\n",
        "\n",
        "  while (index + xLen <= wordsLen):\n",
        "    xSample.append(wordIndexes[index:index+xLen])\n",
        "    index += step\n",
        "  \n",
        "  return xSample"
      ],
      "execution_count": 6,
      "outputs": []
    },
    {
      "cell_type": "code",
      "metadata": {
        "id": "ueTfoN-UOsQc",
        "colab_type": "code",
        "colab": {}
      },
      "source": [
        "# функции формирования test и train  выборок\n",
        "\n",
        "def createSetsMultiClasses(wordIndexes, xLen, step): # функция принимает последовательность индексов, размер окна, шаг окна\n",
        "\n",
        "  # Для каждого из классов\n",
        "  # Создаём обучающую/проверочную выборку из индексов\n",
        "  nClasses = len(wordIndexes) # задаем количество классов выборки\n",
        "  classesXSamples = []        # здесь будет список размером \"кол-во классов*кол-во окон в тексте*длину окна(например 6 по 1341*1000)\"\n",
        "  for wI in wordIndexes:      # для каждого текста выборки из последовательности индексов\n",
        "    classesXSamples.append(getSetFromIndexes(wI, xLen, step)) # добавляем в список очередной текст индексов, разбитый на \"кол-во окон*длину окна\" \n",
        "\n",
        "  # Формируем один общий xSamples\n",
        "  xSamples = [] # здесь будет список размером \"суммарное кол-во окон во всех текстах*длину окна(например 15779*1000)\"\n",
        "  ySamples = [] # здесь будет список размером \"суммарное кол-во окон во всех текстах*вектор длиной число классов\"\n",
        "  \n",
        "  for t in range(nClasses):  # в диапазоне кол-ва классов\n",
        "    xT = classesXSamples[t]  # берем очередной текст вида \"кол-во окон в тексте*длину окна\"(например 1341*1000)\n",
        "    for i in range(len(xT)): # и каждое его окно\n",
        "      xSamples.append(xT[i]) # добавляем в общий список выборки\n",
        "    \n",
        "    # Формируем ySamples по номеру класса\n",
        "    currY = utils.to_categorical(t, nClasses) # текущий класс переводится в вектор длиной 6 вида [0.0.0.1.0.0.]\n",
        "    for i in range(len(xT)): # на каждое окно выборки \n",
        "      ySamples.append(currY) # добавляем соответствующий вектор класса\n",
        "\n",
        "  xSamples = np.array(xSamples) # переводим в массив numpy для подачи в нейронку\n",
        "  ySamples = np.array(ySamples) # переводим в массив numpy для подачи в нейронку\n",
        "\n",
        "  \n",
        "  return (xSamples, ySamples)   # функция возвращает выборку и соответствующие векторы классов"
      ],
      "execution_count": 7,
      "outputs": []
    },
    {
      "cell_type": "code",
      "metadata": {
        "id": "stHRW8-4mf7G",
        "colab_type": "code",
        "colab": {
          "base_uri": "https://localhost:8080/",
          "height": 32
        },
        "outputId": "40313e98-c91c-41bd-87d0-1d942fa798e4"
      },
      "source": [
        "###########################\n",
        "# Представляем тестовую выборку в удобных для распознавания размерах\n",
        "##########################\n",
        "def createTestMultiClasses(wordIndexes, xLen, step): # функция принимает последовательность индексов, размер окна, шаг окна\n",
        "\n",
        "  # Для каждого из 6 классов\n",
        "  # Создаём тестовую выборку из индексов\n",
        "  nClasses = len(wordIndexes) # задаем количество классов\n",
        "  print(nClasses)\n",
        "  xTest2Classes01 = []               # здесь будет список из всех классов,каждый размером \"кол-во окон в тексте * 20000(при maxWordsCount=20000)\"\n",
        "  xTest2Classes = []                 # здесь будет список массивов, каждый размером \"кол-во окон в тексте * длину окна\"(6 по 420*1000)\n",
        "  for wI in wordIndexes:             # для каждого тестового текста из последовательности индексов\n",
        "    sample = (getSetFromIndexes(wI, xLen, step)) # тестовая выборка размером \"кол-во окон*длину окна\"(например 420*1000)\n",
        "    xTest2Classes.append(np.array(sample))       # переводим в массив numpy и добавляем в список\n",
        "    xTest2Classes01.append(tokenizer.sequences_to_matrix(sample)) # трансформируется в Bag of Words в виде \"кол-во окон в тексте * 20000\"\n",
        "  xTest2lasses01 = np.array(xTest2Classes01)                     # и добавляется к нашему списку, \n",
        "  \n",
        "  return xTest2Classes01, xTest2Classes # функция вернёт тестовые данные: TestBg 6 классов на n*20000 и xTestEm 6 по n*1000\n",
        "\n",
        "###########################\n",
        "# Расспознаём тестовую выборку и выводим результаты\n",
        "##########################\n",
        "def recognizeMultiClass(model, xTest, modelName):\n",
        "  print(\"НЕЙРОНКА: \", modelName)\n",
        "  print()\n",
        "  \n",
        "  val = []\n",
        "  pred = []\n",
        "  \n",
        "  totalSumRec = []\n",
        "  \n",
        "  # Проходим по всем классам\n",
        "  for i in range(nClasses):\n",
        "    # Получаем результаты распознавания класса по блокам слов длины xLen\n",
        "    currPred = model.predict(xTest[i])\n",
        "    pred.append(currPred)\n",
        "    # Определяем номер распознанного класса для каждохо блока слов длины xLen\n",
        "    currOut = np.argmax(currPred, axis=1)\n",
        "    \n",
        "    # Считаем процент распознавания каждого класса за каждый\n",
        "    # Получам матрицу 6 на 6\n",
        "    evVal = []\n",
        "    sumRec = []\n",
        "    for j in range(nClasses):\n",
        "      sumRec.append(0)\n",
        "      for t in range(len(currOut)):\n",
        "        if (currOut[t] == j):\n",
        "          sumRec[j] += 1\n",
        "      evVal.append(sumRec[j] / len(currOut))\n",
        "    \n",
        "    totalSumRec.append(sumRec[i])\n",
        "    \n",
        "    # Определяем, какой в класс в итоге за какой был распознан\n",
        "    val.append(evVal[i])\n",
        "    recognizedClass = np.argmax(evVal)\n",
        "    \n",
        "    # Выводим результаты распознавания по текущему классу\n",
        "    isRecognized = \"распознано НЕ ВЕРНО!\"\n",
        "    if (recognizedClass == i):\n",
        "      isRecognized = \"распознано ВЕРНО!\"\n",
        "    print(className[i], \" распознано \", int(100*evVal[i]), \"% сеть считает, что это \", className[recognizedClass], \", \", isRecognized)\n",
        "  \n",
        "  # Выводим вредний процент распознавания по всем классам вместе\n",
        "  print()\n",
        "  sumVal = 0\n",
        "  sumCount = 0\n",
        "  lenXtest = []\n",
        "  for i in range(nClasses):\n",
        "    sumCount += len(xTest[i])\n",
        "    sumVal += totalSumRec[i]\n",
        "  print(\"Средний процент распознавания \", int(100*sumVal/sumCount), \"%\")\n",
        "  print()\n",
        "  return sumVal/sumCount\n",
        "\n",
        "xTest2Classes01, xTest2Classes = createTestMultiClasses(testWordIndexes, xLen, step) # подгоним форму тестовых классов под функцию recognizeMultiClass"
      ],
      "execution_count": 27,
      "outputs": [
        {
          "output_type": "stream",
          "text": [
            "2\n"
          ],
          "name": "stdout"
        }
      ]
    },
    {
      "cell_type": "markdown",
      "metadata": {
        "id": "8zdZjXG2zs_V",
        "colab_type": "text"
      },
      "source": [
        "## Создание обучающей выборки"
      ]
    },
    {
      "cell_type": "code",
      "metadata": {
        "id": "fhXXEW_iRA_b",
        "colab_type": "code",
        "colab": {
          "base_uri": "https://localhost:8080/",
          "height": 82
        },
        "outputId": "de3fdd2b-6b12-4b25-c6c8-78e7a3415e8e"
      },
      "source": [
        "# базовые параметры\n",
        "xLen = 10000 # длина отрезка, по которому анализируем\n",
        "step = 2000 # шаг разбиения xLen на вектора\n",
        "\n",
        "# формирование выборок\n",
        "xTrain, yTrain = createSetsMultiClasses(trainWordIndexes, xLen, step) # извлекаем обучающую выборку\n",
        "xTest, yTest = createSetsMultiClasses(testWordIndexes, xLen, step)    # извлекаем тестовую выборку\n",
        "print(xTrain.shape)\n",
        "print(yTrain.shape)\n",
        "print(xTest.shape)\n",
        "print(yTest.shape)\n",
        "# получили обучающий/тестовый набор, достаточный для запуска Embedding, \n",
        "# но для Bag of Words нужно xTrain и xTest представить в виде векторов из 0 и 1"
      ],
      "execution_count": 38,
      "outputs": [
        {
          "output_type": "stream",
          "text": [
            "(1175, 10000)\n",
            "(1175, 2)\n",
            "(287, 10000)\n",
            "(287, 2)\n"
          ],
          "name": "stdout"
        }
      ]
    },
    {
      "cell_type": "markdown",
      "metadata": {
        "id": "zRlg2urm0FC1",
        "colab_type": "text"
      },
      "source": [
        "# Нейронные сети"
      ]
    },
    {
      "cell_type": "code",
      "metadata": {
        "id": "-WEpn6wF7keU",
        "colab_type": "code",
        "colab": {}
      },
      "source": [
        "from tensorflow.keras.models import Sequential, Model\n",
        "from tensorflow.keras.layers import Input\n",
        "from tensorflow.keras.layers import Dense, Dropout, BatchNormalization, Embedding, Flatten, Activation # сверточные слои\n",
        "from tensorflow.keras.layers import Conv1D, SpatialDropout1D, MaxPooling1D, GlobalAveragePooling1D, GlobalMaxPooling1D\n",
        "from tensorflow.keras.layers import LSTM, GRU, SimpleRNN, Bidirectional # рекуррентные слои\n",
        "from tensorflow.keras.optimizers import Adam, RMSprop\n",
        "\n",
        "from tensorflow.keras.callbacks import EarlyStopping, ReduceLROnPlateau, ModelCheckpoint\n",
        "from keras.layers.merge import concatenate\n",
        "from keras.utils import plot_model\n",
        "import time # чтобы зачсечь время\n",
        "\n",
        "import matplotlib.pyplot as plt # Для вывода графиков\n",
        "%matplotlib inline"
      ],
      "execution_count": 9,
      "outputs": []
    },
    {
      "cell_type": "markdown",
      "metadata": {
        "id": "0u0Va5k9yuvO",
        "colab_type": "text"
      },
      "source": [
        "## Embedding + Dense сеть\n"
      ]
    },
    {
      "cell_type": "code",
      "metadata": {
        "id": "l4E_-rJKzHgb",
        "colab_type": "code",
        "colab": {
          "base_uri": "https://localhost:8080/",
          "height": 508
        },
        "outputId": "e901d052-b768-4595-c9eb-c2c0aa891e9f"
      },
      "source": [
        "cur_time = time.time() # засекаем время\n",
        "\n",
        "epochs = 100\n",
        "nEmbedding = 20\n",
        "\n",
        "input_layer = Input(shape=(xLen, ))\n",
        "ED_1 = Embedding(maxWordsCount, nEmbedding, input_length = xLen)(input_layer)\n",
        "#ED_2 = SpatialDropout1D(nDropout)(ED_1)\n",
        "#ED_3 = BatchNormalization()(ED_2)  # лучше работает без этого слоя\n",
        "ED_3 = Flatten()(ED_1)\n",
        "ED_4 = Dense(len(trainText), activation='sigmoid')(ED_3)\n",
        "\n",
        "modelED = Model(inputs=input_layer, outputs=ED_4)\n",
        "modelED.compile(optimizer='adam', loss='binary_crossentropy', metrics=['accuracy'])\n",
        "    \n",
        "# остановки обучения по условию \n",
        "early_stopping = EarlyStopping(monitor = 'val_accuracy', patience = 2, verbose = 0,  restore_best_weights = True)\n",
        "\n",
        "#Обучаем на xTrain\n",
        "history = modelED.fit(xTrain, yTrain, epochs=epochs, verbose = 1,\n",
        "                      callbacks = early_stopping,\n",
        "                      validation_data = (xTest, yTest))\n",
        "\n",
        "\n",
        "plt.plot(history.history['accuracy'], label='Доля верных ответов на обучающем наборе')\n",
        "plt.plot(history.history['val_accuracy'], label='Доля верных ответов на проверочном наборе')\n",
        "plt.xlabel('Эпоха обучения')\n",
        "plt.ylabel('Доля верных ответов')\n",
        "plt.legend()\n",
        "plt.grid()\n",
        "plt.show()\n",
        "\n",
        "#Проверяем результаты работы сети\n",
        "pred = recognizeMultiClass(modelED, xTest2Classes, \"Embedding + Dense сеть\") #функция покажет какие классы и как распознаны верно\n",
        "\n",
        "print('Время обработки: ', round(time.time() - cur_time, 2), 'c', sep='') # смотрим время"
      ],
      "execution_count": 39,
      "outputs": [
        {
          "output_type": "stream",
          "text": [
            "Epoch 1/100\n",
            "37/37 [==============================] - 3s 71ms/step - loss: 0.4236 - accuracy: 0.8494 - val_loss: 0.0675 - val_accuracy: 1.0000\n",
            "Epoch 2/100\n",
            "37/37 [==============================] - 3s 69ms/step - loss: 0.0045 - accuracy: 1.0000 - val_loss: 0.0146 - val_accuracy: 1.0000\n",
            "Epoch 3/100\n",
            "37/37 [==============================] - 3s 68ms/step - loss: 8.9776e-04 - accuracy: 1.0000 - val_loss: 0.0109 - val_accuracy: 1.0000\n"
          ],
          "name": "stdout"
        },
        {
          "output_type": "display_data",
          "data": {
            "image/png": "[encoded data removed]",
            "text/plain": [
              "<Figure size 432x288 with 1 Axes>"
            ]
          },
          "metadata": {
            "tags": [],
            "needs_background": "light"
          }
        },
        {
          "output_type": "stream",
          "text": [
            "НЕЙРОНКА:  Embedding + Dense сеть\n",
            "\n",
            "positives  распознано  100 % сеть считает, что это  positives ,  распознано ВЕРНО!\n",
            "negatives  распознано  100 % сеть считает, что это  negatives ,  распознано ВЕРНО!\n",
            "\n",
            "Средний процент распознавания  100 %\n",
            "\n",
            "Время обработки: 8.95c\n"
          ],
          "name": "stdout"
        }
      ]
    },
    {
      "cell_type": "markdown",
      "metadata": {
        "id": "FYmS5CgauoQv",
        "colab_type": "text"
      },
      "source": [
        "# Выводы:\n",
        "* Не хотел брать писателей и искал другую базу\n",
        "* Основная забота - перенос данных из экслель-файла в txt\n",
        "* Разобрался со стоп-словами, но база столь огромна, что не пришлось ни удалять стоп-слова, ни оставлять смайлики, окторые, я надеялся, могли бы помочь в распознавании тональности сообщения\n",
        "----\n",
        "для остального были заготовки с прошлых ДЗ\n",
        "и было интересно упрощать и ускорять НС )"
      ]
    }
  ]
}