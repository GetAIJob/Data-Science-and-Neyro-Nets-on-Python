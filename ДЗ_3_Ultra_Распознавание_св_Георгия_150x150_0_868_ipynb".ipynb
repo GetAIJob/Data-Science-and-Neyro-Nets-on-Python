{
  "nbformat": 4,
  "nbformat_minor": 0,
  "metadata": {
    "kernelspec": {
      "display_name": "Python 3",
      "language": "python",
      "name": "python3"
    },
    "language_info": {
      "codemirror_mode": {
        "name": "ipython",
        "version": 3
      },
      "file_extension": ".py",
      "mimetype": "text/x-python",
      "name": "python",
      "nbconvert_exporter": "python",
      "pygments_lexer": "ipython3",
      "version": "3.7.7"
    },
    "colab": {
      "name": "ДЗ_3_Ultra_Распознавание св Георгия_150x150_0.868.ipynb\"",
      "provenance": [],
      "collapsed_sections": [
        "1CL3oSmRbQuE",
        "ju0IdK9-z8vP",
        "hnzJPIO5zy4p",
        "YSVVaXBcUd6l",
        "WYtf4vBpUd6p"
      ],
      "toc_visible": true,
      "include_colab_link": true
    },
    "accelerator": "GPU"
  },
  "cells": [
    {
      "cell_type": "markdown",
      "metadata": {
        "id": "view-in-github",
        "colab_type": "text"
      },
      "source": [
        "<a href=\"https://colab.research.google.com/github/ikonushok/My_studying_Data-Science-and-Neyro-Nets-on-Python/blob/master/%D0%94%D0%97_3_Ultra_%D0%A0%D0%B0%D1%81%D0%BF%D0%BE%D0%B7%D0%BD%D0%B0%D0%B2%D0%B0%D0%BD%D0%B8%D0%B5_%D1%81%D0%B2_%D0%93%D0%B5%D0%BE%D1%80%D0%B3%D0%B8%D1%8F_150x150_0_868_ipynb%22.ipynb\" target=\"_parent\"><img src=\"https://colab.research.google.com/assets/colab-badge.svg\" alt=\"Open In Colab\"/></a>"
      ]
    },
    {
      "cell_type": "markdown",
      "metadata": {
        "id": "jVqZts-TUd6J",
        "colab_type": "text"
      },
      "source": [
        "# Распознавание св Георгия на изображениях"
      ]
    },
    {
      "cell_type": "code",
      "metadata": {
        "id": "5aXD6vBzUd6K",
        "colab_type": "code",
        "colab": {}
      },
      "source": [
        "from tensorflow.keras import utils\n",
        "from tensorflow.keras.models import Sequential\n",
        "from tensorflow.keras.layers import Dense, Conv2D, MaxPooling2D, Flatten, Dropout, BatchNormalization, Activation\n",
        "from tensorflow.keras.optimizers import Adam, RMSprop, Nadam, Adamax, Adadelta, Adagrad\n",
        "from keras.preprocessing.image import ImageDataGenerator\n",
        "\n",
        "from tensorflow.keras.callbacks import EarlyStopping, ReduceLROnPlateau\n",
        "\n",
        "import numpy as np\n",
        "import random\n",
        "\n",
        "# хочу время замерить ))\n",
        "from datetime import datetime\n",
        "\n",
        "# выводим для примера картинку для каждого класса\n",
        "import matplotlib.pyplot as plt\n",
        "from PIL import Image\n",
        "%matplotlib inline"
      ],
      "execution_count": null,
      "outputs": []
    },
    {
      "cell_type": "markdown",
      "metadata": {
        "colab_type": "text",
        "id": "1CL3oSmRbQuE"
      },
      "source": [
        "### Загрузка данных\n",
        "---\n",
        "* Это задание мне прислали из Новосибирска как тест на junior\n",
        "* Сразу скажу, что данные я загрузил еще 2 недели назад, когда пытался сделать это тестовое задание после первой недели учебы в УИИ. Поэтому просто приведу код, без адаптации к конкретному ноутбуку\n",
        "* По папкам я уже копировал картинки самостоятельно, а также вручную убирал дубликаты (часто с разными названиями но одинаковые картинки) и не-георгии, бывшие в папке с георгиями"
      ]
    },
    {
      "cell_type": "code",
      "metadata": {
        "id": "XbyFRakCv_sq",
        "colab_type": "code",
        "colab": {
          "base_uri": "https://localhost:8080/",
          "height": 163
        },
        "outputId": "9445d93d-5840-4c56-cc10-3ff415828d38"
      },
      "source": [
        "!pip3 install wget\n",
        "\n",
        "import wget\n",
        "import pandas as pd"
      ],
      "execution_count": null,
      "outputs": [
        {
          "output_type": "stream",
          "text": [
            "Collecting wget\n",
            "  Downloading https://files.pythonhosted.org/packages/47/6a/62e288da7bcda82b935ff0c6cfe542970f04e29c756b0e147251b2fb251f/wget-3.2.zip\n",
            "Building wheels for collected packages: wget\n",
            "  Building wheel for wget (setup.py) ... \u001b[?25l\u001b[?25hdone\n",
            "  Created wheel for wget: filename=wget-3.2-cp36-none-any.whl size=9682 sha256=01152600f435e305eeb287ed24b38fa2f4ba563d5b8cca3bc34c550a5d655171\n",
            "  Stored in directory: /root/.cache/pip/wheels/40/15/30/7d8f7cea2902b4db79e3fea550d7d7b85ecb27ef992b618f3f\n",
            "Successfully built wget\n",
            "Installing collected packages: wget\n",
            "Successfully installed wget-3.2\n"
          ],
          "name": "stdout"
        }
      ]
    },
    {
      "cell_type": "code",
      "metadata": {
        "id": "Aju1884iybHe",
        "colab_type": "code",
        "colab": {}
      },
      "source": [
        "# Формирование массива со ссылками на Георгиев\n",
        "georges_url = pd.read_csv('georges.csv', sep=',',header=None)\n",
        "\n",
        "georges_url.columns = ['URL'] # задал имя столбца\n",
        "print(georges_url.head(), len(georges_url)) # проверил массив\n",
        "georges_url = georges_url['URL']"
      ],
      "execution_count": null,
      "outputs": []
    },
    {
      "cell_type": "code",
      "metadata": {
        "colab_type": "code",
        "id": "dWFCgPOYHwWo",
        "colab": {
          "base_uri": "https://localhost:8080/",
          "height": 119
        },
        "outputId": "e76d56a7-cb0b-4adc-e07b-4fb256d588e6"
      },
      "source": [
        "# Формирование массива со ссылками на НЕ-Георгиев\n",
        "non_georges_url = pd.read_csv('non_georges.csv', sep=',',header=None)\n",
        "\n",
        "non_georges_url.columns = ['URL'] # задал имя столбца\n",
        "print(non_georges_url.head(), len(non_georges_url)) # проверил массив\n",
        "non_georges_url = non_georges_url['URL']"
      ],
      "execution_count": null,
      "outputs": [
        {
          "output_type": "stream",
          "text": [
            "                                                 URL\n",
            "0  https://i.pinimg.com/736x/fd/65/bb/fd65bb679b7...\n",
            "1  https://i.pinimg.com/736x/78/63/a2/7863a2404af...\n",
            "2  https://i.pinimg.com/736x/bc/3a/f4/bc3af41444c...\n",
            "3  https://i.pinimg.com/736x/46/a3/59/46a3595eec7...\n",
            "4  https://i.pinimg.com/736x/54/b2/ef/54b2ef7af71... 3366\n"
          ],
          "name": "stdout"
        }
      ]
    },
    {
      "cell_type": "code",
      "metadata": {
        "id": "vaLCNSgUcWvh",
        "colab_type": "code",
        "colab": {},
        "outputId": "f1c7e2a6-4ecb-47e4-acdc-1029721b2701"
      },
      "source": [
        "# загрузим в массив всех Георгиев и НЕ-Гергиев на диск\n",
        "\n",
        "start_time = datetime.now()\n",
        "\n",
        "for i in range(len(georges_url)):\n",
        "    load_img(wget.download(georges_url[i], out='georges'))\n",
        "\n",
        "for i in range(len(non_georges_url)):\n",
        "    load_img(wget.download(non_georges_url[i], out='non_georges'))\n",
        "\n",
        "print(datetime.now() - start_time)"
      ],
      "execution_count": null,
      "outputs": [
        {
          "output_type": "stream",
          "text": [
            "0:44:42.092540\n"
          ],
          "name": "stdout"
        }
      ]
    },
    {
      "cell_type": "code",
      "metadata": {
        "id": "1scYA6GhcWvm",
        "colab_type": "code",
        "colab": {},
        "outputId": "2f94961d-04dc-4c65-d1f3-abfc00175e8b"
      },
      "source": [
        "# Загружаю в массивы списки файлов\n",
        "import os\n",
        "#import os, fnmatch\n",
        "\n",
        "listOfFiles_georges = os.listdir('georges')\n",
        "listOfFiles_nongeorges = os.listdir('non_georges')\n",
        "print(len(listOfFiles_georges) , len(listOfFiles_nongeorges))"
      ],
      "execution_count": null,
      "outputs": [
        {
          "output_type": "stream",
          "text": [
            "2629 3367\n"
          ],
          "name": "stdout"
        }
      ]
    },
    {
      "cell_type": "code",
      "metadata": {
        "id": "vUfzESGPcWvq",
        "colab_type": "code",
        "colab": {}
      },
      "source": [
        "# Удалил системный файл mac\n",
        "\n",
        "for i in range(len(listOfFiles_georges) - 1):\n",
        "    if listOfFiles_georges[i] == '.DS_Store': del listOfFiles_georges[i]\n",
        "        \n",
        "for i in range(len(listOfFiles_nongeorges) - 1):\n",
        "    if listOfFiles_nongeorges[i] == '.DS_Store': del listOfFiles_nongeorges[i]"
      ],
      "execution_count": null,
      "outputs": []
    },
    {
      "cell_type": "markdown",
      "metadata": {
        "id": "ju0IdK9-z8vP",
        "colab_type": "text"
      },
      "source": [
        "### Создал нейросеть\n",
        "-----\n",
        "* Провел эксперименты с размером изображений. Загружал от 32х32 дл 160х160.7 с последним размером эксперимент продолжается- внезапно сильно замедлилось обучение сетей, хотя я на платном тарифе. Но уже сейчас понятно, что чем лучше качество распознавания, тем более сложную сеть можно построить и тем выше качество обучения. так, например на 32зх32 я не смог добиться СТАБИЛЬНОГО качества больше 84%. А вот с разерами больше 120х120 уже не ждал меньше 84%\n",
        "* Про подбор гиперпараметров  и усложнения архитектуры писать не буду - уже просто\n",
        "* Столкнулся с \"пилой\" в val_accuracy. Отчасти справилься помог перехаод на Nadam, обучение стало ровнее, но дольше\n",
        "* Была идея вместо accuracy подбирать mae или mape. Но не хватило времени разобраться, как помом, после генератора вывести циклом поочередно все изображения тестовой выборки и сделать предикт.. чтобы посчитать число ошибок.. буду признателен, если включите это в разбор!"
      ]
    },
    {
      "cell_type": "code",
      "metadata": {
        "id": "YDggdsFqUd6P",
        "colab_type": "code",
        "colab": {}
      },
      "source": [
        "train_dir = 'train' # Каталог с данными для обучения\n",
        "val_dir = 'val' # Каталог с данными для проверки\n",
        "test_dir = 'test' # Каталог с данными для тестирования\n",
        "\n",
        "# Размерность тензора на основе изображения для входных данных в нейронную сеть\n",
        "img_width, img_height = 150, 150 # Размеры изображения - ПОЭКСПЕРИМЕНИРОВАТЬ!!\n",
        "#img_width, img_height = 120, 120 # Размеры изображения - ПОЭКСПЕРИМЕНИРОВАТЬ!!\n",
        "# размер изображения сильно влияет на скорость и еще нужо понять как на качество\n",
        "\n",
        "#очень важная вещь!!:\n",
        "input_shape = (img_width, img_height, 3) # backend Tensorflow, channels_last\n",
        "\n",
        "nb_train_samples = 3897     # Количество изображений для обучения\n",
        "nb_validation_samples = 687 # Количество изображений для проверки\n",
        "nb_test_samples = 782       # Количество изображений для тестирования"
      ],
      "execution_count": null,
      "outputs": []
    },
    {
      "cell_type": "code",
      "metadata": {
        "id": "H0Qs8MCRXgp3",
        "colab_type": "code",
        "colab": {}
      },
      "source": [
        "N_lr = 0.0001 # Стандарт = 0,0001\n",
        "epochs = 50\n",
        "batch_size = 16\n",
        "kernel_size = 3\n",
        "pool_size = 2\n",
        "conv_depth = 32\n",
        "dense_size = 64*4\n",
        "k_Dropout = 0.1\n",
        "num_classes = 2"
      ],
      "execution_count": null,
      "outputs": []
    },
    {
      "cell_type": "code",
      "metadata": {
        "id": "tguu7_qzWwaC",
        "colab_type": "code",
        "colab": {}
      },
      "source": [
        "# Моя простая сеть побыстрее проверить\n",
        "model = Sequential()\n",
        "  \n",
        "model.add(BatchNormalization(input_shape=input_shape)) #Слой пакетной нормализации (ВНИМАТЕЛЬНО С input_shape - он не такой,как в нашем примере из)\n",
        "model.add(Conv2D(conv_depth, (kernel_size, kernel_size), padding='same', activation='relu')) #Первый сверточный слой\n",
        "model.add(Conv2D(conv_depth, (kernel_size, kernel_size), padding='same', activation='relu')) #Первый сверточный слой\n",
        "model.add(Conv2D(conv_depth, (kernel_size, kernel_size), padding='same', activation='relu')) #Первый сверточный слой\n",
        "model.add(Conv2D(conv_depth, (kernel_size, kernel_size), padding='same', activation='relu')) #Первый сверточный слой\n",
        "model.add(Conv2D(conv_depth, (kernel_size, kernel_size), padding='same', activation='relu')) #Первый сверточный слой\n",
        "model.add(MaxPooling2D(pool_size=(pool_size, pool_size))) #Первый слой подвыборки\n",
        "#model.add(Dropout(k_Dropout)) #Слой регуляризации Dropout\n",
        "\n",
        "model.add(BatchNormalization()) #Слой пакетной нормализации\n",
        "model.add(Conv2D(conv_depth*2, (kernel_size, kernel_size), padding='same', activation='relu')) #Третий сверточный слой\n",
        "model.add(Conv2D(conv_depth*2, (kernel_size, kernel_size), padding='same', activation='relu')) #Третий сверточный слой\n",
        "model.add(Conv2D(conv_depth*2, (kernel_size, kernel_size), padding='same', activation='relu')) #Третий сверточный слой\n",
        "model.add(Conv2D(conv_depth*2, (kernel_size, kernel_size), padding='same', activation='relu')) #Третий сверточный слой\n",
        "model.add(Conv2D(conv_depth*2, (kernel_size, kernel_size), padding='same', activation='relu')) #Третий сверточный слой\n",
        "model.add(MaxPooling2D(pool_size=(pool_size, pool_size))) #Второй слой подвыборки\n",
        "#model.add(Dropout(k_Dropout)) #Слой регуляризации Dropout\n",
        "\n",
        "model.add(BatchNormalization()) #Слой пакетной нормализации\n",
        "model.add(Conv2D(conv_depth*4, (kernel_size, kernel_size), padding='same', activation='relu')) #Пятый сверточный слой\n",
        "model.add(Conv2D(conv_depth*4, (kernel_size, kernel_size), padding='same', activation='relu')) #Пятый сверточный слой\n",
        "model.add(Conv2D(conv_depth*4, (kernel_size, kernel_size), padding='same', activation='relu')) #Пятый сверточный слой\n",
        "model.add(Conv2D(conv_depth*4, (kernel_size, kernel_size), padding='same', activation='relu')) #Пятый сверточный слой\n",
        "model.add(Conv2D(conv_depth*4, (kernel_size, kernel_size), padding='same', activation='relu')) #Пятый сверточный слой\n",
        "model.add(MaxPooling2D(pool_size=(pool_size, pool_size))) #Третий слой подвыборки\n",
        "#model.add(Dropout(k_Dropout)) #Слой регуляризации Dropout\n",
        "\n",
        "model.add(BatchNormalization()) #Слой пакетной нормализации\n",
        "model.add(Conv2D(conv_depth*6, (kernel_size, kernel_size), padding='same', activation='relu')) #Пятый сверточный слой\n",
        "model.add(Conv2D(conv_depth*6, (kernel_size, kernel_size), padding='same', activation='relu')) #Пятый сверточный слой\n",
        "model.add(Conv2D(conv_depth*6, (kernel_size, kernel_size), padding='same', activation='relu')) #Пятый сверточный слой\n",
        "model.add(Conv2D(conv_depth*6, (kernel_size, kernel_size), padding='same', activation='relu')) #Пятый сверточный слой\n",
        "model.add(Conv2D(conv_depth*6, (kernel_size, kernel_size), padding='same', activation='relu')) #Пятый сверточный слой\n",
        "model.add(MaxPooling2D(pool_size=(pool_size, pool_size))) #Третий слой подвыборки\n",
        "#model.add(Dropout(k_Dropout)) #Слой регуляризации Dropout\n",
        "\n",
        "model.add(Flatten()) #Слой преобразования данных из 2D представления в плоское\n",
        "model.add(Dense(dense_size, activation='relu')) #Полносвязный слой для классификации\n",
        "#model.add(Dropout(k_Dropout*2))\n",
        "model.add(Dense((1), activation='sigmoid')) #Выходной полносвязный слой softmax???\n",
        "\n",
        "\n",
        "model.compile(loss='binary_crossentropy',\n",
        "              optimizer=Nadam(N_lr), \n",
        "              metrics=['accuracy'])"
      ],
      "execution_count": null,
      "outputs": []
    },
    {
      "cell_type": "markdown",
      "metadata": {
        "id": "hnzJPIO5zy4p",
        "colab_type": "text"
      },
      "source": [
        "### Настроил генераторы"
      ]
    },
    {
      "cell_type": "code",
      "metadata": {
        "id": "8bmoVredeEDS",
        "colab_type": "code",
        "colab": {
          "base_uri": "https://localhost:8080/"
        },
        "outputId": "258442cb-d370-4b7b-b6b4-1b8df5c7152b"
      },
      "source": [
        "from google.colab import drive\n",
        "drive.mount('/content/drive')"
      ],
      "execution_count": null,
      "outputs": [
        {
          "output_type": "stream",
          "text": [
            "Drive already mounted at /content/drive; to attempt to forcibly remount, call drive.mount(\"/content/drive\", force_remount=True).\n"
          ],
          "name": "stdout"
        }
      ]
    },
    {
      "cell_type": "code",
      "metadata": {
        "id": "WqzLYzgNUd6Z",
        "colab_type": "code",
        "colab": {}
      },
      "source": [
        "import os\n",
        "os.chdir('/content/drive/My Drive/Colab Notebooks/Data Science и нейронные сети на Python/Занятие_3_Сверточные нейронные сети/data/samples')"
      ],
      "execution_count": null,
      "outputs": []
    },
    {
      "cell_type": "code",
      "metadata": {
        "id": "RIe6mgvoUd6X",
        "colab_type": "code",
        "colab": {}
      },
      "source": [
        "# Генератор изображений создается на основе класса ImageDataGenerator.\n",
        "# ЧЕРЕЗЧУР СЛОЖНЫЙ ГЕНЕРАТОР  МОЖЕТ СВОДИТЬ ОБУЧЕНИЕ К НУЛЮ\n",
        "\n",
        "datagen = ImageDataGenerator(\n",
        "    rescale=1. / 255,       #Значения цвета меняем на дробные показания\n",
        "#    rotation_range=10,      #Поворачиваем изображения при генерации выборки\n",
        "    width_shift_range=0.1,  #Двигаем изображения по ширине при генерации выборки\n",
        "    height_shift_range=0.1, #Двигаем изображения по высоте при генерации выборки\n",
        "    zoom_range=0.1,         #Зумируем изображения при генерации выборки\n",
        "    horizontal_flip=True,   #Отключаем отзеркаливание изображений\n",
        "    fill_mode='constant',       #Заполнение пикселей вне границ ввода\n",
        ")\n"
      ],
      "execution_count": null,
      "outputs": []
    },
    {
      "cell_type": "code",
      "metadata": {
        "id": "tkRXowvpUd6c",
        "colab_type": "code",
        "colab": {
          "base_uri": "https://localhost:8080/"
        },
        "outputId": "9ad28f7a-1d4b-4761-a745-674a6b24beb6"
      },
      "source": [
        "#Генератор данных для обучения на основе изображений из каталога\n",
        "\n",
        "train_generator = datagen.flow_from_directory(\n",
        "    train_dir,\n",
        "    target_size=(img_width, img_height),\n",
        "    batch_size=batch_size,\n",
        "    class_mode='binary')"
      ],
      "execution_count": null,
      "outputs": [
        {
          "output_type": "stream",
          "text": [
            "Found 3897 images belonging to 2 classes.\n"
          ],
          "name": "stdout"
        }
      ]
    },
    {
      "cell_type": "code",
      "metadata": {
        "id": "wc2g4b9QUd6g",
        "colab_type": "code",
        "colab": {
          "base_uri": "https://localhost:8080/"
        },
        "outputId": "c45b5054-a3a9-4955-bef0-24cbcdeb33fc"
      },
      "source": [
        "#Генератор данных для проверки на основе изображений из каталога\n",
        "\n",
        "val_generator = datagen.flow_from_directory(\n",
        "    val_dir,\n",
        "    target_size=(img_width, img_height),\n",
        "    batch_size=batch_size,\n",
        "    class_mode='binary')"
      ],
      "execution_count": null,
      "outputs": [
        {
          "output_type": "stream",
          "text": [
            "Found 687 images belonging to 2 classes.\n"
          ],
          "name": "stdout"
        }
      ]
    },
    {
      "cell_type": "code",
      "metadata": {
        "id": "6nXuKXF9Ud6j",
        "colab_type": "code",
        "colab": {
          "base_uri": "https://localhost:8080/"
        },
        "outputId": "760b1b13-6f32-4b6e-e740-cafcbd99a8c4"
      },
      "source": [
        "#Генератор данных для тестирования на основе изображений из каталога\n",
        "\n",
        "test_generator = datagen.flow_from_directory(\n",
        "    test_dir,\n",
        "    target_size=(img_width, img_height),\n",
        "    batch_size=batch_size,\n",
        "    class_mode='binary')"
      ],
      "execution_count": null,
      "outputs": [
        {
          "output_type": "stream",
          "text": [
            "Found 782 images belonging to 2 classes.\n"
          ],
          "name": "stdout"
        }
      ]
    },
    {
      "cell_type": "markdown",
      "metadata": {
        "id": "YSVVaXBcUd6l",
        "colab_type": "text"
      },
      "source": [
        "### Обучил модель с использованием генераторов\n",
        "---\n",
        "Хорошей идеей оказаласть настройка автоматического замедления обучения модели после того, как последовательно в 2х эпохах val_accuracy не улучшается.\n",
        "Сильно экономит время!"
      ]
    },
    {
      "cell_type": "code",
      "metadata": {
        "id": "n59h3yfBUd6l",
        "colab_type": "code",
        "colab": {
          "base_uri": "https://localhost:8080/",
          "height": 1000
        },
        "outputId": "1a65a25e-6f53-4b8a-8bf5-c38acdfe8e2a"
      },
      "source": [
        "# хочу время замерить ))\n",
        "start_time = datetime.now()\n",
        "\n",
        "# задание условий \n",
        "# остановки обучения\n",
        "early_stopping = EarlyStopping(monitor = 'val_accuracy', \n",
        "                               patience = 8, verbose = 1,\n",
        "                               restore_best_weights = True)\n",
        "# замедление скорости\n",
        "reduce_lr = ReduceLROnPlateau(monitor = 'val_accuracy', factor=0.5, \n",
        "                              verbose = 1,\n",
        "                              patience = 2, min_lr = 0.0000001)\n",
        "\n",
        "\n",
        "#train_generator - генератор данных для обучения\n",
        "#validation_data - генератор данных для проверки\n",
        "history = model.fit_generator(train_generator,\n",
        "                              steps_per_epoch=int(nb_train_samples / batch_size),\n",
        "                              epochs = epochs,\n",
        "                              verbose = 1,\n",
        "                              validation_data = val_generator,\n",
        "                              validation_steps = int(nb_validation_samples / batch_size),\n",
        "                              callbacks = ([reduce_lr],[early_stopping])\n",
        "                              )\n",
        "\n",
        "#сохранение модели\n",
        "model.save('/content/drive/My Drive/Colab Notebooks/Data Science и нейронные сети на Python/Занятие_3_Сверточные нейронные сети/data/samples/Georges150x150.h5')\n",
        "model.save_weights('/content/drive/My Drive/Colab Notebooks/Data Science и нейронные сети на Python/Занятие_3_Сверточные нейронные сети/data/samples/Georges150x150.hdf5')\n",
        "\n",
        "\n",
        "print('Время обучения: ', datetime.now() - start_time)\n",
        "\n",
        "#Отображаем график точности обучения\n",
        "plt.figure(figsize=(6,4))\n",
        "plt.plot(history.history['accuracy'],\n",
        "             label='accuracy')\n",
        "plt.plot(history.history['val_accuracy'], \n",
        "             label='val_accuracy')\n",
        "plt.xlabel('Эпоха обучения')\n",
        "plt.ylabel('Доля верных ответов')\n",
        "plt.legend()\n",
        "plt.grid()\n",
        "plt.show()\n",
        "\n",
        "#считаю отклонение  val_accuracy от accuracy для оценки качества модели\n",
        "a = np.asarray(history.history['accuracy'])\n",
        "va = np.asarray(history.history['val_accuracy'])\n",
        "v = a- va\n",
        "plt.figure(figsize=(6,2))\n",
        "plt.plot(v,label='Расхождение train и test accuracy')\n",
        "plt.legend()\n",
        "plt.grid()\n",
        "\n",
        "\n",
        "plt.show()\n",
        "\n",
        "#инфрмация о структуре модели\n",
        "#model.summary()"
      ],
      "execution_count": null,
      "outputs": [
        {
          "output_type": "stream",
          "text": [
            "Epoch 1/50\n",
            "243/243 [==============================] - 73s 299ms/step - loss: 0.6058 - accuracy: 0.6872 - val_loss: 0.6745 - val_accuracy: 0.6176\n",
            "Epoch 2/50\n",
            "243/243 [==============================] - 72s 298ms/step - loss: 0.5507 - accuracy: 0.7325 - val_loss: 0.7457 - val_accuracy: 0.6190\n",
            "Epoch 3/50\n",
            "243/243 [==============================] - 72s 298ms/step - loss: 0.5263 - accuracy: 0.7485 - val_loss: 0.5253 - val_accuracy: 0.7277\n",
            "Epoch 4/50\n",
            "243/243 [==============================] - 73s 299ms/step - loss: 0.5053 - accuracy: 0.7627 - val_loss: 0.4940 - val_accuracy: 0.7351\n",
            "Epoch 5/50\n",
            "243/243 [==============================] - 72s 298ms/step - loss: 0.4936 - accuracy: 0.7617 - val_loss: 0.4500 - val_accuracy: 0.7917\n",
            "Epoch 6/50\n",
            "243/243 [==============================] - 72s 297ms/step - loss: 0.4644 - accuracy: 0.7838 - val_loss: 0.5829 - val_accuracy: 0.7336\n",
            "Epoch 7/50\n",
            "243/243 [==============================] - 73s 300ms/step - loss: 0.4551 - accuracy: 0.7921 - val_loss: 0.4535 - val_accuracy: 0.7946\n",
            "Epoch 8/50\n",
            "243/243 [==============================] - 73s 301ms/step - loss: 0.4498 - accuracy: 0.7895 - val_loss: 0.4654 - val_accuracy: 0.7738\n",
            "Epoch 9/50\n",
            "243/243 [==============================] - 73s 300ms/step - loss: 0.4372 - accuracy: 0.7982 - val_loss: 0.4286 - val_accuracy: 0.7961\n",
            "Epoch 10/50\n",
            "243/243 [==============================] - 73s 299ms/step - loss: 0.4321 - accuracy: 0.8031 - val_loss: 0.4687 - val_accuracy: 0.7798\n",
            "Epoch 11/50\n",
            "243/243 [==============================] - 73s 301ms/step - loss: 0.4223 - accuracy: 0.8073 - val_loss: 0.4423 - val_accuracy: 0.8080\n",
            "Epoch 12/50\n",
            "243/243 [==============================] - 73s 300ms/step - loss: 0.4124 - accuracy: 0.8104 - val_loss: 0.4923 - val_accuracy: 0.8051\n",
            "Epoch 13/50\n",
            "243/243 [==============================] - 73s 300ms/step - loss: 0.4092 - accuracy: 0.8176 - val_loss: 0.4037 - val_accuracy: 0.8259\n",
            "Epoch 14/50\n",
            "243/243 [==============================] - 72s 297ms/step - loss: 0.3957 - accuracy: 0.8201 - val_loss: 0.4186 - val_accuracy: 0.8199\n",
            "Epoch 15/50\n",
            "243/243 [==============================] - ETA: 0s - loss: 0.3900 - accuracy: 0.8274\n",
            "Epoch 00015: ReduceLROnPlateau reducing learning rate to 4.999999873689376e-05.\n",
            "243/243 [==============================] - 73s 299ms/step - loss: 0.3900 - accuracy: 0.8274 - val_loss: 0.4282 - val_accuracy: 0.8140\n",
            "Epoch 16/50\n",
            "243/243 [==============================] - 72s 295ms/step - loss: 0.3502 - accuracy: 0.8467 - val_loss: 0.3621 - val_accuracy: 0.8616\n",
            "Epoch 17/50\n",
            "243/243 [==============================] - 72s 296ms/step - loss: 0.3439 - accuracy: 0.8426 - val_loss: 0.3844 - val_accuracy: 0.8318\n",
            "Epoch 18/50\n",
            "243/243 [==============================] - ETA: 0s - loss: 0.3310 - accuracy: 0.8554\n",
            "Epoch 00018: ReduceLROnPlateau reducing learning rate to 2.499999936844688e-05.\n",
            "243/243 [==============================] - 72s 295ms/step - loss: 0.3310 - accuracy: 0.8554 - val_loss: 0.3463 - val_accuracy: 0.8497\n",
            "Epoch 19/50\n",
            "243/243 [==============================] - 72s 298ms/step - loss: 0.3019 - accuracy: 0.8732 - val_loss: 0.3465 - val_accuracy: 0.8452\n",
            "Epoch 20/50\n",
            "243/243 [==============================] - ETA: 0s - loss: 0.2927 - accuracy: 0.8758\n",
            "Epoch 00020: ReduceLROnPlateau reducing learning rate to 1.249999968422344e-05.\n",
            "243/243 [==============================] - 71s 294ms/step - loss: 0.2927 - accuracy: 0.8758 - val_loss: 0.3434 - val_accuracy: 0.8601\n",
            "Epoch 21/50\n",
            "243/243 [==============================] - 72s 296ms/step - loss: 0.2826 - accuracy: 0.8843 - val_loss: 0.3376 - val_accuracy: 0.8690\n",
            "Epoch 22/50\n",
            "243/243 [==============================] - 72s 295ms/step - loss: 0.2615 - accuracy: 0.8915 - val_loss: 0.3447 - val_accuracy: 0.8527\n",
            "Epoch 23/50\n",
            "243/243 [==============================] - ETA: 0s - loss: 0.2727 - accuracy: 0.8859\n",
            "Epoch 00023: ReduceLROnPlateau reducing learning rate to 6.24999984211172e-06.\n",
            "243/243 [==============================] - 71s 293ms/step - loss: 0.2727 - accuracy: 0.8859 - val_loss: 0.3262 - val_accuracy: 0.8646\n",
            "Epoch 24/50\n",
            "243/243 [==============================] - 72s 298ms/step - loss: 0.2569 - accuracy: 0.8954 - val_loss: 0.3483 - val_accuracy: 0.8586\n",
            "Epoch 25/50\n",
            "243/243 [==============================] - ETA: 0s - loss: 0.2482 - accuracy: 0.8972\n",
            "Epoch 00025: ReduceLROnPlateau reducing learning rate to 3.12499992105586e-06.\n",
            "243/243 [==============================] - 73s 302ms/step - loss: 0.2482 - accuracy: 0.8972 - val_loss: 0.3650 - val_accuracy: 0.8527\n",
            "Epoch 26/50\n",
            "243/243 [==============================] - 72s 295ms/step - loss: 0.2554 - accuracy: 0.8905 - val_loss: 0.3331 - val_accuracy: 0.8676\n",
            "Epoch 27/50\n",
            "243/243 [==============================] - ETA: 0s - loss: 0.2552 - accuracy: 0.8964\n",
            "Epoch 00027: ReduceLROnPlateau reducing learning rate to 1.56249996052793e-06.\n",
            "243/243 [==============================] - 72s 295ms/step - loss: 0.2552 - accuracy: 0.8964 - val_loss: 0.3504 - val_accuracy: 0.8616\n",
            "Epoch 28/50\n",
            "243/243 [==============================] - 72s 297ms/step - loss: 0.2447 - accuracy: 0.9052 - val_loss: 0.3446 - val_accuracy: 0.8616\n",
            "Epoch 29/50\n",
            "243/243 [==============================] - 72s 295ms/step - loss: 0.2425 - accuracy: 0.9031 - val_loss: 0.3341 - val_accuracy: 0.8780\n",
            "Epoch 30/50\n",
            "243/243 [==============================] - 72s 295ms/step - loss: 0.2406 - accuracy: 0.8936 - val_loss: 0.3479 - val_accuracy: 0.8586\n",
            "Epoch 31/50\n",
            "243/243 [==============================] - ETA: 0s - loss: 0.2378 - accuracy: 0.8985\n",
            "Epoch 00031: ReduceLROnPlateau reducing learning rate to 7.81249980263965e-07.\n",
            "243/243 [==============================] - 72s 294ms/step - loss: 0.2378 - accuracy: 0.8985 - val_loss: 0.3675 - val_accuracy: 0.8557\n",
            "Epoch 32/50\n",
            "243/243 [==============================] - 72s 297ms/step - loss: 0.2360 - accuracy: 0.9029 - val_loss: 0.3252 - val_accuracy: 0.8824\n",
            "Epoch 33/50\n",
            "243/243 [==============================] - 72s 295ms/step - loss: 0.2415 - accuracy: 0.8990 - val_loss: 0.3484 - val_accuracy: 0.8586\n",
            "Epoch 34/50\n",
            "243/243 [==============================] - ETA: 0s - loss: 0.2331 - accuracy: 0.9065\n",
            "Epoch 00034: ReduceLROnPlateau reducing learning rate to 3.906249901319825e-07.\n",
            "243/243 [==============================] - 72s 294ms/step - loss: 0.2331 - accuracy: 0.9065 - val_loss: 0.3614 - val_accuracy: 0.8601\n",
            "Epoch 35/50\n",
            "243/243 [==============================] - 73s 300ms/step - loss: 0.2386 - accuracy: 0.9036 - val_loss: 0.3351 - val_accuracy: 0.8661\n",
            "Epoch 36/50\n",
            "243/243 [==============================] - ETA: 0s - loss: 0.2331 - accuracy: 0.9062\n",
            "Epoch 00036: ReduceLROnPlateau reducing learning rate to 1.9531249506599124e-07.\n",
            "243/243 [==============================] - 73s 300ms/step - loss: 0.2331 - accuracy: 0.9062 - val_loss: 0.3521 - val_accuracy: 0.8527\n",
            "Epoch 37/50\n",
            "243/243 [==============================] - 73s 299ms/step - loss: 0.2279 - accuracy: 0.9098 - val_loss: 0.3661 - val_accuracy: 0.8690\n",
            "Epoch 38/50\n",
            "243/243 [==============================] - ETA: 0s - loss: 0.2297 - accuracy: 0.9057\n",
            "Epoch 00038: ReduceLROnPlateau reducing learning rate to 1e-07.\n",
            "243/243 [==============================] - 72s 296ms/step - loss: 0.2297 - accuracy: 0.9057 - val_loss: 0.3554 - val_accuracy: 0.8542\n",
            "Epoch 39/50\n",
            "243/243 [==============================] - 72s 294ms/step - loss: 0.2396 - accuracy: 0.9008 - val_loss: 0.3429 - val_accuracy: 0.8765\n",
            "Epoch 40/50\n",
            "243/243 [==============================] - ETA: 0s - loss: 0.2331 - accuracy: 0.9039\n",
            "Epoch 00040: ReduceLROnPlateau reducing learning rate to 1e-07.\n",
            "Restoring model weights from the end of the best epoch.\n",
            "243/243 [==============================] - 72s 295ms/step - loss: 0.2331 - accuracy: 0.9039 - val_loss: 0.3235 - val_accuracy: 0.8661\n",
            "Epoch 00040: early stopping\n",
            "Время обучения:  0:48:26.177671\n"
          ],
          "name": "stdout"
        },
        {
          "output_type": "display_data",
          "data": {
            "image/png": "[encoded data removed]",
            "text/plain": [
              "<Figure size 432x288 with 1 Axes>"
            ]
          },
          "metadata": {
            "tags": [],
            "needs_background": "light"
          }
        },
        {
          "output_type": "display_data",
          "data": {
            "image/png": "[encoded data removed]",
            "text/plain": [
              "<Figure size 432x144 with 1 Axes>"
            ]
          },
          "metadata": {
            "tags": [],
            "needs_background": "light"
          }
        }
      ]
    },
    {
      "cell_type": "markdown",
      "metadata": {
        "id": "WYtf4vBpUd6p",
        "colab_type": "text"
      },
      "source": [
        "### Оцениваю качество работы сети на тетовой выборке с помощью генератора"
      ]
    },
    {
      "cell_type": "code",
      "metadata": {
        "id": "gkejYY2tUd6q",
        "colab_type": "code",
        "colab": {
          "base_uri": "https://localhost:8080/",
          "height": 50
        },
        "outputId": "f45e61f8-042f-40f6-e23c-b4eab2c36bea"
      },
      "source": [
        "# хочу время замерить ))\n",
        "start_time = datetime.now()\n",
        "\n",
        "#Качество предсказания на тестовой выборке\n",
        "scores = model.evaluate_generator(test_generator, nb_test_samples // batch_size)\n",
        "print(\"Аккуратность на тестовых данных: \", scores[1])\n",
        "\n",
        "print('Время обучения: ', datetime.now() - start_time)"
      ],
      "execution_count": null,
      "outputs": [
        {
          "output_type": "stream",
          "text": [
            "Аккуратность на тестовых данных:  0.8684895634651184\n",
            "Время обучения:  0:00:12.139582\n"
          ],
          "name": "stdout"
        }
      ]
    },
    {
      "cell_type": "code",
      "metadata": {
        "id": "NAqhtfkSppI7",
        "colab_type": "code",
        "colab": {}
      },
      "source": [
        "#сохранение модели\n",
        "#model.save('/content/drive/My Drive/Colab Notebooks/Data Science и нейронные сети на Python/Занятие_3_Сверточные нейронные сети/data/samples/Georges_0.868.h5')\n",
        "#model.save_weights('/content/drive/My Drive/Colab Notebooks/Data Science и нейронные сети на Python/Занятие_3_Сверточные нейронные сети/data/samples/Georges_0.868.hdf5')\n"
      ],
      "execution_count": null,
      "outputs": []
    },
    {
      "cell_type": "markdown",
      "metadata": {
        "colab_type": "text",
        "id": "f_FR_cj50QI1"
      },
      "source": [
        "### Не смог решить вопросы:\n",
        "1. Как вывести картинку и предсказание?\n",
        "2. Как записать в файл результаты теста? \n",
        "получилось создать массив,но дальше ошибка : ValueError: Index data must be 1-dimensional - и никак не могу понять, как исправить ((\n",
        "3. Ну и конечно надо бы посмотреть, какие там признаки составила сеть на выходе каждого промежуточного слоя.. но реально не хватает времени - сижу сутками до часу ночи )) очень уж интересно"
      ]
    },
    {
      "cell_type": "code",
      "metadata": {
        "colab_type": "code",
        "id": "NfnlnaQD0QI2",
        "colab": {
          "base_uri": "https://localhost:8080/",
          "height": 377
        },
        "outputId": "e347a0d4-8131-41e4-dd3a-88006379c021"
      },
      "source": [
        "# и запишем результаты теста в файл:\n",
        "import pandas as pd\n",
        "\n",
        "filenames = test_generator.filenames\n",
        "filenames = np.array(filenames)\n",
        "predictions = model.predict(test_generator)\n",
        "print(len(filenames), type(filenames), len(predictions), type(predictions))\n",
        "predictions.shape\n",
        "\n",
        "#Вариант 1 не работет ((\n",
        "arr_res = {'Predictions': predictions, 'Filenames': filenames}\n",
        "resalts_ = pd.DataFrame(data = arr_res)\n",
        "\n",
        "#вариант 2 тоже не работает ((\n",
        "resalts = pd.DataFrame(filenames, predictions, columns=['Filename', 'Predictions'])\n",
        "results.to_csv(\"/content/drive/My Drive/Colab Notebooks/Data Science и нейронные сети на Python/Занятие_3_Сверточные нейронные сети/data/samples/results.csv\",index=True)"
      ],
      "execution_count": null,
      "outputs": [
        {
          "output_type": "stream",
          "text": [
            "782 <class 'numpy.ndarray'> 782 <class 'numpy.ndarray'>\n"
          ],
          "name": "stdout"
        },
        {
          "output_type": "error",
          "ename": "ValueError",
          "evalue": "ignored",
          "traceback": [
            "\u001b[0;31m---------------------------------------------------------------------------\u001b[0m",
            "\u001b[0;31mValueError\u001b[0m                                Traceback (most recent call last)",
            "\u001b[0;32m<ipython-input-83-57b3da005d91>\u001b[0m in \u001b[0;36m<module>\u001b[0;34m()\u001b[0m\n\u001b[1;32m     10\u001b[0m \u001b[0marr_res\u001b[0m \u001b[0;34m=\u001b[0m \u001b[0;34m{\u001b[0m\u001b[0;34m'Predictions'\u001b[0m\u001b[0;34m:\u001b[0m \u001b[0mpredictions\u001b[0m\u001b[0;34m,\u001b[0m \u001b[0;34m'Filenames'\u001b[0m\u001b[0;34m:\u001b[0m \u001b[0mfilenames\u001b[0m\u001b[0;34m}\u001b[0m\u001b[0;34m\u001b[0m\u001b[0;34m\u001b[0m\u001b[0m\n\u001b[1;32m     11\u001b[0m \u001b[0;31m#resalts = pd.DataFrame(data = arr_res)\u001b[0m\u001b[0;34m\u001b[0m\u001b[0;34m\u001b[0m\u001b[0;34m\u001b[0m\u001b[0m\n\u001b[0;32m---> 12\u001b[0;31m \u001b[0mresalts\u001b[0m \u001b[0;34m=\u001b[0m \u001b[0mpd\u001b[0m\u001b[0;34m.\u001b[0m\u001b[0mDataFrame\u001b[0m\u001b[0;34m(\u001b[0m\u001b[0mfilenames\u001b[0m\u001b[0;34m,\u001b[0m \u001b[0mpredictions\u001b[0m\u001b[0;34m,\u001b[0m \u001b[0mcolumns\u001b[0m\u001b[0;34m=\u001b[0m\u001b[0;34m[\u001b[0m\u001b[0;34m'Filename'\u001b[0m\u001b[0;34m,\u001b[0m \u001b[0;34m'Predictions'\u001b[0m\u001b[0;34m]\u001b[0m\u001b[0;34m)\u001b[0m\u001b[0;34m\u001b[0m\u001b[0;34m\u001b[0m\u001b[0m\n\u001b[0m\u001b[1;32m     13\u001b[0m \u001b[0mresults\u001b[0m\u001b[0;34m.\u001b[0m\u001b[0mto_csv\u001b[0m\u001b[0;34m(\u001b[0m\u001b[0;34m\"/content/drive/My Drive/Colab Notebooks/Data Science и нейронные сети на Python/Занятие_3_Сверточные нейронные сети/data/samples/results.csv\"\u001b[0m\u001b[0;34m,\u001b[0m\u001b[0mindex\u001b[0m\u001b[0;34m=\u001b[0m\u001b[0;32mTrue\u001b[0m\u001b[0;34m)\u001b[0m\u001b[0;34m\u001b[0m\u001b[0;34m\u001b[0m\u001b[0m\n",
            "\u001b[0;32m/usr/local/lib/python3.6/dist-packages/pandas/core/frame.py\u001b[0m in \u001b[0;36m__init__\u001b[0;34m(self, data, index, columns, dtype, copy)\u001b[0m\n\u001b[1;32m    462\u001b[0m                 \u001b[0mmgr\u001b[0m \u001b[0;34m=\u001b[0m \u001b[0minit_dict\u001b[0m\u001b[0;34m(\u001b[0m\u001b[0;34m{\u001b[0m\u001b[0mdata\u001b[0m\u001b[0;34m.\u001b[0m\u001b[0mname\u001b[0m\u001b[0;34m:\u001b[0m \u001b[0mdata\u001b[0m\u001b[0;34m}\u001b[0m\u001b[0;34m,\u001b[0m \u001b[0mindex\u001b[0m\u001b[0;34m,\u001b[0m \u001b[0mcolumns\u001b[0m\u001b[0;34m,\u001b[0m \u001b[0mdtype\u001b[0m\u001b[0;34m=\u001b[0m\u001b[0mdtype\u001b[0m\u001b[0;34m)\u001b[0m\u001b[0;34m\u001b[0m\u001b[0;34m\u001b[0m\u001b[0m\n\u001b[1;32m    463\u001b[0m             \u001b[0;32melse\u001b[0m\u001b[0;34m:\u001b[0m\u001b[0;34m\u001b[0m\u001b[0;34m\u001b[0m\u001b[0m\n\u001b[0;32m--> 464\u001b[0;31m                 \u001b[0mmgr\u001b[0m \u001b[0;34m=\u001b[0m \u001b[0minit_ndarray\u001b[0m\u001b[0;34m(\u001b[0m\u001b[0mdata\u001b[0m\u001b[0;34m,\u001b[0m \u001b[0mindex\u001b[0m\u001b[0;34m,\u001b[0m \u001b[0mcolumns\u001b[0m\u001b[0;34m,\u001b[0m \u001b[0mdtype\u001b[0m\u001b[0;34m=\u001b[0m\u001b[0mdtype\u001b[0m\u001b[0;34m,\u001b[0m \u001b[0mcopy\u001b[0m\u001b[0;34m=\u001b[0m\u001b[0mcopy\u001b[0m\u001b[0;34m)\u001b[0m\u001b[0;34m\u001b[0m\u001b[0;34m\u001b[0m\u001b[0m\n\u001b[0m\u001b[1;32m    465\u001b[0m \u001b[0;34m\u001b[0m\u001b[0m\n\u001b[1;32m    466\u001b[0m         \u001b[0;31m# For data is list-like, or Iterable (will consume into list)\u001b[0m\u001b[0;34m\u001b[0m\u001b[0;34m\u001b[0m\u001b[0;34m\u001b[0m\u001b[0m\n",
            "\u001b[0;32m/usr/local/lib/python3.6/dist-packages/pandas/core/internals/construction.py\u001b[0m in \u001b[0;36minit_ndarray\u001b[0;34m(values, index, columns, dtype, copy)\u001b[0m\n\u001b[1;32m    179\u001b[0m                 ) from orig\n\u001b[1;32m    180\u001b[0m \u001b[0;34m\u001b[0m\u001b[0m\n\u001b[0;32m--> 181\u001b[0;31m     \u001b[0mindex\u001b[0m\u001b[0;34m,\u001b[0m \u001b[0mcolumns\u001b[0m \u001b[0;34m=\u001b[0m \u001b[0m_get_axes\u001b[0m\u001b[0;34m(\u001b[0m\u001b[0;34m*\u001b[0m\u001b[0mvalues\u001b[0m\u001b[0;34m.\u001b[0m\u001b[0mshape\u001b[0m\u001b[0;34m,\u001b[0m \u001b[0mindex\u001b[0m\u001b[0;34m=\u001b[0m\u001b[0mindex\u001b[0m\u001b[0;34m,\u001b[0m \u001b[0mcolumns\u001b[0m\u001b[0;34m=\u001b[0m\u001b[0mcolumns\u001b[0m\u001b[0;34m)\u001b[0m\u001b[0;34m\u001b[0m\u001b[0;34m\u001b[0m\u001b[0m\n\u001b[0m\u001b[1;32m    182\u001b[0m     \u001b[0mvalues\u001b[0m \u001b[0;34m=\u001b[0m \u001b[0mvalues\u001b[0m\u001b[0;34m.\u001b[0m\u001b[0mT\u001b[0m\u001b[0;34m\u001b[0m\u001b[0;34m\u001b[0m\u001b[0m\n\u001b[1;32m    183\u001b[0m \u001b[0;34m\u001b[0m\u001b[0m\n",
            "\u001b[0;32m/usr/local/lib/python3.6/dist-packages/pandas/core/internals/construction.py\u001b[0m in \u001b[0;36m_get_axes\u001b[0;34m(N, K, index, columns)\u001b[0m\n\u001b[1;32m    422\u001b[0m         \u001b[0mindex\u001b[0m \u001b[0;34m=\u001b[0m \u001b[0mibase\u001b[0m\u001b[0;34m.\u001b[0m\u001b[0mdefault_index\u001b[0m\u001b[0;34m(\u001b[0m\u001b[0mN\u001b[0m\u001b[0;34m)\u001b[0m\u001b[0;34m\u001b[0m\u001b[0;34m\u001b[0m\u001b[0m\n\u001b[1;32m    423\u001b[0m     \u001b[0;32melse\u001b[0m\u001b[0;34m:\u001b[0m\u001b[0;34m\u001b[0m\u001b[0;34m\u001b[0m\u001b[0m\n\u001b[0;32m--> 424\u001b[0;31m         \u001b[0mindex\u001b[0m \u001b[0;34m=\u001b[0m \u001b[0mensure_index\u001b[0m\u001b[0;34m(\u001b[0m\u001b[0mindex\u001b[0m\u001b[0;34m)\u001b[0m\u001b[0;34m\u001b[0m\u001b[0;34m\u001b[0m\u001b[0m\n\u001b[0m\u001b[1;32m    425\u001b[0m \u001b[0;34m\u001b[0m\u001b[0m\n\u001b[1;32m    426\u001b[0m     \u001b[0;32mif\u001b[0m \u001b[0mcolumns\u001b[0m \u001b[0;32mis\u001b[0m \u001b[0;32mNone\u001b[0m\u001b[0;34m:\u001b[0m\u001b[0;34m\u001b[0m\u001b[0;34m\u001b[0m\u001b[0m\n",
            "\u001b[0;32m/usr/local/lib/python3.6/dist-packages/pandas/core/indexes/base.py\u001b[0m in \u001b[0;36mensure_index\u001b[0;34m(index_like, copy)\u001b[0m\n\u001b[1;32m   5356\u001b[0m             \u001b[0mindex_like\u001b[0m \u001b[0;34m=\u001b[0m \u001b[0mcopy\u001b[0m\u001b[0;34m(\u001b[0m\u001b[0mindex_like\u001b[0m\u001b[0;34m)\u001b[0m\u001b[0;34m\u001b[0m\u001b[0;34m\u001b[0m\u001b[0m\n\u001b[1;32m   5357\u001b[0m \u001b[0;34m\u001b[0m\u001b[0m\n\u001b[0;32m-> 5358\u001b[0;31m     \u001b[0;32mreturn\u001b[0m \u001b[0mIndex\u001b[0m\u001b[0;34m(\u001b[0m\u001b[0mindex_like\u001b[0m\u001b[0;34m)\u001b[0m\u001b[0;34m\u001b[0m\u001b[0;34m\u001b[0m\u001b[0m\n\u001b[0m\u001b[1;32m   5359\u001b[0m \u001b[0;34m\u001b[0m\u001b[0m\n\u001b[1;32m   5360\u001b[0m \u001b[0;34m\u001b[0m\u001b[0m\n",
            "\u001b[0;32m/usr/local/lib/python3.6/dist-packages/pandas/core/indexes/base.py\u001b[0m in \u001b[0;36m__new__\u001b[0;34m(cls, data, dtype, copy, name, tupleize_cols, **kwargs)\u001b[0m\n\u001b[1;32m    392\u001b[0m                 \u001b[0;32mreturn\u001b[0m \u001b[0mUInt64Index\u001b[0m\u001b[0;34m(\u001b[0m\u001b[0mdata\u001b[0m\u001b[0;34m,\u001b[0m \u001b[0mcopy\u001b[0m\u001b[0;34m=\u001b[0m\u001b[0mcopy\u001b[0m\u001b[0;34m,\u001b[0m \u001b[0mdtype\u001b[0m\u001b[0;34m=\u001b[0m\u001b[0mdtype\u001b[0m\u001b[0;34m,\u001b[0m \u001b[0mname\u001b[0m\u001b[0;34m=\u001b[0m\u001b[0mname\u001b[0m\u001b[0;34m)\u001b[0m\u001b[0;34m\u001b[0m\u001b[0;34m\u001b[0m\u001b[0m\n\u001b[1;32m    393\u001b[0m             \u001b[0;32melif\u001b[0m \u001b[0mis_float_dtype\u001b[0m\u001b[0;34m(\u001b[0m\u001b[0mdata\u001b[0m\u001b[0;34m.\u001b[0m\u001b[0mdtype\u001b[0m\u001b[0;34m)\u001b[0m\u001b[0;34m:\u001b[0m\u001b[0;34m\u001b[0m\u001b[0;34m\u001b[0m\u001b[0m\n\u001b[0;32m--> 394\u001b[0;31m                 \u001b[0;32mreturn\u001b[0m \u001b[0mFloat64Index\u001b[0m\u001b[0;34m(\u001b[0m\u001b[0mdata\u001b[0m\u001b[0;34m,\u001b[0m \u001b[0mcopy\u001b[0m\u001b[0;34m=\u001b[0m\u001b[0mcopy\u001b[0m\u001b[0;34m,\u001b[0m \u001b[0mdtype\u001b[0m\u001b[0;34m=\u001b[0m\u001b[0mdtype\u001b[0m\u001b[0;34m,\u001b[0m \u001b[0mname\u001b[0m\u001b[0;34m=\u001b[0m\u001b[0mname\u001b[0m\u001b[0;34m)\u001b[0m\u001b[0;34m\u001b[0m\u001b[0;34m\u001b[0m\u001b[0m\n\u001b[0m\u001b[1;32m    395\u001b[0m             \u001b[0;32melif\u001b[0m \u001b[0missubclass\u001b[0m\u001b[0;34m(\u001b[0m\u001b[0mdata\u001b[0m\u001b[0;34m.\u001b[0m\u001b[0mdtype\u001b[0m\u001b[0;34m.\u001b[0m\u001b[0mtype\u001b[0m\u001b[0;34m,\u001b[0m \u001b[0mnp\u001b[0m\u001b[0;34m.\u001b[0m\u001b[0mbool\u001b[0m\u001b[0;34m)\u001b[0m \u001b[0;32mor\u001b[0m \u001b[0mis_bool_dtype\u001b[0m\u001b[0;34m(\u001b[0m\u001b[0mdata\u001b[0m\u001b[0;34m)\u001b[0m\u001b[0;34m:\u001b[0m\u001b[0;34m\u001b[0m\u001b[0;34m\u001b[0m\u001b[0m\n\u001b[1;32m    396\u001b[0m                 \u001b[0msubarr\u001b[0m \u001b[0;34m=\u001b[0m \u001b[0mdata\u001b[0m\u001b[0;34m.\u001b[0m\u001b[0mastype\u001b[0m\u001b[0;34m(\u001b[0m\u001b[0;34m\"object\"\u001b[0m\u001b[0;34m)\u001b[0m\u001b[0;34m\u001b[0m\u001b[0;34m\u001b[0m\u001b[0m\n",
            "\u001b[0;32m/usr/local/lib/python3.6/dist-packages/pandas/core/indexes/numeric.py\u001b[0m in \u001b[0;36m__new__\u001b[0;34m(cls, data, dtype, copy, name)\u001b[0m\n\u001b[1;32m     76\u001b[0m         \u001b[0;32mif\u001b[0m \u001b[0msubarr\u001b[0m\u001b[0;34m.\u001b[0m\u001b[0mndim\u001b[0m \u001b[0;34m>\u001b[0m \u001b[0;36m1\u001b[0m\u001b[0;34m:\u001b[0m\u001b[0;34m\u001b[0m\u001b[0;34m\u001b[0m\u001b[0m\n\u001b[1;32m     77\u001b[0m             \u001b[0;31m# GH#13601, GH#20285, GH#27125\u001b[0m\u001b[0;34m\u001b[0m\u001b[0;34m\u001b[0m\u001b[0;34m\u001b[0m\u001b[0m\n\u001b[0;32m---> 78\u001b[0;31m             \u001b[0;32mraise\u001b[0m \u001b[0mValueError\u001b[0m\u001b[0;34m(\u001b[0m\u001b[0;34m\"Index data must be 1-dimensional\"\u001b[0m\u001b[0;34m)\u001b[0m\u001b[0;34m\u001b[0m\u001b[0;34m\u001b[0m\u001b[0m\n\u001b[0m\u001b[1;32m     79\u001b[0m \u001b[0;34m\u001b[0m\u001b[0m\n\u001b[1;32m     80\u001b[0m         \u001b[0mname\u001b[0m \u001b[0;34m=\u001b[0m \u001b[0mmaybe_extract_name\u001b[0m\u001b[0;34m(\u001b[0m\u001b[0mname\u001b[0m\u001b[0;34m,\u001b[0m \u001b[0mdata\u001b[0m\u001b[0;34m,\u001b[0m \u001b[0mcls\u001b[0m\u001b[0;34m)\u001b[0m\u001b[0;34m\u001b[0m\u001b[0;34m\u001b[0m\u001b[0m\n",
            "\u001b[0;31mValueError\u001b[0m: Index data must be 1-dimensional"
          ]
        }
      ]
    }
  ]
}