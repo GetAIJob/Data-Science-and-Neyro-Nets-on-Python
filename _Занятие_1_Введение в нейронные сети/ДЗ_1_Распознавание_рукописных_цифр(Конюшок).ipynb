{
  "nbformat": 4,
  "nbformat_minor": 0,
  "metadata": {
    "colab": {
      "name": "ДЗ_1_Распознавание рукописных цифр(Конюшок).ipynb",
      "provenance": [],
      "collapsed_sections": [],
      "toc_visible": true,
      "mount_file_id": "1jcO-dVvdyp8KlNxrgnQ1Ltur2Uh16YBN",
      "authorship_tag": "ABX9TyNUXAz3AFskXTuWiyH0On9J",
      "include_colab_link": true
    },
    "kernelspec": {
      "name": "python3",
      "display_name": "Python 3"
    }
  },
  "cells": [
    {
      "cell_type": "markdown",
      "metadata": {
        "id": "view-in-github",
        "colab_type": "text"
      },
      "source": [
        "<a href=\"https://colab.research.google.com/github/ikonushok/My_studying_Data-Science-and-Neyro-Nets-on-Python/blob/master/%D0%94%D0%97_1_%D0%A0%D0%B0%D1%81%D0%BF%D0%BE%D0%B7%D0%BD%D0%B0%D0%B2%D0%B0%D0%BD%D0%B8%D0%B5_%D1%80%D1%83%D0%BA%D0%BE%D0%BF%D0%B8%D1%81%D0%BD%D1%8B%D1%85_%D1%86%D0%B8%D1%84%D1%80(%D0%9A%D0%BE%D0%BD%D1%8E%D1%88%D0%BE%D0%BA).ipynb\" target=\"_parent\"><img src=\"https://colab.research.google.com/assets/colab-badge.svg\" alt=\"Open In Colab\"/></a>"
      ]
    },
    {
      "cell_type": "markdown",
      "metadata": {
        "id": "R5wZfZsBJh_V",
        "colab_type": "text"
      },
      "source": [
        "# Light: Вариант 1"
      ]
    },
    {
      "cell_type": "markdown",
      "metadata": {
        "id": "QmKmX1atJ0gP",
        "colab_type": "text"
      },
      "source": [
        "Перепишите ноутбук по распознаванию рукописных цифр, восстановив следующие операции:\n",
        "1. Импорт библиотек.\n",
        "2. Загрузка базы mnist.\n",
        "3. Нормирование и преобразование x_train и y_train.\n",
        "4. Создание нейронной сети.\n",
        "5. Обучение нейронной сети.\n",
        "Можно смотреть в ноутбук с занятия, но код необходимо писать самостоятельно."
      ]
    },
    {
      "cell_type": "markdown",
      "metadata": {
        "id": "-XOtNqhnMUli",
        "colab_type": "text"
      },
      "source": [
        "## 1. Импорт библиотек"
      ]
    },
    {
      "cell_type": "code",
      "metadata": {
        "id": "gtZkzAzOKJ_E",
        "colab_type": "code",
        "colab": {}
      },
      "source": [
        "from tensorflow.keras.datasets import mnist     # Библиотека с базой Mnist\n",
        "from tensorflow.keras import utils              # Утилиты для to_categorical\n",
        "from tensorflow.keras.models import Sequential  # Класс создания модели Sequential\n",
        "from tensorflow.keras.layers import Dense       # Класс Dense - полносвязный слой\n",
        "\n",
        "# Для графики:\n",
        "import matplotlib.pyplot as plt \n",
        "from PIL import Image \n",
        "\n",
        "import numpy as np  # Кудаж без него\n",
        "\n",
        "# Добавил от себя автоматическую остановку обученя нейронки после того, как начинается обратный эффект )\n",
        "from tensorflow.keras.callbacks import EarlyStopping"
      ],
      "execution_count": 1,
      "outputs": []
    },
    {
      "cell_type": "markdown",
      "metadata": {
        "id": "oD2EAeK2MdWH",
        "colab_type": "text"
      },
      "source": [
        "## 2. Загрузка базы mnist"
      ]
    },
    {
      "cell_type": "code",
      "metadata": {
        "id": "cG8N47vvJsIC",
        "colab_type": "code",
        "colab": {
          "base_uri": "https://localhost:8080/",
          "height": 51
        },
        "outputId": "f197ef6d-e023-40df-c79e-5bfb6530c158"
      },
      "source": [
        "(x_train_org, y_train_org), (x_test_org, y_test_org) = mnist.load_data() # Загрузка данных Mnist"
      ],
      "execution_count": 2,
      "outputs": [
        {
          "output_type": "stream",
          "text": [
            "Downloading data from https://storage.googleapis.com/tensorflow/tf-keras-datasets/mnist.npz\n",
            "11493376/11490434 [==============================] - 0s 0us/step\n"
          ],
          "name": "stdout"
        }
      ]
    },
    {
      "cell_type": "code",
      "metadata": {
        "id": "9miPPZpF5xQQ",
        "colab_type": "code",
        "colab": {}
      },
      "source": [
        "#x_train_org[0]  # Можно посмотреть массив с данными"
      ],
      "execution_count": null,
      "outputs": []
    },
    {
      "cell_type": "code",
      "metadata": {
        "id": "V_WSVsKkKljd",
        "colab_type": "code",
        "colab": {}
      },
      "source": [
        "#y_train_org[0]  # Метки ответов (от 0 до 9: какая цифра изображена на соответствующей картинке в массиве x_train_org)"
      ],
      "execution_count": null,
      "outputs": []
    },
    {
      "cell_type": "code",
      "metadata": {
        "id": "EP_MaTiBM4xx",
        "colab_type": "code",
        "colab": {
          "base_uri": "https://localhost:8080/",
          "height": 265
        },
        "outputId": "071c5289-31c0-4e39-8586-26eb8ef39c22"
      },
      "source": [
        "# Можно посмотреть на рисунок цифры по номеру\n",
        "n = 12 #Номер картинки\n",
        "plt.imshow(x_train_org[n], cmap='Greys') #Отрисовка картинки\n",
        "plt.show() # Вывод картинки\n",
        "#plt.imshow(x_train_org[n+1], cmap='Greys') #Отрисовка картинки\n",
        "#plt.show() # Вывод картинки"
      ],
      "execution_count": 3,
      "outputs": [
        {
          "output_type": "display_data",
          "data": {
            "image/png": "[encoded data removed]",
            "text/plain": [
              "<Figure size 432x288 with 1 Axes>"
            ]
          },
          "metadata": {
            "tags": [],
            "needs_background": "light"
          }
        }
      ]
    },
    {
      "cell_type": "markdown",
      "metadata": {
        "id": "g0NlAGuvMlTx",
        "colab_type": "text"
      },
      "source": [
        "## 3. Нормирование и преобразование x_train и y_train"
      ]
    },
    {
      "cell_type": "code",
      "metadata": {
        "id": "9AVqnva7Kl0P",
        "colab_type": "code",
        "colab": {
          "base_uri": "https://localhost:8080/",
          "height": 51
        },
        "outputId": "4178356f-1c4e-4ddd-fa9f-e3700037c416"
      },
      "source": [
        "#Меняем формат входных картинок с 28х28 на 784х1\n",
        "x_train = x_train_org.reshape(60000, 784)\n",
        "x_test = x_test_org.reshape(10000, 784)\n",
        "print(x_train_org.shape)  # Массив для обучения\n",
        "print(x_test_org.shape) # Массив для проверки качества обучения"
      ],
      "execution_count": 4,
      "outputs": [
        {
          "output_type": "stream",
          "text": [
            "(60000, 28, 28)\n",
            "(10000, 28, 28)\n"
          ],
          "name": "stdout"
        }
      ]
    },
    {
      "cell_type": "code",
      "metadata": {
        "id": "arc69rCWKlSZ",
        "colab_type": "code",
        "colab": {}
      },
      "source": [
        "#Нормализуем входные картинки\n",
        "x_train = x_train.astype('float32') # преобразовываем x_train в тип float (цифры с плавающей точкой)\n",
        "x_train = x_train / 255 # делим на 255, чтобы диапазон был от 0 до 1\n",
        "x_test = x_test.astype('float32') # преобразовываем x_test в тип float (цифры с плавающей точкой)\n",
        "x_test = x_test / 255 # делим на 255, чтобы диапазон был от 0 до 1"
      ],
      "execution_count": 5,
      "outputs": []
    },
    {
      "cell_type": "code",
      "metadata": {
        "id": "l_YZrGemQ_2p",
        "colab_type": "code",
        "colab": {}
      },
      "source": [
        "# Преобразуем ответы в формат one_hot_encoding\n",
        "y_train = utils.to_categorical(y_train_org, 10)\n",
        "y_test = utils.to_categorical(y_test_org, 10)"
      ],
      "execution_count": 6,
      "outputs": []
    },
    {
      "cell_type": "code",
      "metadata": {
        "id": "0t_Z4VVaRjZo",
        "colab_type": "code",
        "colab": {
          "base_uri": "https://localhost:8080/",
          "height": 51
        },
        "outputId": "7ffca1d1-eac5-4087-abbb-a864687319f4"
      },
      "source": [
        "#Выводим размер y_train\n",
        "print(y_train.shape)  # 60 тысяч примеров, каждый размера 10 (так как 10 классов)\n",
        "print(y_train[4]) # Выводим пример одного выходного вектора"
      ],
      "execution_count": 7,
      "outputs": [
        {
          "output_type": "stream",
          "text": [
            "(60000, 10)\n",
            "[0. 0. 0. 0. 0. 0. 0. 0. 0. 1.]\n"
          ],
          "name": "stdout"
        }
      ]
    },
    {
      "cell_type": "markdown",
      "metadata": {
        "id": "zUn165gySu3K",
        "colab_type": "text"
      },
      "source": [
        "## 4. Создание нейронной сети"
      ]
    },
    {
      "cell_type": "code",
      "metadata": {
        "id": "1UNVw8-hRjwF",
        "colab_type": "code",
        "colab": {}
      },
      "source": [
        "model = Sequential() # Создаём сеть прямого распространения\n",
        "model.add(Dense(800, input_dim=784, activation=\"relu\")) # Добавляем полносвязный слой \n",
        "# на 800 нейронов с relu-активацией\n",
        "model.add(Dense(400, activation=\"relu\")) # Добавляем полносвязный слой на 400 нейронов \n",
        "#с relu-активацией\n",
        "model.add(Dense(10, activation=\"softmax\")) # Добавляем ВЫХОДНОЙ слой на 10 нейронов \n",
        "# с softmax-активацией. \n",
        "# Эта функция преобразует все 10 значений выходного слоя таким образом, что сумма значений будет равна 1\n",
        "# получим 10 значений, соответствующих вероятностям, с которыми модель определила ту или иную цифру"
      ],
      "execution_count": 8,
      "outputs": []
    },
    {
      "cell_type": "code",
      "metadata": {
        "id": "dVMx483hRjKU",
        "colab_type": "code",
        "colab": {
          "base_uri": "https://localhost:8080/",
          "height": 272
        },
        "outputId": "a774feb9-97f7-42a7-8ae4-562dd8ee166b"
      },
      "source": [
        "# Компилируем модель\n",
        "model.compile(loss=\"categorical_crossentropy\", \n",
        "              optimizer=\"adam\", \n",
        "              metrics=[\"accuracy\"]) \n",
        "\n",
        "print(model.summary()) #Вывод структуры модели"
      ],
      "execution_count": 9,
      "outputs": [
        {
          "output_type": "stream",
          "text": [
            "Model: \"sequential\"\n",
            "_________________________________________________________________\n",
            "Layer (type)                 Output Shape              Param #   \n",
            "=================================================================\n",
            "dense (Dense)                (None, 800)               628000    \n",
            "_________________________________________________________________\n",
            "dense_1 (Dense)              (None, 400)               320400    \n",
            "_________________________________________________________________\n",
            "dense_2 (Dense)              (None, 10)                4010      \n",
            "=================================================================\n",
            "Total params: 952,410\n",
            "Trainable params: 952,410\n",
            "Non-trainable params: 0\n",
            "_________________________________________________________________\n",
            "None\n"
          ],
          "name": "stdout"
        }
      ]
    },
    {
      "cell_type": "markdown",
      "metadata": {
        "id": "i5UfJ05wTv1Q",
        "colab_type": "text"
      },
      "source": [
        "## 5. Обучение нейронной сети"
      ]
    },
    {
      "cell_type": "code",
      "metadata": {
        "id": "NOTSkSwXT0LI",
        "colab_type": "code",
        "colab": {
          "base_uri": "https://localhost:8080/",
          "height": 258
        },
        "outputId": "a95e6e53-596b-4b58-81a5-7e258590cbe8"
      },
      "source": [
        "from tensorflow.keras.callbacks import EarlyStopping\n",
        "\n",
        "#Прекращение обучения, когда параметр val_loss перестает улучшаться - не удержался ))\n",
        "#часа два разбирался с тем, как остановить перебор ))\n",
        "\n",
        "early_stopping = EarlyStopping(monitor = 'val_loss', \n",
        "                               patience=2, # Число эпох, в течении которых должен ухудшаться val_loss\n",
        "                               restore_best_weights = True)\n",
        "\n",
        "# fit - функция обучения нейронки\n",
        "model.fit(x_train, y_train, # x_train, y_train - обучающая выборка, входные и выходные данные\n",
        "          batch_size=128, # batch_size - размер батча, количество примеров, которое обрабатывает нейронка перед одним изменением весов\n",
        "          epochs=15, # epochs - количество эпох, когда нейронка обучается на всех примерах выборки\n",
        "          verbose=1, # verbose - 0 - не визуализировать ход обучения, 1 - визуализировать\n",
        "          validation_split=0.2, \n",
        "          callbacks=[early_stopping])\n"
      ],
      "execution_count": 10,
      "outputs": [
        {
          "output_type": "stream",
          "text": [
            "Epoch 1/15\n",
            "375/375 [==============================] - 7s 19ms/step - loss: 0.2333 - accuracy: 0.9302 - val_loss: 0.1070 - val_accuracy: 0.9676\n",
            "Epoch 2/15\n",
            "375/375 [==============================] - 7s 19ms/step - loss: 0.0804 - accuracy: 0.9756 - val_loss: 0.0993 - val_accuracy: 0.9711\n",
            "Epoch 3/15\n",
            "375/375 [==============================] - 7s 19ms/step - loss: 0.0511 - accuracy: 0.9836 - val_loss: 0.0847 - val_accuracy: 0.9748\n",
            "Epoch 4/15\n",
            "375/375 [==============================] - 7s 19ms/step - loss: 0.0362 - accuracy: 0.9883 - val_loss: 0.0770 - val_accuracy: 0.9778\n",
            "Epoch 5/15\n",
            "375/375 [==============================] - 7s 20ms/step - loss: 0.0251 - accuracy: 0.9917 - val_loss: 0.0799 - val_accuracy: 0.9775\n",
            "Epoch 6/15\n",
            "375/375 [==============================] - 7s 20ms/step - loss: 0.0197 - accuracy: 0.9937 - val_loss: 0.1024 - val_accuracy: 0.9763\n"
          ],
          "name": "stdout"
        },
        {
          "output_type": "execute_result",
          "data": {
            "text/plain": [
              "<tensorflow.python.keras.callbacks.History at 0x7f425b5be7f0>"
            ]
          },
          "metadata": {
            "tags": []
          },
          "execution_count": 10
        }
      ]
    },
    {
      "cell_type": "code",
      "metadata": {
        "id": "l-on16HwT0as",
        "colab_type": "code",
        "colab": {}
      },
      "source": [
        "# После 5й эпохи показатели обучения нейронки ОБЫЧНО начинают \"колбасить\""
      ],
      "execution_count": null,
      "outputs": []
    },
    {
      "cell_type": "markdown",
      "metadata": {
        "id": "AWttz3-n0M-X",
        "colab_type": "text"
      },
      "source": [
        "## 6. Проверка обученности сети + кое что от себя"
      ]
    },
    {
      "cell_type": "code",
      "metadata": {
        "id": "XEfNHPdRTyG2",
        "colab_type": "code",
        "colab": {
          "base_uri": "https://localhost:8080/",
          "height": 265
        },
        "outputId": "f6c32f50-7fc2-472c-aa3f-eb0f4115c7d3"
      },
      "source": [
        "n_rec = 151 #Номер тестовой цифры, которую будем распознавать (для примера взял специально одну из ошибок распознавания\n",
        "\n",
        "import matplotlib.pyplot as plt #Отрисовка изображений\n",
        "from PIL import Image #Отрисовка изображений\n",
        "\n",
        "plt.imshow(Image.fromarray(x_test_org[n_rec]).convert('RGBA')) # Нарисуем картинку из тестового набора под номером n_rec\n",
        "plt.show()"
      ],
      "execution_count": 11,
      "outputs": [
        {
          "output_type": "display_data",
          "data": {
            "image/png": "[encoded data removed]",
            "text/plain": [
              "<Figure size 432x288 with 1 Axes>"
            ]
          },
          "metadata": {
            "tags": [],
            "needs_background": "light"
          }
        }
      ]
    },
    {
      "cell_type": "code",
      "metadata": {
        "id": "rMICnZ9y3PmP",
        "colab_type": "code",
        "colab": {
          "base_uri": "https://localhost:8080/",
          "height": 34
        },
        "outputId": "cb21187e-2672-4a9d-d9d2-6f113e1c4aad"
      },
      "source": [
        "#Выбираем нужную картинку из тестовой выборки\n",
        "x = x_test[n_rec]\n",
        "print(x.shape)"
      ],
      "execution_count": 12,
      "outputs": [
        {
          "output_type": "stream",
          "text": [
            "(784,)\n"
          ],
          "name": "stdout"
        }
      ]
    },
    {
      "cell_type": "code",
      "metadata": {
        "id": "_ebTWfcK3Q9c",
        "colab_type": "code",
        "colab": {
          "base_uri": "https://localhost:8080/",
          "height": 34
        },
        "outputId": "7f33be0a-27ab-4d8b-e2e8-c0888cad3dcb"
      },
      "source": [
        "#Добавляем одну размерность в конце, чтобы нейронка могла распознать пример\n",
        "#Потому что нейронка принимает именно массив примеров для распознавания\n",
        "#Мы делаем массив из одного примера\n",
        "\n",
        "import numpy as np  #знаю, что не надо второй раз импоортировать, но, кажется, правильнее подключать модули по ходу их надобности, а не сразу?\n",
        "\n",
        "x = np.expand_dims(x, axis=0)\n",
        "print(x.shape)"
      ],
      "execution_count": 13,
      "outputs": [
        {
          "output_type": "stream",
          "text": [
            "(1, 784)\n"
          ],
          "name": "stdout"
        }
      ]
    },
    {
      "cell_type": "code",
      "metadata": {
        "id": "Y2DG0BD73WQZ",
        "colab_type": "code",
        "colab": {
          "base_uri": "https://localhost:8080/",
          "height": 51
        },
        "outputId": "efc50719-69d4-4901-bc90-86b279feb455"
      },
      "source": [
        "prediction = model.predict(x) #Распознаём наш пример\n",
        "prediction = np.argmax(prediction) # Получаем индекс самого большого элемента \n",
        "#(это итоговая цифра, которую распознала сеть)\n",
        "print('Ответ нейросети: ' , prediction)\n",
        "print('Правильный ответ: ' , y_test_org[n_rec])"
      ],
      "execution_count": 15,
      "outputs": [
        {
          "output_type": "stream",
          "text": [
            "Ответ нейросети:  8\n",
            "Правильный ответ:  9\n"
          ],
          "name": "stdout"
        }
      ]
    },
    {
      "cell_type": "code",
      "metadata": {
        "id": "BgsvPSzX4QJR",
        "colab_type": "code",
        "colab": {
          "base_uri": "https://localhost:8080/",
          "height": 153
        },
        "outputId": "c9198020-98bc-4f64-e109-0e901d3aefb4"
      },
      "source": [
        "# От себя добавил цикл для распознавания всех тестовых вариантов и вывода картинок - ошибок распознавания\n",
        "# До этого заметил, что если вовремя не остановить модель, то ошибок распознавания все больше и больше...\n",
        "\n",
        "arr_test = []\n",
        "for i in range(1, 10000, 15):   # Выбираю каждую 15ю картинку\n",
        "  x = x_test[i]\n",
        "  x = np.expand_dims(x, axis=0)\n",
        "  prediction = model.predict(x) # Распознаём наш пример\n",
        "  prediction = np.argmax(prediction) # Получаем индекс самого большого элемента (это итоговая цифра, которую распознала сеть)\n",
        "\n",
        "  if prediction == y_test_org[i]:\n",
        "    arr_test.append('True')\n",
        "  else:\n",
        "    arr_test.append('False')\n",
        "    print('Индекс: ', i, 'Ответ нейросети: ' , prediction , '\\t' , 'Правильный ответ: ' , y_test_org[i])\n",
        "#    plt.imshow(Image.fromarray(x_test_org[i]).convert('RGBA')) # Нарисуем картинку из тестового набора под номером n_rec\n",
        "#    plt.show()\n",
        "\n",
        "from collections import Counter\n",
        "print(Counter(arr_test))"
      ],
      "execution_count": 16,
      "outputs": [
        {
          "output_type": "stream",
          "text": [
            "Индекс:  151 Ответ нейросети:  8 \t Правильный ответ:  9\n",
            "Индекс:  1681 Ответ нейросети:  7 \t Правильный ответ:  3\n",
            "Индекс:  2266 Ответ нейросети:  8 \t Правильный ответ:  1\n",
            "Индекс:  3451 Ответ нейросети:  3 \t Правильный ответ:  7\n",
            "Индекс:  4966 Ответ нейросети:  8 \t Правильный ответ:  7\n",
            "Индекс:  6166 Ответ нейросети:  3 \t Правильный ответ:  9\n",
            "Индекс:  7216 Ответ нейросети:  3 \t Правильный ответ:  0\n",
            "Counter({'True': 660, 'False': 7})\n"
          ],
          "name": "stdout"
        }
      ]
    },
    {
      "cell_type": "markdown",
      "metadata": {
        "id": "bMyRrYRI_2CB",
        "colab_type": "text"
      },
      "source": [
        "# Light: Вариант 2\n",
        "Проведите серию экспериментов по перебору гиперпараметров нейронной сети, созданной на занятии."
      ]
    },
    {
      "cell_type": "markdown",
      "metadata": {
        "id": "wsxWheS5_99D",
        "colab_type": "text"
      },
      "source": [
        "## 1. Поменяйте количество нейронов в сети\n",
        "Используя следующие значения: слои по 5000, 100 и 10 нейронов"
      ]
    },
    {
      "cell_type": "code",
      "metadata": {
        "id": "6zXTyPCEAM_a",
        "colab_type": "code",
        "colab": {}
      },
      "source": [
        "# Создаю нейронную сеть\n",
        "model_10_100_5000 = Sequential() # Срздание сети\n",
        "model_10_100_5000.add(Dense(5000, input_dim=784, activation=\"relu\")) # Добавляем полносвязный слой на 10 нейронов с relu-активацией\n",
        "model_10_100_5000.add(Dense(100, activation=\"relu\")) # Добавляем полносвязный слой на 100 нейронов с relu-активацией\n",
        "model_10_100_5000.add(Dense(10, activation=\"softmax\")) # Добавляем полносвязный слой на 5000 нейронов с softmax-активацией"
      ],
      "execution_count": 17,
      "outputs": []
    },
    {
      "cell_type": "code",
      "metadata": {
        "id": "mC-k3-EvAcIS",
        "colab_type": "code",
        "colab": {
          "base_uri": "https://localhost:8080/",
          "height": 272
        },
        "outputId": "df7ee98e-371c-476a-912e-dbecfa96acb8"
      },
      "source": [
        "# Компилируем модель\n",
        "model_10_100_5000.compile(loss=\"categorical_crossentropy\", \n",
        "                          optimizer=\"adam\", \n",
        "                          metrics=[\"accuracy\"]) \n",
        "\n",
        "print(model_10_100_5000.summary()) #Вывод структуры модели"
      ],
      "execution_count": 18,
      "outputs": [
        {
          "output_type": "stream",
          "text": [
            "Model: \"sequential_1\"\n",
            "_________________________________________________________________\n",
            "Layer (type)                 Output Shape              Param #   \n",
            "=================================================================\n",
            "dense_3 (Dense)              (None, 5000)              3925000   \n",
            "_________________________________________________________________\n",
            "dense_4 (Dense)              (None, 100)               500100    \n",
            "_________________________________________________________________\n",
            "dense_5 (Dense)              (None, 10)                1010      \n",
            "=================================================================\n",
            "Total params: 4,426,110\n",
            "Trainable params: 4,426,110\n",
            "Non-trainable params: 0\n",
            "_________________________________________________________________\n",
            "None\n"
          ],
          "name": "stdout"
        }
      ]
    },
    {
      "cell_type": "code",
      "metadata": {
        "id": "315HH3NN0prB",
        "colab_type": "code",
        "colab": {
          "base_uri": "https://localhost:8080/",
          "height": 292
        },
        "outputId": "3d92e6a0-b412-4327-a782-fdcae5bcf9df"
      },
      "source": [
        "# Обучение нейронной сети\n",
        "early_stopping = EarlyStopping(monitor = 'val_loss', patience=2, restore_best_weights = True)\n",
        "model_10_100_5000.fit(x_train, y_train, \n",
        "                      batch_size=128, \n",
        "                      epochs=15, verbose=1, \n",
        "                      validation_split=0.2, \n",
        "                      callbacks=[early_stopping])\n"
      ],
      "execution_count": 19,
      "outputs": [
        {
          "output_type": "stream",
          "text": [
            "Epoch 1/15\n",
            "375/375 [==============================] - 27s 72ms/step - loss: 0.2031 - accuracy: 0.9376 - val_loss: 0.1164 - val_accuracy: 0.9653\n",
            "Epoch 2/15\n",
            "375/375 [==============================] - 27s 72ms/step - loss: 0.0798 - accuracy: 0.9751 - val_loss: 0.0991 - val_accuracy: 0.9706\n",
            "Epoch 3/15\n",
            "375/375 [==============================] - 27s 71ms/step - loss: 0.0500 - accuracy: 0.9840 - val_loss: 0.0850 - val_accuracy: 0.9760\n",
            "Epoch 4/15\n",
            "375/375 [==============================] - 26s 71ms/step - loss: 0.0336 - accuracy: 0.9890 - val_loss: 0.0914 - val_accuracy: 0.9756\n",
            "Epoch 5/15\n",
            "375/375 [==============================] - 26s 71ms/step - loss: 0.0279 - accuracy: 0.9911 - val_loss: 0.0831 - val_accuracy: 0.9782\n",
            "Epoch 6/15\n",
            "375/375 [==============================] - 27s 71ms/step - loss: 0.0208 - accuracy: 0.9930 - val_loss: 0.0990 - val_accuracy: 0.9752\n",
            "Epoch 7/15\n",
            "375/375 [==============================] - 27s 72ms/step - loss: 0.0187 - accuracy: 0.9941 - val_loss: 0.0959 - val_accuracy: 0.9781\n"
          ],
          "name": "stdout"
        },
        {
          "output_type": "execute_result",
          "data": {
            "text/plain": [
              "<tensorflow.python.keras.callbacks.History at 0x7f4257eb8208>"
            ]
          },
          "metadata": {
            "tags": []
          },
          "execution_count": 19
        }
      ]
    },
    {
      "cell_type": "code",
      "metadata": {
        "id": "-D7ro8_j2_EV",
        "colab_type": "code",
        "colab": {
          "base_uri": "https://localhost:8080/",
          "height": 306
        },
        "outputId": "5b0b8d76-d4fa-4d1e-ff44-ba145cb95d84"
      },
      "source": [
        "# ПРОВЕРКА\n",
        "\n",
        "arr_test = []\n",
        "for i in range(1, 10000, 15):   # Выбираю каждую 15ю картинку\n",
        "  x = x_test[i] #Выбираем нужную картинку из тестовой выборки\n",
        "  x = np.expand_dims(x, axis=0) #Добавляем одну размерность в конце, чтобы нейронка могла распознать пример\n",
        "  prediction = model_10_100_5000.predict(x) # Распознаём пример\n",
        "  prediction = np.argmax(prediction) # Получаем индекс самого большого элемента (это итоговая цифра, которую распознала сеть)\n",
        "\n",
        "  if prediction == y_test_org[i]:\n",
        "    arr_test.append('True')\n",
        "  else:\n",
        "    arr_test.append('False')\n",
        "    print('Индекс: ', i, 'Ответ нейросети: ' , prediction , '\\t' , 'Правильный ответ: ' , y_test_org[i])\n",
        "#    plt.imshow(Image.fromarray(x_test_org[i]).convert('RGBA')) # Нарисуем картинку из тестового набора под номером n_rec\n",
        "#    plt.show()\n",
        "\n",
        "from collections import Counter\n",
        "print(Counter(arr_test))"
      ],
      "execution_count": 20,
      "outputs": [
        {
          "output_type": "stream",
          "text": [
            "Индекс:  646 Ответ нейросети:  6 \t Правильный ответ:  2\n",
            "Индекс:  691 Ответ нейросети:  4 \t Правильный ответ:  8\n",
            "Индекс:  1156 Ответ нейросети:  8 \t Правильный ответ:  7\n",
            "Индекс:  1621 Ответ нейросети:  6 \t Правильный ответ:  0\n",
            "Индекс:  1681 Ответ нейросети:  7 \t Правильный ответ:  3\n",
            "Индекс:  2266 Ответ нейросети:  6 \t Правильный ответ:  1\n",
            "Индекс:  3451 Ответ нейросети:  9 \t Правильный ответ:  7\n",
            "Индекс:  3601 Ответ нейросети:  4 \t Правильный ответ:  1\n",
            "Индекс:  3796 Ответ нейросети:  8 \t Правильный ответ:  2\n",
            "Индекс:  3811 Ответ нейросети:  0 \t Правильный ответ:  2\n",
            "Индекс:  5926 Ответ нейросети:  9 \t Правильный ответ:  4\n",
            "Индекс:  6166 Ответ нейросети:  3 \t Правильный ответ:  9\n",
            "Индекс:  6571 Ответ нейросети:  7 \t Правильный ответ:  9\n",
            "Индекс:  7216 Ответ нейросети:  6 \t Правильный ответ:  0\n",
            "Индекс:  7921 Ответ нейросети:  0 \t Правильный ответ:  8\n",
            "Индекс:  8311 Ответ нейросети:  4 \t Правильный ответ:  6\n",
            "Counter({'True': 651, 'False': 16})\n"
          ],
          "name": "stdout"
        }
      ]
    },
    {
      "cell_type": "markdown",
      "metadata": {
        "id": "g4oW8xSP3_Ep",
        "colab_type": "text"
      },
      "source": [
        "### Вывод: \n",
        "1.   если первый слой увеличить с 800 нейронов до 5000, то увеличивается период обучения (изза роста числа Total params в 4,5 раза!!, при сопоставимом качестве\n",
        "2.   влияние уменьшения второго слоя с 400 до 100 пока не понятно"
      ]
    },
    {
      "cell_type": "markdown",
      "metadata": {
        "id": "1akf4-s44RbI",
        "colab_type": "text"
      },
      "source": [
        "## 2. Поменяйте активационную функцию в скрытых слоях с relu на linear."
      ]
    },
    {
      "cell_type": "code",
      "metadata": {
        "id": "BTOACwyP5Nq0",
        "colab_type": "code",
        "colab": {}
      },
      "source": [
        "# Создаю нейронную сеть\n",
        "model_linear = Sequential() # Срздание сети\n",
        "model_linear.add(Dense(800, input_dim=784, activation=\"linear\")) \n",
        "model_linear.add(Dense(400, activation=\"linear\")) \n",
        "model_linear.add(Dense(10, activation=\"softmax\")) "
      ],
      "execution_count": 21,
      "outputs": []
    },
    {
      "cell_type": "code",
      "metadata": {
        "id": "BUbySZLj5tZ-",
        "colab_type": "code",
        "colab": {
          "base_uri": "https://localhost:8080/",
          "height": 272
        },
        "outputId": "88de6dca-1b0d-45fb-8d1b-1530574cbc01"
      },
      "source": [
        "# Компилируем модель\n",
        "model_linear.compile(loss=\"categorical_crossentropy\", \n",
        "                          optimizer=\"adam\", \n",
        "                          metrics=[\"accuracy\"]) \n",
        "\n",
        "print(model_linear.summary()) # Вывод структуры модели"
      ],
      "execution_count": 22,
      "outputs": [
        {
          "output_type": "stream",
          "text": [
            "Model: \"sequential_2\"\n",
            "_________________________________________________________________\n",
            "Layer (type)                 Output Shape              Param #   \n",
            "=================================================================\n",
            "dense_6 (Dense)              (None, 800)               628000    \n",
            "_________________________________________________________________\n",
            "dense_7 (Dense)              (None, 400)               320400    \n",
            "_________________________________________________________________\n",
            "dense_8 (Dense)              (None, 10)                4010      \n",
            "=================================================================\n",
            "Total params: 952,410\n",
            "Trainable params: 952,410\n",
            "Non-trainable params: 0\n",
            "_________________________________________________________________\n",
            "None\n"
          ],
          "name": "stdout"
        }
      ]
    },
    {
      "cell_type": "code",
      "metadata": {
        "id": "XhAVCJCZ6EI-",
        "colab_type": "code",
        "colab": {
          "base_uri": "https://localhost:8080/",
          "height": 292
        },
        "outputId": "510e4ca9-7362-4324-e944-4f13de026b2f"
      },
      "source": [
        "# Обучение нейронной сети\n",
        "early_stopping = EarlyStopping(monitor = 'val_loss', patience=2, restore_best_weights = True)\n",
        "model_linear.fit(x_train, y_train, \n",
        "                      batch_size=128, \n",
        "                      epochs=15, verbose=1, \n",
        "                      validation_split=0.2, \n",
        "                      callbacks=[early_stopping])"
      ],
      "execution_count": 23,
      "outputs": [
        {
          "output_type": "stream",
          "text": [
            "Epoch 1/15\n",
            "375/375 [==============================] - 7s 19ms/step - loss: 0.4053 - accuracy: 0.8836 - val_loss: 0.3258 - val_accuracy: 0.9070\n",
            "Epoch 2/15\n",
            "375/375 [==============================] - 7s 19ms/step - loss: 0.3381 - accuracy: 0.9065 - val_loss: 0.3144 - val_accuracy: 0.9119\n",
            "Epoch 3/15\n",
            "375/375 [==============================] - 7s 19ms/step - loss: 0.3159 - accuracy: 0.9124 - val_loss: 0.3240 - val_accuracy: 0.9084\n",
            "Epoch 4/15\n",
            "375/375 [==============================] - 7s 19ms/step - loss: 0.3128 - accuracy: 0.9107 - val_loss: 0.3005 - val_accuracy: 0.9147\n",
            "Epoch 5/15\n",
            "375/375 [==============================] - 7s 19ms/step - loss: 0.3020 - accuracy: 0.9151 - val_loss: 0.2893 - val_accuracy: 0.9207\n",
            "Epoch 6/15\n",
            "375/375 [==============================] - 7s 19ms/step - loss: 0.2983 - accuracy: 0.9168 - val_loss: 0.3029 - val_accuracy: 0.9155\n",
            "Epoch 7/15\n",
            "375/375 [==============================] - 7s 19ms/step - loss: 0.2962 - accuracy: 0.9157 - val_loss: 0.2975 - val_accuracy: 0.9183\n"
          ],
          "name": "stdout"
        },
        {
          "output_type": "execute_result",
          "data": {
            "text/plain": [
              "<tensorflow.python.keras.callbacks.History at 0x7f42579d4dd8>"
            ]
          },
          "metadata": {
            "tags": []
          },
          "execution_count": 23
        }
      ]
    },
    {
      "cell_type": "code",
      "metadata": {
        "id": "ti0TIYPN6I8e",
        "colab_type": "code",
        "colab": {
          "base_uri": "https://localhost:8080/",
          "height": 34
        },
        "outputId": "6e18394f-4dfa-4818-f4d6-daeed18bf778"
      },
      "source": [
        "# ПРОВЕРКА\n",
        "\n",
        "arr_test = []\n",
        "for i in range(1, 10000, 15):   # Выбираю каждую 15ю картинку\n",
        "  x = x_test[i] #Выбираем нужную картинку из тестовой выборки\n",
        "  x = np.expand_dims(x, axis=0) #Добавляем одну размерность в конце, чтобы нейронка могла распознать пример\n",
        "  prediction = model_linear.predict(x) # Распознаём пример\n",
        "  prediction = np.argmax(prediction) # Получаем индекс самого большого элемента (это итоговая цифра, которую распознала сеть)\n",
        "\n",
        "  if prediction == y_test_org[i]:\n",
        "    arr_test.append('True')\n",
        "  else:\n",
        "    arr_test.append('False')\n",
        "#    print('Индекс: ', i, 'Ответ нейросети: ' , prediction , '\\t' , 'Правильный ответ: ' , y_test_org[i])\n",
        "#    plt.imshow(Image.fromarray(x_test_org[i]).convert('RGBA')) # Нарисуем картинку из тестового набора под номером n_rec\n",
        "#    plt.show()\n",
        "\n",
        "from collections import Counter\n",
        "print(Counter(arr_test))"
      ],
      "execution_count": 24,
      "outputs": [
        {
          "output_type": "stream",
          "text": [
            "Counter({'True': 617, 'False': 50})\n"
          ],
          "name": "stdout"
        }
      ]
    },
    {
      "cell_type": "markdown",
      "metadata": {
        "id": "WM1F3Psc7uAK",
        "colab_type": "text"
      },
      "source": [
        "### Вывод:\n",
        "1.   Активационная функция Linear плохо подходит для решения данной задачи\n",
        "2.   Для работы с нейронками, конечно, можно просто подбирать руками разные параметры и акцивационные функции, но НЕОБХОДИМО РАЗБИРАТЬСЯ В РАБОТЕ КАЖДОГО МЕТОДА И ЗНАТЬ ТЕОРИЮ!! - это существенно ускорит работу по построению и обучению сете\n",
        "\n"
      ]
    },
    {
      "cell_type": "markdown",
      "metadata": {
        "id": "hD8RK5Tq8mk3",
        "colab_type": "text"
      },
      "source": [
        "## 3. Поменяйте размеры batch_size:\n",
        "\n",
        "\n"
      ]
    },
    {
      "cell_type": "markdown",
      "metadata": {
        "id": "oHjbcqyNbZPW",
        "colab_type": "text"
      },
      "source": [
        "###   batch_size = 1"
      ]
    },
    {
      "cell_type": "code",
      "metadata": {
        "id": "3KzlXSi06IoJ",
        "colab_type": "code",
        "colab": {}
      },
      "source": [
        "# Создаю нейронную сеть\n",
        "model_batch_size1 = Sequential() # Создание сети\n",
        "model_batch_size1.add(Dense(800, input_dim=784, activation=\"relu\")) \n",
        "model_batch_size1.add(Dense(400, activation=\"relu\")) \n",
        "model_batch_size1.add(Dense(10, activation=\"softmax\")) "
      ],
      "execution_count": 25,
      "outputs": []
    },
    {
      "cell_type": "code",
      "metadata": {
        "id": "lR9PuIXyXtz4",
        "colab_type": "code",
        "colab": {
          "base_uri": "https://localhost:8080/",
          "height": 272
        },
        "outputId": "7b31daec-6047-453b-bfa9-a96f80e40b72"
      },
      "source": [
        "# Компилируем модель\n",
        "model_batch_size1.compile(loss=\"categorical_crossentropy\", \n",
        "                          optimizer=\"adam\", \n",
        "                          metrics=[\"accuracy\"]) \n",
        "\n",
        "print(model_batch_size1.summary()) # Вывод структуры модели"
      ],
      "execution_count": 26,
      "outputs": [
        {
          "output_type": "stream",
          "text": [
            "Model: \"sequential_3\"\n",
            "_________________________________________________________________\n",
            "Layer (type)                 Output Shape              Param #   \n",
            "=================================================================\n",
            "dense_9 (Dense)              (None, 800)               628000    \n",
            "_________________________________________________________________\n",
            "dense_10 (Dense)             (None, 400)               320400    \n",
            "_________________________________________________________________\n",
            "dense_11 (Dense)             (None, 10)                4010      \n",
            "=================================================================\n",
            "Total params: 952,410\n",
            "Trainable params: 952,410\n",
            "Non-trainable params: 0\n",
            "_________________________________________________________________\n",
            "None\n"
          ],
          "name": "stdout"
        }
      ]
    },
    {
      "cell_type": "code",
      "metadata": {
        "id": "nhGyMczg9RUp",
        "colab_type": "code",
        "colab": {
          "base_uri": "https://localhost:8080/",
          "height": 156
        },
        "outputId": "45fd827e-027f-4a17-8e76-9472427e9767"
      },
      "source": [
        "# Обучение нейронной сети\n",
        "early_stopping = EarlyStopping(monitor = 'val_loss', patience=2, restore_best_weights = True)\n",
        "model_batch_size1.fit(x_train, y_train, \n",
        "                      batch_size=1,     # Поменял со 128 на 1\n",
        "                      epochs=15, verbose=1, \n",
        "                      validation_split=0.2, \n",
        "                      callbacks=[early_stopping])"
      ],
      "execution_count": 27,
      "outputs": [
        {
          "output_type": "stream",
          "text": [
            "Epoch 1/15\n",
            "48000/48000 [==============================] - 258s 5ms/step - loss: 0.2904 - accuracy: 0.9218 - val_loss: 0.2104 - val_accuracy: 0.9485\n",
            "Epoch 2/15\n",
            "48000/48000 [==============================] - 259s 5ms/step - loss: 0.1868 - accuracy: 0.9570 - val_loss: 0.2468 - val_accuracy: 0.9456\n",
            "Epoch 3/15\n",
            "48000/48000 [==============================] - 268s 6ms/step - loss: 0.1664 - accuracy: 0.9644 - val_loss: 0.2522 - val_accuracy: 0.9656\n"
          ],
          "name": "stdout"
        },
        {
          "output_type": "execute_result",
          "data": {
            "text/plain": [
              "<tensorflow.python.keras.callbacks.History at 0x7f4257ab9470>"
            ]
          },
          "metadata": {
            "tags": []
          },
          "execution_count": 27
        }
      ]
    },
    {
      "cell_type": "code",
      "metadata": {
        "id": "R91wwmWg9Qq4",
        "colab_type": "code",
        "colab": {
          "base_uri": "https://localhost:8080/",
          "height": 34
        },
        "outputId": "3c59ba97-2a87-43e5-e46e-e6269a2ef6a0"
      },
      "source": [
        "# ПРОВЕРКА\n",
        "\n",
        "arr_test = []\n",
        "for i in range(1, 10000, 15):   # Выбираю каждую 15ю картинку\n",
        "  x = x_test[i] #Выбираем нужную картинку из тестовой выборки\n",
        "  x = np.expand_dims(x, axis=0) #Добавляем одну размерность в конце, чтобы нейронка могла распознать пример\n",
        "  prediction = model_batch_size1.predict(x) # Распознаём пример\n",
        "  prediction = np.argmax(prediction) # Получаем индекс самого большого элемента (это итоговая цифра, которую распознала сеть)\n",
        "\n",
        "  if prediction == y_test_org[i]:\n",
        "    arr_test.append('True')\n",
        "  else:\n",
        "    arr_test.append('False')\n",
        "#    print('Индекс: ', i, 'Ответ нейросети: ' , prediction , '\\t' , 'Правильный ответ: ' , y_test_org[i])\n",
        "#    plt.imshow(Image.fromarray(x_test_org[i]).convert('RGBA')) # Нарисуем картинку из тестового набора под номером n_rec\n",
        "#    plt.show()\n",
        "\n",
        "from collections import Counter\n",
        "print(Counter(arr_test))"
      ],
      "execution_count": 28,
      "outputs": [
        {
          "output_type": "stream",
          "text": [
            "Counter({'True': 637, 'False': 30})\n"
          ],
          "name": "stdout"
        }
      ]
    },
    {
      "cell_type": "markdown",
      "metadata": {
        "colab_type": "text",
        "id": "DqnV6EpxYfJb"
      },
      "source": [
        "### Вывод batch_size = 1:\n",
        "1.   Скорость выполнения - снизилась очень сильно! в 31 раз! увеличение размера батча позволяет ускорить обучение нейронки\n",
        "2.   Качество обучения тоже никуда не годится\n",
        "3.   Очень было бы удобно загнать модуль проверки в функцию, но не смог придумать как ((\n",
        "\n"
      ]
    },
    {
      "cell_type": "markdown",
      "metadata": {
        "id": "zQE8MbT_ac7X",
        "colab_type": "text"
      },
      "source": [
        "###   batch_size = 10\n",
        "\n"
      ]
    },
    {
      "cell_type": "code",
      "metadata": {
        "id": "SJNgJ1GJcSXW",
        "colab_type": "code",
        "colab": {}
      },
      "source": [
        "# Создаю нейронную сеть\n",
        "model_batch_size10 = Sequential() # Создание сети\n",
        "model_batch_size10.add(Dense(800, input_dim=784, activation=\"relu\")) \n",
        "model_batch_size10.add(Dense(400, activation=\"relu\")) \n",
        "model_batch_size10.add(Dense(10, activation=\"softmax\")) "
      ],
      "execution_count": 29,
      "outputs": []
    },
    {
      "cell_type": "code",
      "metadata": {
        "colab_type": "code",
        "id": "rEHShxpBaRQ7",
        "colab": {
          "base_uri": "https://localhost:8080/",
          "height": 272
        },
        "outputId": "c5b13c89-4907-4009-a10a-4a2426c20edc"
      },
      "source": [
        "# Компилируем модель\n",
        "model_batch_size10.compile(loss=\"categorical_crossentropy\", \n",
        "                          optimizer=\"adam\", \n",
        "                          metrics=[\"accuracy\"]) \n",
        "\n",
        "print(model_batch_size10.summary()) # Вывод структуры модели"
      ],
      "execution_count": 30,
      "outputs": [
        {
          "output_type": "stream",
          "text": [
            "Model: \"sequential_4\"\n",
            "_________________________________________________________________\n",
            "Layer (type)                 Output Shape              Param #   \n",
            "=================================================================\n",
            "dense_12 (Dense)             (None, 800)               628000    \n",
            "_________________________________________________________________\n",
            "dense_13 (Dense)             (None, 400)               320400    \n",
            "_________________________________________________________________\n",
            "dense_14 (Dense)             (None, 10)                4010      \n",
            "=================================================================\n",
            "Total params: 952,410\n",
            "Trainable params: 952,410\n",
            "Non-trainable params: 0\n",
            "_________________________________________________________________\n",
            "None\n"
          ],
          "name": "stdout"
        }
      ]
    },
    {
      "cell_type": "code",
      "metadata": {
        "colab_type": "code",
        "id": "aeDfR-VPaRRD",
        "colab": {
          "base_uri": "https://localhost:8080/",
          "height": 326
        },
        "outputId": "6cc713cb-6ebf-4962-92a1-ee1ec6b39eb6"
      },
      "source": [
        "# Обучение нейронной сети\n",
        "early_stopping = EarlyStopping(monitor = 'val_loss', patience=2, restore_best_weights = True)\n",
        "model_batch_size10.fit(x_train, y_train, \n",
        "                      batch_size=10,     # Поменял со 128 на 10\n",
        "                      epochs=15, verbose=1, \n",
        "                      validation_split=0.2, \n",
        "                      callbacks=[early_stopping])"
      ],
      "execution_count": 31,
      "outputs": [
        {
          "output_type": "stream",
          "text": [
            "Epoch 1/15\n",
            "4800/4800 [==============================] - 37s 8ms/step - loss: 0.2047 - accuracy: 0.9373 - val_loss: 0.1203 - val_accuracy: 0.9633\n",
            "Epoch 2/15\n",
            "4800/4800 [==============================] - 36s 8ms/step - loss: 0.0981 - accuracy: 0.9704 - val_loss: 0.1223 - val_accuracy: 0.9669\n",
            "Epoch 3/15\n",
            "4800/4800 [==============================] - 36s 8ms/step - loss: 0.0742 - accuracy: 0.9775 - val_loss: 0.1196 - val_accuracy: 0.9678\n",
            "Epoch 4/15\n",
            "4800/4800 [==============================] - 36s 7ms/step - loss: 0.0569 - accuracy: 0.9832 - val_loss: 0.1189 - val_accuracy: 0.9742\n",
            "Epoch 5/15\n",
            "4800/4800 [==============================] - 39s 8ms/step - loss: 0.0472 - accuracy: 0.9860 - val_loss: 0.1298 - val_accuracy: 0.9747\n",
            "Epoch 6/15\n",
            "4800/4800 [==============================] - 42s 9ms/step - loss: 0.0462 - accuracy: 0.9872 - val_loss: 0.1186 - val_accuracy: 0.9746\n",
            "Epoch 7/15\n",
            "4800/4800 [==============================] - 36s 8ms/step - loss: 0.0394 - accuracy: 0.9889 - val_loss: 0.1452 - val_accuracy: 0.9737\n",
            "Epoch 8/15\n",
            "4800/4800 [==============================] - 36s 8ms/step - loss: 0.0370 - accuracy: 0.9900 - val_loss: 0.1432 - val_accuracy: 0.9782\n"
          ],
          "name": "stdout"
        },
        {
          "output_type": "execute_result",
          "data": {
            "text/plain": [
              "<tensorflow.python.keras.callbacks.History at 0x7f4257a170f0>"
            ]
          },
          "metadata": {
            "tags": []
          },
          "execution_count": 31
        }
      ]
    },
    {
      "cell_type": "code",
      "metadata": {
        "colab_type": "code",
        "id": "lLvGbjQEdFd1",
        "colab": {
          "base_uri": "https://localhost:8080/",
          "height": 34
        },
        "outputId": "2d9d6284-a9fc-4dca-9305-1fdeb69b6e6a"
      },
      "source": [
        "# ПРОВЕРКА\n",
        "\n",
        "arr_test = []\n",
        "for i in range(1, 10000, 15):   # Выбираю каждую 15ю картинку\n",
        "  x = x_test[i] #Выбираем нужную картинку из тестовой выборки\n",
        "  x = np.expand_dims(x, axis=0) #Добавляем одну размерность в конце, чтобы нейронка могла распознать пример\n",
        "  prediction = model_batch_size10.predict(x) # Распознаём пример\n",
        "  prediction = np.argmax(prediction) # Получаем индекс самого большого элемента (это итоговая цифра, которую распознала сеть)\n",
        "\n",
        "  if prediction == y_test_org[i]:\n",
        "    arr_test.append('True')\n",
        "  else:\n",
        "    arr_test.append('False')\n",
        "#    print('Индекс: ', i, 'Ответ нейросети: ' , prediction , '\\t' , 'Правильный ответ: ' , y_test_org[i])\n",
        "#    plt.imshow(Image.fromarray(x_test_org[i]).convert('RGBA')) # Нарисуем картинку из тестового набора под номером n_rec\n",
        "#    plt.show()\n",
        "\n",
        "from collections import Counter\n",
        "print(Counter(arr_test))"
      ],
      "execution_count": 32,
      "outputs": [
        {
          "output_type": "stream",
          "text": [
            "Counter({'True': 652, 'False': 15})\n"
          ],
          "name": "stdout"
        }
      ]
    },
    {
      "cell_type": "markdown",
      "metadata": {
        "colab_type": "text",
        "id": "HFylvYo-e6nA"
      },
      "source": [
        "### Вывод batch_size = 10:\n",
        "1.   Видимо, число батчей как-то влияет на качество обучения. нужно учить матчасть\n",
        "2.   Очень было бы удобно загнать модуль проверки в функцию, но не смог придумать как ((\n",
        "\n"
      ]
    },
    {
      "cell_type": "markdown",
      "metadata": {
        "colab_type": "text",
        "id": "37Qvma1Yf0uV"
      },
      "source": [
        "###   batch_size = 100\n",
        "\n"
      ]
    },
    {
      "cell_type": "code",
      "metadata": {
        "colab_type": "code",
        "id": "_VyAuZcTf0ub",
        "colab": {}
      },
      "source": [
        "# Создаю нейронную сеть\n",
        "model_batch_size100 = Sequential() # Срздание сети\n",
        "model_batch_size100.add(Dense(800, input_dim=784, activation=\"relu\")) \n",
        "model_batch_size100.add(Dense(400, activation=\"relu\")) \n",
        "model_batch_size100.add(Dense(10, activation=\"softmax\")) "
      ],
      "execution_count": 43,
      "outputs": []
    },
    {
      "cell_type": "code",
      "metadata": {
        "colab_type": "code",
        "id": "RO9Wy-37f0uf",
        "colab": {
          "base_uri": "https://localhost:8080/",
          "height": 272
        },
        "outputId": "0c17e5a6-cef9-4954-8a9e-8742121c4aa8"
      },
      "source": [
        "# Компилируем модель\n",
        "model_batch_size100.compile(loss=\"categorical_crossentropy\", \n",
        "                          optimizer=\"adam\", \n",
        "                          metrics=[\"accuracy\"]) \n",
        "\n",
        "print(model_batch_size100.summary()) # Вывод структуры модели"
      ],
      "execution_count": 44,
      "outputs": [
        {
          "output_type": "stream",
          "text": [
            "Model: \"sequential_7\"\n",
            "_________________________________________________________________\n",
            "Layer (type)                 Output Shape              Param #   \n",
            "=================================================================\n",
            "dense_21 (Dense)             (None, 800)               628000    \n",
            "_________________________________________________________________\n",
            "dense_22 (Dense)             (None, 400)               320400    \n",
            "_________________________________________________________________\n",
            "dense_23 (Dense)             (None, 10)                4010      \n",
            "=================================================================\n",
            "Total params: 952,410\n",
            "Trainable params: 952,410\n",
            "Non-trainable params: 0\n",
            "_________________________________________________________________\n",
            "None\n"
          ],
          "name": "stdout"
        }
      ]
    },
    {
      "cell_type": "code",
      "metadata": {
        "colab_type": "code",
        "id": "YB6LU999f0uk",
        "colab": {
          "base_uri": "https://localhost:8080/",
          "height": 224
        },
        "outputId": "3429ce5e-45c3-4a71-9541-c0673ca721f6"
      },
      "source": [
        "# Обучение нейронной сети\n",
        "early_stopping = EarlyStopping(monitor = 'val_loss', patience=2, restore_best_weights = True)\n",
        "model_batch_size100.fit(x_train, y_train, \n",
        "                      batch_size=100,     # Поменял со 128 на 100\n",
        "                      epochs=15, verbose=1, \n",
        "                      validation_split=0.2, \n",
        "                      callbacks=[early_stopping])"
      ],
      "execution_count": 45,
      "outputs": [
        {
          "output_type": "stream",
          "text": [
            "Epoch 1/15\n",
            "480/480 [==============================] - 8s 16ms/step - loss: 0.2228 - accuracy: 0.9329 - val_loss: 0.1120 - val_accuracy: 0.9663\n",
            "Epoch 2/15\n",
            "480/480 [==============================] - 8s 16ms/step - loss: 0.0823 - accuracy: 0.9745 - val_loss: 0.0975 - val_accuracy: 0.9699\n",
            "Epoch 3/15\n",
            "480/480 [==============================] - 8s 16ms/step - loss: 0.0513 - accuracy: 0.9839 - val_loss: 0.0838 - val_accuracy: 0.9758\n",
            "Epoch 4/15\n",
            "480/480 [==============================] - 8s 16ms/step - loss: 0.0362 - accuracy: 0.9882 - val_loss: 0.0862 - val_accuracy: 0.9753\n",
            "Epoch 5/15\n",
            "480/480 [==============================] - 8s 16ms/step - loss: 0.0284 - accuracy: 0.9904 - val_loss: 0.0851 - val_accuracy: 0.9772\n"
          ],
          "name": "stdout"
        },
        {
          "output_type": "execute_result",
          "data": {
            "text/plain": [
              "<tensorflow.python.keras.callbacks.History at 0x7f424e3e5a20>"
            ]
          },
          "metadata": {
            "tags": []
          },
          "execution_count": 45
        }
      ]
    },
    {
      "cell_type": "code",
      "metadata": {
        "colab_type": "code",
        "id": "65hxbz1Af0um",
        "colab": {
          "base_uri": "https://localhost:8080/",
          "height": 34
        },
        "outputId": "18073d20-6a8d-46b4-8102-b12d8c71b5bc"
      },
      "source": [
        "# ПРОВЕРКА\n",
        "\n",
        "arr_test = []\n",
        "for i in range(1, 10000, 15):   # Выбираю каждую 15ю картинку\n",
        "  x = x_test[i] #Выбираем нужную картинку из тестовой выборки\n",
        "  x = np.expand_dims(x, axis=0) #Добавляем одну размерность в конце, чтобы нейронка могла распознать пример\n",
        "  prediction = model_batch_size100.predict(x) # Распознаём пример\n",
        "  prediction = np.argmax(prediction) # Получаем индекс самого большого элемента (это итоговая цифра, которую распознала сеть)\n",
        "\n",
        "  if prediction == y_test_org[i]:\n",
        "    arr_test.append('True')\n",
        "  else:\n",
        "    arr_test.append('False')\n",
        "#    print('Индекс: ', i, 'Ответ нейросети: ' , prediction , '\\t' , 'Правильный ответ: ' , y_test_org[i])\n",
        "#    plt.imshow(Image.fromarray(x_test_org[i]).convert('RGBA')) # Нарисуем картинку из тестового набора под номером n_rec\n",
        "#    plt.show()\n",
        "\n",
        "from collections import Counter\n",
        "print(Counter(arr_test))"
      ],
      "execution_count": 46,
      "outputs": [
        {
          "output_type": "stream",
          "text": [
            "Counter({'True': 650, 'False': 17})\n"
          ],
          "name": "stdout"
        }
      ]
    },
    {
      "cell_type": "markdown",
      "metadata": {
        "colab_type": "text",
        "id": "FmHE91QNf0uo"
      },
      "source": [
        "### Вывод batch_size = 100:\n",
        "1.   Сопоставимо с первоначальным вариантом. На секунду дольше\n",
        "2.   Очень было бы удобно загнать модуль проверки в функцию, но не смог придумать как ((\n",
        "\n"
      ]
    },
    {
      "cell_type": "markdown",
      "metadata": {
        "colab_type": "text",
        "id": "IAInB13MpHjG"
      },
      "source": [
        "###   batch_size = 60000\n",
        "\n"
      ]
    },
    {
      "cell_type": "code",
      "metadata": {
        "colab_type": "code",
        "id": "cIX66SywpHjN",
        "colab": {}
      },
      "source": [
        "# Создаю нейронную сеть\n",
        "model_batch_size60000 = Sequential() # Срздание сети\n",
        "model_batch_size60000.add(Dense(800, input_dim=784, activation=\"relu\")) \n",
        "model_batch_size60000.add(Dense(400, activation=\"relu\")) \n",
        "model_batch_size60000.add(Dense(10, activation=\"softmax\")) "
      ],
      "execution_count": 37,
      "outputs": []
    },
    {
      "cell_type": "code",
      "metadata": {
        "colab_type": "code",
        "id": "XFr4BIdCpHjR",
        "colab": {
          "base_uri": "https://localhost:8080/",
          "height": 272
        },
        "outputId": "25752ffe-d875-456a-c747-4878bf8036d6"
      },
      "source": [
        "# Компилируем модель\n",
        "model_batch_size60000.compile(loss=\"categorical_crossentropy\", \n",
        "                          optimizer=\"adam\", \n",
        "                          metrics=[\"accuracy\"]) \n",
        "\n",
        "print(model_batch_size60000.summary()) # Вывод структуры модели"
      ],
      "execution_count": 38,
      "outputs": [
        {
          "output_type": "stream",
          "text": [
            "Model: \"sequential_6\"\n",
            "_________________________________________________________________\n",
            "Layer (type)                 Output Shape              Param #   \n",
            "=================================================================\n",
            "dense_18 (Dense)             (None, 800)               628000    \n",
            "_________________________________________________________________\n",
            "dense_19 (Dense)             (None, 400)               320400    \n",
            "_________________________________________________________________\n",
            "dense_20 (Dense)             (None, 10)                4010      \n",
            "=================================================================\n",
            "Total params: 952,410\n",
            "Trainable params: 952,410\n",
            "Non-trainable params: 0\n",
            "_________________________________________________________________\n",
            "None\n"
          ],
          "name": "stdout"
        }
      ]
    },
    {
      "cell_type": "code",
      "metadata": {
        "colab_type": "code",
        "id": "hKVohBw-opA8",
        "colab": {
          "base_uri": "https://localhost:8080/",
          "height": 564
        },
        "outputId": "e86f2dc8-41bf-444a-a81a-2560de553004"
      },
      "source": [
        "# Обучение нейронной сети\n",
        "early_stopping = EarlyStopping(monitor = 'val_loss', patience=2, restore_best_weights = True)\n",
        "model_batch_size100.fit(x_train, y_train, \n",
        "                      batch_size=60000,     # Поменял со 128 на 60000\n",
        "                      epochs=15, verbose=1, \n",
        "                      validation_split=0.2, \n",
        "                      callbacks=[early_stopping])"
      ],
      "execution_count": 39,
      "outputs": [
        {
          "output_type": "stream",
          "text": [
            "Epoch 1/15\n",
            "1/1 [==============================] - 1s 513ms/step - loss: 0.0188 - accuracy: 0.9938 - val_loss: 0.0848 - val_accuracy: 0.9772\n",
            "Epoch 2/15\n",
            "1/1 [==============================] - 0s 413ms/step - loss: 0.0183 - accuracy: 0.9940 - val_loss: 0.0838 - val_accuracy: 0.9773\n",
            "Epoch 3/15\n",
            "1/1 [==============================] - 0s 406ms/step - loss: 0.0177 - accuracy: 0.9942 - val_loss: 0.0826 - val_accuracy: 0.9778\n",
            "Epoch 4/15\n",
            "1/1 [==============================] - 0s 417ms/step - loss: 0.0169 - accuracy: 0.9945 - val_loss: 0.0813 - val_accuracy: 0.9778\n",
            "Epoch 5/15\n",
            "1/1 [==============================] - 0s 414ms/step - loss: 0.0161 - accuracy: 0.9948 - val_loss: 0.0800 - val_accuracy: 0.9787\n",
            "Epoch 6/15\n",
            "1/1 [==============================] - 0s 405ms/step - loss: 0.0152 - accuracy: 0.9952 - val_loss: 0.0787 - val_accuracy: 0.9792\n",
            "Epoch 7/15\n",
            "1/1 [==============================] - 0s 411ms/step - loss: 0.0143 - accuracy: 0.9954 - val_loss: 0.0775 - val_accuracy: 0.9791\n",
            "Epoch 8/15\n",
            "1/1 [==============================] - 0s 401ms/step - loss: 0.0134 - accuracy: 0.9956 - val_loss: 0.0764 - val_accuracy: 0.9794\n",
            "Epoch 9/15\n",
            "1/1 [==============================] - 0s 401ms/step - loss: 0.0126 - accuracy: 0.9960 - val_loss: 0.0754 - val_accuracy: 0.9795\n",
            "Epoch 10/15\n",
            "1/1 [==============================] - 0s 401ms/step - loss: 0.0118 - accuracy: 0.9962 - val_loss: 0.0746 - val_accuracy: 0.9798\n",
            "Epoch 11/15\n",
            "1/1 [==============================] - 0s 403ms/step - loss: 0.0112 - accuracy: 0.9965 - val_loss: 0.0738 - val_accuracy: 0.9801\n",
            "Epoch 12/15\n",
            "1/1 [==============================] - 0s 409ms/step - loss: 0.0106 - accuracy: 0.9968 - val_loss: 0.0732 - val_accuracy: 0.9805\n",
            "Epoch 13/15\n",
            "1/1 [==============================] - 0s 422ms/step - loss: 0.0101 - accuracy: 0.9970 - val_loss: 0.0727 - val_accuracy: 0.9808\n",
            "Epoch 14/15\n",
            "1/1 [==============================] - 0s 402ms/step - loss: 0.0096 - accuracy: 0.9972 - val_loss: 0.0723 - val_accuracy: 0.9807\n",
            "Epoch 15/15\n",
            "1/1 [==============================] - 0s 404ms/step - loss: 0.0092 - accuracy: 0.9973 - val_loss: 0.0719 - val_accuracy: 0.9808\n"
          ],
          "name": "stdout"
        },
        {
          "output_type": "execute_result",
          "data": {
            "text/plain": [
              "<tensorflow.python.keras.callbacks.History at 0x7f4255838710>"
            ]
          },
          "metadata": {
            "tags": []
          },
          "execution_count": 39
        }
      ]
    },
    {
      "cell_type": "code",
      "metadata": {
        "colab_type": "code",
        "id": "SWhqaFM-opA_",
        "colab": {
          "base_uri": "https://localhost:8080/",
          "height": 34
        },
        "outputId": "b51986bc-4a60-43a1-b962-a7933a411f4e"
      },
      "source": [
        "# ПРОВЕРКА\n",
        "\n",
        "arr_test = []\n",
        "for i in range(1, 10000, 15):   # Выбираю каждую 15ю картинку\n",
        "  x = x_test[i] #Выбираем нужную картинку из тестовой выборки\n",
        "  x = np.expand_dims(x, axis=0) #Добавляем одну размерность в конце, чтобы нейронка могла распознать пример\n",
        "  prediction = model_batch_size60000.predict(x) # Распознаём пример\n",
        "  prediction = np.argmax(prediction) # Получаем индекс самого большого элемента (это итоговая цифра, которую распознала сеть)\n",
        "\n",
        "  if prediction == y_test_org[i]:\n",
        "    arr_test.append('True')\n",
        "  else:\n",
        "    arr_test.append('False')\n",
        "#    print('Индекс: ', i, 'Ответ нейросети: ' , prediction , '\\t' , 'Правильный ответ: ' , y_test_org[i])\n",
        "#    plt.imshow(Image.fromarray(x_test_org[i]).convert('RGBA')) # Нарисуем картинку из тестового набора под номером n_rec\n",
        "#    plt.show()\n",
        "\n",
        "from collections import Counter\n",
        "print(Counter(arr_test))"
      ],
      "execution_count": 40,
      "outputs": [
        {
          "output_type": "stream",
          "text": [
            "Counter({'False': 584, 'True': 83})\n"
          ],
          "name": "stdout"
        }
      ]
    },
    {
      "cell_type": "markdown",
      "metadata": {
        "colab_type": "text",
        "id": "FMBM9D0yopBB"
      },
      "source": [
        "### Вывод batch_size = 60000:\n",
        "1.   Быстро но не качественно. Нужно больше понимания зависимости качества обучения от размера патча\n",
        "2.   Очень было бы удобно загнать модуль проверки в функцию, но не смог придумать как ((\n",
        "3.   Понятна важность контрольной выборки, тк по показателям обученности, эта сеть была вполне годной (\n",
        "\n"
      ]
    },
    {
      "cell_type": "markdown",
      "metadata": {
        "id": "HHA4xjgTDTvg",
        "colab_type": "text"
      },
      "source": [
        "## Итоговая таблица точностей экспериментальных нейросетей"
      ]
    },
    {
      "cell_type": "markdown",
      "metadata": {
        "id": "b1LpQc8to62c",
        "colab_type": "text"
      },
      "source": [
        "![image.png](data:image/png;base64,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)"
      ]
    },
    {
      "cell_type": "markdown",
      "metadata": {
        "id": "MzG_7z65DpGR",
        "colab_type": "text"
      },
      "source": [
        "# Pro: Распознать рукописную цифру, созданную вами с помощью графического редактора\n",
        "\n",
        "Последовательность шагов:\n",
        "1. В графическом редакторе рисуем произвольную цифру.\n",
        "2. Сохраняем документ и загружаем его в Collaboratory.\n",
        "3. С помощью функции image.load_img(path, target_size=(28, 28), color_mode = ‘grayscale’)\n",
        "загружаем картинку в переменную.\n",
        "4. С помощью функции image.img_to_array(img) преобразуем изображение в numpy-массив.\n",
        "5. Выполняем инверсию цветов, нормирование и решейп массива.\n",
        "6. Выполняем распознавание собственной рукописной цифры.\n",
        "Реализуйте тот же алгоритм для написанной на листе от руки цифры (для этого необходимо сделать дополнительную предобработку изображения)."
      ]
    },
    {
      "cell_type": "code",
      "metadata": {
        "id": "cnzSkBP5Dn2o",
        "colab_type": "code",
        "colab": {
          "base_uri": "https://localhost:8080/",
          "height": 299
        },
        "outputId": "66788220-66e7-4c99-bfec-67f4d27943c2"
      },
      "source": [
        "from keras.preprocessing.image import load_img\n",
        "from keras.preprocessing.image import img_to_array\n",
        "import numpy as np \n",
        "\n",
        "\n",
        "image = load_img('/content/_8.png' , \n",
        "                 target_size=(28, 28), \n",
        "                 color_mode = 'grayscale')\n",
        "\n",
        "img_array = img_to_array(image)\n",
        "img_array = img_array.reshape(1,28,28)\n",
        "\n",
        "#Нормализация\n",
        "img_array = img_array.astype('float32') # преобразовываем x_train в тип float (цифры с плавающей точкой)\n",
        "img_array = img_array / 255 # делим на 255, чтобы диапазон был от 0 до 1\n",
        "img_array = 1 - img_array # инвертируем 1 в 0\n",
        "\n",
        "#Меняем формат входных картинок с 28х28 на 784х1\n",
        "img_reshape = img_array.reshape(1, 784)\n",
        "\n",
        "print(img_array.shape)\n",
        "print(img_reshape.shape)\n",
        "\n",
        "plt.imshow(img_array[0], cmap='Greys') #Отрисовка картинки\n",
        "plt.show()"
      ],
      "execution_count": 42,
      "outputs": [
        {
          "output_type": "stream",
          "text": [
            "(1, 28, 28)\n",
            "(1, 784)\n"
          ],
          "name": "stdout"
        },
        {
          "output_type": "display_data",
          "data": {
            "image/png": "[encoded data removed]",
            "text/plain": [
              "<Figure size 432x288 with 1 Axes>"
            ]
          },
          "metadata": {
            "tags": [],
            "needs_background": "light"
          }
        }
      ]
    },
    {
      "cell_type": "code",
      "metadata": {
        "colab_type": "code",
        "id": "3FvpDYSDEC9P",
        "colab": {
          "base_uri": "https://localhost:8080/",
          "height": 34
        },
        "outputId": "f16c5ef1-0e30-49f6-9693-08278a4e3231"
      },
      "source": [
        "prediction = model.predict(img_reshape) #Распознаём наш пример\n",
        "prediction = np.argmax(prediction) # Получаем индекс самого большого элемента \n",
        "#(это итоговая цифра, которую распознала сеть)\n",
        "print('Ответ нейросети: ' , prediction)"
      ],
      "execution_count": null,
      "outputs": [
        {
          "output_type": "stream",
          "text": [
            "Ответ нейросети:  8\n"
          ],
          "name": "stdout"
        }
      ]
    }
  ]
}
