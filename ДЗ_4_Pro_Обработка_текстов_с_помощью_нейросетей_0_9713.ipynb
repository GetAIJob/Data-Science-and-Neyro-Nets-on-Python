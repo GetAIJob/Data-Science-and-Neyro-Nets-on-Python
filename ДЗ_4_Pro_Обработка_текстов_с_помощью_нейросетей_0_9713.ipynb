{
  "nbformat": 4,
  "nbformat_minor": 0,
  "metadata": {
    "colab": {
      "name": "ДЗ_4_Pro_Обработка текстов с помощью нейросетей_Adam_xLen15000_step20_0.9713.ipynb",
      "provenance": [],
      "collapsed_sections": [
        "QA0sF3Xn83H9",
        "61KYb0uyjTk4",
        "XxLw8LUSoIAc"
      ],
      "machine_shape": "hm",
      "include_colab_link": true
    },
    "kernelspec": {
      "name": "python3",
      "display_name": "Python 3"
    },
    "accelerator": "GPU"
  },
  "cells": [
    {
      "cell_type": "markdown",
      "metadata": {
        "id": "view-in-github",
        "colab_type": "text"
      },
      "source": [
        "<a href=\"https://colab.research.google.com/github/ikonushok/My_studying_Data-Science-and-Neyro-Nets-on-Python/blob/master/%D0%94%D0%97_4_Pro_%D0%9E%D0%B1%D1%80%D0%B0%D0%B1%D0%BE%D1%82%D0%BA%D0%B0_%D1%82%D0%B5%D0%BA%D1%81%D1%82%D0%BE%D0%B2_%D1%81_%D0%BF%D0%BE%D0%BC%D0%BE%D1%89%D1%8C%D1%8E_%D0%BD%D0%B5%D0%B9%D1%80%D0%BE%D1%81%D0%B5%D1%82%D0%B5%D0%B9_0_9713.ipynb\" target=\"_parent\"><img src=\"https://colab.research.google.com/assets/colab-badge.svg\" alt=\"Open In Colab\"/></a>"
      ]
    },
    {
      "cell_type": "markdown",
      "metadata": {
        "id": "eR63xxCtcMA2",
        "colab_type": "text"
      },
      "source": [
        "# Классификация текстов писателей"
      ]
    },
    {
      "cell_type": "code",
      "metadata": {
        "id": "8qn2yuaE-N9h",
        "colab_type": "code",
        "colab": {}
      },
      "source": [
        "from tensorflow.keras.models import Sequential\n",
        "from tensorflow.keras.layers import Dense, BatchNormalization, Embedding, Flatten, Activation\n",
        "from tensorflow.keras.layers import SpatialDropout1D, Dropout\n",
        "from tensorflow.keras.optimizers import Adam, RMSprop, Nadam, Adamax, Adadelta, Adagrad\n",
        "\n",
        "from tensorflow.keras.callbacks import EarlyStopping, ReduceLROnPlateau, ModelCheckpoint\n",
        "from tensorflow.keras import utils # Для работы с категориальными данными\n",
        "from tensorflow.keras.preprocessing.text import Tokenizer\n",
        "\n",
        "import numpy as np\n",
        "import pandas as pd\n",
        "import time # чтобы зачсечь время\n",
        "\n",
        "import matplotlib.pyplot as plt # Для вывода графиков\n",
        "%matplotlib inline"
      ],
      "execution_count": 1,
      "outputs": []
    },
    {
      "cell_type": "code",
      "metadata": {
        "id": "lHP22yPBbBUB",
        "colab_type": "code",
        "colab": {
          "base_uri": "https://localhost:8080/",
          "height": 32
        },
        "outputId": "e97a56f3-feae-4afa-d167-17c5b1ec8d4b"
      },
      "source": [
        "from google.colab import drive\n",
        "drive.mount('/content/drive')"
      ],
      "execution_count": 2,
      "outputs": [
        {
          "output_type": "stream",
          "text": [
            "Drive already mounted at /content/drive; to attempt to forcibly remount, call drive.mount(\"/content/drive\", force_remount=True).\n"
          ],
          "name": "stdout"
        }
      ]
    },
    {
      "cell_type": "markdown",
      "metadata": {
        "id": "wLSDJ8es9Xos",
        "colab_type": "text"
      },
      "source": [
        "## Подготовка текстов и выборки"
      ]
    },
    {
      "cell_type": "markdown",
      "metadata": {
        "id": "U4K0n98zjP9Y",
        "colab_type": "text"
      },
      "source": [
        "### загружаем тексты"
      ]
    },
    {
      "cell_type": "code",
      "metadata": {
        "id": "-P-uS6iNfgWX",
        "colab_type": "code",
        "colab": {
          "base_uri": "https://localhost:8080/",
          "height": 444
        },
        "outputId": "e13798d3-c220-4e18-f168-19bde920e181"
      },
      "source": [
        "import os\n",
        "os.chdir('/content/drive/My Drive/Colab Notebooks/Data Science и нейронные сети на Python/Занятие_4_Обработка текстов с помощью нейросетей/data/Тексты писателей')\n",
        "os.listdir() # перешли в нужную папку и проверили наличие в ней нужных файлов"
      ],
      "execution_count": 3,
      "outputs": [
        {
          "output_type": "execute_result",
          "data": {
            "text/plain": [
              "['(О. Генри) Обучающая_50 вместе.txt',\n",
              " '(Клиффорд_Саймак) Тестовая_2 вместе.txt',\n",
              " '(Булгаков) Обучающая_5 вместе.txt',\n",
              " '(Макс Фрай) Обучающая_5 вместе.txt',\n",
              " '(О. Генри) Тестовая_20 вместе.txt',\n",
              " '(Клиффорд_Саймак) Обучающая_5 вместе.txt',\n",
              " '(Булгаков) Тестовая_2 вместе.txt',\n",
              " '(Макс Фрай) Тестовая_2 вместе.txt',\n",
              " '(Рэй Брэдберри) Тестовая_8 вместе.txt',\n",
              " '(Стругацкие) Тестовая_2 вместе.txt',\n",
              " '(Рэй Брэдберри) Обучающая_22 вместе.txt',\n",
              " '(Стругацкие) Обучающая_5 вместе.txt',\n",
              " 'modelED_RMSprop.h5',\n",
              " 'modelED_Adam.h5',\n",
              " 'modelED_1.h5',\n",
              " 'best_modelED_RMSprop.h5',\n",
              " 'best_modelED_Adam_12000_20.h5',\n",
              " 'best_modelED_Adam.h5',\n",
              " 'best_modelED_Adam_12000_20_2.h5',\n",
              " 'best_modelED_Adam_20000_50.h5',\n",
              " 'best_modelED_RMSprop_15000_20.h5',\n",
              " 'best_modelED_Adam_15000_20_2.h5',\n",
              " 'best_modelED_Adam_15000_20_0.9713.h5',\n",
              " 'best_modelED_Adam_15000_20.h5',\n",
              " 'best_modelED_RMSprop_10000_20.h5',\n",
              " 'best_modelED_Adam_20000_100.h5']"
            ]
          },
          "metadata": {
            "tags": []
          },
          "execution_count": 3
        }
      ]
    },
    {
      "cell_type": "code",
      "metadata": {
        "id": "C4gfhFUxZY0R",
        "colab_type": "code",
        "colab": {}
      },
      "source": [
        "# функция чтения файла\n",
        "def readText(fileName):\n",
        "  f = open(fileName, 'r') # открываем нужный файл\n",
        "  text = f.read()         # читаем текст\n",
        "  text = text.replace(\"\\n\", \" \")  # меняем переносы строк на пробелы\n",
        "  return text\n",
        "\n",
        "# Перечислили интересующих авторов и назначили соответствующие им классы\n",
        "className = [\"Генри\", \"Стругацкие\", \"Булгаков\", \"Клиффорд\", \"Макс\", \"Брэдберри\"] \n",
        "nClasses = len(className) # посчитали количество авторов"
      ],
      "execution_count": 4,
      "outputs": []
    },
    {
      "cell_type": "code",
      "metadata": {
        "id": "w4868229cJMb",
        "colab_type": "code",
        "colab": {
          "base_uri": "https://localhost:8080/",
          "height": 345
        },
        "outputId": "d46681ef-67fa-43c0-9f63-b1a7534c69c3"
      },
      "source": [
        "# Загружаем тексты писателей\n",
        "\n",
        "trainText = []\n",
        "testText = []\n",
        "\n",
        "# считываем тексты из файлов и обрабатываем их функцией readText\n",
        "for i in className:\n",
        "  for j in os.listdir():\n",
        "    if i in j: # если в названии файла есть имя класса (автора)\n",
        "\n",
        "      if 'Обучающая' in  j: # если в названии файла есть слово 'Обучающая'\n",
        "        trainText.append(readText(j)) # добавляем текст \n",
        "        print(j, 'добавлен в обучающую выборку')\n",
        "      if 'Тестовая' in j:\n",
        "        testText.append(readText(j)) # добавляем текст \n",
        "        print(j, 'добавлен в тестовую выборку')\n",
        "  print()\n",
        "\n",
        "print('Количество элементов в train:', len(trainText), '\\n Количество символов в [0] элементе train: ', len(trainText[0]))"
      ],
      "execution_count": 5,
      "outputs": [
        {
          "output_type": "stream",
          "text": [
            "(О. Генри) Обучающая_50 вместе.txt добавлен в обучающую выборку\n",
            "(О. Генри) Тестовая_20 вместе.txt добавлен в тестовую выборку\n",
            "\n",
            "(Стругацкие) Тестовая_2 вместе.txt добавлен в тестовую выборку\n",
            "(Стругацкие) Обучающая_5 вместе.txt добавлен в обучающую выборку\n",
            "\n",
            "(Булгаков) Обучающая_5 вместе.txt добавлен в обучающую выборку\n",
            "(Булгаков) Тестовая_2 вместе.txt добавлен в тестовую выборку\n",
            "\n",
            "(Клиффорд_Саймак) Тестовая_2 вместе.txt добавлен в тестовую выборку\n",
            "(Клиффорд_Саймак) Обучающая_5 вместе.txt добавлен в обучающую выборку\n",
            "\n",
            "(Макс Фрай) Обучающая_5 вместе.txt добавлен в обучающую выборку\n",
            "(Макс Фрай) Тестовая_2 вместе.txt добавлен в тестовую выборку\n",
            "\n",
            "(Рэй Брэдберри) Тестовая_8 вместе.txt добавлен в тестовую выборку\n",
            "(Рэй Брэдберри) Обучающая_22 вместе.txt добавлен в обучающую выборку\n",
            "\n",
            "Количество элементов в train: 6 \n",
            " Количество символов в [0] элементе train:  1049517\n"
          ],
          "name": "stdout"
        }
      ]
    },
    {
      "cell_type": "markdown",
      "metadata": {
        "id": "0uca9WXUtj_u",
        "colab_type": "text"
      },
      "source": [
        "### создаем train и validaton выборки\n",
        "-----\n",
        "При помощи функций формирования выборки по отрезкам текста с заданным шагом"
      ]
    },
    {
      "cell_type": "code",
      "metadata": {
        "id": "oTxCsTwAuZGt",
        "colab_type": "code",
        "colab": {}
      },
      "source": [
        "# разделение проиндексированного текста на короткие векторы\n",
        "def getSetFromIndexes(wordIndexes, xLen, step): # функция принимает последовательность индексов, размер окна и шаг окна\n",
        "  xSample = [] # пременная для векторов\n",
        "  wordsLen = len(wordIndexes) # считаем колиечтсво слов\n",
        "  i = 0\n",
        "\n",
        "  while (i + xLen <= wordsLen): # пока окно внутри массива wordIndexes\n",
        "    xSample.append(wordIndexes[i:i+xLen]) # Отрезаем векторы длины xLen\n",
        "    i += step # смещение на шаг вперед\n",
        "  \n",
        "  return xSample"
      ],
      "execution_count": 6,
      "outputs": []
    },
    {
      "cell_type": "code",
      "metadata": {
        "id": "I5-jwfuewVcA",
        "colab_type": "code",
        "colab": {}
      },
      "source": [
        "# создаем train и val выборки\n",
        "def createSetMultiClasses(wordIndexes, xLen, step): # функция принимает последовательность индексов, размер окна и шаг окна\n",
        "  nClases = len(wordIndexes) # количество влассов в выборке\n",
        "  classesXSamples = [] # Здесь будет список размером \"кол-во классов*кол-во окон в тексте*длину окна (например, 6 по 1341*1000)\"\n",
        "  for wI in wordIndexes: # для каждого текста каждого класса\n",
        "    classesXSamples.append(getSetFromIndexes(wI, xLen, step)) # Добавляем в список очередной текст индексов, разбитый на \"кол-во окон*длину окна\" \n",
        "  \n",
        "  xSamples = []\n",
        "  ySamples = []\n",
        "\n",
        "  for t in range(nClasses): # В диапазоне кол-ва классов(6)\n",
        "    xT = classesXSamples[t] # Берем очередной текст вида \"кол-во окон в тексте*длину окна\"(например, 1341*1000)\n",
        "    for i in range(len(xT)): # И каждое его окно\n",
        "      xSamples.append(xT[i]) # Добавляем в общий список выборки\n",
        "      ySamples.append(utils.to_categorical(t, nClasses)) # Добавляем соответствующий вектор класса\n",
        "\n",
        "  xSamples = np.array(xSamples) # Переводим в массив numpy для подачи в нейронку\n",
        "  ySamples = np.array(ySamples) # Переводим в массив numpy для подачи в нейронку\n",
        "\n",
        "  \n",
        "  return (xSamples, ySamples) #Функция возвращает выборку и соответствующие векторы классов"
      ],
      "execution_count": 7,
      "outputs": []
    },
    {
      "cell_type": "code",
      "metadata": {
        "id": "stHRW8-4mf7G",
        "colab_type": "code",
        "colab": {}
      },
      "source": [
        "# Представляем тестовую выборку в удобных для распознавания размерах\n",
        "def createTestMultiClasses(wordIndexes, xLen, step): #функция принимает последовательность индексов, размер окна, шаг окна\n",
        "\n",
        "  #Для каждого из 6 классов\n",
        "  #Создаём тестовую выборку из индексов\n",
        "  nClasses = len(wordIndexes) #Задаем количество классов\n",
        "  xTest6Classes01 = []               #Здесь будет список из всех классов, каждый размером \"кол-во окон в тексте * 20000 (при maxWordsCount=20000)\"\n",
        "  xTest6Classes = []                 #Здесь будет список массивов, каждый размером \"кол-во окон в тексте * длину окна\"(6 по 420*1000)\n",
        "  for wI in wordIndexes:                       #Для каждого тестового текста из последовательности индексов\n",
        "    sample = (getSetFromIndexes(wI, xLen, step)) #Тестовая выборка размером \"кол-во окон*длину окна\"(например, 420*1000)\n",
        "    xTest6Classes.append(sample)              # Добавляем в список\n",
        "    xTest6Classes01.append(tokenizerED.sequences_to_matrix(sample)) #Трансформируется в Bag of Words в виде \"кол-во окон в тексте * 20000\"\n",
        "  xTest6Classes01 = np.array(xTest6Classes01)                     #И добавляется к нашему списку, \n",
        "  xTest6Classes = np.array(xTest6Classes)                     #И добавляется к нашему списку, \n",
        "  \n",
        "  return xTest6Classes01, xTest6Classes  #функция вернёт тестовые данные: TestBag 6 классов на n*20000 и xTestEm 6 по n*1000\n",
        "\n",
        "# Распознаём тестовую выборку и выводим результаты\n",
        "def recognizeMultiClass(model, xTest, modelName):\n",
        "  print(\"НЕЙРОНКА: \", modelName)\n",
        "  print()\n",
        "  \n",
        "  totalSumRec = 0 # Сумма всех правильных ответов\n",
        "  \n",
        "  #Проходим по всем классам\n",
        "  for i in range(nClasses):\n",
        "    #Получаем результаты распознавания класса по блокам слов длины xLen\n",
        "    currPred = model.predict(xTest[i])\n",
        "    #Определяем номер распознанного класса для каждохо блока слов длины xLen\n",
        "    currOut = np.argmax(currPred, axis=1)\n",
        "\n",
        "    evVal = []\n",
        "    for j in range(nClasses):\n",
        "      evVal.append(len(currOut[currOut==j])/len(xTest[i]))\n",
        "\n",
        "    totalSumRec += len(currOut[currOut==i])\n",
        "    recognizedClass = np.argmax(evVal) #Определяем, какой класс в итоге за какой был распознан\n",
        "    \n",
        "    #Выводим результаты распознавания по текущему классу\n",
        "    isRecognized = \"Это НЕПРАВИЛЬНЫЙ ответ!\"\n",
        "    if (recognizedClass == i):\n",
        "      isRecognized = \"Это ПРАВИЛЬНЫЙ ответ!\"\n",
        "    str1 = 'Класс: ' + className[i] + \" \" * (11 - len(className[i])) + str(int(100*evVal[i])) + \"% сеть отнесла к классу \" + className[recognizedClass]\n",
        "    print(str1, \" \" * (55-len(str1)), isRecognized, sep='')\n",
        "  \n",
        "  #Выводим средний процент распознавания по всем классам вместе\n",
        "  print()\n",
        "  sumCount = 0\n",
        "  for i in range(nClasses):\n",
        "    sumCount += len(xTest[i])\n",
        "  print(\"Средний процент распознавания \", int(100*totalSumRec/sumCount), \"%\", sep='')\n",
        "\n",
        "  print()\n",
        "  \n",
        "  return totalSumRec/sumCount"
      ],
      "execution_count": 8,
      "outputs": []
    },
    {
      "cell_type": "markdown",
      "metadata": {
        "id": "QA0sF3Xn83H9",
        "colab_type": "text"
      },
      "source": [
        "## **bag of words**"
      ]
    },
    {
      "cell_type": "markdown",
      "metadata": {
        "id": "L58pdfJLyR5a",
        "colab_type": "text"
      },
      "source": [
        "### подготовка данных"
      ]
    },
    {
      "cell_type": "code",
      "metadata": {
        "id": "PcZ3E4sb0wua",
        "colab_type": "code",
        "colab": {}
      },
      "source": [
        "from tensorflow.keras import utils # Для работы с категориальными данными\n",
        "import numpy as np"
      ],
      "execution_count": null,
      "outputs": []
    },
    {
      "cell_type": "code",
      "metadata": {
        "id": "wCCbU7azwVeR",
        "colab_type": "code",
        "colab": {}
      },
      "source": [
        "# базовые параметры\n",
        "xLen = 10000 # длина отрезка анализируемого текста\n",
        "step = 100 # длина обучающих векторов, на которые разбили текст"
      ],
      "execution_count": null,
      "outputs": []
    },
    {
      "cell_type": "code",
      "metadata": {
        "id": "sVrMQQxTwVK4",
        "colab_type": "code",
        "colab": {
          "base_uri": "https://localhost:8080/",
          "height": 102
        },
        "outputId": "1cf6aef5-a6a8-4aec-f23d-9efe5c3f7487"
      },
      "source": [
        "cur_time = time.time() # Засекаем текущее время\n",
        "\n",
        "#Формируем обучающую и тестовую выборку\n",
        "xTrain, yTrain = createSetMultiClasses(trainWordIndexes, xLen, step) #извлекаем обучающую выборку\n",
        "xTest, yTest = createSetMultiClasses(testWordIndexes, xLen, step)    #извлекаем тестовую выборку\n",
        "print(xTrain.shape)\n",
        "print(yTrain.shape)\n",
        "print(xTest.shape)\n",
        "print(yTest.shape)\n",
        "\"\"\"\n",
        "получили обучающий/тестовый набор, достаточный для запуска Embedding,\n",
        "но для Bag of Words нужно xTrain и xTest представить в виде векторов из 0 и 1\n",
        "\"\"\"\n",
        "\n",
        "print('Время обработки: ', round(time.time() - cur_time, 2), 'c', sep='')"
      ],
      "execution_count": null,
      "outputs": [
        {
          "output_type": "stream",
          "text": [
            "(17100, 10000)\n",
            "(17100, 6)\n",
            "(6146, 10000)\n",
            "(6146, 6)\n",
            "Время обработки: 19.1c\n"
          ],
          "name": "stdout"
        }
      ]
    },
    {
      "cell_type": "code",
      "metadata": {
        "id": "ae3uNG_C1hKO",
        "colab_type": "code",
        "colab": {
          "base_uri": "https://localhost:8080/",
          "height": 34
        },
        "outputId": "81dc124f-afe0-4cad-a07e-cf5ca58fc097"
      },
      "source": [
        "print(xTrain[0])"
      ],
      "execution_count": null,
      "outputs": [
        {
          "output_type": "stream",
          "text": [
            "[ 4725     7  2449 ...    59 12357   913]\n"
          ],
          "name": "stdout"
        }
      ]
    },
    {
      "cell_type": "code",
      "metadata": {
        "id": "DEpLWI4-1qCh",
        "colab_type": "code",
        "colab": {
          "base_uri": "https://localhost:8080/",
          "height": 136
        },
        "outputId": "1e5ae677-4847-47d1-d5a0-5cf477cb283f"
      },
      "source": [
        "cur_time = time.time() # Засекаем текущее время\n",
        "\n",
        "### bag of words ###\n",
        "# Преобразовываем полученные выборки из последовательности индексов в матрицы нулей и единиц по принципу Bag of Words\n",
        "xTrain01 = tokenizer.sequences_to_matrix(xTrain.tolist()) #Подаем xTrain в виде списка, чтобы метод успешно сработал\n",
        "xTest01 = tokenizer.sequences_to_matrix(xTest.tolist()) # Подаем xTest в виде списка, чтобы метод успешно сработал\n",
        "\n",
        "print(xTrain01.shape)       # Размер обучающей выборки, сформированной по Bag of Words\n",
        "print(xTrain01[0][0:100])   # Фрагмент набора слов в виде Bag of Words\n",
        "print('Время обработки: ', round(time.time() - cur_time, 2), 'c', sep='')"
      ],
      "execution_count": null,
      "outputs": [
        {
          "output_type": "stream",
          "text": [
            "(17100, 20000)\n",
            "[0. 1. 1. 1. 1. 1. 1. 1. 1. 1. 1. 1. 1. 1. 1. 1. 1. 1. 1. 1. 1. 1. 1. 1.\n",
            " 1. 1. 1. 1. 1. 1. 1. 1. 1. 1. 1. 1. 1. 1. 1. 1. 1. 1. 1. 1. 1. 1. 1. 1.\n",
            " 1. 1. 1. 1. 1. 1. 1. 1. 1. 1. 1. 1. 1. 1. 1. 1. 1. 1. 1. 1. 1. 1. 1. 0.\n",
            " 1. 1. 0. 1. 1. 1. 1. 1. 1. 1. 1. 1. 1. 1. 1. 1. 1. 1. 1. 1. 1. 1. 1. 1.\n",
            " 1. 1. 1. 1.]\n",
            "Время обработки: 64.29c\n"
          ],
          "name": "stdout"
        }
      ]
    },
    {
      "cell_type": "markdown",
      "metadata": {
        "id": "8_EUXIEU2bb7",
        "colab_type": "text"
      },
      "source": [
        "### создаем нейросеть"
      ]
    },
    {
      "cell_type": "code",
      "metadata": {
        "id": "sR7rT_0H2_uO",
        "colab_type": "code",
        "colab": {}
      },
      "source": [
        "k_Dropout = 0.25\n",
        "k_Dense = 200\n",
        "k_epochs = 10\n",
        "batch_size = 128"
      ],
      "execution_count": null,
      "outputs": []
    },
    {
      "cell_type": "code",
      "metadata": {
        "id": "NAITdHUB2L8B",
        "colab_type": "code",
        "colab": {
          "base_uri": "https://localhost:8080/",
          "height": 639
        },
        "outputId": "395f2def-76d0-4ec5-9d26-d099cf800503"
      },
      "source": [
        "model01 = Sequential()\n",
        "model01.add(Dense(k_Dense, input_dim=maxWordsCount, activation='relu')) # послносвязный слой\n",
        "model01.add(Dropout(k_Dropout)) # регуляризация\n",
        "model01.add(BatchNormalization()) # пакетная нормализация\n",
        "model01.add(Dense(6, activation='sigmoid'))\n",
        "\n",
        "model01.compile(optimizer='adam',\n",
        "                loss='categorical_crossentropy',\n",
        "                metrics=['accuracy'])\n",
        "\n",
        "# обучение на выборке от bag of words - xTrain01\n",
        "history = model01.fit(xTrain01, yTrain,\n",
        "                      epochs = k_epochs,\n",
        "                      batch_size = batch_size,\n",
        "                      validation_data = (xTest01, yTest))\n",
        "\n",
        "plt.plot(history.history['accuracy'], \n",
        "         label='Доля верных ответов на обучающем наборе')\n",
        "plt.plot(history.history['val_accuracy'], \n",
        "         label='Доля верных ответов на проверочном наборе')\n",
        "plt.xlabel('Эпоха обучения')\n",
        "plt.ylabel('Доля верных ответов')\n",
        "plt.legend()\n",
        "plt.show()"
      ],
      "execution_count": null,
      "outputs": [
        {
          "output_type": "stream",
          "text": [
            "Epoch 1/10\n",
            "134/134 [==============================] - 2s 12ms/step - loss: 0.3179 - accuracy: 0.9840 - val_loss: 0.6341 - val_accuracy: 0.9740\n",
            "Epoch 2/10\n",
            "134/134 [==============================] - 1s 10ms/step - loss: 0.0765 - accuracy: 0.9754 - val_loss: 0.2871 - val_accuracy: 0.9748\n",
            "Epoch 3/10\n",
            "134/134 [==============================] - 1s 9ms/step - loss: 0.0245 - accuracy: 0.9968 - val_loss: 0.1811 - val_accuracy: 0.9810\n",
            "Epoch 4/10\n",
            "134/134 [==============================] - 1s 9ms/step - loss: 0.0063 - accuracy: 1.0000 - val_loss: 0.1220 - val_accuracy: 0.9823\n",
            "Epoch 5/10\n",
            "134/134 [==============================] - 1s 9ms/step - loss: 0.0037 - accuracy: 1.0000 - val_loss: 0.0948 - val_accuracy: 0.9826\n",
            "Epoch 6/10\n",
            "134/134 [==============================] - 1s 9ms/step - loss: 0.0020 - accuracy: 1.0000 - val_loss: 0.0767 - val_accuracy: 0.9816\n",
            "Epoch 7/10\n",
            "134/134 [==============================] - 1s 9ms/step - loss: 0.0014 - accuracy: 1.0000 - val_loss: 0.0680 - val_accuracy: 0.9841\n",
            "Epoch 8/10\n",
            "134/134 [==============================] - 1s 9ms/step - loss: 0.0011 - accuracy: 1.0000 - val_loss: 0.0659 - val_accuracy: 0.9818\n",
            "Epoch 9/10\n",
            "134/134 [==============================] - 1s 9ms/step - loss: 8.2306e-04 - accuracy: 1.0000 - val_loss: 0.0582 - val_accuracy: 0.9832\n",
            "Epoch 10/10\n",
            "134/134 [==============================] - 1s 9ms/step - loss: 6.2109e-04 - accuracy: 1.0000 - val_loss: 0.0542 - val_accuracy: 0.9829\n"
          ],
          "name": "stdout"
        },
        {
          "output_type": "display_data",
          "data": {
            "image/png": "[encoded data removed]",
            "text/plain": [
              "<Figure size 432x288 with 1 Axes>"
            ]
          },
          "metadata": {
            "tags": [],
            "needs_background": "light"
          }
        }
      ]
    },
    {
      "cell_type": "markdown",
      "metadata": {
        "id": "oWOdkIS87o-1",
        "colab_type": "text"
      },
      "source": [
        "### распознавание на проверочной выборке"
      ]
    },
    {
      "cell_type": "code",
      "metadata": {
        "id": "ndLp3wDn7Kr2",
        "colab_type": "code",
        "colab": {}
      },
      "source": [
        "xTest6Classes01, x2 = createTestMultiClasses(testWordIndexes, xLen, step) #Преобразование тестовой выборки"
      ],
      "execution_count": null,
      "outputs": []
    },
    {
      "cell_type": "code",
      "metadata": {
        "id": "SP117ptGhzOj",
        "colab_type": "code",
        "colab": {}
      },
      "source": [
        "l = np.array(xTest6Classes01)\n",
        "np.save('xTestPredictBoW', l)\n",
        "np.save('xTestPredictEmbedding', x2)"
      ],
      "execution_count": null,
      "outputs": []
    },
    {
      "cell_type": "code",
      "metadata": {
        "id": "wMxCLf_Vi5yY",
        "colab_type": "code",
        "colab": {
          "base_uri": "https://localhost:8080/",
          "height": 204
        },
        "outputId": "e7a9969a-df7f-4a71-d6bd-df9710629857"
      },
      "source": [
        "#Проверяем точность нейронки обученной на bag of words\n",
        "pred = recognizeMultiClass(model01, xTest6Classes01, \"Тексты 01 + Dense\")"
      ],
      "execution_count": null,
      "outputs": [
        {
          "output_type": "stream",
          "text": [
            "НЕЙРОНКА:  Тексты 01 + Dense\n",
            "\n",
            "Класс: Генри      100% сеть отнесла к классу Генри     Это ПРАВИЛЬНЫЙ ответ!\n",
            "Класс: Стругацкие 98% сеть отнесла к классу Стругацкие Это ПРАВИЛЬНЫЙ ответ!\n",
            "Класс: Булгаков   100% сеть отнесла к классу Булгаков  Это ПРАВИЛЬНЫЙ ответ!\n",
            "Класс: Саймак    100% сеть отнесла к классу Саймак   Это ПРАВИЛЬНЫЙ ответ!\n",
            "Класс: Фрай      95% сеть отнесла к классу Фрай      Это ПРАВИЛЬНЫЙ ответ!\n",
            "Класс: Брэдберри  100% сеть отнесла к классу Брэдберри Это ПРАВИЛЬНЫЙ ответ!\n",
            "\n",
            "Средний процент распознавания 98%\n",
            "\n"
          ],
          "name": "stdout"
        }
      ]
    },
    {
      "cell_type": "markdown",
      "metadata": {
        "id": "61KYb0uyjTk4",
        "colab_type": "text"
      },
      "source": [
        "### обрабатываем тексты"
      ]
    },
    {
      "cell_type": "code",
      "metadata": {
        "id": "htPg1u5GjYAg",
        "colab_type": "code",
        "colab": {
          "base_uri": "https://localhost:8080/",
          "height": 32
        },
        "outputId": "5698d7de-4095-4518-98d1-6c9683e7f396"
      },
      "source": [
        "cur_time = time.time() # засекаем время\n",
        "\n",
        "maxWordsCount = 5000 # Определили максимальное количество слов, учитываемых при обучении\n",
        "\n",
        "tokenizer = Tokenizer(num_words = maxWordsCount, # обрабатываем текст, оставляя только те слова, на которых учимся\n",
        "                      filters='\"!#$%&()*+,-–—./…:;<=>?@[\\\\]^_`{|}~«»\\t\\n\\xa0\\ufeff', # избавляемся от этих символов\n",
        "                      lower=True,           # переводим в нижний регистр\n",
        "                      split=' ',            # разделяем слова пробелом\n",
        "                      oov_token='unknown',  # ???\n",
        "                      char_level=False)     # оставляем слова из одной буквы\n",
        "\n",
        "tokenizer.fit_on_texts(trainText) # сзодаем словарь частотности для наших текстов\n",
        "items = list(tokenizer.word_index.items()) # заносим индексы слов в словарь\n",
        "\n",
        "print('Время обработки: ', round(time.time() - cur_time, 2), 'c', sep='') # смотрим время"
      ],
      "execution_count": null,
      "outputs": [
        {
          "output_type": "stream",
          "text": [
            "Время обработки: 2.55c\n"
          ],
          "name": "stdout"
        }
      ]
    },
    {
      "cell_type": "code",
      "metadata": {
        "id": "ZfUoNaXKjYH9",
        "colab_type": "code",
        "colab": {
          "base_uri": "https://localhost:8080/",
          "height": 115
        },
        "outputId": "36fb5219-9621-48cf-b2cd-ab06d5821695"
      },
      "source": [
        "print('Пять самых ЧАСТО встречающихся слов: ', items[:5])\n",
        "print('Пять самых РЕДКО встречающихся слов: ', items[-5:])\n",
        "print('Размер словаря', len(items))\n",
        "print()\n",
        "print(\"Индекс слова: \", tokenizer.word_index[input('Наберите слово: ')])"
      ],
      "execution_count": null,
      "outputs": [
        {
          "output_type": "stream",
          "text": [
            "Пять самых ЧАСТО встречающихся слов:  [('unknown', 1), ('и', 2), ('в', 3), ('не', 4), ('я', 5)]\n",
            "Пять самых РЕДКО встречающихся слов:  [('потерян', 133066), ('расплывающиеся', 133067), ('миллионе', 133068), ('зияющая', 133069), ('ничтонавстречу', 133070)]\n",
            "Размер словаря 133070\n",
            "\n",
            "Наберите слово: деревня\n",
            "Индекс слова:  12834\n"
          ],
          "name": "stdout"
        }
      ]
    },
    {
      "cell_type": "markdown",
      "metadata": {
        "id": "XxLw8LUSoIAc",
        "colab_type": "text"
      },
      "source": [
        "### преобразуем текст в последовательность элементов"
      ]
    },
    {
      "cell_type": "code",
      "metadata": {
        "id": "oiV5yzxpjX2B",
        "colab_type": "code",
        "colab": {
          "base_uri": "https://localhost:8080/",
          "height": 69
        },
        "outputId": "ad35f0a3-17c6-4e0f-d0a2-f5cc70448abd"
      },
      "source": [
        "trainWordIndexes = tokenizer.texts_to_sequences(trainText)  # оцифровал обучающие тексты\n",
        "testWordIndexes = tokenizer.texts_to_sequences(testText)    # оцифровал тестовые тексты\n",
        "\n",
        "print('Фрагмент обуающего текста: ', trainText[1][:51]) ### надо бы убрать цифры их массивов\n",
        "print('Он же в виде последовательности индексов: ', trainWordIndexes[1][:51])"
      ],
      "execution_count": null,
      "outputs": [
        {
          "output_type": "stream",
          "text": [
            "Фрагмент обуающего текста:  Парень из преисподней     1     Ну и деревня! Сроду\n",
            "Он же в виде последовательности индексов:  [473, 22, 1, 1508, 47, 2, 1, 1, 5, 415, 1, 4, 251, 2, 4, 249, 55, 6, 240, 1, 2630, 182, 1, 1, 99, 3527, 1, 7, 1, 11, 1, 1, 10, 67, 301, 116, 34, 4, 1, 1, 196, 12, 1, 1, 1, 1, 1, 1, 1, 1035, 175]\n"
          ],
          "name": "stdout"
        }
      ]
    },
    {
      "cell_type": "code",
      "metadata": {
        "id": "wxBcBz6hrU5W",
        "colab_type": "code",
        "colab": {
          "base_uri": "https://localhost:8080/",
          "height": 345
        },
        "outputId": "d98e29b3-7ba8-48c3-bcd0-36b011ced077"
      },
      "source": [
        "print(\"Статистика по обучающим текстам:\")\n",
        "\n",
        "symbolsTrainText = 0 # Объявляем переменную для подсчета символов в обучающих текстах\n",
        "wordsTrainText = 0 # Объявляем переменную для подсчета слов в обучающих текстах\n",
        "\n",
        "for i in range(nClasses): # Проходим по всем классам\n",
        "  print(className[i], \" \"*(10-len(className[i])), len(trainText[i]), \"символов, \", len(trainWordIndexes[i]), \"слов\")\n",
        "  symbolsTrainText += len(trainText[i]) # Считаем символы\n",
        "  wordsTrainText += len(trainWordIndexes[i]) # Считаем слова \n",
        "\n",
        "print('----')\n",
        "print(\"В сумме \", symbolsTrainText, \" символов, \", wordsTrainText, \" слов \\n\")\n",
        "print()\n",
        "print(\"Статистика по тестовым текстам:\")\n",
        "\n",
        "symbolsTestText = 0 # Объявляем переменную для подсчета символов в тестовых текстах\n",
        "wordsTestText = 0 # Объявляем переменную для подсчета слов в тестовых текстах\n",
        "\n",
        "for i in range(nClasses): #Проходим по всем классам\n",
        "  print(className[i], ' '*(12-len(className[i])), len(testText[i]), \"символов, \", len(testWordIndexes[i]), \"слов\")\n",
        "  symbolsTestText += len(testText[i]) #Считаем символы\n",
        "  wordsTestText += len(testWordIndexes[i]) #Считаем слова \n",
        "print('----')\n",
        "print(\"В сумме \", symbolsTestText, \" символов, \", wordsTestText, \" слов\")"
      ],
      "execution_count": null,
      "outputs": [
        {
          "output_type": "stream",
          "text": [
            "Статистика по обучающим текстам:\n",
            "Генри       1049517 символов,  160607 слов\n",
            "Стругацкие  2042469 символов,  313012 слов\n",
            "Булгаков    1765648 символов,  261465 слов\n",
            "Клиффорд    1609507 символов,  251502 слов\n",
            "Макс        3700010 символов,  568533 слов\n",
            "Брэдберри   1386454 символов,  214454 слов\n",
            "----\n",
            "В сумме  11553605  символов,  1769573  слов \n",
            "\n",
            "\n",
            "Статистика по тестовым текстам:\n",
            "Генри         349662 символов,  53238 слов\n",
            "Стругацкие    704846 символов,  108621 слов\n",
            "Булгаков      875042 символов,  132730 слов\n",
            "Клиффорд      318811 символов,  50360 слов\n",
            "Макс          1278191 символов,  196731 слов\n",
            "Брэдберри     868673 символов,  132524 слов\n",
            "----\n",
            "В сумме  4395225  символов,  674204  слов\n"
          ],
          "name": "stdout"
        }
      ]
    },
    {
      "cell_type": "markdown",
      "metadata": {
        "id": "Tzs0oa6K8oWG",
        "colab_type": "text"
      },
      "source": [
        "## **Embedding + Dense**\n",
        "---\n",
        "3. Запустите нейронку c Embbedding при maxWordsCount = 50000, поменяйте размер Embedding\n",
        "пространства\n",
        "* 10\n",
        "* 50\n",
        "* 200\n"
      ]
    },
    {
      "cell_type": "code",
      "metadata": {
        "id": "TeVOqgmULXct",
        "colab_type": "code",
        "colab": {
          "base_uri": "https://localhost:8080/",
          "height": 69
        },
        "outputId": "a40f354b-354c-4ce5-9f49-9c1107834949"
      },
      "source": [
        "maxWordsCount = 50000 # Определили максимальное количество слов, учитываемых при обучении\n",
        "\n",
        "tokenizerED = Tokenizer(num_words = maxWordsCount, # обрабатываем текст, оставляя только те слова, на которых учимся\n",
        "                        filters='0123456789\"!#$%&()*+,-–—./…:;<=>?@[\\\\]^_`{|}~«»\\t\\n\\xa0\\ufeff', # избавляемся от этих символов\n",
        "                        lower=True,           # переводим в нижний регистр\n",
        "                        split=' ',            # разделяем слова пробелом\n",
        "                        oov_token='unknown',  # ???\n",
        "                        char_level=False)     # оставляем слова из одной буквы\n",
        "\n",
        "tokenizerED.fit_on_texts(trainText) # сзодаем словарь частотности для наших текстов\n",
        "itemsED = list(tokenizerED.word_index.items()) # заносим индексы слов в словарь\n",
        "\n",
        "# преобразую текст в последовательность элементов\n",
        "trainWordIndexesED = tokenizerED.texts_to_sequences(trainText)  # оцифровал обучающие тексты\n",
        "testWordIndexesED = tokenizerED.texts_to_sequences(testText)    # оцифровал тестовые тексты\n",
        "print('Фрагмент обуающего текста: ', trainText[1][:51]) ### надо бы убрать цифры их массивов\n",
        "print('Он же в виде последовательности индексов: ', trainWordIndexesED[1][:51])\n",
        "\n",
        "symbolsTrainTexED = 0 # Объявляем переменную для подсчета символов в обучающих текстах\n",
        "wordsTrainTextED = 0 # Объявляем переменную для подсчета слов в обучающих текстах\n"
      ],
      "execution_count": 9,
      "outputs": [
        {
          "output_type": "stream",
          "text": [
            "Фрагмент обуающего текста:  Парень из преисподней     1     Ну и деревня! Сроду\n",
            "Он же в виде последовательности индексов:  [473, 22, 29082, 47, 2, 12788, 7770, 5, 415, 27496, 4, 251, 2, 4, 249, 55, 6, 240, 9436, 2625, 182, 5796, 24082, 99, 3518, 19746, 7, 1, 11, 32399, 1, 10, 67, 301, 116, 34, 4, 34312, 19747, 196, 12, 11214, 42440, 19748, 42441, 8701, 1, 11610, 1034, 175, 7336]\n"
          ],
          "name": "stdout"
        }
      ]
    },
    {
      "cell_type": "code",
      "metadata": {
        "id": "D0W6BXdP8ub-",
        "colab_type": "code",
        "colab": {
          "base_uri": "https://localhost:8080/"
        },
        "outputId": "37858cf1-868e-4e91-e520-965656a1535d"
      },
      "source": [
        "cur_time = time.time() # засекаем время\n",
        "\n",
        "batch_size = 64\n",
        "k_Dense = 6\n",
        "k_Dropout = 0.4\n",
        "epochs = 100\n",
        "N_lr = 0.00005\n",
        "\n",
        "data = []\n",
        "\n",
        "N_xLen = [15000] # хорошо при 20000\n",
        "N_step = [20]\n",
        "N_Emb = [50] # Кол-во нейронов в скрытом слое\n",
        "\n",
        "for xLen in N_xLen:\n",
        "  for step in N_step:\n",
        "    xTrainED, yTrainED = createSetMultiClasses(trainWordIndexesED, xLen, step) #извлекаем обучающую выборку\n",
        "    xTestED, yTestED = createSetMultiClasses(testWordIndexesED, xLen, step)    #извлекаем тестовую выборку\n",
        "\n",
        "    for k_Embbeding in N_Emb:\n",
        "      modelED = Sequential()\n",
        "\n",
        "      modelED.add(Embedding(maxWordsCount, k_Embbeding, input_length=xLen))\n",
        "      modelED.add(SpatialDropout1D(k_Dropout))\n",
        "      #modelED.add(Dropout(k_Dropout))\n",
        "      modelED.add(Flatten())\n",
        "\n",
        "      #modelED.add(Dense(k_Embbeding, activation='relu'))\n",
        "      #modelED.add(Dropout(k_Dropout))\n",
        "\n",
        "      modelED.add(Dense(k_Dense, activation='softmax'))\n",
        "\n",
        "      modelED.compile(optimizer=Adam(N_lr),\n",
        "                      loss='categorical_crossentropy', \n",
        "                      metrics=['accuracy'])\n",
        "\n",
        "      \n",
        "      # остановки обучения по условию \n",
        "      early_stopping = EarlyStopping(monitor = 'val_accuracy', \n",
        "                                    patience = 4, verbose = 1,\n",
        "                                    restore_best_weights = True)\n",
        "      Checkpoint = ModelCheckpoint('best_modelED_Adam_15000_20.h5', monitor='val_accuracy', mode='max', verbose=1, save_best_only=True)\n",
        "\n",
        "\n",
        "      print('Emb = ', k_Embbeding, 'xLen = ', xLen, 'step = ', step)\n",
        "\n",
        "      #Обучаем на xTrain\n",
        "      historyED = modelED.fit(xTrainED, yTrainED, \n",
        "                              epochs=epochs, verbose=1,\n",
        "                              callbacks = [early_stopping, Checkpoint],\n",
        "                              validation_data = (xTestED, yTestED))\n",
        "\n",
        "\n",
        "      plt.plot(historyED.history['accuracy'], \n",
        "              label='Доля верных ответов на обучающем наборе')\n",
        "      plt.plot(historyED.history['val_accuracy'], \n",
        "              label='Доля верных ответов на проверочном наборе')\n",
        "      plt.xlabel('Эпоха обучения')\n",
        "      plt.ylabel('Доля верных ответов')\n",
        "      plt.legend()\n",
        "      plt.grid()\n",
        "      plt.show()\n",
        "\n",
        "      data = data + [[maxWordsCount, batch_size, k_Dense, k_Dropout, k_Embbeding,  'relu', 'softmax', 'Adam', xLen, step, max(historyED.history['val_accuracy'])]]\n",
        "\n",
        "      #Проверяем результаты работы Ebedding сети\n",
        "      _, xTest6Classes = createTestMultiClasses(testWordIndexesED, xLen, step) #Преобразование тестовой выборки для predict\n",
        "      predict = recognizeMultiClass(modelED, xTest6Classes, \"Embedding + Dense\")\n",
        "\n",
        "\n",
        "print('Время обработки: ', round(time.time() - cur_time, 2), 'c', sep='') # смотрим время\n",
        "\n",
        "results = pd.DataFrame(data, columns = ['maxWordsCount', 'batch_size', 'Dense', 'Dropout', 'Embbeding', 'Ativation', 'Activation', 'Optimizer', 'xLen', 'step', 'predict'])\n",
        "results\n"
      ],
      "execution_count": null,
      "outputs": [
        {
          "output_type": "stream",
          "text": [
            "Emb =  50 xLen =  15000 step =  20\n",
            "Epoch 1/100\n",
            "2619/2620 [============================>.] - ETA: 0s - loss: 0.2595 - accuracy: 0.9258\n",
            "Epoch 00001: val_accuracy improved from -inf to 0.88766, saving model to best_modelED_Adam_15000_20.h5\n",
            "2620/2620 [==============================] - 195s 74ms/step - loss: 0.2595 - accuracy: 0.9258 - val_loss: 0.4800 - val_accuracy: 0.8877\n",
            "Epoch 2/100\n",
            "1993/2620 [=====================>........] - ETA: 42s - loss: 0.0019 - accuracy: 1.0000"
          ],
          "name": "stdout"
        }
      ]
    },
    {
      "cell_type": "code",
      "metadata": {
        "id": "2G-kFr6yshZT",
        "colab_type": "code",
        "colab": {
          "base_uri": "https://localhost:8080/",
          "height": 197
        },
        "outputId": "adf2ac7d-fce5-4ce6-8cd6-5c0980e0ffb5"
      },
      "source": [
        "from tensorflow.keras.models import load_model\n",
        "\n",
        "batch_size = 64\n",
        "k_Dense = 6\n",
        "k_Dropout = 0.4\n",
        "epochs = 100\n",
        "N_lr = 0.00005\n",
        "xLen = 15000 # хорошо при 20000 но не хватает памяти ((\n",
        "step = 20\n",
        "k_Embbeding = 50 # Кол-во нейронов в скрытом слое\n",
        "\n",
        "modelED = Sequential()\n",
        "modelED = load_model('best_modelED_Adam_15000_20_0.9713.h5')\n",
        "\n",
        "#Проверяем результаты работы Ebedding сети\n",
        "_, xTest6Classes = createTestMultiClasses(testWordIndexesED, xLen, step) #Преобразование тестовой выборки для predict\n",
        "predict = recognizeMultiClass(modelED, xTest6Classes, \"Embedding + Dense\")"
      ],
      "execution_count": 10,
      "outputs": [
        {
          "output_type": "stream",
          "text": [
            "НЕЙРОНКА:  Embedding + Dense\n",
            "\n",
            "Класс: Генри      100% сеть отнесла к классу Генри     Это ПРАВИЛЬНЫЙ ответ!\n",
            "Класс: Стругацкие 99% сеть отнесла к классу Стругацкие Это ПРАВИЛЬНЫЙ ответ!\n",
            "Класс: Булгаков   88% сеть отнесла к классу Булгаков   Это ПРАВИЛЬНЫЙ ответ!\n",
            "Класс: Клиффорд   92% сеть отнесла к классу Клиффорд   Это ПРАВИЛЬНЫЙ ответ!\n",
            "Класс: Макс       99% сеть отнесла к классу Макс       Это ПРАВИЛЬНЫЙ ответ!\n",
            "Класс: Брэдберри  100% сеть отнесла к классу Брэдберри Это ПРАВИЛЬНЫЙ ответ!\n",
            "\n",
            "Средний процент распознавания 97%\n",
            "\n"
          ],
          "name": "stdout"
        }
      ]
    },
    {
      "cell_type": "code",
      "metadata": {
        "id": "chqwdhvJvm7l",
        "colab_type": "code",
        "colab": {
          "base_uri": "https://localhost:8080/",
          "height": 109
        },
        "outputId": "2f618b19-db0f-492d-aa19-572c92ac9f58"
      },
      "source": [
        "# k_Dropout = 0.4 # было 0.4 + N_lr = 0.00005, Dense = k_Embbeding\n",
        "results = pd.DataFrame(data, columns = ['maxWordsCount', 'batch_size', 'Dense', 'Dropout', 'Embbeding', 'Activation', 'Activation', 'Optimizer', 'xLen', 'step', 'predict'])\n",
        "results "
      ],
      "execution_count": null,
      "outputs": [
        {
          "output_type": "execute_result",
          "data": {
            "text/html": [
              "<div>\n",
              "<style scoped>\n",
              "    .dataframe tbody tr th:only-of-type {\n",
              "        vertical-align: middle;\n",
              "    }\n",
              "\n",
              "    .dataframe tbody tr th {\n",
              "        vertical-align: top;\n",
              "    }\n",
              "\n",
              "    .dataframe thead th {\n",
              "        text-align: right;\n",
              "    }\n",
              "</style>\n",
              "<table border=\"1\" class=\"dataframe\">\n",
              "  <thead>\n",
              "    <tr style=\"text-align: right;\">\n",
              "      <th></th>\n",
              "      <th>maxWordsCount</th>\n",
              "      <th>batch_size</th>\n",
              "      <th>Dense</th>\n",
              "      <th>Dropout</th>\n",
              "      <th>Embbeding</th>\n",
              "      <th>Activation</th>\n",
              "      <th>Activation</th>\n",
              "      <th>Optimizer</th>\n",
              "      <th>xLen</th>\n",
              "      <th>step</th>\n",
              "      <th>predict</th>\n",
              "    </tr>\n",
              "  </thead>\n",
              "  <tbody>\n",
              "    <tr>\n",
              "      <th>0</th>\n",
              "      <td>50000</td>\n",
              "      <td>64</td>\n",
              "      <td>6</td>\n",
              "      <td>0.4</td>\n",
              "      <td>50</td>\n",
              "      <td>relu</td>\n",
              "      <td>softmax</td>\n",
              "      <td>Adam</td>\n",
              "      <td>5000</td>\n",
              "      <td>20</td>\n",
              "      <td>0.886849</td>\n",
              "    </tr>\n",
              "    <tr>\n",
              "      <th>1</th>\n",
              "      <td>50000</td>\n",
              "      <td>64</td>\n",
              "      <td>6</td>\n",
              "      <td>0.4</td>\n",
              "      <td>50</td>\n",
              "      <td>relu</td>\n",
              "      <td>softmax</td>\n",
              "      <td>Adam</td>\n",
              "      <td>10000</td>\n",
              "      <td>20</td>\n",
              "      <td>0.904161</td>\n",
              "    </tr>\n",
              "  </tbody>\n",
              "</table>\n",
              "</div>"
            ],
            "text/plain": [
              "   maxWordsCount  batch_size  Dense  Dropout  ...  Optimizer   xLen step   predict\n",
              "0          50000          64      6      0.4  ...       Adam   5000   20  0.886849\n",
              "1          50000          64      6      0.4  ...       Adam  10000   20  0.904161\n",
              "\n",
              "[2 rows x 11 columns]"
            ]
          },
          "metadata": {
            "tags": []
          },
          "execution_count": 11
        }
      ]
    },
    {
      "cell_type": "code",
      "metadata": {
        "id": "GXSsYizZjMrP",
        "colab_type": "code",
        "colab": {
          "base_uri": "https://localhost:8080/",
          "height": 78
        },
        "outputId": "829f355e-520e-4597-a0b4-222cc40c46fe"
      },
      "source": [
        "results = pd.DataFrame(data, columns = ['maxWordsCount', 'batch_size', 'Dense', 'Dropout', 'Embbeding', 'Activation', 'Activation', 'Optimizer', 'xLen', 'step', 'predict'])\n",
        "results   # k_Dropout = 0.7"
      ],
      "execution_count": null,
      "outputs": [
        {
          "output_type": "execute_result",
          "data": {
            "text/html": [
              "<div>\n",
              "<style scoped>\n",
              "    .dataframe tbody tr th:only-of-type {\n",
              "        vertical-align: middle;\n",
              "    }\n",
              "\n",
              "    .dataframe tbody tr th {\n",
              "        vertical-align: top;\n",
              "    }\n",
              "\n",
              "    .dataframe thead th {\n",
              "        text-align: right;\n",
              "    }\n",
              "</style>\n",
              "<table border=\"1\" class=\"dataframe\">\n",
              "  <thead>\n",
              "    <tr style=\"text-align: right;\">\n",
              "      <th></th>\n",
              "      <th>maxWordsCount</th>\n",
              "      <th>batch_size</th>\n",
              "      <th>Dense</th>\n",
              "      <th>Dropout</th>\n",
              "      <th>Embbeding</th>\n",
              "      <th>Activation</th>\n",
              "      <th>Activation</th>\n",
              "      <th>Optimizer</th>\n",
              "      <th>xLen</th>\n",
              "      <th>step</th>\n",
              "      <th>predict</th>\n",
              "    </tr>\n",
              "  </thead>\n",
              "  <tbody>\n",
              "    <tr>\n",
              "      <th>0</th>\n",
              "      <td>50000</td>\n",
              "      <td>64</td>\n",
              "      <td>6</td>\n",
              "      <td>0.7</td>\n",
              "      <td>50</td>\n",
              "      <td>relu</td>\n",
              "      <td>softmax</td>\n",
              "      <td>Adam</td>\n",
              "      <td>10000</td>\n",
              "      <td>20</td>\n",
              "      <td>0.946394</td>\n",
              "    </tr>\n",
              "  </tbody>\n",
              "</table>\n",
              "</div>"
            ],
            "text/plain": [
              "   maxWordsCount  batch_size  Dense  Dropout  ...  Optimizer   xLen step   predict\n",
              "0          50000          64      6      0.7  ...       Adam  10000   20  0.946394\n",
              "\n",
              "[1 rows x 11 columns]"
            ]
          },
          "metadata": {
            "tags": []
          },
          "execution_count": 11
        }
      ]
    },
    {
      "cell_type": "code",
      "metadata": {
        "id": "puWSPq-BO5-E",
        "colab_type": "code",
        "colab": {
          "base_uri": "https://localhost:8080/",
          "height": 141
        },
        "outputId": "183b3a74-4f2d-48a0-dc72-58d79d215722"
      },
      "source": [
        "results = pd.DataFrame(data, columns = ['maxWordsCount', 'batch_size', 'Dense', 'Dropout', 'Embbeding', 'Activation', 'Activation', 'Optimizer', 'xLen', 'step', 'predict'])\n",
        "results\n",
        "# N_lr = 0.00005"
      ],
      "execution_count": null,
      "outputs": [
        {
          "output_type": "execute_result",
          "data": {
            "text/html": [
              "<div>\n",
              "<style scoped>\n",
              "    .dataframe tbody tr th:only-of-type {\n",
              "        vertical-align: middle;\n",
              "    }\n",
              "\n",
              "    .dataframe tbody tr th {\n",
              "        vertical-align: top;\n",
              "    }\n",
              "\n",
              "    .dataframe thead th {\n",
              "        text-align: right;\n",
              "    }\n",
              "</style>\n",
              "<table border=\"1\" class=\"dataframe\">\n",
              "  <thead>\n",
              "    <tr style=\"text-align: right;\">\n",
              "      <th></th>\n",
              "      <th>maxWordsCount</th>\n",
              "      <th>batch_size</th>\n",
              "      <th>Dense</th>\n",
              "      <th>Dropout</th>\n",
              "      <th>Embbeding</th>\n",
              "      <th>Activation</th>\n",
              "      <th>Activation</th>\n",
              "      <th>Optimizer</th>\n",
              "      <th>xLen</th>\n",
              "      <th>step</th>\n",
              "      <th>predict</th>\n",
              "    </tr>\n",
              "  </thead>\n",
              "  <tbody>\n",
              "    <tr>\n",
              "      <th>0</th>\n",
              "      <td>50000</td>\n",
              "      <td>64</td>\n",
              "      <td>6</td>\n",
              "      <td>0.2</td>\n",
              "      <td>50</td>\n",
              "      <td>relu</td>\n",
              "      <td>softmax</td>\n",
              "      <td>Adam</td>\n",
              "      <td>10000</td>\n",
              "      <td>20</td>\n",
              "      <td>0.956007</td>\n",
              "    </tr>\n",
              "  </tbody>\n",
              "</table>\n",
              "</div>"
            ],
            "text/plain": [
              "   maxWordsCount  batch_size  Dense  Dropout  ...  Optimizer   xLen step   predict\n",
              "0          50000          64      6      0.2  ...       Adam  10000   20  0.956007\n",
              "\n",
              "[1 rows x 11 columns]"
            ]
          },
          "metadata": {
            "tags": []
          },
          "execution_count": 11
        },
        {
          "output_type": "execute_result",
          "data": {
            "text/html": [
              "<div>\n",
              "<style scoped>\n",
              "    .dataframe tbody tr th:only-of-type {\n",
              "        vertical-align: middle;\n",
              "    }\n",
              "\n",
              "    .dataframe tbody tr th {\n",
              "        vertical-align: top;\n",
              "    }\n",
              "\n",
              "    .dataframe thead th {\n",
              "        text-align: right;\n",
              "    }\n",
              "</style>\n",
              "<table border=\"1\" class=\"dataframe\">\n",
              "  <thead>\n",
              "    <tr style=\"text-align: right;\">\n",
              "      <th></th>\n",
              "      <th>maxWordsCount</th>\n",
              "      <th>batch_size</th>\n",
              "      <th>Dense</th>\n",
              "      <th>Dropout</th>\n",
              "      <th>Embbeding</th>\n",
              "      <th>Activation</th>\n",
              "      <th>Activation</th>\n",
              "      <th>Optimizer</th>\n",
              "      <th>xLen</th>\n",
              "      <th>step</th>\n",
              "      <th>predict</th>\n",
              "    </tr>\n",
              "  </thead>\n",
              "  <tbody>\n",
              "    <tr>\n",
              "      <th>0</th>\n",
              "      <td>50000</td>\n",
              "      <td>64</td>\n",
              "      <td>6</td>\n",
              "      <td>0.2</td>\n",
              "      <td>50</td>\n",
              "      <td>relu</td>\n",
              "      <td>softmax</td>\n",
              "      <td>Adam</td>\n",
              "      <td>10000</td>\n",
              "      <td>20</td>\n",
              "      <td>0.956007</td>\n",
              "    </tr>\n",
              "  </tbody>\n",
              "</table>\n",
              "</div>"
            ],
            "text/plain": [
              "   maxWordsCount  batch_size  Dense  Dropout  ...  Optimizer   xLen step   predict\n",
              "0          50000          64      6      0.2  ...       Adam  10000   20  0.956007\n",
              "\n",
              "[1 rows x 11 columns]"
            ]
          },
          "metadata": {
            "tags": []
          },
          "execution_count": 12
        }
      ]
    },
    {
      "cell_type": "code",
      "metadata": {
        "id": "Kf0ZpQ-dN88w",
        "colab_type": "code",
        "colab": {
          "base_uri": "https://localhost:8080/",
          "height": 78
        },
        "outputId": "c98cfa86-b482-4c72-9385-075b0a310616"
      },
      "source": [
        "results = pd.DataFrame(data, columns = ['maxWordsCount', 'batch_size', 'Dense', 'Dropout', 'Embbeding', 'Activation', 'Activation', 'Optimizer', 'xLen', 'step', 'predict'])\n",
        "results"
      ],
      "execution_count": null,
      "outputs": [
        {
          "output_type": "execute_result",
          "data": {
            "text/html": [
              "<div>\n",
              "<style scoped>\n",
              "    .dataframe tbody tr th:only-of-type {\n",
              "        vertical-align: middle;\n",
              "    }\n",
              "\n",
              "    .dataframe tbody tr th {\n",
              "        vertical-align: top;\n",
              "    }\n",
              "\n",
              "    .dataframe thead th {\n",
              "        text-align: right;\n",
              "    }\n",
              "</style>\n",
              "<table border=\"1\" class=\"dataframe\">\n",
              "  <thead>\n",
              "    <tr style=\"text-align: right;\">\n",
              "      <th></th>\n",
              "      <th>maxWordsCount</th>\n",
              "      <th>batch_size</th>\n",
              "      <th>Dense</th>\n",
              "      <th>Dropout</th>\n",
              "      <th>Embbeding</th>\n",
              "      <th>Activation</th>\n",
              "      <th>Activation</th>\n",
              "      <th>Optimizer</th>\n",
              "      <th>xLen</th>\n",
              "      <th>step</th>\n",
              "      <th>predict</th>\n",
              "    </tr>\n",
              "  </thead>\n",
              "  <tbody>\n",
              "    <tr>\n",
              "      <th>0</th>\n",
              "      <td>50000</td>\n",
              "      <td>64</td>\n",
              "      <td>6</td>\n",
              "      <td>0.2</td>\n",
              "      <td>50</td>\n",
              "      <td>relu</td>\n",
              "      <td>softmax</td>\n",
              "      <td>Adam</td>\n",
              "      <td>15000</td>\n",
              "      <td>20</td>\n",
              "      <td>0.926885</td>\n",
              "    </tr>\n",
              "  </tbody>\n",
              "</table>\n",
              "</div>"
            ],
            "text/plain": [
              "   maxWordsCount  batch_size  Dense  Dropout  ...  Optimizer   xLen step   predict\n",
              "0          50000          64      6      0.2  ...       Adam  15000   20  0.926885\n",
              "\n",
              "[1 rows x 11 columns]"
            ]
          },
          "metadata": {
            "tags": []
          },
          "execution_count": 11
        }
      ]
    },
    {
      "cell_type": "code",
      "metadata": {
        "id": "hFaNuYgj6oMw",
        "colab_type": "code",
        "colab": {
          "base_uri": "https://localhost:8080/",
          "height": 78
        },
        "outputId": "827a3a15-8203-45bb-dc48-69d669de485b"
      },
      "source": [
        "results = pd.DataFrame(data, columns = ['maxWordsCount', 'batch_size', 'Dense', 'Dropout', 'Embbeding', 'Activation', 'Activation', 'Optimizer', 'xLen', 'step', 'predict'])\n",
        "results"
      ],
      "execution_count": null,
      "outputs": [
        {
          "output_type": "execute_result",
          "data": {
            "text/html": [
              "<div>\n",
              "<style scoped>\n",
              "    .dataframe tbody tr th:only-of-type {\n",
              "        vertical-align: middle;\n",
              "    }\n",
              "\n",
              "    .dataframe tbody tr th {\n",
              "        vertical-align: top;\n",
              "    }\n",
              "\n",
              "    .dataframe thead th {\n",
              "        text-align: right;\n",
              "    }\n",
              "</style>\n",
              "<table border=\"1\" class=\"dataframe\">\n",
              "  <thead>\n",
              "    <tr style=\"text-align: right;\">\n",
              "      <th></th>\n",
              "      <th>maxWordsCount</th>\n",
              "      <th>batch_size</th>\n",
              "      <th>Dense</th>\n",
              "      <th>Dropout</th>\n",
              "      <th>Embbeding</th>\n",
              "      <th>Activation</th>\n",
              "      <th>Activation</th>\n",
              "      <th>Optimizer</th>\n",
              "      <th>xLen</th>\n",
              "      <th>step</th>\n",
              "      <th>predict</th>\n",
              "    </tr>\n",
              "  </thead>\n",
              "  <tbody>\n",
              "    <tr>\n",
              "      <th>0</th>\n",
              "      <td>50000</td>\n",
              "      <td>64</td>\n",
              "      <td>6</td>\n",
              "      <td>0.2</td>\n",
              "      <td>50</td>\n",
              "      <td>relu</td>\n",
              "      <td>softmax</td>\n",
              "      <td>Adam</td>\n",
              "      <td>10000</td>\n",
              "      <td>20</td>\n",
              "      <td>0.957018</td>\n",
              "    </tr>\n",
              "  </tbody>\n",
              "</table>\n",
              "</div>"
            ],
            "text/plain": [
              "   maxWordsCount  batch_size  Dense  Dropout  ...  Optimizer   xLen step   predict\n",
              "0          50000          64      6      0.2  ...       Adam  10000   20  0.957018\n",
              "\n",
              "[1 rows x 11 columns]"
            ]
          },
          "metadata": {
            "tags": []
          },
          "execution_count": 13
        }
      ]
    },
    {
      "cell_type": "code",
      "metadata": {
        "id": "IUjgCSPIjDnl",
        "colab_type": "code",
        "colab": {
          "base_uri": "https://localhost:8080/",
          "height": 78
        },
        "outputId": "802f4db6-d248-40ce-9ade-07b97d9061ad"
      },
      "source": [
        "results = pd.DataFrame(data, columns = ['maxWordsCount', 'batch_size', 'Dense', 'Dropout', 'Embbeding', 'Activation', 'Activation', 'Optimizer', 'xLen', 'step', 'predict'])\n",
        "results"
      ],
      "execution_count": null,
      "outputs": [
        {
          "output_type": "execute_result",
          "data": {
            "text/html": [
              "<div>\n",
              "<style scoped>\n",
              "    .dataframe tbody tr th:only-of-type {\n",
              "        vertical-align: middle;\n",
              "    }\n",
              "\n",
              "    .dataframe tbody tr th {\n",
              "        vertical-align: top;\n",
              "    }\n",
              "\n",
              "    .dataframe thead th {\n",
              "        text-align: right;\n",
              "    }\n",
              "</style>\n",
              "<table border=\"1\" class=\"dataframe\">\n",
              "  <thead>\n",
              "    <tr style=\"text-align: right;\">\n",
              "      <th></th>\n",
              "      <th>maxWordsCount</th>\n",
              "      <th>batch_size</th>\n",
              "      <th>Dense</th>\n",
              "      <th>Dropout</th>\n",
              "      <th>Embbeding</th>\n",
              "      <th>Activation</th>\n",
              "      <th>Activation</th>\n",
              "      <th>Optimizer</th>\n",
              "      <th>xLen</th>\n",
              "      <th>step</th>\n",
              "      <th>predict</th>\n",
              "    </tr>\n",
              "  </thead>\n",
              "  <tbody>\n",
              "    <tr>\n",
              "      <th>0</th>\n",
              "      <td>50000</td>\n",
              "      <td>64</td>\n",
              "      <td>6</td>\n",
              "      <td>0.6</td>\n",
              "      <td>50</td>\n",
              "      <td>relu</td>\n",
              "      <td>softmax</td>\n",
              "      <td>Adam</td>\n",
              "      <td>10000</td>\n",
              "      <td>20</td>\n",
              "      <td>0.926842</td>\n",
              "    </tr>\n",
              "  </tbody>\n",
              "</table>\n",
              "</div>"
            ],
            "text/plain": [
              "   maxWordsCount  batch_size  Dense  Dropout  ...  Optimizer   xLen step   predict\n",
              "0          50000          64      6      0.6  ...       Adam  10000   20  0.926842\n",
              "\n",
              "[1 rows x 11 columns]"
            ]
          },
          "metadata": {
            "tags": []
          },
          "execution_count": 11
        }
      ]
    },
    {
      "cell_type": "code",
      "metadata": {
        "id": "9PzWwYy0aPdW",
        "colab_type": "code",
        "colab": {
          "base_uri": "https://localhost:8080/",
          "height": 78
        },
        "outputId": "53a627ba-c0be-4ef8-e18f-d00070e325f2"
      },
      "source": [
        "results = pd.DataFrame(data, columns = ['maxWordsCount', 'batch_size', 'Dense', 'Dropout', 'Embbeding', 'Activation', 'Activation', 'Optimizer', 'xLen', 'step', 'predict'])\n",
        "results\n",
        "#Оставил только один Dense слой с 6ю нейронами + SpatialDropout1D 0.4"
      ],
      "execution_count": null,
      "outputs": [
        {
          "output_type": "execute_result",
          "data": {
            "text/html": [
              "<div>\n",
              "<style scoped>\n",
              "    .dataframe tbody tr th:only-of-type {\n",
              "        vertical-align: middle;\n",
              "    }\n",
              "\n",
              "    .dataframe tbody tr th {\n",
              "        vertical-align: top;\n",
              "    }\n",
              "\n",
              "    .dataframe thead th {\n",
              "        text-align: right;\n",
              "    }\n",
              "</style>\n",
              "<table border=\"1\" class=\"dataframe\">\n",
              "  <thead>\n",
              "    <tr style=\"text-align: right;\">\n",
              "      <th></th>\n",
              "      <th>maxWordsCount</th>\n",
              "      <th>batch_size</th>\n",
              "      <th>Dense</th>\n",
              "      <th>Dropout</th>\n",
              "      <th>Embbeding</th>\n",
              "      <th>Activation</th>\n",
              "      <th>Activation</th>\n",
              "      <th>Optimizer</th>\n",
              "      <th>xLen</th>\n",
              "      <th>step</th>\n",
              "      <th>predict</th>\n",
              "    </tr>\n",
              "  </thead>\n",
              "  <tbody>\n",
              "    <tr>\n",
              "      <th>0</th>\n",
              "      <td>50000</td>\n",
              "      <td>128</td>\n",
              "      <td>6</td>\n",
              "      <td>0.4</td>\n",
              "      <td>50</td>\n",
              "      <td>relu</td>\n",
              "      <td>softmax</td>\n",
              "      <td>Adam</td>\n",
              "      <td>10000</td>\n",
              "      <td>20</td>\n",
              "      <td>0.933099</td>\n",
              "    </tr>\n",
              "  </tbody>\n",
              "</table>\n",
              "</div>"
            ],
            "text/plain": [
              "   maxWordsCount  batch_size  Dense  Dropout  ...  Optimizer   xLen step   predict\n",
              "0          50000         128      6      0.4  ...       Adam  10000   20  0.933099\n",
              "\n",
              "[1 rows x 11 columns]"
            ]
          },
          "metadata": {
            "tags": []
          },
          "execution_count": 11
        }
      ]
    },
    {
      "cell_type": "code",
      "metadata": {
        "id": "h05gWaCgFBQN",
        "colab_type": "code",
        "colab": {
          "base_uri": "https://localhost:8080/",
          "height": 78
        },
        "outputId": "96190bf3-75a6-41da-b063-3f0dfd1cd4a8"
      },
      "source": [
        "results = pd.DataFrame(data, columns = ['maxWordsCount', 'batch_size', 'Dense', 'Dropout', 'Embbeding', 'relu', 'softmax', 'RMSprop', 'xLen', 'step', 'predict'])\n",
        "results\n",
        "#Оставил только один Dense слой с 6ю нейронами"
      ],
      "execution_count": null,
      "outputs": [
        {
          "output_type": "execute_result",
          "data": {
            "text/html": [
              "<div>\n",
              "<style scoped>\n",
              "    .dataframe tbody tr th:only-of-type {\n",
              "        vertical-align: middle;\n",
              "    }\n",
              "\n",
              "    .dataframe tbody tr th {\n",
              "        vertical-align: top;\n",
              "    }\n",
              "\n",
              "    .dataframe thead th {\n",
              "        text-align: right;\n",
              "    }\n",
              "</style>\n",
              "<table border=\"1\" class=\"dataframe\">\n",
              "  <thead>\n",
              "    <tr style=\"text-align: right;\">\n",
              "      <th></th>\n",
              "      <th>maxWordsCount</th>\n",
              "      <th>batch_size</th>\n",
              "      <th>Dense</th>\n",
              "      <th>Dropout</th>\n",
              "      <th>Embbeding</th>\n",
              "      <th>relu</th>\n",
              "      <th>softmax</th>\n",
              "      <th>RMSprop</th>\n",
              "      <th>xLen</th>\n",
              "      <th>step</th>\n",
              "      <th>predict</th>\n",
              "    </tr>\n",
              "  </thead>\n",
              "  <tbody>\n",
              "    <tr>\n",
              "      <th>0</th>\n",
              "      <td>5000</td>\n",
              "      <td>128</td>\n",
              "      <td>200</td>\n",
              "      <td>0.2</td>\n",
              "      <td>50</td>\n",
              "      <td>relu</td>\n",
              "      <td>softmax</td>\n",
              "      <td>RMSprop</td>\n",
              "      <td>20000</td>\n",
              "      <td>50</td>\n",
              "      <td>0.970386</td>\n",
              "    </tr>\n",
              "  </tbody>\n",
              "</table>\n",
              "</div>"
            ],
            "text/plain": [
              "   maxWordsCount  batch_size  Dense  Dropout  ...  RMSprop   xLen step   predict\n",
              "0           5000         128    200      0.2  ...  RMSprop  20000   50  0.970386\n",
              "\n",
              "[1 rows x 11 columns]"
            ]
          },
          "metadata": {
            "tags": []
          },
          "execution_count": 11
        }
      ]
    },
    {
      "cell_type": "code",
      "metadata": {
        "id": "pLUm7yzk85mn",
        "colab_type": "code",
        "colab": {
          "base_uri": "https://localhost:8080/",
          "height": 109
        },
        "outputId": "b632e6bc-2e10-4696-ce69-186566c929df"
      },
      "source": [
        "results = pd.DataFrame(data, columns = ['maxWordsCount', 'batch_size', 'Dense', 'Dropout', 'Embbeding', 'relu', 'softmax', 'RMSprop', 'xLen', 'step', 'predict'])\n",
        "results"
      ],
      "execution_count": null,
      "outputs": [
        {
          "output_type": "execute_result",
          "data": {
            "text/html": [
              "<div>\n",
              "<style scoped>\n",
              "    .dataframe tbody tr th:only-of-type {\n",
              "        vertical-align: middle;\n",
              "    }\n",
              "\n",
              "    .dataframe tbody tr th {\n",
              "        vertical-align: top;\n",
              "    }\n",
              "\n",
              "    .dataframe thead th {\n",
              "        text-align: right;\n",
              "    }\n",
              "</style>\n",
              "<table border=\"1\" class=\"dataframe\">\n",
              "  <thead>\n",
              "    <tr style=\"text-align: right;\">\n",
              "      <th></th>\n",
              "      <th>maxWordsCount</th>\n",
              "      <th>batch_size</th>\n",
              "      <th>Dense</th>\n",
              "      <th>Dropout</th>\n",
              "      <th>Embbeding</th>\n",
              "      <th>relu</th>\n",
              "      <th>softmax</th>\n",
              "      <th>RMSprop</th>\n",
              "      <th>xLen</th>\n",
              "      <th>step</th>\n",
              "      <th>predict</th>\n",
              "    </tr>\n",
              "  </thead>\n",
              "  <tbody>\n",
              "    <tr>\n",
              "      <th>0</th>\n",
              "      <td>5000</td>\n",
              "      <td>128</td>\n",
              "      <td>200</td>\n",
              "      <td>0.2</td>\n",
              "      <td>50</td>\n",
              "      <td>relu</td>\n",
              "      <td>softmax</td>\n",
              "      <td>RMSprop</td>\n",
              "      <td>5000</td>\n",
              "      <td>50</td>\n",
              "      <td>0.930569</td>\n",
              "    </tr>\n",
              "    <tr>\n",
              "      <th>1</th>\n",
              "      <td>5000</td>\n",
              "      <td>128</td>\n",
              "      <td>200</td>\n",
              "      <td>0.2</td>\n",
              "      <td>50</td>\n",
              "      <td>relu</td>\n",
              "      <td>softmax</td>\n",
              "      <td>RMSprop</td>\n",
              "      <td>10000</td>\n",
              "      <td>50</td>\n",
              "      <td>0.941756</td>\n",
              "    </tr>\n",
              "  </tbody>\n",
              "</table>\n",
              "</div>"
            ],
            "text/plain": [
              "   maxWordsCount  batch_size  Dense  Dropout  ...  RMSprop   xLen step   predict\n",
              "0           5000         128    200      0.2  ...  RMSprop   5000   50  0.930569\n",
              "1           5000         128    200      0.2  ...  RMSprop  10000   50  0.941756\n",
              "\n",
              "[2 rows x 11 columns]"
            ]
          },
          "metadata": {
            "tags": []
          },
          "execution_count": 30
        }
      ]
    },
    {
      "cell_type": "code",
      "metadata": {
        "id": "BphkbVihkcXh",
        "colab_type": "code",
        "colab": {
          "base_uri": "https://localhost:8080/",
          "height": 162
        },
        "outputId": "e7ab519f-a799-47d2-d68a-7d2255d55786"
      },
      "source": [
        "results\n",
        "# Adam + Dropout = 0.2"
      ],
      "execution_count": null,
      "outputs": [
        {
          "output_type": "execute_result",
          "data": {
            "text/html": [
              "<div>\n",
              "<style scoped>\n",
              "    .dataframe tbody tr th:only-of-type {\n",
              "        vertical-align: middle;\n",
              "    }\n",
              "\n",
              "    .dataframe tbody tr th {\n",
              "        vertical-align: top;\n",
              "    }\n",
              "\n",
              "    .dataframe thead th {\n",
              "        text-align: right;\n",
              "    }\n",
              "</style>\n",
              "<table border=\"1\" class=\"dataframe\">\n",
              "  <thead>\n",
              "    <tr style=\"text-align: right;\">\n",
              "      <th></th>\n",
              "      <th>maxWordsCount</th>\n",
              "      <th>batch_size</th>\n",
              "      <th>Dense</th>\n",
              "      <th>Dropout</th>\n",
              "      <th>Embbeding</th>\n",
              "      <th>relu</th>\n",
              "      <th>xLen</th>\n",
              "      <th>step</th>\n",
              "      <th>predict</th>\n",
              "    </tr>\n",
              "  </thead>\n",
              "  <tbody>\n",
              "    <tr>\n",
              "      <th>0</th>\n",
              "      <td>50000</td>\n",
              "      <td>128</td>\n",
              "      <td>200</td>\n",
              "      <td>0.2</td>\n",
              "      <td>10</td>\n",
              "      <td>relu</td>\n",
              "      <td>1000</td>\n",
              "      <td>20</td>\n",
              "      <td>0.765927</td>\n",
              "    </tr>\n",
              "    <tr>\n",
              "      <th>1</th>\n",
              "      <td>50000</td>\n",
              "      <td>128</td>\n",
              "      <td>200</td>\n",
              "      <td>0.2</td>\n",
              "      <td>50</td>\n",
              "      <td>relu</td>\n",
              "      <td>1000</td>\n",
              "      <td>20</td>\n",
              "      <td>0.754096</td>\n",
              "    </tr>\n",
              "    <tr>\n",
              "      <th>2</th>\n",
              "      <td>50000</td>\n",
              "      <td>128</td>\n",
              "      <td>200</td>\n",
              "      <td>0.2</td>\n",
              "      <td>100</td>\n",
              "      <td>relu</td>\n",
              "      <td>1000</td>\n",
              "      <td>20</td>\n",
              "      <td>0.825171</td>\n",
              "    </tr>\n",
              "    <tr>\n",
              "      <th>3</th>\n",
              "      <td>50000</td>\n",
              "      <td>128</td>\n",
              "      <td>200</td>\n",
              "      <td>0.2</td>\n",
              "      <td>200</td>\n",
              "      <td>relu</td>\n",
              "      <td>1000</td>\n",
              "      <td>20</td>\n",
              "      <td>0.772966</td>\n",
              "    </tr>\n",
              "  </tbody>\n",
              "</table>\n",
              "</div>"
            ],
            "text/plain": [
              "   maxWordsCount  batch_size  Dense  Dropout  ...  relu  xLen  step   predict\n",
              "0          50000         128    200      0.2  ...  relu  1000    20  0.765927\n",
              "1          50000         128    200      0.2  ...  relu  1000    20  0.754096\n",
              "2          50000         128    200      0.2  ...  relu  1000    20  0.825171\n",
              "3          50000         128    200      0.2  ...  relu  1000    20  0.772966\n",
              "\n",
              "[4 rows x 9 columns]"
            ]
          },
          "metadata": {
            "tags": []
          },
          "execution_count": 32
        }
      ]
    },
    {
      "cell_type": "code",
      "metadata": {
        "id": "Ed5DmgSkYEUK",
        "colab_type": "code",
        "colab": {
          "base_uri": "https://localhost:8080/",
          "height": 195
        },
        "outputId": "400187d6-094d-402d-876a-11299a741955"
      },
      "source": [
        "results\n",
        "# Adam + Dropout = 0.2"
      ],
      "execution_count": null,
      "outputs": [
        {
          "output_type": "stream",
          "text": [
            "Длина отрезка текста, по которой анализируем, в словах:  200 \n",
            " Шаг разбиения исходного текста на обучающие векторы:  20\n"
          ],
          "name": "stdout"
        },
        {
          "output_type": "execute_result",
          "data": {
            "text/html": [
              "<div>\n",
              "<style scoped>\n",
              "    .dataframe tbody tr th:only-of-type {\n",
              "        vertical-align: middle;\n",
              "    }\n",
              "\n",
              "    .dataframe tbody tr th {\n",
              "        vertical-align: top;\n",
              "    }\n",
              "\n",
              "    .dataframe thead th {\n",
              "        text-align: right;\n",
              "    }\n",
              "</style>\n",
              "<table border=\"1\" class=\"dataframe\">\n",
              "  <thead>\n",
              "    <tr style=\"text-align: right;\">\n",
              "      <th></th>\n",
              "      <th>maxWordsCount</th>\n",
              "      <th>batch_size</th>\n",
              "      <th>Dense</th>\n",
              "      <th>Dropout</th>\n",
              "      <th>Embbeding</th>\n",
              "      <th>relu</th>\n",
              "      <th>xLen</th>\n",
              "      <th>step</th>\n",
              "      <th>predict</th>\n",
              "    </tr>\n",
              "  </thead>\n",
              "  <tbody>\n",
              "    <tr>\n",
              "      <th>0</th>\n",
              "      <td>50000</td>\n",
              "      <td>128</td>\n",
              "      <td>200</td>\n",
              "      <td>0.2</td>\n",
              "      <td>10</td>\n",
              "      <td>relu</td>\n",
              "      <td>200</td>\n",
              "      <td>20</td>\n",
              "      <td>0.681387</td>\n",
              "    </tr>\n",
              "    <tr>\n",
              "      <th>1</th>\n",
              "      <td>50000</td>\n",
              "      <td>128</td>\n",
              "      <td>200</td>\n",
              "      <td>0.2</td>\n",
              "      <td>50</td>\n",
              "      <td>relu</td>\n",
              "      <td>200</td>\n",
              "      <td>20</td>\n",
              "      <td>0.694174</td>\n",
              "    </tr>\n",
              "    <tr>\n",
              "      <th>2</th>\n",
              "      <td>50000</td>\n",
              "      <td>128</td>\n",
              "      <td>200</td>\n",
              "      <td>0.2</td>\n",
              "      <td>100</td>\n",
              "      <td>relu</td>\n",
              "      <td>200</td>\n",
              "      <td>20</td>\n",
              "      <td>0.684063</td>\n",
              "    </tr>\n",
              "    <tr>\n",
              "      <th>3</th>\n",
              "      <td>50000</td>\n",
              "      <td>128</td>\n",
              "      <td>200</td>\n",
              "      <td>0.2</td>\n",
              "      <td>200</td>\n",
              "      <td>relu</td>\n",
              "      <td>200</td>\n",
              "      <td>20</td>\n",
              "      <td>0.682101</td>\n",
              "    </tr>\n",
              "  </tbody>\n",
              "</table>\n",
              "</div>"
            ],
            "text/plain": [
              "   maxWordsCount  batch_size  Dense  Dropout  ...  relu xLen  step   predict\n",
              "0          50000         128    200      0.2  ...  relu  200    20  0.681387\n",
              "1          50000         128    200      0.2  ...  relu  200    20  0.694174\n",
              "2          50000         128    200      0.2  ...  relu  200    20  0.684063\n",
              "3          50000         128    200      0.2  ...  relu  200    20  0.682101\n",
              "\n",
              "[4 rows x 9 columns]"
            ]
          },
          "metadata": {
            "tags": []
          },
          "execution_count": 29
        }
      ]
    },
    {
      "cell_type": "code",
      "metadata": {
        "id": "oiofhEg5S9ys",
        "colab_type": "code",
        "colab": {
          "base_uri": "https://localhost:8080/"
        },
        "outputId": "9630d5dd-5809-481b-df65-2b6eba904761"
      },
      "source": [
        "print(modelED.summary())"
      ],
      "execution_count": null,
      "outputs": [
        {
          "output_type": "error",
          "ename": "NameError",
          "evalue": "ignored",
          "traceback": [
            "\u001b[0;31m---------------------------------------------------------------------------\u001b[0m",
            "\u001b[0;31mNameError\u001b[0m                                 Traceback (most recent call last)",
            "\u001b[0;32m<ipython-input-12-3caefa261807>\u001b[0m in \u001b[0;36m<module>\u001b[0;34m()\u001b[0m\n\u001b[0;32m----> 1\u001b[0;31m \u001b[0mprint\u001b[0m\u001b[0;34m(\u001b[0m\u001b[0mmodel\u001b[0m\u001b[0;34m.\u001b[0m\u001b[0msummary\u001b[0m\u001b[0;34m(\u001b[0m\u001b[0;34m)\u001b[0m\u001b[0;34m)\u001b[0m\u001b[0;34m\u001b[0m\u001b[0;34m\u001b[0m\u001b[0m\n\u001b[0m",
            "\u001b[0;31mNameError\u001b[0m: name 'model' is not defined"
          ]
        }
      ]
    },
    {
      "cell_type": "code",
      "metadata": {
        "id": "b8HmZ_B1-gfv",
        "colab_type": "code",
        "colab": {}
      },
      "source": [
        "modelED.save_weights('modelED_Adam.h5')\n",
        "modelED.load_weights('modelED_Adam.h5')"
      ],
      "execution_count": null,
      "outputs": []
    },
    {
      "cell_type": "markdown",
      "metadata": {
        "id": "HYyAn06kIDC3",
        "colab_type": "text"
      },
      "source": [
        ""
      ]
    }
  ]
}