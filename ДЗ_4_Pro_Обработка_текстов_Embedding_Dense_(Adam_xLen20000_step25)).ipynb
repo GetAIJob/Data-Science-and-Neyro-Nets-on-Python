{
  "nbformat": 4,
  "nbformat_minor": 0,
  "metadata": {
    "colab": {
      "name": "ДЗ_4_Pro_Обработка текстов Embedding_Dense (Adam_xLen20000_step25)).ipynb",
      "provenance": [],
      "collapsed_sections": [],
      "machine_shape": "hm",
      "include_colab_link": true
    },
    "kernelspec": {
      "name": "python3",
      "display_name": "Python 3"
    },
    "accelerator": "GPU"
  },
  "cells": [
    {
      "cell_type": "markdown",
      "metadata": {
        "id": "view-in-github",
        "colab_type": "text"
      },
      "source": [
        "<a href=\"https://colab.research.google.com/github/ikonushok/My_studying_Data-Science-and-Neyro-Nets-on-Python/blob/master/%D0%94%D0%97_4_Pro_%D0%9E%D0%B1%D1%80%D0%B0%D0%B1%D0%BE%D1%82%D0%BA%D0%B0_%D1%82%D0%B5%D0%BA%D1%81%D1%82%D0%BE%D0%B2_Embedding_Dense_(Adam_xLen20000_step25)).ipynb\" target=\"_parent\"><img src=\"https://colab.research.google.com/assets/colab-badge.svg\" alt=\"Open In Colab\"/></a>"
      ]
    },
    {
      "cell_type": "markdown",
      "metadata": {
        "id": "eR63xxCtcMA2",
        "colab_type": "text"
      },
      "source": [
        "# Классификация текстов писателей"
      ]
    },
    {
      "cell_type": "code",
      "metadata": {
        "id": "8qn2yuaE-N9h",
        "colab_type": "code",
        "colab": {}
      },
      "source": [
        "from tensorflow.keras.models import Sequential\n",
        "from tensorflow.keras.layers import Dense, BatchNormalization, Embedding, Flatten, Activation\n",
        "from tensorflow.keras.layers import SpatialDropout1D, Dropout\n",
        "from tensorflow.keras.optimizers import Adam, RMSprop, Nadam, Adamax, Adadelta, Adagrad\n",
        "\n",
        "from tensorflow.keras.callbacks import EarlyStopping, ReduceLROnPlateau, ModelCheckpoint\n",
        "from tensorflow.keras import utils # Для работы с категориальными данными\n",
        "from tensorflow.keras.preprocessing.text import Tokenizer\n",
        "\n",
        "import numpy as np\n",
        "import pandas as pd\n",
        "import time # чтобы зачсечь время\n",
        "\n",
        "import matplotlib.pyplot as plt # Для вывода графиков\n",
        "%matplotlib inline"
      ],
      "execution_count": 1,
      "outputs": []
    },
    {
      "cell_type": "code",
      "metadata": {
        "id": "lHP22yPBbBUB",
        "colab_type": "code",
        "colab": {
          "base_uri": "https://localhost:8080/",
          "height": 32
        },
        "outputId": "13c0db27-6d35-489f-b6b4-6fb84f42cdc0"
      },
      "source": [
        "from google.colab import drive\n",
        "drive.mount('/content/drive')"
      ],
      "execution_count": 2,
      "outputs": [
        {
          "output_type": "stream",
          "text": [
            "Drive already mounted at /content/drive; to attempt to forcibly remount, call drive.mount(\"/content/drive\", force_remount=True).\n"
          ],
          "name": "stdout"
        }
      ]
    },
    {
      "cell_type": "markdown",
      "metadata": {
        "id": "wLSDJ8es9Xos",
        "colab_type": "text"
      },
      "source": [
        "## Подготовка текстов и выборки"
      ]
    },
    {
      "cell_type": "markdown",
      "metadata": {
        "id": "U4K0n98zjP9Y",
        "colab_type": "text"
      },
      "source": [
        "### загружаем тексты"
      ]
    },
    {
      "cell_type": "code",
      "metadata": {
        "id": "-P-uS6iNfgWX",
        "colab_type": "code",
        "colab": {
          "base_uri": "https://localhost:8080/",
          "height": 395
        },
        "outputId": "67606610-ab20-4a8f-d434-90219a10a5bd"
      },
      "source": [
        "import os\n",
        "os.chdir('/content/drive/My Drive/Colab Notebooks/Data Science и нейронные сети на Python/Занятие_4_Обработка текстов с помощью нейросетей/data/Тексты писателей')\n",
        "os.listdir() # перешли в нужную папку и проверили наличие в ней нужных файлов"
      ],
      "execution_count": 3,
      "outputs": [
        {
          "output_type": "execute_result",
          "data": {
            "text/plain": [
              "['(О. Генри) Обучающая_50 вместе.txt',\n",
              " '(Клиффорд_Саймак) Тестовая_2 вместе.txt',\n",
              " '(Булгаков) Обучающая_5 вместе.txt',\n",
              " '(Макс Фрай) Обучающая_5 вместе.txt',\n",
              " '(О. Генри) Тестовая_20 вместе.txt',\n",
              " '(Клиффорд_Саймак) Обучающая_5 вместе.txt',\n",
              " '(Булгаков) Тестовая_2 вместе.txt',\n",
              " '(Макс Фрай) Тестовая_2 вместе.txt',\n",
              " '(Рэй Брэдберри) Тестовая_8 вместе.txt',\n",
              " '(Стругацкие) Тестовая_2 вместе.txt',\n",
              " '(Рэй Брэдберри) Обучающая_22 вместе.txt',\n",
              " '(Стругацкие) Обучающая_5 вместе.txt',\n",
              " 'best_modelED_Adam_15000_20_2.h5',\n",
              " 'best_modelED_Adam_20000_50.h5',\n",
              " 'best_modelED_RMSprop_10000_20.h5',\n",
              " 'best_modelED_Adam_20000_100.h5',\n",
              " 'best_modelED_Adam_15000_20_0.9713.h5',\n",
              " 'best_modelED_RMSprop_15000_20.h5',\n",
              " 'xTestPredictEmbedding.npy',\n",
              " 'xTestPredictBoW.npy',\n",
              " 'best_modelBW_10000_20.h5',\n",
              " 'best_modelBW_3000_100.h5',\n",
              " 'best_modelBW_4000_100.h5']"
            ]
          },
          "metadata": {
            "tags": []
          },
          "execution_count": 3
        }
      ]
    },
    {
      "cell_type": "code",
      "metadata": {
        "id": "C4gfhFUxZY0R",
        "colab_type": "code",
        "colab": {}
      },
      "source": [
        "# функция чтения файла\n",
        "def readText(fileName):\n",
        "  f = open(fileName, 'r') # открываем нужный файл\n",
        "  text = f.read()         # читаем текст\n",
        "  text = text.replace(\"\\n\", \" \")  # меняем переносы строк на пробелы\n",
        "  return text\n",
        "\n",
        "# Перечислили интересующих авторов и назначили соответствующие им классы\n",
        "className = [\"Генри\", \"Стругацкие\", \"Булгаков\", \"Клиффорд\", \"Макс\", \"Брэдберри\"] \n",
        "nClasses = len(className) # посчитали количество авторов"
      ],
      "execution_count": 4,
      "outputs": []
    },
    {
      "cell_type": "code",
      "metadata": {
        "id": "w4868229cJMb",
        "colab_type": "code",
        "colab": {
          "base_uri": "https://localhost:8080/",
          "height": 345
        },
        "outputId": "52fdfc86-4a09-4ad5-a893-f4451c25e09c"
      },
      "source": [
        "# Загружаем тексты писателей\n",
        "\n",
        "trainText = []\n",
        "testText = []\n",
        "\n",
        "# считываем тексты из файлов и обрабатываем их функцией readText\n",
        "for i in className:\n",
        "  for j in os.listdir():\n",
        "    if i in j: # если в названии файла есть имя класса (автора)\n",
        "\n",
        "      if 'Обучающая' in  j: # если в названии файла есть слово 'Обучающая'\n",
        "        trainText.append(readText(j)) # добавляем текст \n",
        "        print(j, 'добавлен в обучающую выборку')\n",
        "      if 'Тестовая' in j:\n",
        "        testText.append(readText(j)) # добавляем текст \n",
        "        print(j, 'добавлен в тестовую выборку')\n",
        "  print()\n",
        "\n",
        "print('Количество элементов в train:', len(trainText), '\\n Количество символов в [0] элементе train: ', len(trainText[0]))"
      ],
      "execution_count": 5,
      "outputs": [
        {
          "output_type": "stream",
          "text": [
            "(О. Генри) Обучающая_50 вместе.txt добавлен в обучающую выборку\n",
            "(О. Генри) Тестовая_20 вместе.txt добавлен в тестовую выборку\n",
            "\n",
            "(Стругацкие) Тестовая_2 вместе.txt добавлен в тестовую выборку\n",
            "(Стругацкие) Обучающая_5 вместе.txt добавлен в обучающую выборку\n",
            "\n",
            "(Булгаков) Обучающая_5 вместе.txt добавлен в обучающую выборку\n",
            "(Булгаков) Тестовая_2 вместе.txt добавлен в тестовую выборку\n",
            "\n",
            "(Клиффорд_Саймак) Тестовая_2 вместе.txt добавлен в тестовую выборку\n",
            "(Клиффорд_Саймак) Обучающая_5 вместе.txt добавлен в обучающую выборку\n",
            "\n",
            "(Макс Фрай) Обучающая_5 вместе.txt добавлен в обучающую выборку\n",
            "(Макс Фрай) Тестовая_2 вместе.txt добавлен в тестовую выборку\n",
            "\n",
            "(Рэй Брэдберри) Тестовая_8 вместе.txt добавлен в тестовую выборку\n",
            "(Рэй Брэдберри) Обучающая_22 вместе.txt добавлен в обучающую выборку\n",
            "\n",
            "Количество элементов в train: 6 \n",
            " Количество символов в [0] элементе train:  1049517\n"
          ],
          "name": "stdout"
        }
      ]
    },
    {
      "cell_type": "markdown",
      "metadata": {
        "id": "0uca9WXUtj_u",
        "colab_type": "text"
      },
      "source": [
        "### создаем train и validaton выборки\n",
        "-----\n",
        "При помощи функций формирования выборки по отрезкам текста с заданным шагом"
      ]
    },
    {
      "cell_type": "code",
      "metadata": {
        "id": "oTxCsTwAuZGt",
        "colab_type": "code",
        "colab": {}
      },
      "source": [
        "# разделение проиндексированного текста на короткие векторы\n",
        "def getSetFromIndexes(wordIndexes, xLen, step): # функция принимает последовательность индексов, размер окна и шаг окна\n",
        "  xSample = [] # пременная для векторов\n",
        "  wordsLen = len(wordIndexes) # считаем колиечтсво слов\n",
        "  i = 0\n",
        "\n",
        "  while (i + xLen <= wordsLen): # пока окно внутри массива wordIndexes\n",
        "    xSample.append(wordIndexes[i:i+xLen]) # Отрезаем векторы длины xLen\n",
        "    i += step # смещение на шаг вперед\n",
        "  \n",
        "  return xSample"
      ],
      "execution_count": 6,
      "outputs": []
    },
    {
      "cell_type": "code",
      "metadata": {
        "id": "I5-jwfuewVcA",
        "colab_type": "code",
        "colab": {}
      },
      "source": [
        "# создаем train и val выборки\n",
        "def createSetMultiClasses(wordIndexes, xLen, step): # функция принимает последовательность индексов, размер окна и шаг окна\n",
        "  nClases = len(wordIndexes) # количество влассов в выборке\n",
        "  classesXSamples = [] # Здесь будет список размером \"кол-во классов*кол-во окон в тексте*длину окна (например, 6 по 1341*1000)\"\n",
        "  for wI in wordIndexes: # для каждого текста каждого класса\n",
        "    classesXSamples.append(getSetFromIndexes(wI, xLen, step)) # Добавляем в список очередной текст индексов, разбитый на \"кол-во окон*длину окна\" \n",
        "  \n",
        "  xSamples = []\n",
        "  ySamples = []\n",
        "\n",
        "  for t in range(nClasses): # В диапазоне кол-ва классов(6)\n",
        "    xT = classesXSamples[t] # Берем очередной текст вида \"кол-во окон в тексте*длину окна\"(например, 1341*1000)\n",
        "    for i in range(len(xT)): # И каждое его окно\n",
        "      xSamples.append(xT[i]) # Добавляем в общий список выборки\n",
        "      ySamples.append(utils.to_categorical(t, nClasses)) # Добавляем соответствующий вектор класса\n",
        "\n",
        "  xSamples = np.array(xSamples) # Переводим в массив numpy для подачи в нейронку\n",
        "  ySamples = np.array(ySamples) # Переводим в массив numpy для подачи в нейронку\n",
        "\n",
        "  \n",
        "  return (xSamples, ySamples) #Функция возвращает выборку и соответствующие векторы классов"
      ],
      "execution_count": 7,
      "outputs": []
    },
    {
      "cell_type": "code",
      "metadata": {
        "id": "stHRW8-4mf7G",
        "colab_type": "code",
        "colab": {}
      },
      "source": [
        "# Представляем тестовую выборку в удобных для распознавания размерах\n",
        "def createTestMultiClasses(wordIndexes, xLen, step): #функция принимает последовательность индексов, размер окна, шаг окна\n",
        "\n",
        "  #Для каждого из 6 классов\n",
        "  #Создаём тестовую выборку из индексов\n",
        "  nClasses = len(wordIndexes) #Задаем количество классов\n",
        "  xTest6Classes01 = []               #Здесь будет список из всех классов, каждый размером \"кол-во окон в тексте * 20000 (при maxWordsCount=20000)\"\n",
        "  xTest6Classes = []                 #Здесь будет список массивов, каждый размером \"кол-во окон в тексте * длину окна\"(6 по 420*1000)\n",
        "  for wI in wordIndexes:                       #Для каждого тестового текста из последовательности индексов\n",
        "    sample = (getSetFromIndexes(wI, xLen, step)) #Тестовая выборка размером \"кол-во окон*длину окна\"(например, 420*1000)\n",
        "    xTest6Classes.append(sample)              # Добавляем в список\n",
        "    xTest6Classes01.append(tokenizerED.sequences_to_matrix(sample)) #Трансформируется в Bag of Words в виде \"кол-во окон в тексте * 20000\"\n",
        "  xTest6Classes01 = np.array(xTest6Classes01)                     #И добавляется к нашему списку, \n",
        "  xTest6Classes = np.array(xTest6Classes)                     #И добавляется к нашему списку, \n",
        "  \n",
        "  return xTest6Classes01, xTest6Classes  #функция вернёт тестовые данные: TestBag 6 классов на n*20000 и xTestEm 6 по n*1000\n",
        "\n",
        "# Распознаём тестовую выборку и выводим результаты\n",
        "def recognizeMultiClass(model, xTest, modelName):\n",
        "  print(\"НЕЙРОНКА: \", modelName)\n",
        "  print()\n",
        "  \n",
        "  totalSumRec = 0 # Сумма всех правильных ответов\n",
        "  \n",
        "  #Проходим по всем классам\n",
        "  for i in range(nClasses):\n",
        "    #Получаем результаты распознавания класса по блокам слов длины xLen\n",
        "    currPred = model.predict(xTest[i])\n",
        "    #Определяем номер распознанного класса для каждохо блока слов длины xLen\n",
        "    currOut = np.argmax(currPred, axis=1)\n",
        "\n",
        "    evVal = []\n",
        "    for j in range(nClasses):\n",
        "      evVal.append(len(currOut[currOut==j])/len(xTest[i]))\n",
        "\n",
        "    totalSumRec += len(currOut[currOut==i])\n",
        "    recognizedClass = np.argmax(evVal) #Определяем, какой класс в итоге за какой был распознан\n",
        "    \n",
        "    #Выводим результаты распознавания по текущему классу\n",
        "    isRecognized = \"Это НЕПРАВИЛЬНЫЙ ответ!\"\n",
        "    if (recognizedClass == i):\n",
        "      isRecognized = \"Это ПРАВИЛЬНЫЙ ответ!\"\n",
        "    str1 = 'Класс: ' + className[i] + \" \" * (11 - len(className[i])) + str(int(100*evVal[i])) + \"% сеть отнесла к классу \" + className[recognizedClass]\n",
        "    print(str1, \" \" * (55-len(str1)), isRecognized, sep='')\n",
        "  \n",
        "  #Выводим средний процент распознавания по всем классам вместе\n",
        "  print()\n",
        "  sumCount = 0\n",
        "  for i in range(nClasses):\n",
        "    sumCount += len(xTest[i])\n",
        "  print(\"Средний процент распознавания \", int(100*totalSumRec/sumCount), \"%\", sep='')\n",
        "\n",
        "  print()\n",
        "  \n",
        "  return totalSumRec/sumCount"
      ],
      "execution_count": 8,
      "outputs": []
    },
    {
      "cell_type": "markdown",
      "metadata": {
        "id": "Tzs0oa6K8oWG",
        "colab_type": "text"
      },
      "source": [
        "## **Embedding + Dense**\n",
        "---\n",
        "\n"
      ]
    },
    {
      "cell_type": "code",
      "metadata": {
        "id": "TeVOqgmULXct",
        "colab_type": "code",
        "colab": {
          "base_uri": "https://localhost:8080/",
          "height": 69
        },
        "outputId": "df2a001c-1210-4e49-e902-72ddf81ef9b8"
      },
      "source": [
        "maxWordsCount = 50000 # Определили максимальное количество слов, учитываемых при обучении\n",
        "\n",
        "tokenizerED = Tokenizer(num_words = maxWordsCount, # обрабатываем текст, оставляя только те слова, на которых учимся\n",
        "                        filters='0123456789\"!#$%&()*+,-–—./…:;<=>?@[\\\\]^_`{|}~«»\\t\\n\\xa0\\ufeff', # избавляемся от этих символов\n",
        "                        lower=True,           # переводим в нижний регистр\n",
        "                        split=' ',            # разделяем слова пробелом\n",
        "                        oov_token='unknown',  # ???\n",
        "                        char_level=False)     # оставляем слова из одной буквы\n",
        "\n",
        "tokenizerED.fit_on_texts(trainText) # сзодаем словарь частотности для наших текстов\n",
        "itemsED = list(tokenizerED.word_index.items()) # заносим индексы слов в словарь\n",
        "\n",
        "# преобразую текст в последовательность элементов\n",
        "trainWordIndexesED = tokenizerED.texts_to_sequences(trainText)  # оцифровал обучающие тексты\n",
        "testWordIndexesED = tokenizerED.texts_to_sequences(testText)    # оцифровал тестовые тексты\n",
        "print('Фрагмент обуающего текста: ', trainText[1][:51]) ### надо бы убрать цифры их массивов\n",
        "print('Он же в виде последовательности индексов: ', trainWordIndexesED[1][:51])\n",
        "\n",
        "symbolsTrainTexED = 0 # Объявляем переменную для подсчета символов в обучающих текстах\n",
        "wordsTrainTextED = 0 # Объявляем переменную для подсчета слов в обучающих текстах\n"
      ],
      "execution_count": 9,
      "outputs": [
        {
          "output_type": "stream",
          "text": [
            "Фрагмент обуающего текста:  Парень из преисподней     1     Ну и деревня! Сроду\n",
            "Он же в виде последовательности индексов:  [473, 22, 29082, 47, 2, 12788, 7770, 5, 415, 27496, 4, 251, 2, 4, 249, 55, 6, 240, 9436, 2625, 182, 5796, 24082, 99, 3518, 19746, 7, 1, 11, 32399, 1, 10, 67, 301, 116, 34, 4, 34312, 19747, 196, 12, 11214, 42440, 19748, 42441, 8701, 1, 11610, 1034, 175, 7336]\n"
          ],
          "name": "stdout"
        }
      ]
    },
    {
      "cell_type": "code",
      "metadata": {
        "id": "D0W6BXdP8ub-",
        "colab_type": "code",
        "colab": {
          "base_uri": "https://localhost:8080/",
          "height": 1000
        },
        "outputId": "a73b5d81-c322-47a8-8f3f-e23f0a4cc986"
      },
      "source": [
        "cur_time = time.time() # засекаем время\n",
        "\n",
        "batch_size = 64\n",
        "k_Dense = 6\n",
        "k_Dropout = 0.4\n",
        "epochs = 100\n",
        "N_lr = 0.0001\n",
        "\n",
        "data = []\n",
        "\n",
        "N_xLen = [20000]\n",
        "N_step = [25]\n",
        "N_Emb = [50] \n",
        "\n",
        "for xLen in N_xLen:\n",
        "  for step in N_step:\n",
        "    xTrainED, yTrainED = createSetMultiClasses(trainWordIndexesED, xLen, step) #извлекаем обучающую выборку\n",
        "    xTestED, yTestED = createSetMultiClasses(testWordIndexesED, xLen, step)    #извлекаем тестовую выборку\n",
        "\n",
        "    for k_Embbeding in N_Emb:\n",
        "      modelED = Sequential()\n",
        "\n",
        "      modelED.add(Embedding(maxWordsCount, k_Embbeding, input_length=xLen))\n",
        "      modelED.add(SpatialDropout1D(k_Dropout))\n",
        "      #modelED.add(Dropout(k_Dropout))\n",
        "      modelED.add(Flatten())\n",
        "\n",
        "      #modelED.add(Dense(k_Embbeding, activation='relu'))\n",
        "      #modelED.add(Dropout(k_Dropout))\n",
        "\n",
        "      modelED.add(Dense(k_Dense, activation='softmax'))\n",
        "\n",
        "      modelED.compile(optimizer=Adam(N_lr),\n",
        "                      loss='categorical_crossentropy', \n",
        "                      metrics=['accuracy'])\n",
        "\n",
        "      \n",
        "      # остановки обучения по условию \n",
        "      early_stopping = EarlyStopping(monitor = 'val_accuracy', patience = 7, verbose = 0, restore_best_weights = True)\n",
        "      Checkpoint = ModelCheckpoint('best_modelED_Adam_20000_50.h5', monitor='val_accuracy', mode='max', verbose=1, save_best_only=True)\n",
        "\n",
        "\n",
        "      print('Emb = ', k_Embbeding, 'xLen = ', xLen, 'step = ', step)\n",
        "\n",
        "      #Обучаем на xTrain\n",
        "      historyED = modelED.fit(xTrainED, yTrainED, \n",
        "                              epochs=epochs, verbose=1,\n",
        "                              callbacks = [early_stopping, Checkpoint],\n",
        "                              validation_data = (xTestED, yTestED))\n",
        "\n",
        "\n",
        "      plt.plot(historyED.history['accuracy'], \n",
        "              label='Доля верных ответов на обучающем наборе')\n",
        "      plt.plot(historyED.history['val_accuracy'], \n",
        "              label='Доля верных ответов на проверочном наборе')\n",
        "      plt.xlabel('Эпоха обучения')\n",
        "      plt.ylabel('Доля верных ответов')\n",
        "      plt.legend()\n",
        "      plt.grid()\n",
        "      plt.show()\n",
        "\n",
        "      data = data + [[maxWordsCount, batch_size, k_Dense, k_Dropout, k_Embbeding,  'relu', 'softmax', 'Adam', xLen, step, max(historyED.history['val_accuracy'])]]\n",
        "\n",
        "      #Проверяем результаты работы Ebedding сети\n",
        "      #_, xTest6Classes = createTestMultiClasses(testWordIndexesED, xLen, step) #Преобразование тестовой выборки для predict\n",
        "      #predict = recognizeMultiClass(modelED, xTest6Classes, \"Embedding + Dense\")\n",
        "\n",
        "\n",
        "print('Время обработки: ', round(time.time() - cur_time, 2), 'c', sep='') # смотрим время\n",
        "\n",
        "results = pd.DataFrame(data, columns = ['maxWordsCount', 'batch_size', 'Dense', 'Dropout', 'Embbeding', 'Ativation', 'Activation', 'Optimizer', 'xLen', 'step', 'predict'])\n",
        "results\n"
      ],
      "execution_count": 10,
      "outputs": [
        {
          "output_type": "stream",
          "text": [
            "Emb =  50 xLen =  20000 step =  25\n",
            "Epoch 1/100\n",
            "2058/2059 [============================>.] - ETA: 0s - loss: 0.1462 - accuracy: 0.9578\n",
            "Epoch 00001: val_accuracy improved from -inf to 0.87683, saving model to best_modelED_Adam_20000_50.h5\n",
            "2059/2059 [==============================] - 229s 111ms/step - loss: 0.1461 - accuracy: 0.9578 - val_loss: 0.4437 - val_accuracy: 0.8768\n",
            "Epoch 2/100\n",
            "2058/2059 [============================>.] - ETA: 0s - loss: 7.1267e-04 - accuracy: 1.0000\n",
            "Epoch 00002: val_accuracy improved from 0.87683 to 0.89977, saving model to best_modelED_Adam_20000_50.h5\n",
            "2059/2059 [==============================] - 229s 111ms/step - loss: 7.1275e-04 - accuracy: 1.0000 - val_loss: 0.3450 - val_accuracy: 0.8998\n",
            "Epoch 3/100\n",
            "2058/2059 [============================>.] - ETA: 0s - loss: 1.7721e-04 - accuracy: 1.0000\n",
            "Epoch 00003: val_accuracy improved from 0.89977 to 0.90943, saving model to best_modelED_Adam_20000_50.h5\n",
            "2059/2059 [==============================] - 229s 111ms/step - loss: 1.7721e-04 - accuracy: 1.0000 - val_loss: 0.2854 - val_accuracy: 0.9094\n",
            "Epoch 4/100\n",
            "2058/2059 [============================>.] - ETA: 0s - loss: 5.5716e-05 - accuracy: 1.0000\n",
            "Epoch 00004: val_accuracy improved from 0.90943 to 0.91873, saving model to best_modelED_Adam_20000_50.h5\n",
            "2059/2059 [==============================] - 230s 112ms/step - loss: 5.5714e-05 - accuracy: 1.0000 - val_loss: 0.2438 - val_accuracy: 0.9187\n",
            "Epoch 5/100\n",
            "2058/2059 [============================>.] - ETA: 0s - loss: 1.9919e-05 - accuracy: 1.0000\n",
            "Epoch 00005: val_accuracy improved from 0.91873 to 0.91891, saving model to best_modelED_Adam_20000_50.h5\n",
            "2059/2059 [==============================] - 227s 110ms/step - loss: 1.9918e-05 - accuracy: 1.0000 - val_loss: 0.2232 - val_accuracy: 0.9189\n",
            "Epoch 6/100\n",
            "2058/2059 [============================>.] - ETA: 0s - loss: 7.3195e-06 - accuracy: 1.0000\n",
            "Epoch 00006: val_accuracy improved from 0.91891 to 0.92483, saving model to best_modelED_Adam_20000_50.h5\n",
            "2059/2059 [==============================] - 228s 111ms/step - loss: 7.3192e-06 - accuracy: 1.0000 - val_loss: 0.2059 - val_accuracy: 0.9248\n",
            "Epoch 7/100\n",
            "2058/2059 [============================>.] - ETA: 0s - loss: 2.9509e-06 - accuracy: 1.0000\n",
            "Epoch 00007: val_accuracy improved from 0.92483 to 0.92600, saving model to best_modelED_Adam_20000_50.h5\n",
            "2059/2059 [==============================] - 228s 111ms/step - loss: 2.9508e-06 - accuracy: 1.0000 - val_loss: 0.1996 - val_accuracy: 0.9260\n",
            "Epoch 8/100\n",
            "2058/2059 [============================>.] - ETA: 0s - loss: 1.6936e-06 - accuracy: 1.0000\n",
            "Epoch 00008: val_accuracy improved from 0.92600 to 0.94668, saving model to best_modelED_Adam_20000_50.h5\n",
            "2059/2059 [==============================] - 228s 111ms/step - loss: 1.6935e-06 - accuracy: 1.0000 - val_loss: 0.1517 - val_accuracy: 0.9467\n",
            "Epoch 9/100\n",
            "2058/2059 [============================>.] - ETA: 0s - loss: 5.8527e-07 - accuracy: 1.0000\n",
            "Epoch 00009: val_accuracy did not improve from 0.94668\n",
            "2059/2059 [==============================] - 228s 111ms/step - loss: 5.8527e-07 - accuracy: 1.0000 - val_loss: 0.1791 - val_accuracy: 0.9440\n",
            "Epoch 10/100\n",
            "2058/2059 [============================>.] - ETA: 0s - loss: 2.9857e-07 - accuracy: 1.0000\n",
            "Epoch 00010: val_accuracy improved from 0.94668 to 0.96835, saving model to best_modelED_Adam_20000_50.h5\n",
            "2059/2059 [==============================] - 229s 111ms/step - loss: 2.9856e-07 - accuracy: 1.0000 - val_loss: 0.1442 - val_accuracy: 0.9684\n",
            "Epoch 11/100\n",
            "2058/2059 [============================>.] - ETA: 0s - loss: 2.0547e-07 - accuracy: 1.0000\n",
            "Epoch 00011: val_accuracy improved from 0.96835 to 0.97919, saving model to best_modelED_Adam_20000_50.h5\n",
            "2059/2059 [==============================] - 229s 111ms/step - loss: 2.0546e-07 - accuracy: 1.0000 - val_loss: 0.1267 - val_accuracy: 0.9792\n",
            "Epoch 12/100\n",
            "2058/2059 [============================>.] - ETA: 0s - loss: 1.6716e-07 - accuracy: 1.0000\n",
            "Epoch 00012: val_accuracy did not improve from 0.97919\n",
            "2059/2059 [==============================] - 229s 111ms/step - loss: 1.6715e-07 - accuracy: 1.0000 - val_loss: 0.1292 - val_accuracy: 0.9789\n",
            "Epoch 13/100\n",
            "2058/2059 [============================>.] - ETA: 0s - loss: 8.6336e-08 - accuracy: 1.0000\n",
            "Epoch 00013: val_accuracy did not improve from 0.97919\n",
            "2059/2059 [==============================] - 228s 111ms/step - loss: 8.6333e-08 - accuracy: 1.0000 - val_loss: 0.1492 - val_accuracy: 0.9593\n",
            "Epoch 14/100\n",
            "2058/2059 [============================>.] - ETA: 0s - loss: 8.8681e-08 - accuracy: 1.0000\n",
            "Epoch 00014: val_accuracy did not improve from 0.97919\n",
            "2059/2059 [==============================] - 228s 111ms/step - loss: 8.8678e-08 - accuracy: 1.0000 - val_loss: 0.1235 - val_accuracy: 0.9773\n",
            "Epoch 15/100\n",
            "2058/2059 [============================>.] - ETA: 0s - loss: 5.4073e-08 - accuracy: 1.0000\n",
            "Epoch 00015: val_accuracy did not improve from 0.97919\n",
            "2059/2059 [==============================] - 227s 110ms/step - loss: 5.4071e-08 - accuracy: 1.0000 - val_loss: 0.1431 - val_accuracy: 0.9401\n",
            "Epoch 16/100\n",
            "2058/2059 [============================>.] - ETA: 0s - loss: 2.5217e-07 - accuracy: 1.0000\n",
            "Epoch 00016: val_accuracy did not improve from 0.97919\n",
            "2059/2059 [==============================] - 227s 110ms/step - loss: 2.5216e-07 - accuracy: 1.0000 - val_loss: 0.1371 - val_accuracy: 0.9725\n",
            "Epoch 17/100\n",
            "2058/2059 [============================>.] - ETA: 0s - loss: 6.5288e-08 - accuracy: 1.0000\n",
            "Epoch 00017: val_accuracy did not improve from 0.97919\n",
            "2059/2059 [==============================] - 227s 110ms/step - loss: 6.5286e-08 - accuracy: 1.0000 - val_loss: 0.1304 - val_accuracy: 0.9740\n",
            "Epoch 18/100\n",
            "2058/2059 [============================>.] - ETA: 0s - loss: 3.7862e-08 - accuracy: 1.0000\n",
            "Epoch 00018: val_accuracy did not improve from 0.97919\n",
            "2059/2059 [==============================] - 228s 111ms/step - loss: 3.7860e-08 - accuracy: 1.0000 - val_loss: 0.1555 - val_accuracy: 0.9707\n"
          ],
          "name": "stdout"
        },
        {
          "output_type": "display_data",
          "data": {
            "image/png": "[encoded data removed]",
            "text/plain": [
              "<Figure size 432x288 with 1 Axes>"
            ]
          },
          "metadata": {
            "tags": [],
            "needs_background": "light"
          }
        },
        {
          "output_type": "stream",
          "text": [
            "Время обработки: 4284.88c\n"
          ],
          "name": "stdout"
        },
        {
          "output_type": "execute_result",
          "data": {
            "text/html": [
              "<div>\n",
              "<style scoped>\n",
              "    .dataframe tbody tr th:only-of-type {\n",
              "        vertical-align: middle;\n",
              "    }\n",
              "\n",
              "    .dataframe tbody tr th {\n",
              "        vertical-align: top;\n",
              "    }\n",
              "\n",
              "    .dataframe thead th {\n",
              "        text-align: right;\n",
              "    }\n",
              "</style>\n",
              "<table border=\"1\" class=\"dataframe\">\n",
              "  <thead>\n",
              "    <tr style=\"text-align: right;\">\n",
              "      <th></th>\n",
              "      <th>maxWordsCount</th>\n",
              "      <th>batch_size</th>\n",
              "      <th>Dense</th>\n",
              "      <th>Dropout</th>\n",
              "      <th>Embbeding</th>\n",
              "      <th>Ativation</th>\n",
              "      <th>Activation</th>\n",
              "      <th>Optimizer</th>\n",
              "      <th>xLen</th>\n",
              "      <th>step</th>\n",
              "      <th>predict</th>\n",
              "    </tr>\n",
              "  </thead>\n",
              "  <tbody>\n",
              "    <tr>\n",
              "      <th>0</th>\n",
              "      <td>50000</td>\n",
              "      <td>64</td>\n",
              "      <td>6</td>\n",
              "      <td>0.4</td>\n",
              "      <td>50</td>\n",
              "      <td>relu</td>\n",
              "      <td>softmax</td>\n",
              "      <td>Adam</td>\n",
              "      <td>20000</td>\n",
              "      <td>25</td>\n",
              "      <td>0.979186</td>\n",
              "    </tr>\n",
              "  </tbody>\n",
              "</table>\n",
              "</div>"
            ],
            "text/plain": [
              "   maxWordsCount  batch_size  Dense  Dropout  ...  Optimizer   xLen step   predict\n",
              "0          50000          64      6      0.4  ...       Adam  20000   25  0.979186\n",
              "\n",
              "[1 rows x 11 columns]"
            ]
          },
          "metadata": {
            "tags": []
          },
          "execution_count": 10
        }
      ]
    },
    {
      "cell_type": "code",
      "metadata": {
        "id": "4Jj7fGtYlu0O",
        "colab_type": "code",
        "colab": {
          "base_uri": "https://localhost:8080/"
        },
        "outputId": "180aaf08-445f-4cb7-cdef-a3e0d4832b20"
      },
      "source": [
        "# ЕСЛИ НУЖНО ДООБУЧИТЬ МОДЕЛЬ\n",
        "## остановки обучения по условию \n",
        "early_stopping = EarlyStopping(monitor = 'val_accuracy', patience = 7, verbose = 0, restore_best_weights = True)\n",
        "Checkpoint = ModelCheckpoint('best_modelED_Adam_20000_50.h5', monitor='val_accuracy', mode='max', verbose=1, save_best_only=True)\n",
        "\n",
        "print(xLen = ', xLen, 'step = ', step)\n",
        "\n",
        "#Обучаем на xTrain\n",
        "historyED = modelED.fit(xTrainED, yTrainED, epochs=epochs, verbose=1,\n",
        "                        callbacks = [early_stopping, Checkpoint],\n",
        "                        validation_data = (xTestED, yTestED))"
      ],
      "execution_count": 12,
      "outputs": [
        {
          "output_type": "error",
          "ename": "SyntaxError",
          "evalue": "ignored",
          "traceback": [
            "\u001b[0;36m  File \u001b[0;32m\"<ipython-input-12-9cd4d59a2cd2>\"\u001b[0;36m, line \u001b[0;32m6\u001b[0m\n\u001b[0;31m    print(xLen = ', xLen, 'step = ', step)\u001b[0m\n\u001b[0m                              ^\u001b[0m\n\u001b[0;31mSyntaxError\u001b[0m\u001b[0;31m:\u001b[0m invalid syntax\n"
          ]
        }
      ]
    },
    {
      "cell_type": "code",
      "metadata": {
        "id": "Wv8WIE_cI16A",
        "colab_type": "code",
        "colab": {
          "base_uri": "https://localhost:8080/",
          "height": 197
        },
        "outputId": "9e73d57e-d969-4fe3-8e2a-c988733d0c6a"
      },
      "source": [
        "from tensorflow.keras.models import load_model\n",
        "\n",
        "batch_size = 64\n",
        "k_Dense = 6\n",
        "k_Dropout = 0.4\n",
        "epochs = 100\n",
        "N_lr = 0.00005\n",
        "xLen = 20000\n",
        "step = 40\n",
        "k_Embbeding = 50 # Кол-во нейронов в скрытом слое\n",
        "\n",
        "modelED = Sequential()\n",
        "modelED = load_model('best_modelED_Adam_20000_50.h5')\n",
        "\n",
        "#Проверяем результаты работы Ebedding сети\n",
        "_, xTest6Classes = createTestMultiClasses(testWordIndexesED, xLen, step) #Преобразование тестовой выборки для predict\n",
        "predict = recognizeMultiClass(modelED, xTest6Classes, \"Embedding + Dense\")"
      ],
      "execution_count": 10,
      "outputs": [
        {
          "output_type": "stream",
          "text": [
            "НЕЙРОНКА:  Embedding + Dense\n",
            "\n",
            "Класс: Генри      100% сеть отнесла к классу Генри     Это ПРАВИЛЬНЫЙ ответ!\n",
            "Класс: Стругацкие 100% сеть отнесла к классу СтругацкиеЭто ПРАВИЛЬНЫЙ ответ!\n",
            "Класс: Булгаков   90% сеть отнесла к классу Булгаков   Это ПРАВИЛЬНЫЙ ответ!\n",
            "Класс: Клиффорд   98% сеть отнесла к классу Клиффорд   Это ПРАВИЛЬНЫЙ ответ!\n",
            "Класс: Макс       100% сеть отнесла к классу Макс      Это ПРАВИЛЬНЫЙ ответ!\n",
            "Класс: Брэдберри  100% сеть отнесла к классу Брэдберри Это ПРАВИЛЬНЫЙ ответ!\n",
            "\n",
            "Средний процент распознавания 97%\n",
            "\n"
          ],
          "name": "stdout"
        }
      ]
    },
    {
      "cell_type": "code",
      "metadata": {
        "id": "FnGYAphqpcLx",
        "colab_type": "code",
        "colab": {
          "base_uri": "https://localhost:8080/",
          "height": 340
        },
        "outputId": "26d90794-dc41-4c2a-b4f5-642f20cc500a"
      },
      "source": [
        "plt.plot(historyED.history['accuracy'], \n",
        "         label='Доля верных ответов на обучающем наборе')\n",
        "plt.plot(historyED.history['val_accuracy'], \n",
        "         label='Доля верных ответов на проверочном наборе')\n",
        "plt.xlabel('Эпоха обучения')\n",
        "plt.ylabel('Доля верных ответов')\n",
        "plt.legend()\n",
        "plt.grid()\n",
        "plt.show()\n",
        "\n",
        "results"
      ],
      "execution_count": 11,
      "outputs": [
        {
          "output_type": "display_data",
          "data": {
            "image/png": "[encoded data removed]",
            "text/plain": [
              "<Figure size 432x288 with 1 Axes>"
            ]
          },
          "metadata": {
            "tags": [],
            "needs_background": "light"
          }
        },
        {
          "output_type": "execute_result",
          "data": {
            "text/html": [
              "<div>\n",
              "<style scoped>\n",
              "    .dataframe tbody tr th:only-of-type {\n",
              "        vertical-align: middle;\n",
              "    }\n",
              "\n",
              "    .dataframe tbody tr th {\n",
              "        vertical-align: top;\n",
              "    }\n",
              "\n",
              "    .dataframe thead th {\n",
              "        text-align: right;\n",
              "    }\n",
              "</style>\n",
              "<table border=\"1\" class=\"dataframe\">\n",
              "  <thead>\n",
              "    <tr style=\"text-align: right;\">\n",
              "      <th></th>\n",
              "      <th>maxWordsCount</th>\n",
              "      <th>batch_size</th>\n",
              "      <th>Dense</th>\n",
              "      <th>Dropout</th>\n",
              "      <th>Embbeding</th>\n",
              "      <th>Ativation</th>\n",
              "      <th>Activation</th>\n",
              "      <th>Optimizer</th>\n",
              "      <th>xLen</th>\n",
              "      <th>step</th>\n",
              "      <th>predict</th>\n",
              "    </tr>\n",
              "  </thead>\n",
              "  <tbody>\n",
              "    <tr>\n",
              "      <th>0</th>\n",
              "      <td>50000</td>\n",
              "      <td>64</td>\n",
              "      <td>6</td>\n",
              "      <td>0.4</td>\n",
              "      <td>50</td>\n",
              "      <td>relu</td>\n",
              "      <td>softmax</td>\n",
              "      <td>Adam</td>\n",
              "      <td>20000</td>\n",
              "      <td>25</td>\n",
              "      <td>0.979186</td>\n",
              "    </tr>\n",
              "  </tbody>\n",
              "</table>\n",
              "</div>"
            ],
            "text/plain": [
              "   maxWordsCount  batch_size  Dense  Dropout  ...  Optimizer   xLen step   predict\n",
              "0          50000          64      6      0.4  ...       Adam  20000   25  0.979186\n",
              "\n",
              "[1 rows x 11 columns]"
            ]
          },
          "metadata": {
            "tags": []
          },
          "execution_count": 11
        }
      ]
    },
    {
      "cell_type": "code",
      "metadata": {
        "id": "AyH1LbWdGg4K",
        "colab_type": "code",
        "colab": {
          "base_uri": "https://localhost:8080/",
          "height": 340
        },
        "outputId": "a60daf33-ca8b-40a4-df47-a3992aba3be8"
      },
      "source": [
        "plt.plot(historyED.history['accuracy'], \n",
        "         label='Доля верных ответов на обучающем наборе')\n",
        "plt.plot(historyED.history['val_accuracy'], \n",
        "         label='Доля верных ответов на проверочном наборе')\n",
        "plt.xlabel('Эпоха обучения')\n",
        "plt.ylabel('Доля верных ответов')\n",
        "plt.legend()\n",
        "plt.grid()\n",
        "plt.show()\n",
        "\n",
        "results"
      ],
      "execution_count": 16,
      "outputs": [
        {
          "output_type": "display_data",
          "data": {
            "image/png": "[encoded data removed]",
            "text/plain": [
              "<Figure size 432x288 with 1 Axes>"
            ]
          },
          "metadata": {
            "tags": [],
            "needs_background": "light"
          }
        },
        {
          "output_type": "execute_result",
          "data": {
            "text/html": [
              "<div>\n",
              "<style scoped>\n",
              "    .dataframe tbody tr th:only-of-type {\n",
              "        vertical-align: middle;\n",
              "    }\n",
              "\n",
              "    .dataframe tbody tr th {\n",
              "        vertical-align: top;\n",
              "    }\n",
              "\n",
              "    .dataframe thead th {\n",
              "        text-align: right;\n",
              "    }\n",
              "</style>\n",
              "<table border=\"1\" class=\"dataframe\">\n",
              "  <thead>\n",
              "    <tr style=\"text-align: right;\">\n",
              "      <th></th>\n",
              "      <th>maxWordsCount</th>\n",
              "      <th>batch_size</th>\n",
              "      <th>Dense</th>\n",
              "      <th>Dropout</th>\n",
              "      <th>Embbeding</th>\n",
              "      <th>Activation</th>\n",
              "      <th>Activation</th>\n",
              "      <th>Optimizer</th>\n",
              "      <th>xLen</th>\n",
              "      <th>step</th>\n",
              "      <th>predict</th>\n",
              "    </tr>\n",
              "  </thead>\n",
              "  <tbody>\n",
              "    <tr>\n",
              "      <th>0</th>\n",
              "      <td>50000</td>\n",
              "      <td>64</td>\n",
              "      <td>6</td>\n",
              "      <td>0.4</td>\n",
              "      <td>50</td>\n",
              "      <td>relu</td>\n",
              "      <td>softmax</td>\n",
              "      <td>Adam</td>\n",
              "      <td>20000</td>\n",
              "      <td>50</td>\n",
              "      <td>0.967678</td>\n",
              "    </tr>\n",
              "  </tbody>\n",
              "</table>\n",
              "</div>"
            ],
            "text/plain": [
              "   maxWordsCount  batch_size  Dense  Dropout  ...  Optimizer   xLen step   predict\n",
              "0          50000          64      6      0.4  ...       Adam  20000   50  0.967678\n",
              "\n",
              "[1 rows x 11 columns]"
            ]
          },
          "metadata": {
            "tags": []
          },
          "execution_count": 16
        }
      ]
    },
    {
      "cell_type": "code",
      "metadata": {
        "id": "chqwdhvJvm7l",
        "colab_type": "code",
        "colab": {
          "base_uri": "https://localhost:8080/",
          "height": 109
        },
        "outputId": "2f618b19-db0f-492d-aa19-572c92ac9f58"
      },
      "source": [
        "# k_Dropout = 0.4 # было 0.4 + N_lr = 0.00005, Dense = k_Embbeding\n",
        "results = pd.DataFrame(data, columns = ['maxWordsCount', 'batch_size', 'Dense', 'Dropout', 'Embbeding', 'Activation', 'Activation', 'Optimizer', 'xLen', 'step', 'predict'])\n",
        "results "
      ],
      "execution_count": null,
      "outputs": [
        {
          "output_type": "execute_result",
          "data": {
            "text/html": [
              "<div>\n",
              "<style scoped>\n",
              "    .dataframe tbody tr th:only-of-type {\n",
              "        vertical-align: middle;\n",
              "    }\n",
              "\n",
              "    .dataframe tbody tr th {\n",
              "        vertical-align: top;\n",
              "    }\n",
              "\n",
              "    .dataframe thead th {\n",
              "        text-align: right;\n",
              "    }\n",
              "</style>\n",
              "<table border=\"1\" class=\"dataframe\">\n",
              "  <thead>\n",
              "    <tr style=\"text-align: right;\">\n",
              "      <th></th>\n",
              "      <th>maxWordsCount</th>\n",
              "      <th>batch_size</th>\n",
              "      <th>Dense</th>\n",
              "      <th>Dropout</th>\n",
              "      <th>Embbeding</th>\n",
              "      <th>Activation</th>\n",
              "      <th>Activation</th>\n",
              "      <th>Optimizer</th>\n",
              "      <th>xLen</th>\n",
              "      <th>step</th>\n",
              "      <th>predict</th>\n",
              "    </tr>\n",
              "  </thead>\n",
              "  <tbody>\n",
              "    <tr>\n",
              "      <th>0</th>\n",
              "      <td>50000</td>\n",
              "      <td>64</td>\n",
              "      <td>6</td>\n",
              "      <td>0.4</td>\n",
              "      <td>50</td>\n",
              "      <td>relu</td>\n",
              "      <td>softmax</td>\n",
              "      <td>Adam</td>\n",
              "      <td>5000</td>\n",
              "      <td>20</td>\n",
              "      <td>0.886849</td>\n",
              "    </tr>\n",
              "    <tr>\n",
              "      <th>1</th>\n",
              "      <td>50000</td>\n",
              "      <td>64</td>\n",
              "      <td>6</td>\n",
              "      <td>0.4</td>\n",
              "      <td>50</td>\n",
              "      <td>relu</td>\n",
              "      <td>softmax</td>\n",
              "      <td>Adam</td>\n",
              "      <td>10000</td>\n",
              "      <td>20</td>\n",
              "      <td>0.904161</td>\n",
              "    </tr>\n",
              "  </tbody>\n",
              "</table>\n",
              "</div>"
            ],
            "text/plain": [
              "   maxWordsCount  batch_size  Dense  Dropout  ...  Optimizer   xLen step   predict\n",
              "0          50000          64      6      0.4  ...       Adam   5000   20  0.886849\n",
              "1          50000          64      6      0.4  ...       Adam  10000   20  0.904161\n",
              "\n",
              "[2 rows x 11 columns]"
            ]
          },
          "metadata": {
            "tags": []
          },
          "execution_count": 11
        }
      ]
    },
    {
      "cell_type": "code",
      "metadata": {
        "id": "GXSsYizZjMrP",
        "colab_type": "code",
        "colab": {
          "base_uri": "https://localhost:8080/",
          "height": 78
        },
        "outputId": "829f355e-520e-4597-a0b4-222cc40c46fe"
      },
      "source": [
        "results = pd.DataFrame(data, columns = ['maxWordsCount', 'batch_size', 'Dense', 'Dropout', 'Embbeding', 'Activation', 'Activation', 'Optimizer', 'xLen', 'step', 'predict'])\n",
        "results   # k_Dropout = 0.7"
      ],
      "execution_count": null,
      "outputs": [
        {
          "output_type": "execute_result",
          "data": {
            "text/html": [
              "<div>\n",
              "<style scoped>\n",
              "    .dataframe tbody tr th:only-of-type {\n",
              "        vertical-align: middle;\n",
              "    }\n",
              "\n",
              "    .dataframe tbody tr th {\n",
              "        vertical-align: top;\n",
              "    }\n",
              "\n",
              "    .dataframe thead th {\n",
              "        text-align: right;\n",
              "    }\n",
              "</style>\n",
              "<table border=\"1\" class=\"dataframe\">\n",
              "  <thead>\n",
              "    <tr style=\"text-align: right;\">\n",
              "      <th></th>\n",
              "      <th>maxWordsCount</th>\n",
              "      <th>batch_size</th>\n",
              "      <th>Dense</th>\n",
              "      <th>Dropout</th>\n",
              "      <th>Embbeding</th>\n",
              "      <th>Activation</th>\n",
              "      <th>Activation</th>\n",
              "      <th>Optimizer</th>\n",
              "      <th>xLen</th>\n",
              "      <th>step</th>\n",
              "      <th>predict</th>\n",
              "    </tr>\n",
              "  </thead>\n",
              "  <tbody>\n",
              "    <tr>\n",
              "      <th>0</th>\n",
              "      <td>50000</td>\n",
              "      <td>64</td>\n",
              "      <td>6</td>\n",
              "      <td>0.7</td>\n",
              "      <td>50</td>\n",
              "      <td>relu</td>\n",
              "      <td>softmax</td>\n",
              "      <td>Adam</td>\n",
              "      <td>10000</td>\n",
              "      <td>20</td>\n",
              "      <td>0.946394</td>\n",
              "    </tr>\n",
              "  </tbody>\n",
              "</table>\n",
              "</div>"
            ],
            "text/plain": [
              "   maxWordsCount  batch_size  Dense  Dropout  ...  Optimizer   xLen step   predict\n",
              "0          50000          64      6      0.7  ...       Adam  10000   20  0.946394\n",
              "\n",
              "[1 rows x 11 columns]"
            ]
          },
          "metadata": {
            "tags": []
          },
          "execution_count": 11
        }
      ]
    },
    {
      "cell_type": "code",
      "metadata": {
        "id": "puWSPq-BO5-E",
        "colab_type": "code",
        "colab": {
          "base_uri": "https://localhost:8080/",
          "height": 141
        },
        "outputId": "183b3a74-4f2d-48a0-dc72-58d79d215722"
      },
      "source": [
        "results = pd.DataFrame(data, columns = ['maxWordsCount', 'batch_size', 'Dense', 'Dropout', 'Embbeding', 'Activation', 'Activation', 'Optimizer', 'xLen', 'step', 'predict'])\n",
        "results\n",
        "# N_lr = 0.00005"
      ],
      "execution_count": null,
      "outputs": [
        {
          "output_type": "execute_result",
          "data": {
            "text/html": [
              "<div>\n",
              "<style scoped>\n",
              "    .dataframe tbody tr th:only-of-type {\n",
              "        vertical-align: middle;\n",
              "    }\n",
              "\n",
              "    .dataframe tbody tr th {\n",
              "        vertical-align: top;\n",
              "    }\n",
              "\n",
              "    .dataframe thead th {\n",
              "        text-align: right;\n",
              "    }\n",
              "</style>\n",
              "<table border=\"1\" class=\"dataframe\">\n",
              "  <thead>\n",
              "    <tr style=\"text-align: right;\">\n",
              "      <th></th>\n",
              "      <th>maxWordsCount</th>\n",
              "      <th>batch_size</th>\n",
              "      <th>Dense</th>\n",
              "      <th>Dropout</th>\n",
              "      <th>Embbeding</th>\n",
              "      <th>Activation</th>\n",
              "      <th>Activation</th>\n",
              "      <th>Optimizer</th>\n",
              "      <th>xLen</th>\n",
              "      <th>step</th>\n",
              "      <th>predict</th>\n",
              "    </tr>\n",
              "  </thead>\n",
              "  <tbody>\n",
              "    <tr>\n",
              "      <th>0</th>\n",
              "      <td>50000</td>\n",
              "      <td>64</td>\n",
              "      <td>6</td>\n",
              "      <td>0.2</td>\n",
              "      <td>50</td>\n",
              "      <td>relu</td>\n",
              "      <td>softmax</td>\n",
              "      <td>Adam</td>\n",
              "      <td>10000</td>\n",
              "      <td>20</td>\n",
              "      <td>0.956007</td>\n",
              "    </tr>\n",
              "  </tbody>\n",
              "</table>\n",
              "</div>"
            ],
            "text/plain": [
              "   maxWordsCount  batch_size  Dense  Dropout  ...  Optimizer   xLen step   predict\n",
              "0          50000          64      6      0.2  ...       Adam  10000   20  0.956007\n",
              "\n",
              "[1 rows x 11 columns]"
            ]
          },
          "metadata": {
            "tags": []
          },
          "execution_count": 11
        },
        {
          "output_type": "execute_result",
          "data": {
            "text/html": [
              "<div>\n",
              "<style scoped>\n",
              "    .dataframe tbody tr th:only-of-type {\n",
              "        vertical-align: middle;\n",
              "    }\n",
              "\n",
              "    .dataframe tbody tr th {\n",
              "        vertical-align: top;\n",
              "    }\n",
              "\n",
              "    .dataframe thead th {\n",
              "        text-align: right;\n",
              "    }\n",
              "</style>\n",
              "<table border=\"1\" class=\"dataframe\">\n",
              "  <thead>\n",
              "    <tr style=\"text-align: right;\">\n",
              "      <th></th>\n",
              "      <th>maxWordsCount</th>\n",
              "      <th>batch_size</th>\n",
              "      <th>Dense</th>\n",
              "      <th>Dropout</th>\n",
              "      <th>Embbeding</th>\n",
              "      <th>Activation</th>\n",
              "      <th>Activation</th>\n",
              "      <th>Optimizer</th>\n",
              "      <th>xLen</th>\n",
              "      <th>step</th>\n",
              "      <th>predict</th>\n",
              "    </tr>\n",
              "  </thead>\n",
              "  <tbody>\n",
              "    <tr>\n",
              "      <th>0</th>\n",
              "      <td>50000</td>\n",
              "      <td>64</td>\n",
              "      <td>6</td>\n",
              "      <td>0.2</td>\n",
              "      <td>50</td>\n",
              "      <td>relu</td>\n",
              "      <td>softmax</td>\n",
              "      <td>Adam</td>\n",
              "      <td>10000</td>\n",
              "      <td>20</td>\n",
              "      <td>0.956007</td>\n",
              "    </tr>\n",
              "  </tbody>\n",
              "</table>\n",
              "</div>"
            ],
            "text/plain": [
              "   maxWordsCount  batch_size  Dense  Dropout  ...  Optimizer   xLen step   predict\n",
              "0          50000          64      6      0.2  ...       Adam  10000   20  0.956007\n",
              "\n",
              "[1 rows x 11 columns]"
            ]
          },
          "metadata": {
            "tags": []
          },
          "execution_count": 12
        }
      ]
    },
    {
      "cell_type": "code",
      "metadata": {
        "id": "Kf0ZpQ-dN88w",
        "colab_type": "code",
        "colab": {
          "base_uri": "https://localhost:8080/",
          "height": 78
        },
        "outputId": "c98cfa86-b482-4c72-9385-075b0a310616"
      },
      "source": [
        "results = pd.DataFrame(data, columns = ['maxWordsCount', 'batch_size', 'Dense', 'Dropout', 'Embbeding', 'Activation', 'Activation', 'Optimizer', 'xLen', 'step', 'predict'])\n",
        "results"
      ],
      "execution_count": null,
      "outputs": [
        {
          "output_type": "execute_result",
          "data": {
            "text/html": [
              "<div>\n",
              "<style scoped>\n",
              "    .dataframe tbody tr th:only-of-type {\n",
              "        vertical-align: middle;\n",
              "    }\n",
              "\n",
              "    .dataframe tbody tr th {\n",
              "        vertical-align: top;\n",
              "    }\n",
              "\n",
              "    .dataframe thead th {\n",
              "        text-align: right;\n",
              "    }\n",
              "</style>\n",
              "<table border=\"1\" class=\"dataframe\">\n",
              "  <thead>\n",
              "    <tr style=\"text-align: right;\">\n",
              "      <th></th>\n",
              "      <th>maxWordsCount</th>\n",
              "      <th>batch_size</th>\n",
              "      <th>Dense</th>\n",
              "      <th>Dropout</th>\n",
              "      <th>Embbeding</th>\n",
              "      <th>Activation</th>\n",
              "      <th>Activation</th>\n",
              "      <th>Optimizer</th>\n",
              "      <th>xLen</th>\n",
              "      <th>step</th>\n",
              "      <th>predict</th>\n",
              "    </tr>\n",
              "  </thead>\n",
              "  <tbody>\n",
              "    <tr>\n",
              "      <th>0</th>\n",
              "      <td>50000</td>\n",
              "      <td>64</td>\n",
              "      <td>6</td>\n",
              "      <td>0.2</td>\n",
              "      <td>50</td>\n",
              "      <td>relu</td>\n",
              "      <td>softmax</td>\n",
              "      <td>Adam</td>\n",
              "      <td>15000</td>\n",
              "      <td>20</td>\n",
              "      <td>0.926885</td>\n",
              "    </tr>\n",
              "  </tbody>\n",
              "</table>\n",
              "</div>"
            ],
            "text/plain": [
              "   maxWordsCount  batch_size  Dense  Dropout  ...  Optimizer   xLen step   predict\n",
              "0          50000          64      6      0.2  ...       Adam  15000   20  0.926885\n",
              "\n",
              "[1 rows x 11 columns]"
            ]
          },
          "metadata": {
            "tags": []
          },
          "execution_count": 11
        }
      ]
    },
    {
      "cell_type": "code",
      "metadata": {
        "id": "hFaNuYgj6oMw",
        "colab_type": "code",
        "colab": {
          "base_uri": "https://localhost:8080/",
          "height": 78
        },
        "outputId": "827a3a15-8203-45bb-dc48-69d669de485b"
      },
      "source": [
        "results = pd.DataFrame(data, columns = ['maxWordsCount', 'batch_size', 'Dense', 'Dropout', 'Embbeding', 'Activation', 'Activation', 'Optimizer', 'xLen', 'step', 'predict'])\n",
        "results"
      ],
      "execution_count": null,
      "outputs": [
        {
          "output_type": "execute_result",
          "data": {
            "text/html": [
              "<div>\n",
              "<style scoped>\n",
              "    .dataframe tbody tr th:only-of-type {\n",
              "        vertical-align: middle;\n",
              "    }\n",
              "\n",
              "    .dataframe tbody tr th {\n",
              "        vertical-align: top;\n",
              "    }\n",
              "\n",
              "    .dataframe thead th {\n",
              "        text-align: right;\n",
              "    }\n",
              "</style>\n",
              "<table border=\"1\" class=\"dataframe\">\n",
              "  <thead>\n",
              "    <tr style=\"text-align: right;\">\n",
              "      <th></th>\n",
              "      <th>maxWordsCount</th>\n",
              "      <th>batch_size</th>\n",
              "      <th>Dense</th>\n",
              "      <th>Dropout</th>\n",
              "      <th>Embbeding</th>\n",
              "      <th>Activation</th>\n",
              "      <th>Activation</th>\n",
              "      <th>Optimizer</th>\n",
              "      <th>xLen</th>\n",
              "      <th>step</th>\n",
              "      <th>predict</th>\n",
              "    </tr>\n",
              "  </thead>\n",
              "  <tbody>\n",
              "    <tr>\n",
              "      <th>0</th>\n",
              "      <td>50000</td>\n",
              "      <td>64</td>\n",
              "      <td>6</td>\n",
              "      <td>0.2</td>\n",
              "      <td>50</td>\n",
              "      <td>relu</td>\n",
              "      <td>softmax</td>\n",
              "      <td>Adam</td>\n",
              "      <td>10000</td>\n",
              "      <td>20</td>\n",
              "      <td>0.957018</td>\n",
              "    </tr>\n",
              "  </tbody>\n",
              "</table>\n",
              "</div>"
            ],
            "text/plain": [
              "   maxWordsCount  batch_size  Dense  Dropout  ...  Optimizer   xLen step   predict\n",
              "0          50000          64      6      0.2  ...       Adam  10000   20  0.957018\n",
              "\n",
              "[1 rows x 11 columns]"
            ]
          },
          "metadata": {
            "tags": []
          },
          "execution_count": 13
        }
      ]
    },
    {
      "cell_type": "code",
      "metadata": {
        "id": "IUjgCSPIjDnl",
        "colab_type": "code",
        "colab": {
          "base_uri": "https://localhost:8080/",
          "height": 78
        },
        "outputId": "802f4db6-d248-40ce-9ade-07b97d9061ad"
      },
      "source": [
        "results = pd.DataFrame(data, columns = ['maxWordsCount', 'batch_size', 'Dense', 'Dropout', 'Embbeding', 'Activation', 'Activation', 'Optimizer', 'xLen', 'step', 'predict'])\n",
        "results"
      ],
      "execution_count": null,
      "outputs": [
        {
          "output_type": "execute_result",
          "data": {
            "text/html": [
              "<div>\n",
              "<style scoped>\n",
              "    .dataframe tbody tr th:only-of-type {\n",
              "        vertical-align: middle;\n",
              "    }\n",
              "\n",
              "    .dataframe tbody tr th {\n",
              "        vertical-align: top;\n",
              "    }\n",
              "\n",
              "    .dataframe thead th {\n",
              "        text-align: right;\n",
              "    }\n",
              "</style>\n",
              "<table border=\"1\" class=\"dataframe\">\n",
              "  <thead>\n",
              "    <tr style=\"text-align: right;\">\n",
              "      <th></th>\n",
              "      <th>maxWordsCount</th>\n",
              "      <th>batch_size</th>\n",
              "      <th>Dense</th>\n",
              "      <th>Dropout</th>\n",
              "      <th>Embbeding</th>\n",
              "      <th>Activation</th>\n",
              "      <th>Activation</th>\n",
              "      <th>Optimizer</th>\n",
              "      <th>xLen</th>\n",
              "      <th>step</th>\n",
              "      <th>predict</th>\n",
              "    </tr>\n",
              "  </thead>\n",
              "  <tbody>\n",
              "    <tr>\n",
              "      <th>0</th>\n",
              "      <td>50000</td>\n",
              "      <td>64</td>\n",
              "      <td>6</td>\n",
              "      <td>0.6</td>\n",
              "      <td>50</td>\n",
              "      <td>relu</td>\n",
              "      <td>softmax</td>\n",
              "      <td>Adam</td>\n",
              "      <td>10000</td>\n",
              "      <td>20</td>\n",
              "      <td>0.926842</td>\n",
              "    </tr>\n",
              "  </tbody>\n",
              "</table>\n",
              "</div>"
            ],
            "text/plain": [
              "   maxWordsCount  batch_size  Dense  Dropout  ...  Optimizer   xLen step   predict\n",
              "0          50000          64      6      0.6  ...       Adam  10000   20  0.926842\n",
              "\n",
              "[1 rows x 11 columns]"
            ]
          },
          "metadata": {
            "tags": []
          },
          "execution_count": 11
        }
      ]
    },
    {
      "cell_type": "code",
      "metadata": {
        "id": "9PzWwYy0aPdW",
        "colab_type": "code",
        "colab": {
          "base_uri": "https://localhost:8080/",
          "height": 78
        },
        "outputId": "53a627ba-c0be-4ef8-e18f-d00070e325f2"
      },
      "source": [
        "results = pd.DataFrame(data, columns = ['maxWordsCount', 'batch_size', 'Dense', 'Dropout', 'Embbeding', 'Activation', 'Activation', 'Optimizer', 'xLen', 'step', 'predict'])\n",
        "results\n",
        "#Оставил только один Dense слой с 6ю нейронами + SpatialDropout1D 0.4"
      ],
      "execution_count": null,
      "outputs": [
        {
          "output_type": "execute_result",
          "data": {
            "text/html": [
              "<div>\n",
              "<style scoped>\n",
              "    .dataframe tbody tr th:only-of-type {\n",
              "        vertical-align: middle;\n",
              "    }\n",
              "\n",
              "    .dataframe tbody tr th {\n",
              "        vertical-align: top;\n",
              "    }\n",
              "\n",
              "    .dataframe thead th {\n",
              "        text-align: right;\n",
              "    }\n",
              "</style>\n",
              "<table border=\"1\" class=\"dataframe\">\n",
              "  <thead>\n",
              "    <tr style=\"text-align: right;\">\n",
              "      <th></th>\n",
              "      <th>maxWordsCount</th>\n",
              "      <th>batch_size</th>\n",
              "      <th>Dense</th>\n",
              "      <th>Dropout</th>\n",
              "      <th>Embbeding</th>\n",
              "      <th>Activation</th>\n",
              "      <th>Activation</th>\n",
              "      <th>Optimizer</th>\n",
              "      <th>xLen</th>\n",
              "      <th>step</th>\n",
              "      <th>predict</th>\n",
              "    </tr>\n",
              "  </thead>\n",
              "  <tbody>\n",
              "    <tr>\n",
              "      <th>0</th>\n",
              "      <td>50000</td>\n",
              "      <td>128</td>\n",
              "      <td>6</td>\n",
              "      <td>0.4</td>\n",
              "      <td>50</td>\n",
              "      <td>relu</td>\n",
              "      <td>softmax</td>\n",
              "      <td>Adam</td>\n",
              "      <td>10000</td>\n",
              "      <td>20</td>\n",
              "      <td>0.933099</td>\n",
              "    </tr>\n",
              "  </tbody>\n",
              "</table>\n",
              "</div>"
            ],
            "text/plain": [
              "   maxWordsCount  batch_size  Dense  Dropout  ...  Optimizer   xLen step   predict\n",
              "0          50000         128      6      0.4  ...       Adam  10000   20  0.933099\n",
              "\n",
              "[1 rows x 11 columns]"
            ]
          },
          "metadata": {
            "tags": []
          },
          "execution_count": 11
        }
      ]
    },
    {
      "cell_type": "code",
      "metadata": {
        "id": "h05gWaCgFBQN",
        "colab_type": "code",
        "colab": {
          "base_uri": "https://localhost:8080/",
          "height": 78
        },
        "outputId": "96190bf3-75a6-41da-b063-3f0dfd1cd4a8"
      },
      "source": [
        "results = pd.DataFrame(data, columns = ['maxWordsCount', 'batch_size', 'Dense', 'Dropout', 'Embbeding', 'relu', 'softmax', 'RMSprop', 'xLen', 'step', 'predict'])\n",
        "results\n",
        "#Оставил только один Dense слой с 6ю нейронами"
      ],
      "execution_count": null,
      "outputs": [
        {
          "output_type": "execute_result",
          "data": {
            "text/html": [
              "<div>\n",
              "<style scoped>\n",
              "    .dataframe tbody tr th:only-of-type {\n",
              "        vertical-align: middle;\n",
              "    }\n",
              "\n",
              "    .dataframe tbody tr th {\n",
              "        vertical-align: top;\n",
              "    }\n",
              "\n",
              "    .dataframe thead th {\n",
              "        text-align: right;\n",
              "    }\n",
              "</style>\n",
              "<table border=\"1\" class=\"dataframe\">\n",
              "  <thead>\n",
              "    <tr style=\"text-align: right;\">\n",
              "      <th></th>\n",
              "      <th>maxWordsCount</th>\n",
              "      <th>batch_size</th>\n",
              "      <th>Dense</th>\n",
              "      <th>Dropout</th>\n",
              "      <th>Embbeding</th>\n",
              "      <th>relu</th>\n",
              "      <th>softmax</th>\n",
              "      <th>RMSprop</th>\n",
              "      <th>xLen</th>\n",
              "      <th>step</th>\n",
              "      <th>predict</th>\n",
              "    </tr>\n",
              "  </thead>\n",
              "  <tbody>\n",
              "    <tr>\n",
              "      <th>0</th>\n",
              "      <td>5000</td>\n",
              "      <td>128</td>\n",
              "      <td>200</td>\n",
              "      <td>0.2</td>\n",
              "      <td>50</td>\n",
              "      <td>relu</td>\n",
              "      <td>softmax</td>\n",
              "      <td>RMSprop</td>\n",
              "      <td>20000</td>\n",
              "      <td>50</td>\n",
              "      <td>0.970386</td>\n",
              "    </tr>\n",
              "  </tbody>\n",
              "</table>\n",
              "</div>"
            ],
            "text/plain": [
              "   maxWordsCount  batch_size  Dense  Dropout  ...  RMSprop   xLen step   predict\n",
              "0           5000         128    200      0.2  ...  RMSprop  20000   50  0.970386\n",
              "\n",
              "[1 rows x 11 columns]"
            ]
          },
          "metadata": {
            "tags": []
          },
          "execution_count": 11
        }
      ]
    },
    {
      "cell_type": "code",
      "metadata": {
        "id": "pLUm7yzk85mn",
        "colab_type": "code",
        "colab": {
          "base_uri": "https://localhost:8080/",
          "height": 109
        },
        "outputId": "b632e6bc-2e10-4696-ce69-186566c929df"
      },
      "source": [
        "results = pd.DataFrame(data, columns = ['maxWordsCount', 'batch_size', 'Dense', 'Dropout', 'Embbeding', 'relu', 'softmax', 'RMSprop', 'xLen', 'step', 'predict'])\n",
        "results"
      ],
      "execution_count": null,
      "outputs": [
        {
          "output_type": "execute_result",
          "data": {
            "text/html": [
              "<div>\n",
              "<style scoped>\n",
              "    .dataframe tbody tr th:only-of-type {\n",
              "        vertical-align: middle;\n",
              "    }\n",
              "\n",
              "    .dataframe tbody tr th {\n",
              "        vertical-align: top;\n",
              "    }\n",
              "\n",
              "    .dataframe thead th {\n",
              "        text-align: right;\n",
              "    }\n",
              "</style>\n",
              "<table border=\"1\" class=\"dataframe\">\n",
              "  <thead>\n",
              "    <tr style=\"text-align: right;\">\n",
              "      <th></th>\n",
              "      <th>maxWordsCount</th>\n",
              "      <th>batch_size</th>\n",
              "      <th>Dense</th>\n",
              "      <th>Dropout</th>\n",
              "      <th>Embbeding</th>\n",
              "      <th>relu</th>\n",
              "      <th>softmax</th>\n",
              "      <th>RMSprop</th>\n",
              "      <th>xLen</th>\n",
              "      <th>step</th>\n",
              "      <th>predict</th>\n",
              "    </tr>\n",
              "  </thead>\n",
              "  <tbody>\n",
              "    <tr>\n",
              "      <th>0</th>\n",
              "      <td>5000</td>\n",
              "      <td>128</td>\n",
              "      <td>200</td>\n",
              "      <td>0.2</td>\n",
              "      <td>50</td>\n",
              "      <td>relu</td>\n",
              "      <td>softmax</td>\n",
              "      <td>RMSprop</td>\n",
              "      <td>5000</td>\n",
              "      <td>50</td>\n",
              "      <td>0.930569</td>\n",
              "    </tr>\n",
              "    <tr>\n",
              "      <th>1</th>\n",
              "      <td>5000</td>\n",
              "      <td>128</td>\n",
              "      <td>200</td>\n",
              "      <td>0.2</td>\n",
              "      <td>50</td>\n",
              "      <td>relu</td>\n",
              "      <td>softmax</td>\n",
              "      <td>RMSprop</td>\n",
              "      <td>10000</td>\n",
              "      <td>50</td>\n",
              "      <td>0.941756</td>\n",
              "    </tr>\n",
              "  </tbody>\n",
              "</table>\n",
              "</div>"
            ],
            "text/plain": [
              "   maxWordsCount  batch_size  Dense  Dropout  ...  RMSprop   xLen step   predict\n",
              "0           5000         128    200      0.2  ...  RMSprop   5000   50  0.930569\n",
              "1           5000         128    200      0.2  ...  RMSprop  10000   50  0.941756\n",
              "\n",
              "[2 rows x 11 columns]"
            ]
          },
          "metadata": {
            "tags": []
          },
          "execution_count": 30
        }
      ]
    },
    {
      "cell_type": "code",
      "metadata": {
        "id": "BphkbVihkcXh",
        "colab_type": "code",
        "colab": {
          "base_uri": "https://localhost:8080/",
          "height": 162
        },
        "outputId": "e7ab519f-a799-47d2-d68a-7d2255d55786"
      },
      "source": [
        "results\n",
        "# Adam + Dropout = 0.2"
      ],
      "execution_count": null,
      "outputs": [
        {
          "output_type": "execute_result",
          "data": {
            "text/html": [
              "<div>\n",
              "<style scoped>\n",
              "    .dataframe tbody tr th:only-of-type {\n",
              "        vertical-align: middle;\n",
              "    }\n",
              "\n",
              "    .dataframe tbody tr th {\n",
              "        vertical-align: top;\n",
              "    }\n",
              "\n",
              "    .dataframe thead th {\n",
              "        text-align: right;\n",
              "    }\n",
              "</style>\n",
              "<table border=\"1\" class=\"dataframe\">\n",
              "  <thead>\n",
              "    <tr style=\"text-align: right;\">\n",
              "      <th></th>\n",
              "      <th>maxWordsCount</th>\n",
              "      <th>batch_size</th>\n",
              "      <th>Dense</th>\n",
              "      <th>Dropout</th>\n",
              "      <th>Embbeding</th>\n",
              "      <th>relu</th>\n",
              "      <th>xLen</th>\n",
              "      <th>step</th>\n",
              "      <th>predict</th>\n",
              "    </tr>\n",
              "  </thead>\n",
              "  <tbody>\n",
              "    <tr>\n",
              "      <th>0</th>\n",
              "      <td>50000</td>\n",
              "      <td>128</td>\n",
              "      <td>200</td>\n",
              "      <td>0.2</td>\n",
              "      <td>10</td>\n",
              "      <td>relu</td>\n",
              "      <td>1000</td>\n",
              "      <td>20</td>\n",
              "      <td>0.765927</td>\n",
              "    </tr>\n",
              "    <tr>\n",
              "      <th>1</th>\n",
              "      <td>50000</td>\n",
              "      <td>128</td>\n",
              "      <td>200</td>\n",
              "      <td>0.2</td>\n",
              "      <td>50</td>\n",
              "      <td>relu</td>\n",
              "      <td>1000</td>\n",
              "      <td>20</td>\n",
              "      <td>0.754096</td>\n",
              "    </tr>\n",
              "    <tr>\n",
              "      <th>2</th>\n",
              "      <td>50000</td>\n",
              "      <td>128</td>\n",
              "      <td>200</td>\n",
              "      <td>0.2</td>\n",
              "      <td>100</td>\n",
              "      <td>relu</td>\n",
              "      <td>1000</td>\n",
              "      <td>20</td>\n",
              "      <td>0.825171</td>\n",
              "    </tr>\n",
              "    <tr>\n",
              "      <th>3</th>\n",
              "      <td>50000</td>\n",
              "      <td>128</td>\n",
              "      <td>200</td>\n",
              "      <td>0.2</td>\n",
              "      <td>200</td>\n",
              "      <td>relu</td>\n",
              "      <td>1000</td>\n",
              "      <td>20</td>\n",
              "      <td>0.772966</td>\n",
              "    </tr>\n",
              "  </tbody>\n",
              "</table>\n",
              "</div>"
            ],
            "text/plain": [
              "   maxWordsCount  batch_size  Dense  Dropout  ...  relu  xLen  step   predict\n",
              "0          50000         128    200      0.2  ...  relu  1000    20  0.765927\n",
              "1          50000         128    200      0.2  ...  relu  1000    20  0.754096\n",
              "2          50000         128    200      0.2  ...  relu  1000    20  0.825171\n",
              "3          50000         128    200      0.2  ...  relu  1000    20  0.772966\n",
              "\n",
              "[4 rows x 9 columns]"
            ]
          },
          "metadata": {
            "tags": []
          },
          "execution_count": 32
        }
      ]
    },
    {
      "cell_type": "code",
      "metadata": {
        "id": "Ed5DmgSkYEUK",
        "colab_type": "code",
        "colab": {
          "base_uri": "https://localhost:8080/",
          "height": 195
        },
        "outputId": "400187d6-094d-402d-876a-11299a741955"
      },
      "source": [
        "results\n",
        "# Adam + Dropout = 0.2"
      ],
      "execution_count": null,
      "outputs": [
        {
          "output_type": "stream",
          "text": [
            "Длина отрезка текста, по которой анализируем, в словах:  200 \n",
            " Шаг разбиения исходного текста на обучающие векторы:  20\n"
          ],
          "name": "stdout"
        },
        {
          "output_type": "execute_result",
          "data": {
            "text/html": [
              "<div>\n",
              "<style scoped>\n",
              "    .dataframe tbody tr th:only-of-type {\n",
              "        vertical-align: middle;\n",
              "    }\n",
              "\n",
              "    .dataframe tbody tr th {\n",
              "        vertical-align: top;\n",
              "    }\n",
              "\n",
              "    .dataframe thead th {\n",
              "        text-align: right;\n",
              "    }\n",
              "</style>\n",
              "<table border=\"1\" class=\"dataframe\">\n",
              "  <thead>\n",
              "    <tr style=\"text-align: right;\">\n",
              "      <th></th>\n",
              "      <th>maxWordsCount</th>\n",
              "      <th>batch_size</th>\n",
              "      <th>Dense</th>\n",
              "      <th>Dropout</th>\n",
              "      <th>Embbeding</th>\n",
              "      <th>relu</th>\n",
              "      <th>xLen</th>\n",
              "      <th>step</th>\n",
              "      <th>predict</th>\n",
              "    </tr>\n",
              "  </thead>\n",
              "  <tbody>\n",
              "    <tr>\n",
              "      <th>0</th>\n",
              "      <td>50000</td>\n",
              "      <td>128</td>\n",
              "      <td>200</td>\n",
              "      <td>0.2</td>\n",
              "      <td>10</td>\n",
              "      <td>relu</td>\n",
              "      <td>200</td>\n",
              "      <td>20</td>\n",
              "      <td>0.681387</td>\n",
              "    </tr>\n",
              "    <tr>\n",
              "      <th>1</th>\n",
              "      <td>50000</td>\n",
              "      <td>128</td>\n",
              "      <td>200</td>\n",
              "      <td>0.2</td>\n",
              "      <td>50</td>\n",
              "      <td>relu</td>\n",
              "      <td>200</td>\n",
              "      <td>20</td>\n",
              "      <td>0.694174</td>\n",
              "    </tr>\n",
              "    <tr>\n",
              "      <th>2</th>\n",
              "      <td>50000</td>\n",
              "      <td>128</td>\n",
              "      <td>200</td>\n",
              "      <td>0.2</td>\n",
              "      <td>100</td>\n",
              "      <td>relu</td>\n",
              "      <td>200</td>\n",
              "      <td>20</td>\n",
              "      <td>0.684063</td>\n",
              "    </tr>\n",
              "    <tr>\n",
              "      <th>3</th>\n",
              "      <td>50000</td>\n",
              "      <td>128</td>\n",
              "      <td>200</td>\n",
              "      <td>0.2</td>\n",
              "      <td>200</td>\n",
              "      <td>relu</td>\n",
              "      <td>200</td>\n",
              "      <td>20</td>\n",
              "      <td>0.682101</td>\n",
              "    </tr>\n",
              "  </tbody>\n",
              "</table>\n",
              "</div>"
            ],
            "text/plain": [
              "   maxWordsCount  batch_size  Dense  Dropout  ...  relu xLen  step   predict\n",
              "0          50000         128    200      0.2  ...  relu  200    20  0.681387\n",
              "1          50000         128    200      0.2  ...  relu  200    20  0.694174\n",
              "2          50000         128    200      0.2  ...  relu  200    20  0.684063\n",
              "3          50000         128    200      0.2  ...  relu  200    20  0.682101\n",
              "\n",
              "[4 rows x 9 columns]"
            ]
          },
          "metadata": {
            "tags": []
          },
          "execution_count": 29
        }
      ]
    },
    {
      "cell_type": "code",
      "metadata": {
        "id": "oiofhEg5S9ys",
        "colab_type": "code",
        "colab": {
          "base_uri": "https://localhost:8080/",
          "height": 296
        },
        "outputId": "863a50c5-fb21-4d76-c104-a4aad7f57f74"
      },
      "source": [
        "print(modelED.summary())"
      ],
      "execution_count": 11,
      "outputs": [
        {
          "output_type": "stream",
          "text": [
            "Model: \"sequential\"\n",
            "_________________________________________________________________\n",
            "Layer (type)                 Output Shape              Param #   \n",
            "=================================================================\n",
            "embedding (Embedding)        (None, 20000, 50)         2500000   \n",
            "_________________________________________________________________\n",
            "spatial_dropout1d (SpatialDr (None, 20000, 50)         0         \n",
            "_________________________________________________________________\n",
            "flatten (Flatten)            (None, 1000000)           0         \n",
            "_________________________________________________________________\n",
            "dense (Dense)                (None, 6)                 6000006   \n",
            "=================================================================\n",
            "Total params: 8,500,006\n",
            "Trainable params: 8,500,006\n",
            "Non-trainable params: 0\n",
            "_________________________________________________________________\n",
            "None\n"
          ],
          "name": "stdout"
        }
      ]
    },
    {
      "cell_type": "markdown",
      "metadata": {
        "id": "HYyAn06kIDC3",
        "colab_type": "text"
      },
      "source": [
        ""
      ]
    }
  ]
}