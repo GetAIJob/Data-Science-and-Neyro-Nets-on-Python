{
  "nbformat": 4,
  "nbformat_minor": 0,
  "metadata": {
    "colab": {
      "name": "ДЗ_2_Предсказание цены машины(Конюшок).ipynb",
      "provenance": [],
      "collapsed_sections": [],
      "toc_visible": true,
      "mount_file_id": "1K28OB4NCyNj6F5x79dtnfPuiwaG8c4MQ",
      "authorship_tag": "ABX9TyM0vYkRjgv1LljJNng2LwJR",
      "include_colab_link": true
    },
    "kernelspec": {
      "name": "python3",
      "display_name": "Python 3"
    },
    "accelerator": "GPU"
  },
  "cells": [
    {
      "cell_type": "markdown",
      "metadata": {
        "id": "view-in-github",
        "colab_type": "text"
      },
      "source": [
        "<a href=\"https://colab.research.google.com/github/ikonushok/My_studying_Data-Science-and-Neyro-Nets-on-Python/blob/master/%D0%94%D0%97_2_%D0%9F%D1%80%D0%B5%D0%B4%D1%81%D0%BA%D0%B0%D0%B7%D0%B0%D0%BD%D0%B8%D0%B5_%D1%86%D0%B5%D0%BD%D1%8B_%D0%BC%D0%B0%D1%88%D0%B8%D0%BD%D1%8B(%D0%9A%D0%BE%D0%BD%D1%8E%D1%88%D0%BE%D0%BA).ipynb\" target=\"_parent\"><img src=\"https://colab.research.google.com/assets/colab-badge.svg\" alt=\"Open In Colab\"/></a>"
      ]
    },
    {
      "cell_type": "markdown",
      "metadata": {
        "id": "Gl1yNkyey1N9",
        "colab_type": "text"
      },
      "source": [
        "# PRO_Вариант 2: Предсказание цены на машину\n",
        "По подготовленным на занятии данным создайте обучающую, тестовую и проверочную выборки. \n",
        "По сформированным данным необходимо обучить модель для предсказания цены машины. \n",
        "Оцените качество работы созданной сети, определив средний процент ошибки на проверочной выборке.\n",
        "\n",
        "(Для этого потребуется привести предсказанные моделью значения к первоначальному диапазону цен. Это можно сделать с помощью следующего метода: predict_inverse = y_scaler.inverse_transfrom(predict).flatten() где predict - результат предсказания модели). Затем подсчитайте ошибку на каждом примере тестовой выборки и суммарный процент ошибки.\n",
        "\n",
        "Рекомендации:\n",
        "\n",
        "В качестве ошибки рекомендуется использовать среднеквадратическую ошибку (mse)\n",
        "Метрику для данной задачи можно не использовать.\n",
        "Последний слой модели должен иметь 1 нейрон."
      ]
    },
    {
      "cell_type": "code",
      "metadata": {
        "id": "G5vLv-QKyOHM",
        "colab_type": "code",
        "colab": {}
      },
      "source": [
        "import pandas as pd\n",
        "import numpy as np\n",
        "\n",
        "import matplotlib.pyplot as plt # Отрисовка изображений\n",
        "%matplotlib inline"
      ],
      "execution_count": 2,
      "outputs": []
    },
    {
      "cell_type": "code",
      "metadata": {
        "id": "la-Yk8uvyaIX",
        "colab_type": "code",
        "colab": {
          "base_uri": "https://localhost:8080/",
          "height": 202
        },
        "outputId": "7f1b83a4-1e75-4a44-a3cf-13c21065bf9f"
      },
      "source": [
        "cars = pd.read_csv(\"/content/drive/My Drive/Colab Notebooks/Data Science и нейронные сети на Python/Занятие_2_Обучающая и тестовая выборки/base2/cars_new.csv\")\n",
        "cars.head()"
      ],
      "execution_count": 3,
      "outputs": [
        {
          "output_type": "execute_result",
          "data": {
            "text/html": [
              "<div>\n",
              "<style scoped>\n",
              "    .dataframe tbody tr th:only-of-type {\n",
              "        vertical-align: middle;\n",
              "    }\n",
              "\n",
              "    .dataframe tbody tr th {\n",
              "        vertical-align: top;\n",
              "    }\n",
              "\n",
              "    .dataframe thead th {\n",
              "        text-align: right;\n",
              "    }\n",
              "</style>\n",
              "<table border=\"1\" class=\"dataframe\">\n",
              "  <thead>\n",
              "    <tr style=\"text-align: right;\">\n",
              "      <th></th>\n",
              "      <th>mark</th>\n",
              "      <th>model</th>\n",
              "      <th>price</th>\n",
              "      <th>year</th>\n",
              "      <th>mileage</th>\n",
              "      <th>body</th>\n",
              "      <th>kpp</th>\n",
              "      <th>fuel</th>\n",
              "      <th>volume</th>\n",
              "      <th>power</th>\n",
              "    </tr>\n",
              "  </thead>\n",
              "  <tbody>\n",
              "    <tr>\n",
              "      <th>0</th>\n",
              "      <td>kia</td>\n",
              "      <td>cerato</td>\n",
              "      <td>996000</td>\n",
              "      <td>2018</td>\n",
              "      <td>28000</td>\n",
              "      <td>седан</td>\n",
              "      <td>автомат</td>\n",
              "      <td>бензин</td>\n",
              "      <td>2.0</td>\n",
              "      <td>150.0</td>\n",
              "    </tr>\n",
              "    <tr>\n",
              "      <th>1</th>\n",
              "      <td>daewoo</td>\n",
              "      <td>nexia 1 поколение [2-й рестайлинг]</td>\n",
              "      <td>140200</td>\n",
              "      <td>2012</td>\n",
              "      <td>60500</td>\n",
              "      <td>седан</td>\n",
              "      <td>механика</td>\n",
              "      <td>бензин</td>\n",
              "      <td>1.5</td>\n",
              "      <td>80.0</td>\n",
              "    </tr>\n",
              "    <tr>\n",
              "      <th>2</th>\n",
              "      <td>suzuki</td>\n",
              "      <td>jimny 3 поколение [рестайлинг]</td>\n",
              "      <td>750000</td>\n",
              "      <td>2011</td>\n",
              "      <td>29000</td>\n",
              "      <td>внедорожник</td>\n",
              "      <td>автомат</td>\n",
              "      <td>бензин</td>\n",
              "      <td>1.3</td>\n",
              "      <td>85.0</td>\n",
              "    </tr>\n",
              "    <tr>\n",
              "      <th>3</th>\n",
              "      <td>bmw</td>\n",
              "      <td>x1 18 e84 [рестайлинг]</td>\n",
              "      <td>970000</td>\n",
              "      <td>2014</td>\n",
              "      <td>49500</td>\n",
              "      <td>кроссовер</td>\n",
              "      <td>автомат</td>\n",
              "      <td>бензин</td>\n",
              "      <td>2.0</td>\n",
              "      <td>150.0</td>\n",
              "    </tr>\n",
              "    <tr>\n",
              "      <th>4</th>\n",
              "      <td>chevrolet</td>\n",
              "      <td>lacetti 1 поколение</td>\n",
              "      <td>205000</td>\n",
              "      <td>2007</td>\n",
              "      <td>151445</td>\n",
              "      <td>седан</td>\n",
              "      <td>механика</td>\n",
              "      <td>бензин</td>\n",
              "      <td>1.4</td>\n",
              "      <td>95.0</td>\n",
              "    </tr>\n",
              "  </tbody>\n",
              "</table>\n",
              "</div>"
            ],
            "text/plain": [
              "        mark                               model   price  ...    fuel  volume  power\n",
              "0        kia                              cerato  996000  ...  бензин     2.0  150.0\n",
              "1     daewoo  nexia 1 поколение [2-й рестайлинг]  140200  ...  бензин     1.5   80.0\n",
              "2     suzuki      jimny 3 поколение [рестайлинг]  750000  ...  бензин     1.3   85.0\n",
              "3        bmw              x1 18 e84 [рестайлинг]  970000  ...  бензин     2.0  150.0\n",
              "4  chevrolet                 lacetti 1 поколение  205000  ...  бензин     1.4   95.0\n",
              "\n",
              "[5 rows x 10 columns]"
            ]
          },
          "metadata": {
            "tags": []
          },
          "execution_count": 3
        }
      ]
    },
    {
      "cell_type": "code",
      "metadata": {
        "id": "zE8M25xRzjFi",
        "colab_type": "code",
        "colab": {
          "base_uri": "https://localhost:8080/",
          "height": 34
        },
        "outputId": "227f4348-aba9-443f-8076-a8df4790a6dd"
      },
      "source": [
        "cars.shape # размер массива"
      ],
      "execution_count": 4,
      "outputs": [
        {
          "output_type": "execute_result",
          "data": {
            "text/plain": [
              "(70119, 10)"
            ]
          },
          "metadata": {
            "tags": []
          },
          "execution_count": 4
        }
      ]
    },
    {
      "cell_type": "code",
      "metadata": {
        "id": "RzEm0Vu51-KK",
        "colab_type": "code",
        "colab": {
          "base_uri": "https://localhost:8080/",
          "height": 104
        },
        "outputId": "0481a41e-4c38-4bd8-e8a8-1b4eaa8e0677"
      },
      "source": [
        "# Изучим состав классов\n",
        "#cars.mark.describe()\n",
        "#cars.model.describe()\n",
        "#cars.body.describe()\n",
        "#cars.kpp.describe()\n",
        "cars.fuel.describe()"
      ],
      "execution_count": 5,
      "outputs": [
        {
          "output_type": "execute_result",
          "data": {
            "text/plain": [
              "count      70119\n",
              "unique         5\n",
              "top       бензин\n",
              "freq       63719\n",
              "Name: fuel, dtype: object"
            ]
          },
          "metadata": {
            "tags": []
          },
          "execution_count": 5
        }
      ]
    },
    {
      "cell_type": "code",
      "metadata": {
        "id": "HzmEfrSW9LsL",
        "colab_type": "code",
        "colab": {
          "base_uri": "https://localhost:8080/",
          "height": 294
        },
        "outputId": "ae6e1afa-83ef-4523-ed11-eaaeb274f45c"
      },
      "source": [
        "cars.describe()"
      ],
      "execution_count": 6,
      "outputs": [
        {
          "output_type": "execute_result",
          "data": {
            "text/html": [
              "<div>\n",
              "<style scoped>\n",
              "    .dataframe tbody tr th:only-of-type {\n",
              "        vertical-align: middle;\n",
              "    }\n",
              "\n",
              "    .dataframe tbody tr th {\n",
              "        vertical-align: top;\n",
              "    }\n",
              "\n",
              "    .dataframe thead th {\n",
              "        text-align: right;\n",
              "    }\n",
              "</style>\n",
              "<table border=\"1\" class=\"dataframe\">\n",
              "  <thead>\n",
              "    <tr style=\"text-align: right;\">\n",
              "      <th></th>\n",
              "      <th>price</th>\n",
              "      <th>year</th>\n",
              "      <th>mileage</th>\n",
              "      <th>volume</th>\n",
              "      <th>power</th>\n",
              "    </tr>\n",
              "  </thead>\n",
              "  <tbody>\n",
              "    <tr>\n",
              "      <th>count</th>\n",
              "      <td>7.011900e+04</td>\n",
              "      <td>70119.000000</td>\n",
              "      <td>70119.000000</td>\n",
              "      <td>70119.000000</td>\n",
              "      <td>70119.000000</td>\n",
              "    </tr>\n",
              "    <tr>\n",
              "      <th>mean</th>\n",
              "      <td>5.277261e+05</td>\n",
              "      <td>2007.228668</td>\n",
              "      <td>162237.510988</td>\n",
              "      <td>1.917526</td>\n",
              "      <td>136.473381</td>\n",
              "    </tr>\n",
              "    <tr>\n",
              "      <th>std</th>\n",
              "      <td>6.236842e+05</td>\n",
              "      <td>7.086385</td>\n",
              "      <td>95872.148255</td>\n",
              "      <td>0.671154</td>\n",
              "      <td>59.054250</td>\n",
              "    </tr>\n",
              "    <tr>\n",
              "      <th>min</th>\n",
              "      <td>1.600000e+04</td>\n",
              "      <td>1949.000000</td>\n",
              "      <td>1.000000</td>\n",
              "      <td>0.300000</td>\n",
              "      <td>11.000000</td>\n",
              "    </tr>\n",
              "    <tr>\n",
              "      <th>25%</th>\n",
              "      <td>2.050000e+05</td>\n",
              "      <td>2004.000000</td>\n",
              "      <td>96980.000000</td>\n",
              "      <td>1.600000</td>\n",
              "      <td>102.000000</td>\n",
              "    </tr>\n",
              "    <tr>\n",
              "      <th>50%</th>\n",
              "      <td>3.800000e+05</td>\n",
              "      <td>2008.000000</td>\n",
              "      <td>147000.000000</td>\n",
              "      <td>1.800000</td>\n",
              "      <td>123.000000</td>\n",
              "    </tr>\n",
              "    <tr>\n",
              "      <th>75%</th>\n",
              "      <td>6.400000e+05</td>\n",
              "      <td>2012.000000</td>\n",
              "      <td>210000.000000</td>\n",
              "      <td>2.000000</td>\n",
              "      <td>152.000000</td>\n",
              "    </tr>\n",
              "    <tr>\n",
              "      <th>max</th>\n",
              "      <td>2.450000e+07</td>\n",
              "      <td>2019.000000</td>\n",
              "      <td>999999.000000</td>\n",
              "      <td>10.000000</td>\n",
              "      <td>1400.000000</td>\n",
              "    </tr>\n",
              "  </tbody>\n",
              "</table>\n",
              "</div>"
            ],
            "text/plain": [
              "              price          year        mileage        volume         power\n",
              "count  7.011900e+04  70119.000000   70119.000000  70119.000000  70119.000000\n",
              "mean   5.277261e+05   2007.228668  162237.510988      1.917526    136.473381\n",
              "std    6.236842e+05      7.086385   95872.148255      0.671154     59.054250\n",
              "min    1.600000e+04   1949.000000       1.000000      0.300000     11.000000\n",
              "25%    2.050000e+05   2004.000000   96980.000000      1.600000    102.000000\n",
              "50%    3.800000e+05   2008.000000  147000.000000      1.800000    123.000000\n",
              "75%    6.400000e+05   2012.000000  210000.000000      2.000000    152.000000\n",
              "max    2.450000e+07   2019.000000  999999.000000     10.000000   1400.000000"
            ]
          },
          "metadata": {
            "tags": []
          },
          "execution_count": 6
        }
      ]
    },
    {
      "cell_type": "markdown",
      "metadata": {
        "id": "TnN06J20_XSg",
        "colab_type": "text"
      },
      "source": [
        "## Подготовка данных"
      ]
    },
    {
      "cell_type": "code",
      "metadata": {
        "id": "ADCGVExG_MGR",
        "colab_type": "code",
        "colab": {}
      },
      "source": [
        "# функция создания словарей нечисловых даных\n",
        "def create_dict(s):\n",
        "  ret = {}                        # пуслой словарь\n",
        "  for _id, name in enumerate(s):  # проходим по всем парам id и название\n",
        "    ret.update({name: _id})       # добавляем в словарь\n",
        "  return ret\n",
        "\n",
        "# функция преобразования в one hot encoding\n",
        "def to_ohe(value, d):\n",
        "  arr = [0] * len(d)\n",
        "  arr[d[value]] = 1\n",
        "  return arr"
      ],
      "execution_count": 8,
      "outputs": []
    },
    {
      "cell_type": "code",
      "metadata": {
        "id": "NZwWrg-H_bDe",
        "colab_type": "code",
        "colab": {}
      },
      "source": [
        "# создаем словари по всем текстовым колонкам\n",
        "# для этого подаем на функцию УНИКАЛЬНЫЕ данные в каждой колонке\n",
        "marks_dict = create_dict(set(cars['mark']))\n",
        "models_dict = create_dict(set(cars['model']))\n",
        "bodies_dict = create_dict(set(cars['body']))\n",
        "kpps_dict = create_dict(set(cars['kpp']))\n",
        "fuels_dict = create_dict(set(cars['fuel']))\n",
        "\n",
        "# создаем массив с ценами\n",
        "prices = np.array(cars['price'], dtype=np.float)\n",
        "\n",
        "# создаем И НОРМИРУЕМ массивы для численных колонок\n",
        "from sklearn import preprocessing\n",
        "years = preprocessing.scale(cars['year'])\n",
        "mileages = preprocessing.scale(cars['mileage'])\n",
        "volumes = preprocessing.scale(cars['volume'])\n",
        "powers = preprocessing.scale(cars['power'])"
      ],
      "execution_count": 9,
      "outputs": []
    },
    {
      "cell_type": "code",
      "metadata": {
        "id": "SGsNbxj__bX-",
        "colab_type": "code",
        "colab": {
          "base_uri": "https://localhost:8080/",
          "height": 121
        },
        "outputId": "ffe073ac-de07-4a21-e0dc-42107429b386"
      },
      "source": [
        "print(fuels_dict)      #что стало\n",
        "cars.fuel.describe()  # что было"
      ],
      "execution_count": 10,
      "outputs": [
        {
          "output_type": "stream",
          "text": [
            "{'электро': 0, 'бензин': 1, 'газ': 2, 'дизель': 3, 'гибрид': 4}\n"
          ],
          "name": "stdout"
        },
        {
          "output_type": "execute_result",
          "data": {
            "text/plain": [
              "count      70119\n",
              "unique         5\n",
              "top       бензин\n",
              "freq       63719\n",
              "Name: fuel, dtype: object"
            ]
          },
          "metadata": {
            "tags": []
          },
          "execution_count": 10
        }
      ]
    },
    {
      "cell_type": "code",
      "metadata": {
        "id": "VczUbtNQ_bcx",
        "colab_type": "code",
        "colab": {
          "base_uri": "https://localhost:8080/",
          "height": 69
        },
        "outputId": "70ecf811-c856-4100-9074-e104b2a0aaca"
      },
      "source": [
        "# создаем обучающие выборки\n",
        "x_arr = []\n",
        "y_arr = []\n",
        "\n",
        "# проходим по всем элементам массива данных cars\n",
        "for _id, car in enumerate(np.array(cars)):\n",
        "  # в y_train добавляем цену\n",
        "  y_arr.append(prices[_id])\n",
        "\n",
        "  # обьединим все колонки в один массив x_arr\n",
        "  # категориальные параментры добавляем как ohe\n",
        "  # числовые параметры добавляем как преобразовали\n",
        "  x_tr = to_ohe(car[0],marks_dict) + to_ohe(car[1],models_dict) + \\\n",
        "        to_ohe(car[5],bodies_dict) + to_ohe(car[6],kpps_dict) + \\\n",
        "        to_ohe(car[7],fuels_dict) + [years[_id]] + [mileages[_id]] + \\\n",
        "        [volumes[_id]] + [powers[_id]]\n",
        "\n",
        "  # добавляем собранный массив в x_arr\n",
        "  x_arr.append(x_tr)\n",
        "\n",
        "\n",
        "# превращаем list в numpy.array\n",
        "print('x_arr: ', type(x_arr))\n",
        "x_arr = np.array(x_arr, dtype=np.float)\n",
        "y_arr = np.array(y_arr, dtype=np.float)\n",
        "print('x_arr: ', type(x_arr))\n",
        "print('y_arr: ', type(y_arr))"
      ],
      "execution_count": 11,
      "outputs": [
        {
          "output_type": "stream",
          "text": [
            "x_arr:  <class 'list'>\n",
            "x_arr:  <class 'numpy.ndarray'>\n",
            "y_arr:  <class 'numpy.ndarray'>\n"
          ],
          "name": "stdout"
        }
      ]
    },
    {
      "cell_type": "code",
      "metadata": {
        "id": "yWZR02f5_bR6",
        "colab_type": "code",
        "colab": {
          "base_uri": "https://localhost:8080/",
          "height": 52
        },
        "outputId": "c294f46b-2270-4d6e-e2c8-f666c7fdeca0"
      },
      "source": [
        "# размеры выборок\n",
        "print(x_arr.shape)\n",
        "print(y_arr.shape)"
      ],
      "execution_count": 12,
      "outputs": [
        {
          "output_type": "stream",
          "text": [
            "(70119, 3208)\n",
            "(70119,)\n"
          ],
          "name": "stdout"
        }
      ]
    },
    {
      "cell_type": "code",
      "metadata": {
        "id": "UE2ZQ_fH_bHY",
        "colab_type": "code",
        "colab": {
          "base_uri": "https://localhost:8080/",
          "height": 121
        },
        "outputId": "6247cc0e-d52a-4df3-9bf9-e4c70acd777d"
      },
      "source": [
        "print('x_arr [0,:20]: ', x_arr[0,:20])\n",
        "print('x_arr [0,-20:]: ', x_arr[0,-20:], '\\n')"
      ],
      "execution_count": 13,
      "outputs": [
        {
          "output_type": "stream",
          "text": [
            "x_arr [0,:20]:  [0. 0. 0. 0. 0. 0. 0. 0. 0. 0. 0. 0. 1. 0. 0. 0. 0. 0. 0. 0.]\n",
            "x_arr [0,-20:]:  [ 0.          0.          0.          0.          0.          0.\n",
            "  0.          0.          1.          0.          0.          0.\n",
            "  1.          0.          0.          0.          1.5200145  -1.40018212\n",
            "  0.12288486  0.22905575] \n",
            "\n"
          ],
          "name": "stdout"
        }
      ]
    },
    {
      "cell_type": "code",
      "metadata": {
        "id": "xj3UE0Qz_a5Q",
        "colab_type": "code",
        "colab": {}
      },
      "source": [
        "# нормализуем y_arr\n",
        "from sklearn.preprocessing import StandardScaler\n",
        "\n",
        "y_scaler = StandardScaler()\n",
        "y_arr_scaled = y_scaler.fit_transform(y_arr.reshape(-1,1)).flatten()\n",
        "\n",
        "# y_train.reshape(-1,1) добавляет одну размерность\n",
        "# Это нужно потому, что y_scaler.fit_transform требует двумерный вектор\n",
        "# Он не умеет работать с одним примеров\n",
        "\n",
        "# На выходе он так же выдаёт массив примеров\n",
        "# Поэтому мы делаем flatten() - уменьшение размерности"
      ],
      "execution_count": 14,
      "outputs": []
    },
    {
      "cell_type": "code",
      "metadata": {
        "id": "pT_5gzc2uwig",
        "colab_type": "code",
        "colab": {
          "base_uri": "https://localhost:8080/",
          "height": 34
        },
        "outputId": "726a6972-1a40-4c66-c406-c4d6487b2c20"
      },
      "source": [
        "y_arr_scaled.shape"
      ],
      "execution_count": 15,
      "outputs": [
        {
          "output_type": "execute_result",
          "data": {
            "text/plain": [
              "(70119,)"
            ]
          },
          "metadata": {
            "tags": []
          },
          "execution_count": 15
        }
      ]
    },
    {
      "cell_type": "code",
      "metadata": {
        "id": "msQjz3APuxK4",
        "colab_type": "code",
        "colab": {
          "base_uri": "https://localhost:8080/",
          "height": 86
        },
        "outputId": "192e742d-ac40-4629-b9a2-00f5846e1a0f"
      },
      "source": [
        "# выводим базовый и нормированный Y:\n",
        "print('y_arr [0,:10]: ', y_arr[:10])\n",
        "print('y_arr_scaled [0,:10]: ', y_arr_scaled[:10])\n",
        "# обратный перевод: y_scaler.inverse_transform(y_arr_scaled)"
      ],
      "execution_count": 16,
      "outputs": [
        {
          "output_type": "stream",
          "text": [
            "y_arr [0,:10]:  [ 996000.  140200.  750000.  970000.  205000.  985000.  589000.  500000.\n",
            " 1320000.  270000.]\n",
            "y_arr_scaled [0,:10]:  [ 0.75082432 -0.62135434  0.3563911   0.70913625 -0.51745486  0.73318706\n",
            "  0.09824578 -0.04445567  1.27032173 -0.4132347 ]\n"
          ],
          "name": "stdout"
        }
      ]
    },
    {
      "cell_type": "markdown",
      "metadata": {
        "id": "zpVFKeho1a9k",
        "colab_type": "text"
      },
      "source": [
        "## Выделяем тестовую выборку"
      ]
    },
    {
      "cell_type": "code",
      "metadata": {
        "id": "AqY_pAXr1k7J",
        "colab_type": "code",
        "colab": {
          "base_uri": "https://localhost:8080/",
          "height": 52
        },
        "outputId": "b0a184f2-3fcc-41fd-9139-d0fc2be84ee0"
      },
      "source": [
        "# Выделение тестовых выборок, учитывая что мы нормировали Y - y_arr_scaled\n",
        "\n",
        "from sklearn.model_selection import train_test_split\n",
        "\n",
        "x_train, x_test, y_train, y_test = train_test_split(x_arr, y_arr_scaled, test_size = 0.2)\n",
        "print ('обучающая и тестовая X: ' , len(x_train) , len(x_test))\n",
        "print ('обучающая и тестовая Y: ' , len(y_train) , len(y_test))\n"
      ],
      "execution_count": 17,
      "outputs": [
        {
          "output_type": "stream",
          "text": [
            "обучающая и тестовая X:  56095 14024\n",
            "обучающая и тестовая Y:  56095 14024\n"
          ],
          "name": "stdout"
        }
      ]
    },
    {
      "cell_type": "markdown",
      "metadata": {
        "id": "JXCv0jryv6Oi",
        "colab_type": "text"
      },
      "source": [
        "## Создаем нейросеть"
      ]
    },
    {
      "cell_type": "markdown",
      "metadata": {
        "id": "q84L2GVuRuoe",
        "colab_type": "text"
      },
      "source": [
        "Рекомендации:\n",
        "\n",
        "В качестве ошибки рекомендуется использовать среднеквадратическую ошибку (mse) Метрику для данной задачи можно не использовать. Последний слой модели должен иметь 1 нейрон."
      ]
    },
    {
      "cell_type": "code",
      "metadata": {
        "id": "IzHc9ICJ-fea",
        "colab_type": "code",
        "colab": {}
      },
      "source": [
        "from tensorflow.keras.models import Sequential\n",
        "from tensorflow.keras.layers import Dense, Dropout, BatchNormalization\n",
        "from tensorflow.keras.optimizers import Adam\n",
        "from tensorflow.keras.callbacks import EarlyStopping\n",
        "# хочу время замерить ))\n",
        "from datetime import datetime"
      ],
      "execution_count": 18,
      "outputs": []
    },
    {
      "cell_type": "code",
      "metadata": {
        "id": "BLB3tJAM_1ve",
        "colab_type": "code",
        "colab": {}
      },
      "source": [
        "N_batch_size = int(3200/64) #  количество обучающих экземпляров, показанных модели перед выполнением обновления веса\n",
        "N_Dence = int(3200) # Число нейронов\n",
        "N_epochs = 100  # количество раз, когда модель подвергается воздействию обучающего набора данных\n",
        "N_dim = 3208 # Входное пространство!!! непонятно как определять - хорошо, сообщение об ошибке подсказало\n",
        "# вообще, сообщениея об ошибках реально помогают - нужно учиться их читать и разбирать!!\n",
        "#N_Dropout = 0.3 - не нашел применения этому слоя\n",
        "N_lr = 0.000005"
      ],
      "execution_count": 19,
      "outputs": []
    },
    {
      "cell_type": "code",
      "metadata": {
        "id": "dSa1mgkx1ZWF",
        "colab_type": "code",
        "colab": {
          "base_uri": "https://localhost:8080/",
          "height": 797
        },
        "outputId": "5e1ee3a7-c5ba-4151-96da-18dfef9bf0f3"
      },
      "source": [
        "# хочу время замерить ))\n",
        "start_time = datetime.now()\n",
        "\n",
        "# создаем нейросеть\n",
        "model = Sequential()\n",
        "model.add(Dense(N_Dence, input_dim=N_dim, activation='relu'))\n",
        "model.add(Dense(N_Dence/4, activation='relu'))\n",
        "model.add(Dense(N_Dence/16, activation='relu'))\n",
        "model.add(Dense(N_Dence/64, activation='relu'))\n",
        "model.add(Dense(1, activation='linear'))\n",
        "# компилируем\n",
        "model.compile(loss='mse', optimizer=Adam(N_lr), metrics=['accuracy'])\n",
        "\n",
        "# задание условий установки обучения\n",
        "early_stopping = EarlyStopping(monitor = 'val_loss',\n",
        "                               patience=3, \n",
        "                               restore_best_weights = True)\n",
        "\n",
        "# обучаем сеть\n",
        "history = model.fit(x_train, y_train,\n",
        "                    batch_size=N_batch_size, \n",
        "                    epochs=N_epochs, \n",
        "                    verbose=1, # не/ показывать процесс обучения\n",
        "                    validation_split=0.3,\n",
        "                    callbacks=[early_stopping])\n",
        "\n",
        "\n",
        "print('Время обучения: ', datetime.now() - start_time)\n",
        "print('Результаты на обучающей выборке: ', model.evaluate(x_train, y_train, verbose=0))\n",
        "print('Результаты на тестовой выборке: ', model.evaluate(x_test, y_test, verbose=0))"
      ],
      "execution_count": 29,
      "outputs": [
        {
          "output_type": "stream",
          "text": [
            "Epoch 1/100\n",
            "786/786 [==============================] - 5s 6ms/step - loss: 0.5791 - accuracy: 0.0000e+00 - val_loss: 0.2215 - val_accuracy: 0.0000e+00\n",
            "Epoch 2/100\n",
            "786/786 [==============================] - 5s 6ms/step - loss: 0.3161 - accuracy: 0.0000e+00 - val_loss: 0.1430 - val_accuracy: 0.0000e+00\n",
            "Epoch 3/100\n",
            "786/786 [==============================] - 5s 6ms/step - loss: 0.2535 - accuracy: 0.0000e+00 - val_loss: 0.1310 - val_accuracy: 0.0000e+00\n",
            "Epoch 4/100\n",
            "786/786 [==============================] - 5s 6ms/step - loss: 0.2206 - accuracy: 0.0000e+00 - val_loss: 0.1014 - val_accuracy: 0.0000e+00\n",
            "Epoch 5/100\n",
            "786/786 [==============================] - 5s 6ms/step - loss: 0.2002 - accuracy: 0.0000e+00 - val_loss: 0.0945 - val_accuracy: 0.0000e+00\n",
            "Epoch 6/100\n",
            "786/786 [==============================] - 5s 6ms/step - loss: 0.1844 - accuracy: 0.0000e+00 - val_loss: 0.0951 - val_accuracy: 0.0000e+00\n",
            "Epoch 7/100\n",
            "786/786 [==============================] - 5s 6ms/step - loss: 0.1705 - accuracy: 0.0000e+00 - val_loss: 0.0787 - val_accuracy: 0.0000e+00\n",
            "Epoch 8/100\n",
            "786/786 [==============================] - 5s 6ms/step - loss: 0.1606 - accuracy: 0.0000e+00 - val_loss: 0.0796 - val_accuracy: 0.0000e+00\n",
            "Epoch 9/100\n",
            "786/786 [==============================] - 5s 6ms/step - loss: 0.1502 - accuracy: 0.0000e+00 - val_loss: 0.0711 - val_accuracy: 0.0000e+00\n",
            "Epoch 10/100\n",
            "786/786 [==============================] - 5s 6ms/step - loss: 0.1448 - accuracy: 0.0000e+00 - val_loss: 0.0702 - val_accuracy: 0.0000e+00\n",
            "Epoch 11/100\n",
            "786/786 [==============================] - 5s 6ms/step - loss: 0.1359 - accuracy: 0.0000e+00 - val_loss: 0.0809 - val_accuracy: 0.0000e+00\n",
            "Epoch 12/100\n",
            "786/786 [==============================] - 5s 6ms/step - loss: 0.1301 - accuracy: 0.0000e+00 - val_loss: 0.0779 - val_accuracy: 0.0000e+00\n",
            "Epoch 13/100\n",
            "786/786 [==============================] - 5s 6ms/step - loss: 0.1234 - accuracy: 0.0000e+00 - val_loss: 0.0670 - val_accuracy: 0.0000e+00\n",
            "Epoch 14/100\n",
            "786/786 [==============================] - 5s 6ms/step - loss: 0.1180 - accuracy: 0.0000e+00 - val_loss: 0.0660 - val_accuracy: 0.0000e+00\n",
            "Epoch 15/100\n",
            "786/786 [==============================] - 5s 6ms/step - loss: 0.1133 - accuracy: 0.0000e+00 - val_loss: 0.0665 - val_accuracy: 0.0000e+00\n",
            "Epoch 16/100\n",
            "786/786 [==============================] - 5s 6ms/step - loss: 0.1081 - accuracy: 0.0000e+00 - val_loss: 0.0793 - val_accuracy: 0.0000e+00\n",
            "Epoch 17/100\n",
            "786/786 [==============================] - 5s 6ms/step - loss: 0.1027 - accuracy: 0.0000e+00 - val_loss: 0.0646 - val_accuracy: 0.0000e+00\n",
            "Epoch 18/100\n",
            "786/786 [==============================] - 5s 6ms/step - loss: 0.0955 - accuracy: 0.0000e+00 - val_loss: 0.0639 - val_accuracy: 0.0000e+00\n",
            "Epoch 19/100\n",
            "786/786 [==============================] - 5s 6ms/step - loss: 0.0935 - accuracy: 0.0000e+00 - val_loss: 0.0642 - val_accuracy: 0.0000e+00\n",
            "Epoch 20/100\n",
            "786/786 [==============================] - 4s 6ms/step - loss: 0.0887 - accuracy: 0.0000e+00 - val_loss: 0.0654 - val_accuracy: 0.0000e+00\n",
            "Epoch 21/100\n",
            "786/786 [==============================] - 5s 6ms/step - loss: 0.0849 - accuracy: 0.0000e+00 - val_loss: 0.0648 - val_accuracy: 0.0000e+00\n",
            "Время обучения:  0:01:36.506505\n",
            "Результаты на обучающей выборке:  [0.08514321595430374, 0.0]\n",
            "Результаты на тестовой выборке:  [0.06867099553346634, 0.0]\n"
          ],
          "name": "stdout"
        }
      ]
    },
    {
      "cell_type": "code",
      "metadata": {
        "id": "Sin0GYFecxcB",
        "colab_type": "code",
        "colab": {
          "base_uri": "https://localhost:8080/",
          "height": 52
        },
        "outputId": "cfea6e09-f2fb-4efd-88c7-52f0cd12641b"
      },
      "source": [
        "# сохраним и загрузим веса нейронной сети для дальнейшего использования\n",
        "# просто проверить, как это работает - У МНЯ НЕ ПОЛУЧИЛОСЬ (\n",
        "# при закрытии ноутбука и загрузке заново, результат не тот, что был ранее\n",
        "\n",
        "from keras.models import load_model\n",
        "\n",
        "#model.save('cars_price_predict1.h5')\n",
        "model.save_weights('cars_price_predict_weights1.hdf5')\n",
        "\n",
        "#model__ = load_model(\"cars_price_predict1.h5\")\n",
        "model.load_weights('cars_price_predict_weights1.hdf5')\n",
        "\n",
        "print('Результаты на обучающей выборке: ', model.evaluate(x_train, y_train, verbose=0))\n",
        "print('Результаты на тестовой выборке: ', model.evaluate(x_test, y_test, verbose=0))"
      ],
      "execution_count": 30,
      "outputs": [
        {
          "output_type": "stream",
          "text": [
            "Результаты на обучающей выборке:  [0.08514321595430374, 0.0]\n",
            "Результаты на тестовой выборке:  [0.06867099553346634, 0.0]\n"
          ],
          "name": "stdout"
        }
      ]
    },
    {
      "cell_type": "markdown",
      "metadata": {
        "id": "3YUjDk3b8VQj",
        "colab_type": "text"
      },
      "source": [
        "### Описание модели"
      ]
    },
    {
      "cell_type": "code",
      "metadata": {
        "id": "XjysVD23wFMN",
        "colab_type": "code",
        "colab": {
          "base_uri": "https://localhost:8080/",
          "height": 329
        },
        "outputId": "c32f37d5-7005-49a3-ac7f-3248996b2cf3"
      },
      "source": [
        "model.summary()"
      ],
      "execution_count": 31,
      "outputs": [
        {
          "output_type": "stream",
          "text": [
            "Model: \"sequential_1\"\n",
            "_________________________________________________________________\n",
            "Layer (type)                 Output Shape              Param #   \n",
            "=================================================================\n",
            "dense_5 (Dense)              (None, 3200)              10268800  \n",
            "_________________________________________________________________\n",
            "dense_6 (Dense)              (None, 800)               2560800   \n",
            "_________________________________________________________________\n",
            "dense_7 (Dense)              (None, 200)               160200    \n",
            "_________________________________________________________________\n",
            "dense_8 (Dense)              (None, 50)                10050     \n",
            "_________________________________________________________________\n",
            "dense_9 (Dense)              (None, 1)                 51        \n",
            "=================================================================\n",
            "Total params: 12,999,901\n",
            "Trainable params: 12,999,901\n",
            "Non-trainable params: 0\n",
            "_________________________________________________________________\n"
          ],
          "name": "stdout"
        }
      ]
    },
    {
      "cell_type": "code",
      "metadata": {
        "id": "n5GEm4LZwFii",
        "colab_type": "code",
        "colab": {
          "base_uri": "https://localhost:8080/",
          "height": 564
        },
        "outputId": "d249a3cd-26f5-4c9d-83dc-f546a5a6a9b4"
      },
      "source": [
        "from keras.utils.vis_utils import plot_model\n",
        "\n",
        "import pylab\n",
        "import matplotlib.pyplot as plt\n",
        "from  PIL import Image\n",
        "# отрисовывать в ноутбуке\n",
        "%matplotlib inline \n",
        "\n",
        "plot_model(model, to_file='model.png')"
      ],
      "execution_count": 32,
      "outputs": [
        {
          "output_type": "execute_result",
          "data": {
            "image/png": "[encoded data removed]",
            "text/plain": [
              "<IPython.core.display.Image object>"
            ]
          },
          "metadata": {
            "tags": []
          },
          "execution_count": 32
        }
      ]
    },
    {
      "cell_type": "markdown",
      "metadata": {
        "id": "JDg8i5qRlUFY",
        "colab_type": "text"
      },
      "source": [
        "## Используем сеть для предсказания цены"
      ]
    },
    {
      "cell_type": "markdown",
      "metadata": {
        "id": "kMuQ5O9u9H0F",
        "colab_type": "text"
      },
      "source": [
        "### Сравниваю real & predict prices"
      ]
    },
    {
      "cell_type": "code",
      "metadata": {
        "id": "ySNUWhRF9FwT",
        "colab_type": "code",
        "colab": {
          "base_uri": "https://localhost:8080/",
          "height": 34
        },
        "outputId": "7028133a-3b28-4225-c13c-634a408af631"
      },
      "source": [
        "# создаю два списка: реальные и предстказанные цены тестового массива\n",
        "y_arr_test = []\n",
        "y_arr_predict = []\n",
        "\n",
        "for i in range(len(y_test)):\n",
        "  x = x_test[i].reshape(1, -1)\n",
        "\n",
        "  y = y_test[i].reshape(1, -1)\n",
        "  real_price = y_scaler.inverse_transform(y).flatten()\n",
        "  y_arr_test.append(real_price)\n",
        "\n",
        "  predict_price = y_scaler.inverse_transform(model.predict(x)).flatten()\n",
        "  y_arr_predict.append(predict_price)\n",
        "  #print(i)\n",
        "  #print(y_arr_test[i], y_arr_predict[i])\n",
        "\n",
        "len(y_arr_predict)"
      ],
      "execution_count": 33,
      "outputs": [
        {
          "output_type": "execute_result",
          "data": {
            "text/plain": [
              "14024"
            ]
          },
          "metadata": {
            "tags": []
          },
          "execution_count": 33
        }
      ]
    },
    {
      "cell_type": "code",
      "metadata": {
        "id": "qWw_4E_IE36V",
        "colab_type": "code",
        "colab": {
          "base_uri": "https://localhost:8080/",
          "height": 86
        },
        "outputId": "a8a5a115-cfb6-4534-cb18-2a89450a153b"
      },
      "source": [
        "n_rec = 200\n",
        "print('Автомоболь: ', x_test[n_rec].reshape(1, -1)) # не разобрался, как вывести прение характеристики авто\n",
        "print('правильная цена: ', y_arr_test[n_rec])\n",
        "print('Предсказание цены: ', y_arr_predict[n_rec])\n"
      ],
      "execution_count": 36,
      "outputs": [
        {
          "output_type": "stream",
          "text": [
            "Автомоболь:  [[ 0.          0.          0.         ...  1.43694987 -1.06910042\n",
            "  -0.99017086]]\n",
            "правильная цена:  [230000.]\n",
            "Предсказание цены:  [253021.12]\n"
          ],
          "name": "stdout"
        }
      ]
    },
    {
      "cell_type": "code",
      "metadata": {
        "id": "H4qgpJwshI_u",
        "colab_type": "code",
        "colab": {
          "base_uri": "https://localhost:8080/",
          "height": 308
        },
        "outputId": "28ae2f95-6bd0-4be3-af9f-fd4693711a83"
      },
      "source": [
        "plt.scatter(y_arr_test, y_arr_predict)\n",
        "plt.xlabel('y_arr_test')\n",
        "plt.xlabel('y_arr_predict')"
      ],
      "execution_count": 39,
      "outputs": [
        {
          "output_type": "execute_result",
          "data": {
            "text/plain": [
              "Text(0.5, 0, 'y_arr_predict')"
            ]
          },
          "metadata": {
            "tags": []
          },
          "execution_count": 39
        },
        {
          "output_type": "display_data",
          "data": {
            "image/png": "[encoded data removed]",
            "text/plain": [
              "<Figure size 432x288 with 1 Axes>"
            ]
          },
          "metadata": {
            "tags": [],
            "needs_background": "light"
          }
        }
      ]
    },
    {
      "cell_type": "markdown",
      "metadata": {
        "id": "vyyjx_TQmdBo",
        "colab_type": "text"
      },
      "source": [
        "----\n",
        "уже не хватило сил сравнить корреляции двух списов  . эх"
      ]
    },
    {
      "cell_type": "markdown",
      "metadata": {
        "id": "HSXhoQnJYzOn",
        "colab_type": "text"
      },
      "source": [
        "## Выводы:\n",
        "\n",
        "\n",
        "1.   Со слоем Dropout еще предстоит разобратся. Применить его с пользой в этой модели на смог\n",
        "2.   Снижение BatchSize дает хороший эффект, но после какого-то времени заканчивается. Однако экспериментировать с размерами батчей нужно всегда\n",
        "3.   Числом слоев Dense явно не стоит усложнять модель. Хорошо работает уменьшение числа нейронов в каждом слосе.. В моем случае я каждый следующий слой уменьшал в 4 раза, а батч сделал равным последнему слою, перед итоговым.\n",
        "4.   Но самый большой эффект дало замедление скорости обучения!! Причем не Dropout, а lr при компиляции. В 200 раз !!!\n",
        "5.   Хорошо работает остановка обучения модели.. Проверил от 1 до 10.. Но таки 3 - наиболее удобно с тз скорости/качества\n",
        "6.  Не понятно, как определить размер Dim.. Помогло чтение сообщения об ошибке. Там было написано 3200\n",
        "7.  Очевидно, что проверить качество предсказаний итоговой модели можно по-разному. я решил сделать это с помощью графиков )) не умею их строить и учусь.. \n",
        "8.  НЕ ПОЛУЧИЛОСЬ: Не смог разобраться с сохранением весов модели.. при новом открытии файла сохраненные ранее веса не работали ( \n",
        "  Также не смог вывести описание машины (моель, марка и тд и тп, цену реальную и предсказанную.. получилось только с ценами, но как вытащить во вменяемый вид описание машины - не придумал\n",
        "\n"
      ]
    }
  ]
}
